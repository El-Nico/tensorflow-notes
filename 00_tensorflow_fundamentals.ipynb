{
  "nbformat": 4,
  "nbformat_minor": 0,
  "metadata": {
    "colab": {
      "name": "00_tensorflow_fundamentals.ipynb",
      "provenance": [],
      "collapsed_sections": [
        "EavY-yl6UNTV"
      ],
      "toc_visible": true,
      "authorship_tag": "ABX9TyMDrZ6MT4gw7RxgtJ/NfDBS",
      "include_colab_link": true
    },
    "kernelspec": {
      "name": "python3",
      "display_name": "Python 3"
    },
    "language_info": {
      "name": "python"
    },
    "accelerator": "GPU"
  },
  "cells": [
    {
      "cell_type": "markdown",
      "metadata": {
        "id": "view-in-github",
        "colab_type": "text"
      },
      "source": [
        "<a href=\"https://colab.research.google.com/github/El-Nico/tensorflow-notes/blob/main/00_tensorflow_fundamentals.ipynb\" target=\"_parent\"><img src=\"https://colab.research.google.com/assets/colab-badge.svg\" alt=\"Open In Colab\"/></a>"
      ]
    },
    {
      "cell_type": "markdown",
      "metadata": {
        "id": "2avEjLQVWYXy"
      },
      "source": [
        "# fundamental concepts of tensors using tensor flow\n",
        "\n",
        "* introduction to tensors\n",
        "* getting information from tensors\n",
        "* manipulating tensors\n",
        "* Tensors & NumPy\n",
        "* Using @tf.function (a way to speed up regular python functions)\n",
        "* Using GPUS with TensorFlow (or TPUs)\n",
        "* Excersises to try myself"
      ]
    },
    {
      "cell_type": "markdown",
      "metadata": {
        "id": "xmxIoozzXgZP"
      },
      "source": [
        "# Introduction to Tensors"
      ]
    },
    {
      "cell_type": "code",
      "metadata": {
        "colab": {
          "base_uri": "https://localhost:8080/"
        },
        "id": "mkrmVznpWvRK",
        "outputId": "a97bdfb5-acdb-46aa-d0dc-9acdedb68190"
      },
      "source": [
        "# Import TensorFlow\n",
        "import tensorflow as tf\n",
        "print(tf.__version__)"
      ],
      "execution_count": 3,
      "outputs": [
        {
          "output_type": "stream",
          "name": "stdout",
          "text": [
            "2.6.0\n"
          ]
        }
      ]
    },
    {
      "cell_type": "code",
      "metadata": {
        "colab": {
          "base_uri": "https://localhost:8080/"
        },
        "id": "J17CUgY7X_bm",
        "outputId": "863f5cd5-a152-4bdc-d398-365f00026dd9"
      },
      "source": [
        "# create a tensor with tf.constant()\n",
        "scalar = tf.constant(7)\n",
        "scalar"
      ],
      "execution_count": null,
      "outputs": [
        {
          "output_type": "execute_result",
          "data": {
            "text/plain": [
              "<tf.Tensor: shape=(), dtype=int32, numpy=7>"
            ]
          },
          "metadata": {
            "tags": []
          },
          "execution_count": 3
        }
      ]
    },
    {
      "cell_type": "code",
      "metadata": {
        "id": "Tp1EGK_oa83U",
        "colab": {
          "base_uri": "https://localhost:8080/"
        },
        "outputId": "a56e0065-f20a-4014-eea9-16d29ca2c455"
      },
      "source": [
        "# check the number of dimensions of a tensor \n",
        "scalar.ndim"
      ],
      "execution_count": null,
      "outputs": [
        {
          "output_type": "execute_result",
          "data": {
            "text/plain": [
              "0"
            ]
          },
          "metadata": {
            "tags": []
          },
          "execution_count": 4
        }
      ]
    },
    {
      "cell_type": "code",
      "metadata": {
        "id": "IZJcC2sjbEOi",
        "colab": {
          "base_uri": "https://localhost:8080/"
        },
        "outputId": "a9ea72f8-3cd0-4c39-9f57-ba48fe7d1444"
      },
      "source": [
        "# create a vector\n",
        "vector = tf.constant([10,10])\n",
        "vector"
      ],
      "execution_count": null,
      "outputs": [
        {
          "output_type": "execute_result",
          "data": {
            "text/plain": [
              "<tf.Tensor: shape=(2,), dtype=int32, numpy=array([10, 10], dtype=int32)>"
            ]
          },
          "metadata": {
            "tags": []
          },
          "execution_count": 5
        }
      ]
    },
    {
      "cell_type": "code",
      "metadata": {
        "colab": {
          "base_uri": "https://localhost:8080/"
        },
        "id": "rPa3aFsVbRiV",
        "outputId": "26dede77-bd00-486d-dc86-17c5e0d8a471"
      },
      "source": [
        "# create a matrix (has more than 1 deminsio)\n",
        "matrix = tf.constant([[10,7],[7,10]])\n",
        "matrix"
      ],
      "execution_count": null,
      "outputs": [
        {
          "output_type": "execute_result",
          "data": {
            "text/plain": [
              "<tf.Tensor: shape=(2, 2), dtype=int32, numpy=\n",
              "array([[10,  7],\n",
              "       [ 7, 10]], dtype=int32)>"
            ]
          },
          "metadata": {
            "tags": []
          },
          "execution_count": 6
        }
      ]
    },
    {
      "cell_type": "code",
      "metadata": {
        "colab": {
          "base_uri": "https://localhost:8080/"
        },
        "id": "o6_o1frUbq2B",
        "outputId": "5bedecfd-e976-495b-c7ae-0271dab77286"
      },
      "source": [
        "# check the dimension of the matrix\n",
        "matrix.ndim"
      ],
      "execution_count": null,
      "outputs": [
        {
          "output_type": "execute_result",
          "data": {
            "text/plain": [
              "2"
            ]
          },
          "metadata": {
            "tags": []
          },
          "execution_count": 7
        }
      ]
    },
    {
      "cell_type": "code",
      "metadata": {
        "colab": {
          "base_uri": "https://localhost:8080/"
        },
        "id": "7qnrgWRUiFxT",
        "outputId": "9176197d-f2ab-4eab-f909-490b83719365"
      },
      "source": [
        "# some random tensors\n",
        "random_1 = tf.random.Generator.from_seed(7)\n",
        "random_1 = random_1.normal(shape=(3,2))\n",
        "random_1"
      ],
      "execution_count": null,
      "outputs": [
        {
          "output_type": "execute_result",
          "data": {
            "text/plain": [
              "<tf.Tensor: shape=(3, 2), dtype=float32, numpy=\n",
              "array([[-1.3240396 ,  0.28785667],\n",
              "       [-0.8757901 , -0.08857018],\n",
              "       [ 0.69211644,  0.84215707]], dtype=float32)>"
            ]
          },
          "metadata": {
            "tags": []
          },
          "execution_count": 8
        }
      ]
    },
    {
      "cell_type": "code",
      "metadata": {
        "colab": {
          "base_uri": "https://localhost:8080/"
        },
        "id": "o80ZMfGakDMi",
        "outputId": "3278e86e-5dfe-4ed8-a4b2-07cdcb7bf069"
      },
      "source": [
        "not_shuffled = tf.constant([[1,2],\n",
        "                            [3,4],\n",
        "                            [5,6]])\n",
        "tf.random.shuffle(not_shuffled)\n"
      ],
      "execution_count": null,
      "outputs": [
        {
          "output_type": "execute_result",
          "data": {
            "text/plain": [
              "<tf.Tensor: shape=(3, 2), dtype=int32, numpy=\n",
              "array([[3, 4],\n",
              "       [5, 6],\n",
              "       [1, 2]], dtype=int32)>"
            ]
          },
          "metadata": {
            "tags": []
          },
          "execution_count": 9
        }
      ]
    },
    {
      "cell_type": "code",
      "metadata": {
        "colab": {
          "base_uri": "https://localhost:8080/"
        },
        "id": "nnwGfnVqlNCI",
        "outputId": "156a8437-119b-4be8-a5dd-04844cae82a3"
      },
      "source": [
        "not_shuffled"
      ],
      "execution_count": null,
      "outputs": [
        {
          "output_type": "execute_result",
          "data": {
            "text/plain": [
              "<tf.Tensor: shape=(3, 2), dtype=int32, numpy=\n",
              "array([[1, 2],\n",
              "       [3, 4],\n",
              "       [5, 6]], dtype=int32)>"
            ]
          },
          "metadata": {
            "tags": []
          },
          "execution_count": 10
        }
      ]
    },
    {
      "cell_type": "markdown",
      "metadata": {
        "id": "EavY-yl6UNTV"
      },
      "source": [
        "# manipulating tensors\n",
        "\n",
        "* basic operations\n",
        "* +. -, *./\n"
      ]
    },
    {
      "cell_type": "code",
      "metadata": {
        "colab": {
          "base_uri": "https://localhost:8080/"
        },
        "id": "LOOZViTEUi08",
        "outputId": "317ff22d-e5a8-4abe-abc9-bd9abee3dcda"
      },
      "source": [
        "tensor = tf.constant ([[10,7],\n",
        "                       [3,4]])\n",
        "tensor +10"
      ],
      "execution_count": null,
      "outputs": [
        {
          "output_type": "execute_result",
          "data": {
            "text/plain": [
              "<tf.Tensor: shape=(2, 2), dtype=int32, numpy=\n",
              "array([[20, 17],\n",
              "       [13, 14]], dtype=int32)>"
            ]
          },
          "metadata": {},
          "execution_count": 3
        }
      ]
    },
    {
      "cell_type": "code",
      "metadata": {
        "colab": {
          "base_uri": "https://localhost:8080/"
        },
        "id": "H2Ld5Q0fVLgS",
        "outputId": "9ad502ee-5061-4d47-e85d-1648e751c868"
      },
      "source": [
        "tensor - 10"
      ],
      "execution_count": null,
      "outputs": [
        {
          "output_type": "execute_result",
          "data": {
            "text/plain": [
              "<tf.Tensor: shape=(2, 2), dtype=int32, numpy=\n",
              "array([[ 0, -3],\n",
              "       [-7, -6]], dtype=int32)>"
            ]
          },
          "metadata": {},
          "execution_count": 4
        }
      ]
    },
    {
      "cell_type": "code",
      "metadata": {
        "colab": {
          "base_uri": "https://localhost:8080/"
        },
        "id": "LQnKgdU7VV_A",
        "outputId": "c17c67e6-6ee5-4a5c-ce89-6955b9ee7d97"
      },
      "source": [
        "tf.multiply(tensor, 10)"
      ],
      "execution_count": null,
      "outputs": [
        {
          "output_type": "execute_result",
          "data": {
            "text/plain": [
              "<tf.Tensor: shape=(2, 2), dtype=int32, numpy=\n",
              "array([[100,  70],\n",
              "       [ 30,  40]], dtype=int32)>"
            ]
          },
          "metadata": {},
          "execution_count": 5
        }
      ]
    },
    {
      "cell_type": "code",
      "metadata": {
        "colab": {
          "base_uri": "https://localhost:8080/"
        },
        "id": "XukwWO11XBB7",
        "outputId": "dfe4780a-7805-4db3-88d8-4dd78c9c2385"
      },
      "source": [
        "tf.matmul(tensor, tensor)"
      ],
      "execution_count": null,
      "outputs": [
        {
          "output_type": "execute_result",
          "data": {
            "text/plain": [
              "<tf.Tensor: shape=(2, 2), dtype=int32, numpy=\n",
              "array([[121,  98],\n",
              "       [ 42,  37]], dtype=int32)>"
            ]
          },
          "metadata": {},
          "execution_count": 6
        }
      ]
    },
    {
      "cell_type": "code",
      "metadata": {
        "id": "XCw5EfKrX642"
      },
      "source": [
        "tensor_a = tf.constant([[1,2],\n",
        "                        [3,4],\n",
        "                        [5,6]])\n"
      ],
      "execution_count": null,
      "outputs": []
    },
    {
      "cell_type": "markdown",
      "metadata": {
        "id": "_d6py7NQkvGG"
      },
      "source": [
        "# New Tensors again\n",
        "# Create random tensors\n"
      ]
    },
    {
      "cell_type": "code",
      "metadata": {
        "colab": {
          "base_uri": "https://localhost:8080/"
        },
        "id": "EnHT4BzZk7od",
        "outputId": "9d965d02-0407-4846-9c61-ba5dd55c7651"
      },
      "source": [
        "random_1 = tf.random.Generator.from_seed(42) # set seed for reproducibility\n",
        "random_1 = random_1.normal(shape=(3,2)) # create tensor from a normal distribution\n",
        "random_1"
      ],
      "execution_count": null,
      "outputs": [
        {
          "output_type": "execute_result",
          "data": {
            "text/plain": [
              "<tf.Tensor: shape=(3, 2), dtype=float32, numpy=\n",
              "array([[-0.7565803 , -0.06854702],\n",
              "       [ 0.07595026, -1.2573844 ],\n",
              "       [-0.23193763, -1.8107855 ]], dtype=float32)>"
            ]
          },
          "metadata": {},
          "execution_count": 9
        }
      ]
    },
    {
      "cell_type": "code",
      "metadata": {
        "colab": {
          "base_uri": "https://localhost:8080/"
        },
        "id": "l9QoHmi3nsgt",
        "outputId": "06886508-ee42-45ba-fec3-65208d6f491c"
      },
      "source": [
        "import numpy as np\n",
        "numpy_A = np.arange(1, 25, dtype=np.int32) # create a NumPy array between 1 and 25\n",
        "A = tf.constant(numpy_A, shape=[2, 4, 3]) # note: the shape total (2*4*3) has to match the number of elements in the array\n",
        "\n",
        "numpy_A, A"
      ],
      "execution_count": 12,
      "outputs": [
        {
          "output_type": "execute_result",
          "data": {
            "text/plain": [
              "(array([ 1,  2,  3,  4,  5,  6,  7,  8,  9, 10, 11, 12, 13, 14, 15, 16, 17,\n",
              "        18, 19, 20, 21, 22, 23, 24], dtype=int32),\n",
              " <tf.Tensor: shape=(2, 4, 3), dtype=int32, numpy=\n",
              " array([[[ 1,  2,  3],\n",
              "         [ 4,  5,  6],\n",
              "         [ 7,  8,  9],\n",
              "         [10, 11, 12]],\n",
              " \n",
              "        [[13, 14, 15],\n",
              "         [16, 17, 18],\n",
              "         [19, 20, 21],\n",
              "         [22, 23, 24]]], dtype=int32)>)"
            ]
          },
          "metadata": {},
          "execution_count": 12
        }
      ]
    },
    {
      "cell_type": "code",
      "metadata": {
        "colab": {
          "base_uri": "https://localhost:8080/"
        },
        "id": "j9dE1EZ0oyai",
        "outputId": "bffdeab7-6102-4491-f72a-6e5b478c1fc5"
      },
      "source": [
        "# create a rank 4 tensor\n",
        "rank_4_tensor = tf.zeros([2,3,4,5])\n",
        "rank_4_tensor"
      ],
      "execution_count": null,
      "outputs": [
        {
          "output_type": "execute_result",
          "data": {
            "text/plain": [
              "<tf.Tensor: shape=(2, 3, 4, 5), dtype=float32, numpy=\n",
              "array([[[[0., 0., 0., 0., 0.],\n",
              "         [0., 0., 0., 0., 0.],\n",
              "         [0., 0., 0., 0., 0.],\n",
              "         [0., 0., 0., 0., 0.]],\n",
              "\n",
              "        [[0., 0., 0., 0., 0.],\n",
              "         [0., 0., 0., 0., 0.],\n",
              "         [0., 0., 0., 0., 0.],\n",
              "         [0., 0., 0., 0., 0.]],\n",
              "\n",
              "        [[0., 0., 0., 0., 0.],\n",
              "         [0., 0., 0., 0., 0.],\n",
              "         [0., 0., 0., 0., 0.],\n",
              "         [0., 0., 0., 0., 0.]]],\n",
              "\n",
              "\n",
              "       [[[0., 0., 0., 0., 0.],\n",
              "         [0., 0., 0., 0., 0.],\n",
              "         [0., 0., 0., 0., 0.],\n",
              "         [0., 0., 0., 0., 0.]],\n",
              "\n",
              "        [[0., 0., 0., 0., 0.],\n",
              "         [0., 0., 0., 0., 0.],\n",
              "         [0., 0., 0., 0., 0.],\n",
              "         [0., 0., 0., 0., 0.]],\n",
              "\n",
              "        [[0., 0., 0., 0., 0.],\n",
              "         [0., 0., 0., 0., 0.],\n",
              "         [0., 0., 0., 0., 0.],\n",
              "         [0., 0., 0., 0., 0.]]]], dtype=float32)>"
            ]
          },
          "metadata": {},
          "execution_count": 12
        }
      ]
    },
    {
      "cell_type": "code",
      "metadata": {
        "colab": {
          "base_uri": "https://localhost:8080/"
        },
        "id": "aPiLvwn2pBoB",
        "outputId": "c841cf28-03fa-4796-8699-9392e3b0db2a"
      },
      "source": [
        "rank_4_tensor.shape, rank_4_tensor.ndim, tf.size(rank_4_tensor)"
      ],
      "execution_count": null,
      "outputs": [
        {
          "output_type": "execute_result",
          "data": {
            "text/plain": [
              "(TensorShape([2, 3, 4, 5]), 4, <tf.Tensor: shape=(), dtype=int32, numpy=120>)"
            ]
          },
          "metadata": {},
          "execution_count": 14
        }
      ]
    },
    {
      "cell_type": "code",
      "metadata": {
        "colab": {
          "base_uri": "https://localhost:8080/"
        },
        "id": "QrHXustXpY-a",
        "outputId": "67fc7643-e735-4ac5-e42c-4360300271d2"
      },
      "source": [
        "# get and print various attributes of tensor\n",
        "print(\"Datatype of every element:\", rank_4_tensor.dtype)\n",
        "print(\"Number of dimensions (rank):\", rank_4_tensor.ndim)\n",
        "print(\"Shape of tensor:\", rank_4_tensor.shape)\n",
        "print(\"Elements along axis 0 of tensor:\", rank_4_tensor.shape[0])\n",
        "print(\"Elements along last axis of tensor:\", rank_4_tensor.shape[-1])\n",
        "print(\"Total number of elements (2*3*4*5):\", tf.size(rank_4_tensor).numpy()) # .numpy() converts to NumPy array\n",
        "\n"
      ],
      "execution_count": null,
      "outputs": [
        {
          "output_type": "stream",
          "name": "stdout",
          "text": [
            "Datatype of every element: <dtype: 'float32'>\n",
            "Number of dimensions (rank): 4\n",
            "Shape of tensor: (2, 3, 4, 5)\n",
            "Elements along axis 0 of tensor: 2\n",
            "Elements along last axis of tensor: 5\n",
            "Total number of elements (2*3*4*5): 120\n"
          ]
        }
      ]
    },
    {
      "cell_type": "code",
      "metadata": {
        "colab": {
          "base_uri": "https://localhost:8080/"
        },
        "id": "n-64o8TfqARv",
        "outputId": "628e04d2-ad87-4b53-b8a4-f44226cd9ce1"
      },
      "source": [
        "# indexing tensors like python lists\n",
        "rank_4_tensor[:2, :2, :2, :2]"
      ],
      "execution_count": null,
      "outputs": [
        {
          "output_type": "execute_result",
          "data": {
            "text/plain": [
              "<tf.Tensor: shape=(2, 2, 2, 2), dtype=float32, numpy=\n",
              "array([[[[0., 0.],\n",
              "         [0., 0.]],\n",
              "\n",
              "        [[0., 0.],\n",
              "         [0., 0.]]],\n",
              "\n",
              "\n",
              "       [[[0., 0.],\n",
              "         [0., 0.]],\n",
              "\n",
              "        [[0., 0.],\n",
              "         [0., 0.]]]], dtype=float32)>"
            ]
          },
          "metadata": {},
          "execution_count": 17
        }
      ]
    },
    {
      "cell_type": "code",
      "metadata": {
        "colab": {
          "base_uri": "https://localhost:8080/"
        },
        "id": "s4Z5MsOMubYa",
        "outputId": "1f683111-38d8-421b-9a0c-bb99a49a7f9a"
      },
      "source": [
        "X= tf.constant([[1, 2],\n",
        "                [3, 4],\n",
        "                [5, 6]])\n",
        "\n",
        "Y= tf.constant([\n",
        "               [7, 8],\n",
        "               [9, 10],\n",
        "               [11, 12]\n",
        "                ]   \n",
        "               )\n",
        "X, Y"
      ],
      "execution_count": null,
      "outputs": [
        {
          "output_type": "execute_result",
          "data": {
            "text/plain": [
              "(<tf.Tensor: shape=(3, 2), dtype=int32, numpy=\n",
              " array([[1, 2],\n",
              "        [3, 4],\n",
              "        [5, 6]], dtype=int32)>, <tf.Tensor: shape=(3, 2), dtype=int32, numpy=\n",
              " array([[ 7,  8],\n",
              "        [ 9, 10],\n",
              "        [11, 12]], dtype=int32)>)"
            ]
          },
          "metadata": {},
          "execution_count": 22
        }
      ]
    },
    {
      "cell_type": "code",
      "metadata": {
        "colab": {
          "base_uri": "https://localhost:8080/"
        },
        "id": "7ixcJZSqwi54",
        "outputId": "8d7b4e28-9f7a-482a-9e59-efed715f99b2"
      },
      "source": [
        "# reshape the tensor so it is multipliable\n",
        "tf.reshape(Y, shape=(2, 3))"
      ],
      "execution_count": null,
      "outputs": [
        {
          "output_type": "execute_result",
          "data": {
            "text/plain": [
              "<tf.Tensor: shape=(2, 3), dtype=int32, numpy=\n",
              "array([[ 7,  8,  9],\n",
              "       [10, 11, 12]], dtype=int32)>"
            ]
          },
          "metadata": {},
          "execution_count": 24
        }
      ]
    },
    {
      "cell_type": "code",
      "metadata": {
        "colab": {
          "base_uri": "https://localhost:8080/"
        },
        "id": "ajux7KfNw8Z3",
        "outputId": "b2d758b1-0451-4d91-a67c-c65bf7b1e5bd"
      },
      "source": [
        "\n",
        "tf.matmul(tf.transpose(X), Y)"
      ],
      "execution_count": null,
      "outputs": [
        {
          "output_type": "execute_result",
          "data": {
            "text/plain": [
              "<tf.Tensor: shape=(2, 2), dtype=int32, numpy=\n",
              "array([[ 89,  98],\n",
              "       [116, 128]], dtype=int32)>"
            ]
          },
          "metadata": {},
          "execution_count": 27
        }
      ]
    },
    {
      "cell_type": "code",
      "metadata": {
        "colab": {
          "base_uri": "https://localhost:8080/"
        },
        "id": "pi68JZ8yyNrF",
        "outputId": "88b50016-e778-4f8e-a02f-c4fedb74e362"
      },
      "source": [
        "E = tf.constant(np.random.randint(low=0, high=100, size=50))\n",
        "E"
      ],
      "execution_count": null,
      "outputs": [
        {
          "output_type": "execute_result",
          "data": {
            "text/plain": [
              "<tf.Tensor: shape=(50,), dtype=int64, numpy=\n",
              "array([33, 21,  9, 23, 73,  5, 22, 31, 79, 95, 52,  1, 80, 66, 46, 40, 81,\n",
              "        4, 54, 24, 25,  1, 67, 95, 92, 68, 18, 37, 17,  4, 61,  1, 22, 50,\n",
              "       49, 89, 23, 68, 14, 40, 48, 27, 80, 38, 53, 11,  8, 60, 25, 70])>"
            ]
          },
          "metadata": {},
          "execution_count": 30
        }
      ]
    },
    {
      "cell_type": "code",
      "metadata": {
        "colab": {
          "base_uri": "https://localhost:8080/"
        },
        "id": "envVo9wfywEl",
        "outputId": "9b78ecc8-d53e-4a46-9d4f-96bfefc4429b"
      },
      "source": [
        "# find the minimum value\n",
        "tf.reduce_min(E)"
      ],
      "execution_count": null,
      "outputs": [
        {
          "output_type": "execute_result",
          "data": {
            "text/plain": [
              "<tf.Tensor: shape=(), dtype=int64, numpy=1>"
            ]
          },
          "metadata": {},
          "execution_count": 31
        }
      ]
    },
    {
      "cell_type": "code",
      "metadata": {
        "colab": {
          "base_uri": "https://localhost:8080/"
        },
        "id": "kR4X-9dFyxyD",
        "outputId": "40ee69a4-dcff-4d7e-8644-c7b7a61a552c"
      },
      "source": [
        "# find the maximum\n",
        "tf.reduce_max(E)"
      ],
      "execution_count": null,
      "outputs": [
        {
          "output_type": "execute_result",
          "data": {
            "text/plain": [
              "<tf.Tensor: shape=(), dtype=int64, numpy=95>"
            ]
          },
          "metadata": {},
          "execution_count": 32
        }
      ]
    },
    {
      "cell_type": "code",
      "metadata": {
        "colab": {
          "base_uri": "https://localhost:8080/"
        },
        "id": "SsuW8TBRyyUb",
        "outputId": "594f754e-e66a-4400-9063-43327dd49604"
      },
      "source": [
        "tf.reduce_mean(E)"
      ],
      "execution_count": null,
      "outputs": [
        {
          "output_type": "execute_result",
          "data": {
            "text/plain": [
              "<tf.Tensor: shape=(), dtype=int64, numpy=42>"
            ]
          },
          "metadata": {},
          "execution_count": 33
        }
      ]
    },
    {
      "cell_type": "code",
      "metadata": {
        "colab": {
          "base_uri": "https://localhost:8080/"
        },
        "id": "XTJGTr01yzFK",
        "outputId": "9119c61a-e50f-44a6-9889-ec2f1e09a244"
      },
      "source": [
        "tf.reduce_sum(E)\n"
      ],
      "execution_count": null,
      "outputs": [
        {
          "output_type": "execute_result",
          "data": {
            "text/plain": [
              "<tf.Tensor: shape=(), dtype=int64, numpy=2100>"
            ]
          },
          "metadata": {},
          "execution_count": 34
        }
      ]
    },
    {
      "cell_type": "code",
      "metadata": {
        "colab": {
          "base_uri": "https://localhost:8080/"
        },
        "id": "YCPr85CdZU9J",
        "outputId": "e3305f8a-82cc-4cf0-cdb8-f55505aa2dbe"
      },
      "source": [
        "print(tf.config.list_physical_devices('GPU'))\n",
        "!nvidia-smi\n"
      ],
      "execution_count": 5,
      "outputs": [
        {
          "output_type": "stream",
          "name": "stdout",
          "text": [
            "[PhysicalDevice(name='/physical_device:GPU:0', device_type='GPU')]\n",
            "Mon Sep 27 08:57:53 2021       \n",
            "+-----------------------------------------------------------------------------+\n",
            "| NVIDIA-SMI 470.63.01    Driver Version: 460.32.03    CUDA Version: 11.2     |\n",
            "|-------------------------------+----------------------+----------------------+\n",
            "| GPU  Name        Persistence-M| Bus-Id        Disp.A | Volatile Uncorr. ECC |\n",
            "| Fan  Temp  Perf  Pwr:Usage/Cap|         Memory-Usage | GPU-Util  Compute M. |\n",
            "|                               |                      |               MIG M. |\n",
            "|===============================+======================+======================|\n",
            "|   0  Tesla K80           Off  | 00000000:00:04.0 Off |                    0 |\n",
            "| N/A   38C    P8    27W / 149W |      3MiB / 11441MiB |      0%      Default |\n",
            "|                               |                      |                  N/A |\n",
            "+-------------------------------+----------------------+----------------------+\n",
            "                                                                               \n",
            "+-----------------------------------------------------------------------------+\n",
            "| Processes:                                                                  |\n",
            "|  GPU   GI   CI        PID   Type   Process name                  GPU Memory |\n",
            "|        ID   ID                                                   Usage      |\n",
            "|=============================================================================|\n",
            "|  No running processes found                                                 |\n",
            "+-----------------------------------------------------------------------------+\n"
          ]
        }
      ]
    },
    {
      "cell_type": "markdown",
      "metadata": {
        "id": "NFoLOSGoe0MP"
      },
      "source": [
        "# Excercises\n",
        "\n"
      ]
    },
    {
      "cell_type": "markdown",
      "metadata": {
        "id": "xp9uD4sbfrfq"
      },
      "source": [
        "1. Create a vector, scalar, matrix and tensor with values of your choosing using tf.constant()"
      ]
    },
    {
      "cell_type": "code",
      "metadata": {
        "colab": {
          "base_uri": "https://localhost:8080/"
        },
        "id": "WDZ_qGfeiEO5",
        "outputId": "fe930b1a-3dce-4eed-c3c0-b0b0cbc19e4b"
      },
      "source": [
        "# a scalar\n",
        "SCALAR=tf.constant(1)\n",
        "# a vector\n",
        "VECTOR=tf.constant([1,2,3,4])\n",
        "# a matrix\n",
        "MATRIX=tf.constant([\n",
        "             [1,2],\n",
        "             [3,4]])\n",
        "# a tensor\n",
        "TENSOR=tf.ones(shape=(3,4))\n",
        "\n",
        "SCALAR, VECTOR, MATRIX, TENSOR"
      ],
      "execution_count": 9,
      "outputs": [
        {
          "output_type": "execute_result",
          "data": {
            "text/plain": [
              "(<tf.Tensor: shape=(), dtype=int32, numpy=1>,\n",
              " <tf.Tensor: shape=(4,), dtype=int32, numpy=array([1, 2, 3, 4], dtype=int32)>,\n",
              " <tf.Tensor: shape=(2, 2), dtype=int32, numpy=\n",
              " array([[1, 2],\n",
              "        [3, 4]], dtype=int32)>,\n",
              " <tf.Tensor: shape=(3, 4), dtype=float32, numpy=\n",
              " array([[1., 1., 1., 1.],\n",
              "        [1., 1., 1., 1.],\n",
              "        [1., 1., 1., 1.]], dtype=float32)>)"
            ]
          },
          "metadata": {},
          "execution_count": 9
        }
      ]
    },
    {
      "cell_type": "markdown",
      "metadata": {
        "id": "uQUB4CrwjgXt"
      },
      "source": [
        "2. Find the shape, rank and size of the tensors you created in 1."
      ]
    },
    {
      "cell_type": "code",
      "metadata": {
        "colab": {
          "base_uri": "https://localhost:8080/"
        },
        "id": "M36Te1ArjrlP",
        "outputId": "b1439d36-5a5c-4b2e-b041-a0988b2a7247"
      },
      "source": [
        "SCALAR.shape,SCALAR.ndim, tf.size(SCALAR)"
      ],
      "execution_count": 11,
      "outputs": [
        {
          "output_type": "execute_result",
          "data": {
            "text/plain": [
              "(TensorShape([]), 0, <tf.Tensor: shape=(), dtype=int32, numpy=1>)"
            ]
          },
          "metadata": {},
          "execution_count": 11
        }
      ]
    },
    {
      "cell_type": "markdown",
      "metadata": {
        "id": "m-uCpOfkkYqu"
      },
      "source": [
        "create two tensors containing random values between 0 and 1 with shape [5,300]."
      ]
    },
    {
      "cell_type": "code",
      "metadata": {
        "colab": {
          "base_uri": "https://localhost:8080/"
        },
        "id": "lL1hWt5pklCj",
        "outputId": "15e99298-c242-425d-e6c3-4f2255a3cd9b"
      },
      "source": [
        "tensor_1= tf.constant(np.arange(0,1), shape=(5, 300))\n",
        "tensor_2=tf.constant(np.arange(0,1), shape=(5, 300))\n",
        "tensor_3=tf.random.Generator.from_seed(42)\n",
        "tensor_3=tensor_3.normal(shape=(5,300))\n",
        "\n",
        "tensor_1, tensor_2, tensor_3"
      ],
      "execution_count": 23,
      "outputs": [
        {
          "output_type": "execute_result",
          "data": {
            "text/plain": [
              "(<tf.Tensor: shape=(5, 300), dtype=int64, numpy=\n",
              " array([[0, 0, 0, ..., 0, 0, 0],\n",
              "        [0, 0, 0, ..., 0, 0, 0],\n",
              "        [0, 0, 0, ..., 0, 0, 0],\n",
              "        [0, 0, 0, ..., 0, 0, 0],\n",
              "        [0, 0, 0, ..., 0, 0, 0]])>,\n",
              " <tf.Tensor: shape=(5, 300), dtype=int64, numpy=\n",
              " array([[0, 0, 0, ..., 0, 0, 0],\n",
              "        [0, 0, 0, ..., 0, 0, 0],\n",
              "        [0, 0, 0, ..., 0, 0, 0],\n",
              "        [0, 0, 0, ..., 0, 0, 0],\n",
              "        [0, 0, 0, ..., 0, 0, 0]])>,\n",
              " <tf.Tensor: shape=(5, 300), dtype=float32, numpy=\n",
              " array([[-0.7565803 , -0.06854702,  0.07595026, ..., -1.0718341 ,\n",
              "         -1.0722276 , -0.00586287],\n",
              "        [-0.88051033, -0.32426047, -2.4847078 , ...,  0.16512105,\n",
              "          1.155565  , -0.10707551],\n",
              "        [-1.5306779 , -0.8620293 , -0.16359143, ...,  0.34288087,\n",
              "          1.2167931 , -1.24293   ],\n",
              "        [ 0.84324265, -0.23379943,  0.4276398 , ..., -1.0428714 ,\n",
              "         -0.73970354,  0.0177109 ],\n",
              "        [ 0.04888754, -0.66408694, -1.787366  , ...,  0.1947453 ,\n",
              "          0.5656089 ,  0.18439198]], dtype=float32)>)"
            ]
          },
          "metadata": {},
          "execution_count": 23
        }
      ]
    },
    {
      "cell_type": "markdown",
      "metadata": {
        "id": "YLpJt2IIsCF4"
      },
      "source": [
        "Multiply the two tensors created in 3 using matrix multiplication"
      ]
    },
    {
      "cell_type": "code",
      "metadata": {
        "colab": {
          "base_uri": "https://localhost:8080/"
        },
        "id": "P7ZjvRp2sJEA",
        "outputId": "7801ecd4-8540-487d-fa42-c79e262e5669"
      },
      "source": [
        "tf.matmul(tensor_1, tf.transpose(tensor_2))"
      ],
      "execution_count": 21,
      "outputs": [
        {
          "output_type": "execute_result",
          "data": {
            "text/plain": [
              "<tf.Tensor: shape=(5, 5), dtype=int64, numpy=\n",
              "array([[0, 0, 0, 0, 0],\n",
              "       [0, 0, 0, 0, 0],\n",
              "       [0, 0, 0, 0, 0],\n",
              "       [0, 0, 0, 0, 0],\n",
              "       [0, 0, 0, 0, 0]])>"
            ]
          },
          "metadata": {},
          "execution_count": 21
        }
      ]
    },
    {
      "cell_type": "markdown",
      "metadata": {
        "id": "UOhyo9d4tDZG"
      },
      "source": [
        "multiply the two tensors created in 3 using dot product"
      ]
    },
    {
      "cell_type": "code",
      "metadata": {
        "colab": {
          "base_uri": "https://localhost:8080/"
        },
        "id": "5I6zNK5KtImU",
        "outputId": "076cdacf-623f-4030-e774-46453d892d84"
      },
      "source": [
        "tf.tensordot(tensor_1, tf.reshape(tensor_2, shape=(300,5)), axes=1)"
      ],
      "execution_count": 27,
      "outputs": [
        {
          "output_type": "execute_result",
          "data": {
            "text/plain": [
              "<tf.Tensor: shape=(5, 5), dtype=int64, numpy=\n",
              "array([[0, 0, 0, 0, 0],\n",
              "       [0, 0, 0, 0, 0],\n",
              "       [0, 0, 0, 0, 0],\n",
              "       [0, 0, 0, 0, 0],\n",
              "       [0, 0, 0, 0, 0]])>"
            ]
          },
          "metadata": {},
          "execution_count": 27
        }
      ]
    },
    {
      "cell_type": "markdown",
      "metadata": {
        "id": "qg263mVztzOS"
      },
      "source": [
        "6. create a temsor with random values between 0 1nd 1 with shape [224, 224, 3]."
      ]
    },
    {
      "cell_type": "code",
      "metadata": {
        "colab": {
          "base_uri": "https://localhost:8080/"
        },
        "id": "dgjZlStet_3B",
        "outputId": "a4370c71-fc31-43eb-c26f-5c155ed20248"
      },
      "source": [
        "tensor_4 = tf.random.Generator.from_seed(42)\n",
        "tensor_4 = tensor_4.normal(shape=(224,224, 3))\n",
        "tensor_4"
      ],
      "execution_count": 29,
      "outputs": [
        {
          "output_type": "execute_result",
          "data": {
            "text/plain": [
              "<tf.Tensor: shape=(224, 224, 3), dtype=float32, numpy=\n",
              "array([[[-0.7565803 , -0.06854702,  0.07595026],\n",
              "        [-1.2573844 , -0.23193765, -1.8107855 ],\n",
              "        [ 0.09988727, -0.50998646, -0.7535806 ],\n",
              "        ...,\n",
              "        [ 0.07099114, -0.5095768 ,  0.3482001 ],\n",
              "        [ 0.15985982, -1.9042184 ,  0.9690504 ],\n",
              "        [ 0.16251186, -0.07330751, -0.36059096]],\n",
              "\n",
              "       [[ 0.18739441, -0.73353654,  1.2104433 ],\n",
              "        [ 1.5603006 , -0.48115277,  0.6335167 ],\n",
              "        [-0.5612103 ,  0.06994031,  1.6807096 ],\n",
              "        ...,\n",
              "        [-1.9460295 , -0.7977275 ,  0.03092833],\n",
              "        [ 0.8297488 ,  0.12179119,  1.0506108 ],\n",
              "        [-1.3097638 ,  0.92536974, -1.1787732 ]],\n",
              "\n",
              "       [[-0.21711825, -0.73974085, -1.3077081 ],\n",
              "        [-0.7502274 , -0.37715855, -0.30130875],\n",
              "        [ 1.0943383 ,  0.255803  ,  0.8011465 ],\n",
              "        ...,\n",
              "        [-0.32833767, -0.7794747 ,  0.20049337],\n",
              "        [-0.09002841,  0.07243238, -0.81940895],\n",
              "        [ 0.3171264 , -1.6143695 , -1.6824652 ]],\n",
              "\n",
              "       ...,\n",
              "\n",
              "       [[-0.41068986, -0.3995463 ,  0.16299413],\n",
              "        [-0.82463205,  1.1320542 ,  0.43792698],\n",
              "        [-0.7639474 , -1.1266301 , -0.7207727 ],\n",
              "        ...,\n",
              "        [-0.8531011 , -0.53761154, -0.32857296],\n",
              "        [ 0.9262249 , -1.2425404 , -0.69937414],\n",
              "        [ 1.7450827 ,  1.2275221 ,  0.7955962 ]],\n",
              "\n",
              "       [[-1.0337651 , -2.0142937 ,  0.20993443],\n",
              "        [-0.54768926, -0.4617833 ,  0.15565315],\n",
              "        [-0.83341664, -0.24888957, -1.0451232 ],\n",
              "        ...,\n",
              "        [ 2.1425858 ,  1.0908573 ,  0.5777537 ],\n",
              "        [ 0.1725258 , -0.93706477, -0.5235085 ],\n",
              "        [-1.6538908 ,  0.10763749,  0.1024353 ]],\n",
              "\n",
              "       [[-0.82148445, -0.04988056,  0.51579875],\n",
              "        [ 0.328913  ,  0.25311732,  1.7136203 ],\n",
              "        [-0.7098217 ,  0.40330094, -1.3882406 ],\n",
              "        ...,\n",
              "        [ 0.14991115,  1.8622528 , -0.7413897 ],\n",
              "        [-0.07112624, -0.7579811 , -0.9618234 ],\n",
              "        [-1.3569824 , -1.5307596 , -0.91243464]]], dtype=float32)>"
            ]
          },
          "metadata": {},
          "execution_count": 29
        }
      ]
    },
    {
      "cell_type": "markdown",
      "metadata": {
        "id": "e318PIXSud6B"
      },
      "source": [
        "7. Find the min and max values of the tensor created in 6"
      ]
    }
  ]
}