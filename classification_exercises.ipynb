{
  "nbformat": 4,
  "nbformat_minor": 0,
  "metadata": {
    "colab": {
      "name": "classification_exercises.ipynb",
      "provenance": [],
      "authorship_tag": "ABX9TyOPRNE7jkQOjvgCFzZZw+f0",
      "include_colab_link": true
    },
    "kernelspec": {
      "name": "python3",
      "display_name": "Python 3"
    },
    "language_info": {
      "name": "python"
    }
  },
  "cells": [
    {
      "cell_type": "markdown",
      "metadata": {
        "id": "view-in-github",
        "colab_type": "text"
      },
      "source": [
        "<a href=\"https://colab.research.google.com/github/El-Nico/tensorflow-notes/blob/main/classification_exercises.ipynb\" target=\"_parent\"><img src=\"https://colab.research.google.com/assets/colab-badge.svg\" alt=\"Open In Colab\"/></a>"
      ]
    },
    {
      "cell_type": "markdown",
      "metadata": {
        "id": "LXmMG6fcpoIp"
      },
      "source": [
        "## Exercises 🛠\n",
        "\n",
        "1. Play with neural networks in the [TensorFlow Playground](https://playground.tensorflow.org/) for 10-minutes. Especially try different values of the learning, what happens when you decrease it? What happens when you increase it?\n",
        "2. Replicate the model pictured in the [TensorFlow Playground diagram](https://playground.tensorflow.org/#activation=relu&batchSize=10&dataset=circle&regDataset=reg-plane&learningRate=0.001&regularizationRate=0&noise=0&networkShape=6,6,6,6,6&seed=0.51287&showTestData=false&discretize=false&percTrainData=50&x=true&y=true&xTimesY=false&xSquared=false&ySquared=false&cosX=false&sinX=false&cosY=false&sinY=false&collectStats=false&problem=classification&initZero=false&hideText=false&regularization_hide=true&discretize_hide=true&regularizationRate_hide=true&percTrainData_hide=true&dataset_hide=true&problem_hide=true&noise_hide=true&batchSize_hide=true) below using TensorFlow code. Compile it using the Adam optimizer, binary crossentropy loss and accuracy metric. Once it's compiled check a summary of the model.\n",
        "![tensorflow playground example neural network](https://raw.githubusercontent.com/mrdbourke/tensorflow-deep-learning/main/images/02-tensorflow-playground-replication-exercise.png)\n",
        "*Try this network out for yourself on the [TensorFlow Playground website](https://playground.tensorflow.org/#activation=relu&batchSize=10&dataset=circle&regDataset=reg-plane&learningRate=0.001&regularizationRate=0&noise=0&networkShape=6,6,6,6,6&seed=0.51287&showTestData=false&discretize=false&percTrainData=50&x=true&y=true&xTimesY=false&xSquared=false&ySquared=false&cosX=false&sinX=false&cosY=false&sinY=false&collectStats=false&problem=classification&initZero=false&hideText=false&regularization_hide=true&discretize_hide=true&regularizationRate_hide=true&percTrainData_hide=true&dataset_hide=true&problem_hide=true&noise_hide=true&batchSize_hide=true). Hint: there are 5 hidden layers but the output layer isn't pictured, you'll have to decide what the output layer should be based on the input data.*\n",
        "3. Create a classification dataset using Scikit-Learn's [`make_moons()`](https://scikit-learn.org/stable/modules/generated/sklearn.datasets.make_moons.html) function, visualize it and then build a model to fit it at over 85% accuracy.\n",
        "4. Create a function (or write code) to visualize multiple image predictions for the fashion MNIST at the same time. Plot at least three different images and their prediciton labels at the same time. Hint: see the [classifcation tutorial in the TensorFlow documentation](https://www.tensorflow.org/tutorials/keras/classification) for ideas.\n",
        "5. Recreate [TensorFlow's](https://www.tensorflow.org/api_docs/python/tf/keras/activations/softmax) [softmax activation function](https://en.wikipedia.org/wiki/Softmax_function) in your own code. Make sure it can accept a tensor and return that tensor after having the softmax function applied to it.\n",
        "6. Train a model to get 88%+ accuracy on the fashion MNIST test set. Plot a confusion matrix to see the results after.\n",
        "7. Make a function to show an image of a certain class of the fashion MNIST dataset and make a prediction on it. For example, plot 3 images of the `T-shirt` class with their predictions.\n",
        "\n"
      ]
    },
    {
      "cell_type": "markdown",
      "source": [
        "2. Replicate the model pictured in the [TensorFlow Playground diagram](https://playground.tensorflow.org/#activation=relu&batchSize=10&dataset=circle&regDataset=reg-plane&learningRate=0.001&regularizationRate=0&noise=0&networkShape=6,6,6,6,6&seed=0.51287&showTestData=false&discretize=false&percTrainData=50&x=true&y=true&xTimesY=false&xSquared=false&ySquared=false&cosX=false&sinX=false&cosY=false&sinY=false&collectStats=false&problem=classification&initZero=false&hideText=false&regularization_hide=true&discretize_hide=true&regularizationRate_hide=true&percTrainData_hide=true&dataset_hide=true&problem_hide=true&noise_hide=true&batchSize_hide=true) below using TensorFlow code. Compile it using the Adam optimizer, binary crossentropy loss and accuracy metric. Once it's compiled check a summary of the model.\n",
        "![tensorflow playground example neural network](https://raw.githubusercontent.com/mrdbourke/tensorflow-deep-learning/main/images/02-tensorflow-playground-replication-exercise.png)\n",
        "*Try this network out for yourself on the [TensorFlow Playground website](https://playground.tensorflow.org/#activation=relu&batchSize=10&dataset=circle&regDataset=reg-plane&learningRate=0.001&regularizationRate=0&noise=0&networkShape=6,6,6,6,6&seed=0.51287&showTestData=false&discretize=false&percTrainData=50&x=true&y=true&xTimesY=false&xSquared=false&ySquared=false&cosX=false&sinX=false&cosY=false&sinY=false&collectStats=false&problem=classification&initZero=false&hideText=false&regularization_hide=true&discretize_hide=true&regularizationRate_hide=true&percTrainData_hide=true&dataset_hide=true&problem_hide=true&noise_hide=true&batchSize_hide=true). Hint: there are 5 hidden layers but the output layer isn't pictured, you'll have to decide what the output layer should be based on the input data.*"
      ],
      "metadata": {
        "id": "IGcA78BxIJak"
      }
    },
    {
      "cell_type": "code",
      "source": [
        "#creating and visualizing the dataset\n",
        "from sklearn.datasets import make_circles\n",
        "\n",
        "#make 1000 examples\n",
        "n_samples= 1000\n",
        "\n",
        "# Create Cirles\n",
        "\n",
        "x, y= make_circles(n_samples,\n",
        "                   noise=0.1,\n",
        "                   random_state=42,\n",
        "                   factor=0.3)"
      ],
      "metadata": {
        "id": "cOtA-rxkIXyC"
      },
      "execution_count": 1,
      "outputs": []
    },
    {
      "cell_type": "code",
      "source": [
        "x[:10]"
      ],
      "metadata": {
        "colab": {
          "base_uri": "https://localhost:8080/"
        },
        "id": "uHSgVyVlJC86",
        "outputId": "f1272e3f-196f-4f5e-e1d3-34016d2fbd44"
      },
      "execution_count": 2,
      "outputs": [
        {
          "output_type": "execute_result",
          "data": {
            "text/plain": [
              "array([[ 0.22941762,  0.15427756],\n",
              "       [-0.18537287,  0.12595496],\n",
              "       [-0.36996832,  0.28098478],\n",
              "       [-0.30475811,  0.16818521],\n",
              "       [ 0.4540887 , -0.89046586],\n",
              "       [-0.13655348,  0.39389994],\n",
              "       [-0.0157549 ,  0.31134926],\n",
              "       [ 0.23655418,  0.107624  ],\n",
              "       [-0.09176085, -0.32586222],\n",
              "       [-0.08344198,  1.09395352]])"
            ]
          },
          "metadata": {},
          "execution_count": 2
        }
      ]
    },
    {
      "cell_type": "code",
      "source": [
        "y[:10]"
      ],
      "metadata": {
        "colab": {
          "base_uri": "https://localhost:8080/"
        },
        "id": "CnQkh9JLJGMJ",
        "outputId": "49f0d354-b0be-42b6-93ac-ad8d6cd1c61e"
      },
      "execution_count": 3,
      "outputs": [
        {
          "output_type": "execute_result",
          "data": {
            "text/plain": [
              "array([1, 1, 1, 1, 0, 1, 1, 1, 1, 0])"
            ]
          },
          "metadata": {},
          "execution_count": 3
        }
      ]
    },
    {
      "cell_type": "code",
      "source": [
        "#visualizing the data\n",
        "import matplotlib.pyplot as plt\n",
        "import pandas as pd\n"
      ],
      "metadata": {
        "id": "E2KB3ZTnJG4Z"
      },
      "execution_count": 4,
      "outputs": []
    },
    {
      "cell_type": "code",
      "source": [
        "x.shape"
      ],
      "metadata": {
        "colab": {
          "base_uri": "https://localhost:8080/"
        },
        "id": "HUWZUznAJW-I",
        "outputId": "bebb1ac3-d0d5-430f-bbb3-53027bcd9a8c"
      },
      "execution_count": 5,
      "outputs": [
        {
          "output_type": "execute_result",
          "data": {
            "text/plain": [
              "(1000, 2)"
            ]
          },
          "metadata": {},
          "execution_count": 5
        }
      ]
    },
    {
      "cell_type": "code",
      "source": [
        "y.shape"
      ],
      "metadata": {
        "colab": {
          "base_uri": "https://localhost:8080/"
        },
        "id": "tZrbGhXjJdOB",
        "outputId": "c4643463-38a5-453a-b1b3-8226570bf431"
      },
      "execution_count": 6,
      "outputs": [
        {
          "output_type": "execute_result",
          "data": {
            "text/plain": [
              "(1000,)"
            ]
          },
          "metadata": {},
          "execution_count": 6
        }
      ]
    },
    {
      "cell_type": "code",
      "source": [
        "circles= pd.DataFrame({\"X0\":x[:, 0], \"X1\":x[:, 1], \"Y\":y})\n",
        "circles.head(10)"
      ],
      "metadata": {
        "colab": {
          "base_uri": "https://localhost:8080/",
          "height": 363
        },
        "id": "qhtbsno1JiP6",
        "outputId": "4e8f5313-ff00-46d1-a90f-8ff2ce841f1f"
      },
      "execution_count": 7,
      "outputs": [
        {
          "output_type": "execute_result",
          "data": {
            "text/html": [
              "\n",
              "  <div id=\"df-d50091ff-5d6c-4723-a0cf-af54e2284623\">\n",
              "    <div class=\"colab-df-container\">\n",
              "      <div>\n",
              "<style scoped>\n",
              "    .dataframe tbody tr th:only-of-type {\n",
              "        vertical-align: middle;\n",
              "    }\n",
              "\n",
              "    .dataframe tbody tr th {\n",
              "        vertical-align: top;\n",
              "    }\n",
              "\n",
              "    .dataframe thead th {\n",
              "        text-align: right;\n",
              "    }\n",
              "</style>\n",
              "<table border=\"1\" class=\"dataframe\">\n",
              "  <thead>\n",
              "    <tr style=\"text-align: right;\">\n",
              "      <th></th>\n",
              "      <th>X0</th>\n",
              "      <th>X1</th>\n",
              "      <th>Y</th>\n",
              "    </tr>\n",
              "  </thead>\n",
              "  <tbody>\n",
              "    <tr>\n",
              "      <th>0</th>\n",
              "      <td>0.229418</td>\n",
              "      <td>0.154278</td>\n",
              "      <td>1</td>\n",
              "    </tr>\n",
              "    <tr>\n",
              "      <th>1</th>\n",
              "      <td>-0.185373</td>\n",
              "      <td>0.125955</td>\n",
              "      <td>1</td>\n",
              "    </tr>\n",
              "    <tr>\n",
              "      <th>2</th>\n",
              "      <td>-0.369968</td>\n",
              "      <td>0.280985</td>\n",
              "      <td>1</td>\n",
              "    </tr>\n",
              "    <tr>\n",
              "      <th>3</th>\n",
              "      <td>-0.304758</td>\n",
              "      <td>0.168185</td>\n",
              "      <td>1</td>\n",
              "    </tr>\n",
              "    <tr>\n",
              "      <th>4</th>\n",
              "      <td>0.454089</td>\n",
              "      <td>-0.890466</td>\n",
              "      <td>0</td>\n",
              "    </tr>\n",
              "    <tr>\n",
              "      <th>5</th>\n",
              "      <td>-0.136553</td>\n",
              "      <td>0.393900</td>\n",
              "      <td>1</td>\n",
              "    </tr>\n",
              "    <tr>\n",
              "      <th>6</th>\n",
              "      <td>-0.015755</td>\n",
              "      <td>0.311349</td>\n",
              "      <td>1</td>\n",
              "    </tr>\n",
              "    <tr>\n",
              "      <th>7</th>\n",
              "      <td>0.236554</td>\n",
              "      <td>0.107624</td>\n",
              "      <td>1</td>\n",
              "    </tr>\n",
              "    <tr>\n",
              "      <th>8</th>\n",
              "      <td>-0.091761</td>\n",
              "      <td>-0.325862</td>\n",
              "      <td>1</td>\n",
              "    </tr>\n",
              "    <tr>\n",
              "      <th>9</th>\n",
              "      <td>-0.083442</td>\n",
              "      <td>1.093954</td>\n",
              "      <td>0</td>\n",
              "    </tr>\n",
              "  </tbody>\n",
              "</table>\n",
              "</div>\n",
              "      <button class=\"colab-df-convert\" onclick=\"convertToInteractive('df-d50091ff-5d6c-4723-a0cf-af54e2284623')\"\n",
              "              title=\"Convert this dataframe to an interactive table.\"\n",
              "              style=\"display:none;\">\n",
              "        \n",
              "  <svg xmlns=\"http://www.w3.org/2000/svg\" height=\"24px\"viewBox=\"0 0 24 24\"\n",
              "       width=\"24px\">\n",
              "    <path d=\"M0 0h24v24H0V0z\" fill=\"none\"/>\n",
              "    <path d=\"M18.56 5.44l.94 2.06.94-2.06 2.06-.94-2.06-.94-.94-2.06-.94 2.06-2.06.94zm-11 1L8.5 8.5l.94-2.06 2.06-.94-2.06-.94L8.5 2.5l-.94 2.06-2.06.94zm10 10l.94 2.06.94-2.06 2.06-.94-2.06-.94-.94-2.06-.94 2.06-2.06.94z\"/><path d=\"M17.41 7.96l-1.37-1.37c-.4-.4-.92-.59-1.43-.59-.52 0-1.04.2-1.43.59L10.3 9.45l-7.72 7.72c-.78.78-.78 2.05 0 2.83L4 21.41c.39.39.9.59 1.41.59.51 0 1.02-.2 1.41-.59l7.78-7.78 2.81-2.81c.8-.78.8-2.07 0-2.86zM5.41 20L4 18.59l7.72-7.72 1.47 1.35L5.41 20z\"/>\n",
              "  </svg>\n",
              "      </button>\n",
              "      \n",
              "  <style>\n",
              "    .colab-df-container {\n",
              "      display:flex;\n",
              "      flex-wrap:wrap;\n",
              "      gap: 12px;\n",
              "    }\n",
              "\n",
              "    .colab-df-convert {\n",
              "      background-color: #E8F0FE;\n",
              "      border: none;\n",
              "      border-radius: 50%;\n",
              "      cursor: pointer;\n",
              "      display: none;\n",
              "      fill: #1967D2;\n",
              "      height: 32px;\n",
              "      padding: 0 0 0 0;\n",
              "      width: 32px;\n",
              "    }\n",
              "\n",
              "    .colab-df-convert:hover {\n",
              "      background-color: #E2EBFA;\n",
              "      box-shadow: 0px 1px 2px rgba(60, 64, 67, 0.3), 0px 1px 3px 1px rgba(60, 64, 67, 0.15);\n",
              "      fill: #174EA6;\n",
              "    }\n",
              "\n",
              "    [theme=dark] .colab-df-convert {\n",
              "      background-color: #3B4455;\n",
              "      fill: #D2E3FC;\n",
              "    }\n",
              "\n",
              "    [theme=dark] .colab-df-convert:hover {\n",
              "      background-color: #434B5C;\n",
              "      box-shadow: 0px 1px 3px 1px rgba(0, 0, 0, 0.15);\n",
              "      filter: drop-shadow(0px 1px 2px rgba(0, 0, 0, 0.3));\n",
              "      fill: #FFFFFF;\n",
              "    }\n",
              "  </style>\n",
              "\n",
              "      <script>\n",
              "        const buttonEl =\n",
              "          document.querySelector('#df-d50091ff-5d6c-4723-a0cf-af54e2284623 button.colab-df-convert');\n",
              "        buttonEl.style.display =\n",
              "          google.colab.kernel.accessAllowed ? 'block' : 'none';\n",
              "\n",
              "        async function convertToInteractive(key) {\n",
              "          const element = document.querySelector('#df-d50091ff-5d6c-4723-a0cf-af54e2284623');\n",
              "          const dataTable =\n",
              "            await google.colab.kernel.invokeFunction('convertToInteractive',\n",
              "                                                     [key], {});\n",
              "          if (!dataTable) return;\n",
              "\n",
              "          const docLinkHtml = 'Like what you see? Visit the ' +\n",
              "            '<a target=\"_blank\" href=https://colab.research.google.com/notebooks/data_table.ipynb>data table notebook</a>'\n",
              "            + ' to learn more about interactive tables.';\n",
              "          element.innerHTML = '';\n",
              "          dataTable['output_type'] = 'display_data';\n",
              "          await google.colab.output.renderOutput(dataTable, element);\n",
              "          const docLink = document.createElement('div');\n",
              "          docLink.innerHTML = docLinkHtml;\n",
              "          element.appendChild(docLink);\n",
              "        }\n",
              "      </script>\n",
              "    </div>\n",
              "  </div>\n",
              "  "
            ],
            "text/plain": [
              "         X0        X1  Y\n",
              "0  0.229418  0.154278  1\n",
              "1 -0.185373  0.125955  1\n",
              "2 -0.369968  0.280985  1\n",
              "3 -0.304758  0.168185  1\n",
              "4  0.454089 -0.890466  0\n",
              "5 -0.136553  0.393900  1\n",
              "6 -0.015755  0.311349  1\n",
              "7  0.236554  0.107624  1\n",
              "8 -0.091761 -0.325862  1\n",
              "9 -0.083442  1.093954  0"
            ]
          },
          "metadata": {},
          "execution_count": 7
        }
      ]
    },
    {
      "cell_type": "code",
      "source": [
        "#check out different labels\n",
        "circles.Y.value_counts() #output shows binary classification"
      ],
      "metadata": {
        "colab": {
          "base_uri": "https://localhost:8080/"
        },
        "id": "_VG1aUwpKurR",
        "outputId": "2237afc1-6048-4252-8226-e75b167ca160"
      },
      "execution_count": 8,
      "outputs": [
        {
          "output_type": "execute_result",
          "data": {
            "text/plain": [
              "1    500\n",
              "0    500\n",
              "Name: Y, dtype: int64"
            ]
          },
          "metadata": {},
          "execution_count": 8
        }
      ]
    },
    {
      "cell_type": "code",
      "source": [
        "#visualizing the circles\n",
        "plt.scatter(circles.X0, circles.X1, c=y, cmap=plt.cm.RdYlBu)"
      ],
      "metadata": {
        "colab": {
          "base_uri": "https://localhost:8080/",
          "height": 283
        },
        "id": "maVOMhRDK5iO",
        "outputId": "7fd7a7be-eaa1-492c-a091-4cc7a85703ca"
      },
      "execution_count": 9,
      "outputs": [
        {
          "output_type": "execute_result",
          "data": {
            "text/plain": [
              "<matplotlib.collections.PathCollection at 0x7f12ccae03d0>"
            ]
          },
          "metadata": {},
          "execution_count": 9
        },
        {
          "output_type": "display_data",
          "data": {
            "image/png": "[encoded data removed]",
            "text/plain": [
              "<Figure size 432x288 with 1 Axes>"
            ]
          },
          "metadata": {
            "needs_background": "light"
          }
        }
      ]
    },
    {
      "cell_type": "code",
      "source": [
        "#split data into train and test sets\n",
        "x_train, y_train= x[:800], y[:800]\n",
        "x_test, y_test=x[800:], y[800:]\n",
        "\n",
        "#check the shapes of the data\n",
        "x_train.shape, x_test.shape"
      ],
      "metadata": {
        "colab": {
          "base_uri": "https://localhost:8080/"
        },
        "id": "wci8UkHmOFNK",
        "outputId": "51de1317-d992-4694-bb98-6ba1b712672b"
      },
      "execution_count": 10,
      "outputs": [
        {
          "output_type": "execute_result",
          "data": {
            "text/plain": [
              "((800, 2), (200, 2))"
            ]
          },
          "metadata": {},
          "execution_count": 10
        }
      ]
    },
    {
      "cell_type": "markdown",
      "source": [
        "![tensorflow playground example neural network](https://raw.githubusercontent.com/mrdbourke/tensorflow-deep-learning/main/images/02-tensorflow-playground-replication-exercise.png)"
      ],
      "metadata": {
        "id": "OMmeaSM7LoNl"
      }
    },
    {
      "cell_type": "code",
      "source": [
        "import tensorflow as tf"
      ],
      "metadata": {
        "id": "dpuwrcOdMFwe"
      },
      "execution_count": 11,
      "outputs": []
    },
    {
      "cell_type": "code",
      "source": [
        "#replicating the model in the diagram\n",
        "play_model= tf.keras.Sequential([\n",
        "    tf.keras.layers.Dense(2, activation=tf.keras.activations.relu),\n",
        "    tf.keras.layers.Dense(6, activation=tf.keras.activations.relu),\n",
        "    tf.keras.layers.Dense(6, activation=tf.keras.activations.relu),\n",
        "    tf.keras.layers.Dense(6, activation=tf.keras.activations.relu),\n",
        "    tf.keras.layers.Dense(6, activation=tf.keras.activations.relu),\n",
        "    tf.keras.layers.Dense(6, activation=tf.keras.activations.relu),\n",
        "    tf.keras.layers.Dense(1, activation=tf.keras.activations.sigmoid),\n",
        "])\n",
        "\n",
        "#compile the model\n",
        "play_model.compile(\n",
        "    loss=tf.keras.losses.binary_crossentropy,\n",
        "    optimizer=tf.keras.optimizers.Adam(),\n",
        "    metrics=['accuracy']\n",
        ")\n",
        "\n",
        "#fit the model to the data for 50 epochs\n",
        "play_model.fit(x_train, y_train, epochs=50)\n"
      ],
      "metadata": {
        "colab": {
          "base_uri": "https://localhost:8080/"
        },
        "id": "LGeBtds8L3rE",
        "outputId": "6e2a522a-ef17-41a7-d982-9c0f18bd3080"
      },
      "execution_count": 12,
      "outputs": [
        {
          "output_type": "stream",
          "name": "stdout",
          "text": [
            "Epoch 1/50\n",
            "25/25 [==============================] - 1s 2ms/step - loss: 0.6875 - accuracy: 0.5163\n",
            "Epoch 2/50\n",
            "25/25 [==============================] - 0s 2ms/step - loss: 0.6836 - accuracy: 0.5013\n",
            "Epoch 3/50\n",
            "25/25 [==============================] - 0s 2ms/step - loss: 0.6791 - accuracy: 0.5275\n",
            "Epoch 4/50\n",
            "25/25 [==============================] - 0s 2ms/step - loss: 0.6738 - accuracy: 0.5350\n",
            "Epoch 5/50\n",
            "25/25 [==============================] - 0s 2ms/step - loss: 0.6676 - accuracy: 0.5437\n",
            "Epoch 6/50\n",
            "25/25 [==============================] - 0s 1ms/step - loss: 0.6594 - accuracy: 0.5487\n",
            "Epoch 7/50\n",
            "25/25 [==============================] - 0s 2ms/step - loss: 0.6467 - accuracy: 0.6325\n",
            "Epoch 8/50\n",
            "25/25 [==============================] - 0s 2ms/step - loss: 0.6287 - accuracy: 0.6675\n",
            "Epoch 9/50\n",
            "25/25 [==============================] - 0s 2ms/step - loss: 0.6081 - accuracy: 0.7150\n",
            "Epoch 10/50\n",
            "25/25 [==============================] - 0s 2ms/step - loss: 0.5846 - accuracy: 0.7225\n",
            "Epoch 11/50\n",
            "25/25 [==============================] - 0s 2ms/step - loss: 0.5578 - accuracy: 0.7125\n",
            "Epoch 12/50\n",
            "25/25 [==============================] - 0s 2ms/step - loss: 0.5278 - accuracy: 0.7700\n",
            "Epoch 13/50\n",
            "25/25 [==============================] - 0s 2ms/step - loss: 0.5037 - accuracy: 0.7812\n",
            "Epoch 14/50\n",
            "25/25 [==============================] - 0s 2ms/step - loss: 0.4863 - accuracy: 0.7912\n",
            "Epoch 15/50\n",
            "25/25 [==============================] - 0s 2ms/step - loss: 0.4717 - accuracy: 0.8050\n",
            "Epoch 16/50\n",
            "25/25 [==============================] - 0s 2ms/step - loss: 0.4595 - accuracy: 0.8225\n",
            "Epoch 17/50\n",
            "25/25 [==============================] - 0s 2ms/step - loss: 0.4487 - accuracy: 0.8388\n",
            "Epoch 18/50\n",
            "25/25 [==============================] - 0s 2ms/step - loss: 0.4392 - accuracy: 0.8425\n",
            "Epoch 19/50\n",
            "25/25 [==============================] - 0s 2ms/step - loss: 0.4304 - accuracy: 0.8462\n",
            "Epoch 20/50\n",
            "25/25 [==============================] - 0s 2ms/step - loss: 0.4230 - accuracy: 0.8537\n",
            "Epoch 21/50\n",
            "25/25 [==============================] - 0s 2ms/step - loss: 0.4167 - accuracy: 0.8500\n",
            "Epoch 22/50\n",
            "25/25 [==============================] - 0s 2ms/step - loss: 0.4112 - accuracy: 0.8487\n",
            "Epoch 23/50\n",
            "25/25 [==============================] - 0s 2ms/step - loss: 0.4064 - accuracy: 0.8550\n",
            "Epoch 24/50\n",
            "25/25 [==============================] - 0s 2ms/step - loss: 0.4014 - accuracy: 0.8550\n",
            "Epoch 25/50\n",
            "25/25 [==============================] - 0s 2ms/step - loss: 0.3973 - accuracy: 0.8537\n",
            "Epoch 26/50\n",
            "25/25 [==============================] - 0s 1ms/step - loss: 0.3931 - accuracy: 0.8562\n",
            "Epoch 27/50\n",
            "25/25 [==============================] - 0s 1ms/step - loss: 0.3888 - accuracy: 0.8562\n",
            "Epoch 28/50\n",
            "25/25 [==============================] - 0s 2ms/step - loss: 0.3850 - accuracy: 0.8562\n",
            "Epoch 29/50\n",
            "25/25 [==============================] - 0s 2ms/step - loss: 0.3809 - accuracy: 0.8575\n",
            "Epoch 30/50\n",
            "25/25 [==============================] - 0s 2ms/step - loss: 0.3770 - accuracy: 0.8575\n",
            "Epoch 31/50\n",
            "25/25 [==============================] - 0s 2ms/step - loss: 0.3739 - accuracy: 0.8575\n",
            "Epoch 32/50\n",
            "25/25 [==============================] - 0s 2ms/step - loss: 0.3719 - accuracy: 0.8562\n",
            "Epoch 33/50\n",
            "25/25 [==============================] - 0s 2ms/step - loss: 0.3687 - accuracy: 0.8637\n",
            "Epoch 34/50\n",
            "25/25 [==============================] - 0s 3ms/step - loss: 0.3671 - accuracy: 0.8650\n",
            "Epoch 35/50\n",
            "25/25 [==============================] - 0s 2ms/step - loss: 0.3650 - accuracy: 0.8650\n",
            "Epoch 36/50\n",
            "25/25 [==============================] - 0s 2ms/step - loss: 0.3635 - accuracy: 0.8600\n",
            "Epoch 37/50\n",
            "25/25 [==============================] - 0s 1ms/step - loss: 0.3615 - accuracy: 0.8637\n",
            "Epoch 38/50\n",
            "25/25 [==============================] - 0s 2ms/step - loss: 0.3600 - accuracy: 0.8650\n",
            "Epoch 39/50\n",
            "25/25 [==============================] - 0s 2ms/step - loss: 0.3587 - accuracy: 0.8650\n",
            "Epoch 40/50\n",
            "25/25 [==============================] - 0s 2ms/step - loss: 0.3564 - accuracy: 0.8650\n",
            "Epoch 41/50\n",
            "25/25 [==============================] - 0s 2ms/step - loss: 0.3554 - accuracy: 0.8637\n",
            "Epoch 42/50\n",
            "25/25 [==============================] - 0s 2ms/step - loss: 0.3538 - accuracy: 0.8637\n",
            "Epoch 43/50\n",
            "25/25 [==============================] - 0s 2ms/step - loss: 0.3526 - accuracy: 0.8662\n",
            "Epoch 44/50\n",
            "25/25 [==============================] - 0s 2ms/step - loss: 0.3504 - accuracy: 0.8662\n",
            "Epoch 45/50\n",
            "25/25 [==============================] - 0s 2ms/step - loss: 0.3494 - accuracy: 0.8650\n",
            "Epoch 46/50\n",
            "25/25 [==============================] - 0s 1ms/step - loss: 0.3487 - accuracy: 0.8625\n",
            "Epoch 47/50\n",
            "25/25 [==============================] - 0s 2ms/step - loss: 0.3471 - accuracy: 0.8687\n",
            "Epoch 48/50\n",
            "25/25 [==============================] - 0s 2ms/step - loss: 0.3459 - accuracy: 0.8662\n",
            "Epoch 49/50\n",
            "25/25 [==============================] - 0s 2ms/step - loss: 0.3457 - accuracy: 0.8662\n",
            "Epoch 50/50\n",
            "25/25 [==============================] - 0s 2ms/step - loss: 0.3437 - accuracy: 0.8675\n"
          ]
        },
        {
          "output_type": "execute_result",
          "data": {
            "text/plain": [
              "<keras.callbacks.History at 0x7f127d3dcc10>"
            ]
          },
          "metadata": {},
          "execution_count": 12
        }
      ]
    },
    {
      "cell_type": "code",
      "source": [
        "import numpy as np\n",
        "\n",
        "def plot_decision_boundary(model, X, y):\n",
        "  \"\"\"\n",
        "  Plots the decision boundary created by a model predicting on X.\n",
        "  This function has been adapted from two phenomenal resources:\n",
        "   1. CS231n - https://cs231n.github.io/neural-networks-case-study/\n",
        "   2. Made with ML basics - https://github.com/GokuMohandas/MadeWithML/blob/main/notebooks/08_Neural_Networks.ipynb\n",
        "  \"\"\"\n",
        "  # Define the axis boundaries of the plot and create a meshgrid\n",
        "  x_min, x_max = X[:, 0].min() - 0.1, X[:, 0].max() + 0.1\n",
        "  y_min, y_max = X[:, 1].min() - 0.1, X[:, 1].max() + 0.1\n",
        "  xx, yy = np.meshgrid(np.linspace(x_min, x_max, 100),\n",
        "                       np.linspace(y_min, y_max, 100))\n",
        "  \n",
        "  # Create X values (we're going to predict on all of these)\n",
        "  x_in = np.c_[xx.ravel(), yy.ravel()] # stack 2D arrays together: https://numpy.org/devdocs/reference/generated/numpy.c_.html\n",
        "  \n",
        "  # Make predictions using the trained model\n",
        "  y_pred = model.predict(x_in)\n",
        "\n",
        "  # Check for multi-class\n",
        "  if len(y_pred[0]) > 1:\n",
        "    print(\"doing multiclass classification...\")\n",
        "    # We have to reshape our predictions to get them ready for plotting\n",
        "    y_pred = np.argmax(y_pred, axis=1).reshape(xx.shape)\n",
        "  else:\n",
        "    print(\"doing binary classifcation...\")\n",
        "    y_pred = np.round(y_pred).reshape(xx.shape)\n",
        "  \n",
        "  # Plot decision boundary\n",
        "  plt.contourf(xx, yy, y_pred, cmap=plt.cm.RdYlBu, alpha=0.7)\n",
        "  plt.scatter(X[:, 0], X[:, 1], c=y, s=40, cmap=plt.cm.RdYlBu)\n",
        "  plt.xlim(xx.min(), xx.max())\n",
        "  plt.ylim(yy.min(), yy.max())\n"
      ],
      "metadata": {
        "id": "rjHPFvutFAGI"
      },
      "execution_count": 13,
      "outputs": []
    },
    {
      "cell_type": "code",
      "source": [
        "#check out the predictions of moon model\n",
        "plot_decision_boundary(play_model, x, y)"
      ],
      "metadata": {
        "colab": {
          "base_uri": "https://localhost:8080/",
          "height": 283
        },
        "outputId": "78aeeae3-327b-4a88-d9c7-c277c9f910e5",
        "id": "UiCtJ7mJf4c8"
      },
      "execution_count": 14,
      "outputs": [
        {
          "output_type": "stream",
          "name": "stdout",
          "text": [
            "doing binary classifcation...\n"
          ]
        },
        {
          "output_type": "display_data",
          "data": {
            "image/png": "[encoded data removed]",
            "text/plain": [
              "<Figure size 432x288 with 1 Axes>"
            ]
          },
          "metadata": {
            "needs_background": "light"
          }
        }
      ]
    },
    {
      "cell_type": "markdown",
      "source": [
        "3. Create a classification dataset using Scikit-Learn's [`make_moons()`](https://scikit-learn.org/stable/modules/generated/sklearn.datasets.make_moons.html) function, visualize it and then build a model to fit it at over 85% accuracy."
      ],
      "metadata": {
        "id": "k97lVD-D5MX1"
      }
    },
    {
      "cell_type": "code",
      "source": [
        "from sklearn.datasets import make_moons"
      ],
      "metadata": {
        "id": "WUowVLlC5NLi"
      },
      "execution_count": 15,
      "outputs": []
    },
    {
      "cell_type": "code",
      "source": [
        "moons= make_moons(1000, noise=0.1)\n",
        "moons"
      ],
      "metadata": {
        "colab": {
          "base_uri": "https://localhost:8080/"
        },
        "id": "PUmSq9MO5NUo",
        "outputId": "cf675fd5-6c2f-481e-b021-4ff3ea78ed0c"
      },
      "execution_count": 16,
      "outputs": [
        {
          "output_type": "execute_result",
          "data": {
            "text/plain": [
              "(array([[ 0.67751541,  0.67334106],\n",
              "        [ 0.78753602,  0.50204762],\n",
              "        [ 1.34453563, -0.50151654],\n",
              "        ...,\n",
              "        [-0.19090311,  0.82015066],\n",
              "        [-0.27897644,  1.0075389 ],\n",
              "        [-0.80851974,  0.4773505 ]]),\n",
              " array([0, 0, 1, 0, 1, 1, 0, 0, 0, 0, 1, 0, 0, 1, 0, 0, 1, 1, 1, 0, 1, 1,\n",
              "        0, 1, 1, 0, 0, 1, 0, 1, 1, 1, 1, 0, 0, 0, 0, 1, 0, 1, 1, 0, 0, 0,\n",
              "        0, 1, 1, 1, 1, 0, 1, 1, 0, 0, 1, 0, 0, 0, 0, 1, 1, 1, 0, 1, 0, 1,\n",
              "        0, 1, 0, 1, 1, 1, 0, 0, 1, 0, 0, 1, 0, 0, 1, 1, 1, 1, 0, 1, 1, 0,\n",
              "        0, 0, 1, 0, 1, 0, 1, 1, 0, 1, 1, 0, 1, 1, 0, 0, 0, 0, 0, 1, 0, 1,\n",
              "        0, 1, 0, 1, 0, 0, 1, 1, 0, 1, 0, 1, 0, 0, 1, 0, 1, 1, 1, 0, 0, 0,\n",
              "        1, 1, 0, 1, 0, 1, 1, 1, 1, 0, 1, 0, 1, 0, 0, 0, 0, 1, 1, 1, 0, 1,\n",
              "        0, 0, 0, 1, 1, 0, 0, 1, 0, 0, 0, 0, 1, 0, 1, 0, 1, 1, 0, 0, 0, 1,\n",
              "        1, 1, 0, 0, 1, 1, 0, 0, 0, 0, 0, 1, 0, 0, 0, 0, 1, 0, 0, 0, 0, 1,\n",
              "        0, 1, 1, 0, 1, 0, 1, 0, 1, 1, 1, 0, 0, 0, 1, 1, 1, 1, 1, 1, 0, 0,\n",
              "        0, 0, 1, 1, 0, 0, 1, 0, 0, 1, 1, 1, 1, 0, 1, 1, 1, 0, 0, 1, 1, 1,\n",
              "        0, 0, 1, 0, 1, 1, 0, 1, 0, 0, 0, 0, 1, 1, 1, 1, 0, 1, 0, 0, 0, 0,\n",
              "        0, 0, 1, 0, 1, 0, 0, 1, 0, 1, 0, 0, 0, 1, 1, 1, 1, 0, 1, 0, 1, 1,\n",
              "        0, 0, 1, 1, 0, 1, 0, 1, 1, 1, 0, 0, 0, 1, 0, 1, 1, 1, 0, 0, 0, 0,\n",
              "        0, 1, 0, 0, 1, 1, 1, 0, 1, 1, 0, 0, 1, 0, 0, 1, 1, 0, 1, 1, 1, 1,\n",
              "        1, 1, 1, 1, 0, 0, 0, 0, 1, 0, 1, 1, 0, 0, 1, 1, 0, 1, 1, 1, 0, 1,\n",
              "        0, 0, 1, 0, 0, 1, 1, 1, 0, 1, 1, 0, 1, 1, 1, 1, 1, 1, 1, 1, 0, 1,\n",
              "        1, 0, 0, 0, 0, 0, 1, 0, 1, 1, 0, 1, 1, 1, 0, 1, 1, 1, 1, 0, 1, 1,\n",
              "        1, 0, 1, 0, 1, 0, 1, 0, 1, 1, 0, 0, 0, 1, 0, 0, 0, 0, 0, 0, 1, 1,\n",
              "        0, 1, 0, 1, 0, 0, 1, 0, 0, 0, 0, 0, 1, 0, 1, 0, 0, 0, 0, 1, 1, 1,\n",
              "        0, 1, 1, 1, 1, 0, 0, 1, 1, 0, 1, 1, 1, 0, 0, 0, 1, 1, 1, 0, 0, 1,\n",
              "        0, 0, 1, 0, 0, 0, 1, 1, 0, 1, 0, 1, 0, 1, 1, 0, 0, 1, 0, 1, 0, 0,\n",
              "        0, 1, 0, 1, 0, 0, 0, 1, 1, 0, 0, 0, 1, 0, 0, 0, 1, 0, 0, 0, 0, 0,\n",
              "        1, 1, 1, 1, 0, 1, 0, 1, 1, 0, 0, 1, 0, 1, 1, 1, 0, 0, 0, 1, 1, 1,\n",
              "        0, 1, 1, 1, 1, 0, 0, 1, 0, 1, 1, 1, 0, 0, 0, 1, 1, 1, 1, 0, 1, 0,\n",
              "        0, 0, 1, 1, 0, 0, 0, 1, 1, 1, 1, 1, 0, 1, 0, 0, 0, 1, 1, 0, 0, 1,\n",
              "        0, 1, 0, 0, 0, 0, 0, 0, 0, 1, 0, 0, 1, 1, 0, 0, 1, 0, 1, 0, 1, 0,\n",
              "        1, 0, 1, 1, 1, 0, 0, 0, 0, 0, 0, 0, 0, 0, 0, 1, 0, 0, 1, 0, 1, 1,\n",
              "        1, 0, 0, 1, 1, 1, 1, 0, 0, 1, 1, 1, 1, 1, 0, 1, 0, 0, 0, 0, 1, 1,\n",
              "        1, 1, 1, 1, 0, 0, 1, 1, 1, 0, 1, 0, 0, 0, 0, 1, 0, 1, 1, 0, 1, 0,\n",
              "        1, 0, 0, 0, 1, 1, 0, 0, 0, 1, 1, 1, 0, 1, 0, 0, 1, 0, 1, 1, 0, 1,\n",
              "        1, 0, 1, 0, 1, 0, 1, 0, 1, 0, 1, 0, 1, 1, 1, 0, 0, 1, 0, 1, 1, 1,\n",
              "        1, 1, 1, 0, 0, 0, 1, 0, 0, 0, 0, 1, 1, 1, 0, 0, 1, 1, 0, 1, 1, 1,\n",
              "        0, 1, 1, 1, 0, 1, 1, 1, 1, 1, 0, 1, 1, 1, 1, 1, 0, 1, 1, 1, 1, 0,\n",
              "        0, 1, 0, 1, 0, 0, 1, 1, 1, 1, 1, 0, 0, 0, 0, 0, 1, 1, 0, 1, 1, 1,\n",
              "        0, 1, 0, 0, 0, 1, 0, 0, 0, 1, 0, 1, 0, 1, 1, 0, 1, 1, 1, 1, 0, 0,\n",
              "        0, 0, 1, 1, 1, 0, 0, 0, 1, 1, 0, 1, 1, 1, 1, 0, 1, 0, 0, 0, 1, 0,\n",
              "        0, 0, 0, 0, 1, 1, 1, 1, 0, 1, 1, 0, 0, 1, 1, 1, 0, 0, 1, 0, 1, 0,\n",
              "        1, 1, 0, 0, 1, 0, 0, 0, 0, 0, 0, 0, 0, 1, 1, 1, 1, 1, 0, 0, 0, 0,\n",
              "        1, 0, 1, 0, 0, 0, 0, 1, 1, 1, 1, 0, 0, 1, 1, 1, 1, 0, 1, 1, 1, 0,\n",
              "        1, 0, 0, 0, 0, 1, 1, 0, 0, 0, 0, 1, 1, 0, 0, 0, 1, 1, 0, 0, 0, 0,\n",
              "        0, 1, 1, 1, 0, 0, 1, 0, 0, 1, 0, 0, 1, 0, 0, 0, 1, 0, 0, 1, 1, 1,\n",
              "        1, 0, 0, 1, 1, 0, 0, 1, 1, 1, 1, 0, 0, 1, 1, 0, 1, 1, 1, 0, 1, 0,\n",
              "        1, 1, 1, 1, 1, 1, 0, 0, 0, 1, 0, 0, 0, 1, 1, 1, 1, 0, 0, 1, 1, 0,\n",
              "        0, 0, 0, 1, 1, 1, 1, 0, 1, 0, 1, 1, 0, 0, 0, 0, 0, 0, 0, 1, 1, 1,\n",
              "        1, 0, 1, 0, 1, 1, 0, 0, 0, 0]))"
            ]
          },
          "metadata": {},
          "execution_count": 16
        }
      ]
    },
    {
      "cell_type": "code",
      "source": [
        "x, y= moons"
      ],
      "metadata": {
        "id": "qLlNwPX_5No3"
      },
      "execution_count": 17,
      "outputs": []
    },
    {
      "cell_type": "code",
      "source": [
        "x.shape"
      ],
      "metadata": {
        "colab": {
          "base_uri": "https://localhost:8080/"
        },
        "id": "HtpWXuuA5NxF",
        "outputId": "d740ef3d-1811-4929-ece1-4afb63fb1333"
      },
      "execution_count": 18,
      "outputs": [
        {
          "output_type": "execute_result",
          "data": {
            "text/plain": [
              "(1000, 2)"
            ]
          },
          "metadata": {},
          "execution_count": 18
        }
      ]
    },
    {
      "cell_type": "code",
      "source": [
        "y.shape"
      ],
      "metadata": {
        "colab": {
          "base_uri": "https://localhost:8080/"
        },
        "id": "DApOdDoX5N5F",
        "outputId": "d579e5ae-497a-434e-a752-893884edd5c8"
      },
      "execution_count": 19,
      "outputs": [
        {
          "output_type": "execute_result",
          "data": {
            "text/plain": [
              "(1000,)"
            ]
          },
          "metadata": {},
          "execution_count": 19
        }
      ]
    },
    {
      "cell_type": "code",
      "source": [
        "#2 features predicting 1 result"
      ],
      "metadata": {
        "id": "xPWx0iCN5OAm"
      },
      "execution_count": 20,
      "outputs": []
    },
    {
      "cell_type": "code",
      "source": [
        "moon_df= pd.DataFrame({\"x1\":x[:,0], \"x2\":x[:, 1], \"y\":y})\n",
        "moon_df"
      ],
      "metadata": {
        "colab": {
          "base_uri": "https://localhost:8080/",
          "height": 424
        },
        "id": "YKeAIFFN5OID",
        "outputId": "d8f5dae5-6080-4501-f548-78a4c07c875d"
      },
      "execution_count": 21,
      "outputs": [
        {
          "output_type": "execute_result",
          "data": {
            "text/html": [
              "\n",
              "  <div id=\"df-a0239085-28d4-4f50-a652-6f837f939514\">\n",
              "    <div class=\"colab-df-container\">\n",
              "      <div>\n",
              "<style scoped>\n",
              "    .dataframe tbody tr th:only-of-type {\n",
              "        vertical-align: middle;\n",
              "    }\n",
              "\n",
              "    .dataframe tbody tr th {\n",
              "        vertical-align: top;\n",
              "    }\n",
              "\n",
              "    .dataframe thead th {\n",
              "        text-align: right;\n",
              "    }\n",
              "</style>\n",
              "<table border=\"1\" class=\"dataframe\">\n",
              "  <thead>\n",
              "    <tr style=\"text-align: right;\">\n",
              "      <th></th>\n",
              "      <th>x1</th>\n",
              "      <th>x2</th>\n",
              "      <th>y</th>\n",
              "    </tr>\n",
              "  </thead>\n",
              "  <tbody>\n",
              "    <tr>\n",
              "      <th>0</th>\n",
              "      <td>0.677515</td>\n",
              "      <td>0.673341</td>\n",
              "      <td>0</td>\n",
              "    </tr>\n",
              "    <tr>\n",
              "      <th>1</th>\n",
              "      <td>0.787536</td>\n",
              "      <td>0.502048</td>\n",
              "      <td>0</td>\n",
              "    </tr>\n",
              "    <tr>\n",
              "      <th>2</th>\n",
              "      <td>1.344536</td>\n",
              "      <td>-0.501517</td>\n",
              "      <td>1</td>\n",
              "    </tr>\n",
              "    <tr>\n",
              "      <th>3</th>\n",
              "      <td>0.258465</td>\n",
              "      <td>0.856092</td>\n",
              "      <td>0</td>\n",
              "    </tr>\n",
              "    <tr>\n",
              "      <th>4</th>\n",
              "      <td>1.025691</td>\n",
              "      <td>-0.413321</td>\n",
              "      <td>1</td>\n",
              "    </tr>\n",
              "    <tr>\n",
              "      <th>...</th>\n",
              "      <td>...</td>\n",
              "      <td>...</td>\n",
              "      <td>...</td>\n",
              "    </tr>\n",
              "    <tr>\n",
              "      <th>995</th>\n",
              "      <td>1.958788</td>\n",
              "      <td>0.380290</td>\n",
              "      <td>1</td>\n",
              "    </tr>\n",
              "    <tr>\n",
              "      <th>996</th>\n",
              "      <td>-0.785115</td>\n",
              "      <td>0.647297</td>\n",
              "      <td>0</td>\n",
              "    </tr>\n",
              "    <tr>\n",
              "      <th>997</th>\n",
              "      <td>-0.190903</td>\n",
              "      <td>0.820151</td>\n",
              "      <td>0</td>\n",
              "    </tr>\n",
              "    <tr>\n",
              "      <th>998</th>\n",
              "      <td>-0.278976</td>\n",
              "      <td>1.007539</td>\n",
              "      <td>0</td>\n",
              "    </tr>\n",
              "    <tr>\n",
              "      <th>999</th>\n",
              "      <td>-0.808520</td>\n",
              "      <td>0.477351</td>\n",
              "      <td>0</td>\n",
              "    </tr>\n",
              "  </tbody>\n",
              "</table>\n",
              "<p>1000 rows × 3 columns</p>\n",
              "</div>\n",
              "      <button class=\"colab-df-convert\" onclick=\"convertToInteractive('df-a0239085-28d4-4f50-a652-6f837f939514')\"\n",
              "              title=\"Convert this dataframe to an interactive table.\"\n",
              "              style=\"display:none;\">\n",
              "        \n",
              "  <svg xmlns=\"http://www.w3.org/2000/svg\" height=\"24px\"viewBox=\"0 0 24 24\"\n",
              "       width=\"24px\">\n",
              "    <path d=\"M0 0h24v24H0V0z\" fill=\"none\"/>\n",
              "    <path d=\"M18.56 5.44l.94 2.06.94-2.06 2.06-.94-2.06-.94-.94-2.06-.94 2.06-2.06.94zm-11 1L8.5 8.5l.94-2.06 2.06-.94-2.06-.94L8.5 2.5l-.94 2.06-2.06.94zm10 10l.94 2.06.94-2.06 2.06-.94-2.06-.94-.94-2.06-.94 2.06-2.06.94z\"/><path d=\"M17.41 7.96l-1.37-1.37c-.4-.4-.92-.59-1.43-.59-.52 0-1.04.2-1.43.59L10.3 9.45l-7.72 7.72c-.78.78-.78 2.05 0 2.83L4 21.41c.39.39.9.59 1.41.59.51 0 1.02-.2 1.41-.59l7.78-7.78 2.81-2.81c.8-.78.8-2.07 0-2.86zM5.41 20L4 18.59l7.72-7.72 1.47 1.35L5.41 20z\"/>\n",
              "  </svg>\n",
              "      </button>\n",
              "      \n",
              "  <style>\n",
              "    .colab-df-container {\n",
              "      display:flex;\n",
              "      flex-wrap:wrap;\n",
              "      gap: 12px;\n",
              "    }\n",
              "\n",
              "    .colab-df-convert {\n",
              "      background-color: #E8F0FE;\n",
              "      border: none;\n",
              "      border-radius: 50%;\n",
              "      cursor: pointer;\n",
              "      display: none;\n",
              "      fill: #1967D2;\n",
              "      height: 32px;\n",
              "      padding: 0 0 0 0;\n",
              "      width: 32px;\n",
              "    }\n",
              "\n",
              "    .colab-df-convert:hover {\n",
              "      background-color: #E2EBFA;\n",
              "      box-shadow: 0px 1px 2px rgba(60, 64, 67, 0.3), 0px 1px 3px 1px rgba(60, 64, 67, 0.15);\n",
              "      fill: #174EA6;\n",
              "    }\n",
              "\n",
              "    [theme=dark] .colab-df-convert {\n",
              "      background-color: #3B4455;\n",
              "      fill: #D2E3FC;\n",
              "    }\n",
              "\n",
              "    [theme=dark] .colab-df-convert:hover {\n",
              "      background-color: #434B5C;\n",
              "      box-shadow: 0px 1px 3px 1px rgba(0, 0, 0, 0.15);\n",
              "      filter: drop-shadow(0px 1px 2px rgba(0, 0, 0, 0.3));\n",
              "      fill: #FFFFFF;\n",
              "    }\n",
              "  </style>\n",
              "\n",
              "      <script>\n",
              "        const buttonEl =\n",
              "          document.querySelector('#df-a0239085-28d4-4f50-a652-6f837f939514 button.colab-df-convert');\n",
              "        buttonEl.style.display =\n",
              "          google.colab.kernel.accessAllowed ? 'block' : 'none';\n",
              "\n",
              "        async function convertToInteractive(key) {\n",
              "          const element = document.querySelector('#df-a0239085-28d4-4f50-a652-6f837f939514');\n",
              "          const dataTable =\n",
              "            await google.colab.kernel.invokeFunction('convertToInteractive',\n",
              "                                                     [key], {});\n",
              "          if (!dataTable) return;\n",
              "\n",
              "          const docLinkHtml = 'Like what you see? Visit the ' +\n",
              "            '<a target=\"_blank\" href=https://colab.research.google.com/notebooks/data_table.ipynb>data table notebook</a>'\n",
              "            + ' to learn more about interactive tables.';\n",
              "          element.innerHTML = '';\n",
              "          dataTable['output_type'] = 'display_data';\n",
              "          await google.colab.output.renderOutput(dataTable, element);\n",
              "          const docLink = document.createElement('div');\n",
              "          docLink.innerHTML = docLinkHtml;\n",
              "          element.appendChild(docLink);\n",
              "        }\n",
              "      </script>\n",
              "    </div>\n",
              "  </div>\n",
              "  "
            ],
            "text/plain": [
              "           x1        x2  y\n",
              "0    0.677515  0.673341  0\n",
              "1    0.787536  0.502048  0\n",
              "2    1.344536 -0.501517  1\n",
              "3    0.258465  0.856092  0\n",
              "4    1.025691 -0.413321  1\n",
              "..        ...       ... ..\n",
              "995  1.958788  0.380290  1\n",
              "996 -0.785115  0.647297  0\n",
              "997 -0.190903  0.820151  0\n",
              "998 -0.278976  1.007539  0\n",
              "999 -0.808520  0.477351  0\n",
              "\n",
              "[1000 rows x 3 columns]"
            ]
          },
          "metadata": {},
          "execution_count": 21
        }
      ]
    },
    {
      "cell_type": "code",
      "source": [
        "plt.scatter(moon_df.x1, moon_df.x2, c=y, cmap=plt.cm.RdYlBu)"
      ],
      "metadata": {
        "colab": {
          "base_uri": "https://localhost:8080/",
          "height": 283
        },
        "id": "B2LhnVpB5OPd",
        "outputId": "fb8c683f-eabd-43fa-9e86-a7bc03cfd3b2"
      },
      "execution_count": 22,
      "outputs": [
        {
          "output_type": "execute_result",
          "data": {
            "text/plain": [
              "<matplotlib.collections.PathCollection at 0x7f125f671a10>"
            ]
          },
          "metadata": {},
          "execution_count": 22
        },
        {
          "output_type": "display_data",
          "data": {
            "image/png": "[encoded data removed]",
            "text/plain": [
              "<Figure size 432x288 with 1 Axes>"
            ]
          },
          "metadata": {
            "needs_background": "light"
          }
        }
      ]
    },
    {
      "cell_type": "code",
      "source": [
        "#split into training and test sets\n",
        "x_train, y_train = x[:800], y[:800]\n",
        "x_test, y_test=x[800:], y[800:]"
      ],
      "metadata": {
        "id": "RrdXS2FC5OXF"
      },
      "execution_count": 23,
      "outputs": []
    },
    {
      "cell_type": "code",
      "source": [
        "#apply l2 normalization\n",
        "x_train, x_test= tf.keras.utils.normalize(x_train, axis=-1, order=2), tf.keras.utils.normalize(x_test, axis=-1, order=2)\n",
        "x_test[:10]"
      ],
      "metadata": {
        "colab": {
          "base_uri": "https://localhost:8080/"
        },
        "id": "cbcnpwoz5Oeb",
        "outputId": "a0a6b04b-a264-4419-9946-df5b19a4f7be"
      },
      "execution_count": 24,
      "outputs": [
        {
          "output_type": "execute_result",
          "data": {
            "text/plain": [
              "array([[ 0.99981729,  0.01911526],\n",
              "       [ 0.99971977,  0.02367257],\n",
              "       [ 0.9386524 ,  0.34486471],\n",
              "       [ 0.72412869,  0.68966488],\n",
              "       [ 0.96805178,  0.25075038],\n",
              "       [ 0.85834579, -0.51307164],\n",
              "       [ 0.97214116,  0.23439619],\n",
              "       [-0.99715534,  0.07537387],\n",
              "       [ 0.98652925, -0.16358498],\n",
              "       [ 0.60559218,  0.79577516]])"
            ]
          },
          "metadata": {},
          "execution_count": 24
        }
      ]
    },
    {
      "cell_type": "code",
      "source": [
        "moon_model=tf.keras.Sequential([\n",
        "     tf.keras.layers.Dense(2, activation=\"relu\"),\n",
        "     tf.keras.layers.Dense(8, activation=\"relu\"),\n",
        "     tf.keras.layers.Dense(1, activation=\"sigmoid\")\n",
        "])\n",
        "\n",
        "moon_model.compile(\n",
        "    loss= tf.keras.losses.binary_crossentropy,\n",
        "    optimizer= tf.keras.optimizers.Adam(learning_rate=0.03),\n",
        "    metrics=[\"accuracy\"]\n",
        ")\n",
        "\n",
        "moon_model.fit(x_train, y_train, epochs=50)"
      ],
      "metadata": {
        "colab": {
          "base_uri": "https://localhost:8080/"
        },
        "id": "4hwMSiQTBian",
        "outputId": "985f7dd3-8fda-478e-e653-434824f80229"
      },
      "execution_count": 25,
      "outputs": [
        {
          "output_type": "stream",
          "name": "stdout",
          "text": [
            "Epoch 1/50\n",
            "25/25 [==============================] - 1s 3ms/step - loss: 0.5610 - accuracy: 0.6775\n",
            "Epoch 2/50\n",
            "25/25 [==============================] - 0s 2ms/step - loss: 0.3651 - accuracy: 0.8600\n",
            "Epoch 3/50\n",
            "25/25 [==============================] - 0s 4ms/step - loss: 0.3410 - accuracy: 0.8675\n",
            "Epoch 4/50\n",
            "25/25 [==============================] - 0s 3ms/step - loss: 0.3399 - accuracy: 0.8625\n",
            "Epoch 5/50\n",
            "25/25 [==============================] - 0s 2ms/step - loss: 0.3354 - accuracy: 0.8637\n",
            "Epoch 6/50\n",
            "25/25 [==============================] - 0s 2ms/step - loss: 0.3321 - accuracy: 0.8675\n",
            "Epoch 7/50\n",
            "25/25 [==============================] - 0s 3ms/step - loss: 0.3304 - accuracy: 0.8700\n",
            "Epoch 8/50\n",
            "25/25 [==============================] - 0s 2ms/step - loss: 0.3236 - accuracy: 0.8637\n",
            "Epoch 9/50\n",
            "25/25 [==============================] - 0s 2ms/step - loss: 0.3188 - accuracy: 0.8600\n",
            "Epoch 10/50\n",
            "25/25 [==============================] - 0s 2ms/step - loss: 0.3151 - accuracy: 0.8662\n",
            "Epoch 11/50\n",
            "25/25 [==============================] - 0s 2ms/step - loss: 0.3168 - accuracy: 0.8662\n",
            "Epoch 12/50\n",
            "25/25 [==============================] - 0s 2ms/step - loss: 0.3142 - accuracy: 0.8650\n",
            "Epoch 13/50\n",
            "25/25 [==============================] - 0s 3ms/step - loss: 0.3164 - accuracy: 0.8625\n",
            "Epoch 14/50\n",
            "25/25 [==============================] - 0s 3ms/step - loss: 0.3216 - accuracy: 0.8700\n",
            "Epoch 15/50\n",
            "25/25 [==============================] - 0s 3ms/step - loss: 0.3157 - accuracy: 0.8675\n",
            "Epoch 16/50\n",
            "25/25 [==============================] - 0s 3ms/step - loss: 0.3142 - accuracy: 0.8637\n",
            "Epoch 17/50\n",
            "25/25 [==============================] - 0s 2ms/step - loss: 0.3164 - accuracy: 0.8687\n",
            "Epoch 18/50\n",
            "25/25 [==============================] - 0s 3ms/step - loss: 0.3111 - accuracy: 0.8625\n",
            "Epoch 19/50\n",
            "25/25 [==============================] - 0s 3ms/step - loss: 0.3144 - accuracy: 0.8662\n",
            "Epoch 20/50\n",
            "25/25 [==============================] - 0s 3ms/step - loss: 0.3141 - accuracy: 0.8637\n",
            "Epoch 21/50\n",
            "25/25 [==============================] - 0s 4ms/step - loss: 0.3177 - accuracy: 0.8612\n",
            "Epoch 22/50\n",
            "25/25 [==============================] - 0s 3ms/step - loss: 0.3148 - accuracy: 0.8675\n",
            "Epoch 23/50\n",
            "25/25 [==============================] - 0s 3ms/step - loss: 0.3111 - accuracy: 0.8712\n",
            "Epoch 24/50\n",
            "25/25 [==============================] - 0s 3ms/step - loss: 0.3123 - accuracy: 0.8637\n",
            "Epoch 25/50\n",
            "25/25 [==============================] - 0s 3ms/step - loss: 0.3120 - accuracy: 0.8600\n",
            "Epoch 26/50\n",
            "25/25 [==============================] - 0s 3ms/step - loss: 0.3132 - accuracy: 0.8700\n",
            "Epoch 27/50\n",
            "25/25 [==============================] - 0s 3ms/step - loss: 0.3115 - accuracy: 0.8650\n",
            "Epoch 28/50\n",
            "25/25 [==============================] - 0s 3ms/step - loss: 0.3131 - accuracy: 0.8612\n",
            "Epoch 29/50\n",
            "25/25 [==============================] - 0s 4ms/step - loss: 0.3112 - accuracy: 0.8675\n",
            "Epoch 30/50\n",
            "25/25 [==============================] - 0s 2ms/step - loss: 0.3107 - accuracy: 0.8637\n",
            "Epoch 31/50\n",
            "25/25 [==============================] - 0s 3ms/step - loss: 0.3128 - accuracy: 0.8662\n",
            "Epoch 32/50\n",
            "25/25 [==============================] - 0s 2ms/step - loss: 0.3110 - accuracy: 0.8662\n",
            "Epoch 33/50\n",
            "25/25 [==============================] - 0s 2ms/step - loss: 0.3166 - accuracy: 0.8625\n",
            "Epoch 34/50\n",
            "25/25 [==============================] - 0s 2ms/step - loss: 0.3137 - accuracy: 0.8600\n",
            "Epoch 35/50\n",
            "25/25 [==============================] - 0s 2ms/step - loss: 0.3110 - accuracy: 0.8712\n",
            "Epoch 36/50\n",
            "25/25 [==============================] - 0s 3ms/step - loss: 0.3130 - accuracy: 0.8637\n",
            "Epoch 37/50\n",
            "25/25 [==============================] - 0s 3ms/step - loss: 0.3101 - accuracy: 0.8650\n",
            "Epoch 38/50\n",
            "25/25 [==============================] - 0s 2ms/step - loss: 0.3168 - accuracy: 0.8637\n",
            "Epoch 39/50\n",
            "25/25 [==============================] - 0s 3ms/step - loss: 0.3117 - accuracy: 0.8662\n",
            "Epoch 40/50\n",
            "25/25 [==============================] - 0s 3ms/step - loss: 0.3104 - accuracy: 0.8650\n",
            "Epoch 41/50\n",
            "25/25 [==============================] - 0s 3ms/step - loss: 0.3114 - accuracy: 0.8650\n",
            "Epoch 42/50\n",
            "25/25 [==============================] - 0s 3ms/step - loss: 0.3180 - accuracy: 0.8662\n",
            "Epoch 43/50\n",
            "25/25 [==============================] - 0s 3ms/step - loss: 0.3113 - accuracy: 0.8737\n",
            "Epoch 44/50\n",
            "25/25 [==============================] - 0s 2ms/step - loss: 0.3138 - accuracy: 0.8612\n",
            "Epoch 45/50\n",
            "25/25 [==============================] - 0s 2ms/step - loss: 0.3119 - accuracy: 0.8650\n",
            "Epoch 46/50\n",
            "25/25 [==============================] - 0s 3ms/step - loss: 0.3116 - accuracy: 0.8700\n",
            "Epoch 47/50\n",
            "25/25 [==============================] - 0s 3ms/step - loss: 0.3111 - accuracy: 0.8675\n",
            "Epoch 48/50\n",
            "25/25 [==============================] - 0s 2ms/step - loss: 0.3107 - accuracy: 0.8675\n",
            "Epoch 49/50\n",
            "25/25 [==============================] - 0s 2ms/step - loss: 0.3111 - accuracy: 0.8662\n",
            "Epoch 50/50\n",
            "25/25 [==============================] - 0s 3ms/step - loss: 0.3113 - accuracy: 0.8662\n"
          ]
        },
        {
          "output_type": "execute_result",
          "data": {
            "text/plain": [
              "<keras.callbacks.History at 0x7f125f5eb350>"
            ]
          },
          "metadata": {},
          "execution_count": 25
        }
      ]
    },
    {
      "cell_type": "code",
      "source": [
        "moon_model.evaluate(x_test, y_test)"
      ],
      "metadata": {
        "colab": {
          "base_uri": "https://localhost:8080/"
        },
        "id": "KAf7iA2ADR0f",
        "outputId": "e13c64bb-8ae1-4d3e-cb9b-583dea6a448d"
      },
      "execution_count": 26,
      "outputs": [
        {
          "output_type": "stream",
          "name": "stdout",
          "text": [
            "7/7 [==============================] - 0s 3ms/step - loss: 0.2762 - accuracy: 0.8900\n"
          ]
        },
        {
          "output_type": "execute_result",
          "data": {
            "text/plain": [
              "[0.2761942744255066, 0.8899999856948853]"
            ]
          },
          "metadata": {},
          "execution_count": 26
        }
      ]
    },
    {
      "cell_type": "code",
      "source": [
        "#check out the predictions of moon model\n",
        "x_visual, y_visual= moons\n",
        "plot_decision_boundary(moon_model, x_visual, y_visual)"
      ],
      "metadata": {
        "colab": {
          "base_uri": "https://localhost:8080/",
          "height": 283
        },
        "id": "FjB_MihDXwkx",
        "outputId": "ca72f24c-de32-42f4-aa3b-16170db05c54"
      },
      "execution_count": 27,
      "outputs": [
        {
          "output_type": "stream",
          "name": "stdout",
          "text": [
            "doing binary classifcation...\n"
          ]
        },
        {
          "output_type": "display_data",
          "data": {
            "image/png": "[encoded data removed]",
            "text/plain": [
              "<Figure size 432x288 with 1 Axes>"
            ]
          },
          "metadata": {
            "needs_background": "light"
          }
        }
      ]
    },
    {
      "cell_type": "markdown",
      "source": [
        "4. Create a function (or write code) to visualize multiple image predictions for the fashion MNIST at the same time. Plot at least three different images and their prediciton labels at the same time. Hint: see the [classifcation tutorial in the TensorFlow documentation](https://www.tensorflow.org/tutorials/keras/classification) for ideas."
      ],
      "metadata": {
        "id": "Ua2e1FPu7N5y"
      }
    },
    {
      "cell_type": "code",
      "source": [
        "#importing the fashion_mnist dataset\n",
        "fashion_mnist= tf.keras.datasets.fashion_mnist\n",
        "\n",
        "(train_images, train_labels),(test_images,  test_labels) = fashion_mnist.load_data()"
      ],
      "metadata": {
        "colab": {
          "base_uri": "https://localhost:8080/"
        },
        "id": "AJ8IBhxc7QiK",
        "outputId": "c8359452-ee60-4432-ed24-04727252fd49"
      },
      "execution_count": 28,
      "outputs": [
        {
          "output_type": "stream",
          "name": "stdout",
          "text": [
            "Downloading data from https://storage.googleapis.com/tensorflow/tf-keras-datasets/train-labels-idx1-ubyte.gz\n",
            "32768/29515 [=================================] - 0s 0us/step\n",
            "40960/29515 [=========================================] - 0s 0us/step\n",
            "Downloading data from https://storage.googleapis.com/tensorflow/tf-keras-datasets/train-images-idx3-ubyte.gz\n",
            "26427392/26421880 [==============================] - 0s 0us/step\n",
            "26435584/26421880 [==============================] - 0s 0us/step\n",
            "Downloading data from https://storage.googleapis.com/tensorflow/tf-keras-datasets/t10k-labels-idx1-ubyte.gz\n",
            "16384/5148 [===============================================================================================] - 0s 0us/step\n",
            "Downloading data from https://storage.googleapis.com/tensorflow/tf-keras-datasets/t10k-images-idx3-ubyte.gz\n",
            "4423680/4422102 [==============================] - 0s 0us/step\n",
            "4431872/4422102 [==============================] - 0s 0us/step\n"
          ]
        }
      ]
    },
    {
      "cell_type": "markdown",
      "source": [
        "The images are 28x28 NumPy arrays, with pixel values ranging from 0 to 255. The labels are an array of integers, ranging from 0 to 9. These correspond to the class of clothing the image represents:\n",
        "Label \tClass\n",
        "0. \tT-shirt/top\n",
        "1. \tTrouser\n",
        "2. \tPullover\n",
        "3. \tDress\n",
        "4. \tCoat\n",
        "5. \tSandal\n",
        "6. \tShirt\n",
        "7. \tSneaker\n",
        "8. \tBag\n",
        "9. \tAnkle boot\n",
        "\n",
        "Each image is mapped to a single label. Since the class names are not included with the dataset, store them here to use later when plotting the images:"
      ],
      "metadata": {
        "id": "zEATNk0F7uL5"
      }
    },
    {
      "cell_type": "code",
      "source": [
        "class_names= ['T-shit/top','Trouser', 'Pullover', 'Dress', 'Coat',\n",
        "               'Sandal', 'Shirt', 'Sneaker', 'Bag', 'Ankle boot']"
      ],
      "metadata": {
        "id": "9UnoaK5_72M4"
      },
      "execution_count": 29,
      "outputs": []
    },
    {
      "cell_type": "markdown",
      "source": [
        "###Explore the data"
      ],
      "metadata": {
        "id": "hHc45YVG8SrY"
      }
    },
    {
      "cell_type": "code",
      "source": [
        "train_images.shape"
      ],
      "metadata": {
        "colab": {
          "base_uri": "https://localhost:8080/"
        },
        "id": "4dORspm58WJn",
        "outputId": "958d0362-c48b-4d0a-b551-2cde984930b2"
      },
      "execution_count": 30,
      "outputs": [
        {
          "output_type": "execute_result",
          "data": {
            "text/plain": [
              "(60000, 28, 28)"
            ]
          },
          "metadata": {},
          "execution_count": 30
        }
      ]
    },
    {
      "cell_type": "code",
      "source": [
        "len(train_labels)"
      ],
      "metadata": {
        "colab": {
          "base_uri": "https://localhost:8080/"
        },
        "id": "IfKQ71O_8ZOf",
        "outputId": "306cb4a9-f462-40b8-9168-ff3cfa9dc6a3"
      },
      "execution_count": 31,
      "outputs": [
        {
          "output_type": "execute_result",
          "data": {
            "text/plain": [
              "60000"
            ]
          },
          "metadata": {},
          "execution_count": 31
        }
      ]
    },
    {
      "cell_type": "code",
      "source": [
        "train_labels"
      ],
      "metadata": {
        "colab": {
          "base_uri": "https://localhost:8080/"
        },
        "id": "-EVZxyHX8a1v",
        "outputId": "e4b5667b-c947-42df-a094-52a770cada9d"
      },
      "execution_count": 32,
      "outputs": [
        {
          "output_type": "execute_result",
          "data": {
            "text/plain": [
              "array([9, 0, 0, ..., 3, 0, 5], dtype=uint8)"
            ]
          },
          "metadata": {},
          "execution_count": 32
        }
      ]
    },
    {
      "cell_type": "code",
      "source": [
        "test_images.shape"
      ],
      "metadata": {
        "colab": {
          "base_uri": "https://localhost:8080/"
        },
        "id": "CTiKAsxr8pAH",
        "outputId": "2576e807-06ae-4120-c185-47a25f865e69"
      },
      "execution_count": 33,
      "outputs": [
        {
          "output_type": "execute_result",
          "data": {
            "text/plain": [
              "(10000, 28, 28)"
            ]
          },
          "metadata": {},
          "execution_count": 33
        }
      ]
    },
    {
      "cell_type": "code",
      "source": [
        "len(test_labels)"
      ],
      "metadata": {
        "colab": {
          "base_uri": "https://localhost:8080/"
        },
        "id": "1PiEP-9h8s0f",
        "outputId": "917eb9f8-a4eb-4c52-d2e6-4a0684ba9014"
      },
      "execution_count": 34,
      "outputs": [
        {
          "output_type": "execute_result",
          "data": {
            "text/plain": [
              "10000"
            ]
          },
          "metadata": {},
          "execution_count": 34
        }
      ]
    },
    {
      "cell_type": "code",
      "source": [
        "#The data must be preprocessed before training the network. If you inspect the first image in the training set, you will see that the pixel values fall in the range of 0 to 255:"
      ],
      "metadata": {
        "id": "xKA1WoFE8uq2"
      },
      "execution_count": 35,
      "outputs": []
    },
    {
      "cell_type": "code",
      "source": [
        "plt.figure()\n",
        "plt.imshow(train_images[0])\n",
        "plt.colorbar()\n",
        "plt.grid(False)\n",
        "plt.show()"
      ],
      "metadata": {
        "colab": {
          "base_uri": "https://localhost:8080/",
          "height": 265
        },
        "id": "eRRykTGy81Au",
        "outputId": "4adfa7e9-b536-44cf-ac2d-05bb5c2f65b6"
      },
      "execution_count": 36,
      "outputs": [
        {
          "output_type": "display_data",
          "data": {
            "image/png": "[encoded data removed]",
            "text/plain": [
              "<Figure size 432x288 with 2 Axes>"
            ]
          },
          "metadata": {
            "needs_background": "light"
          }
        }
      ]
    },
    {
      "cell_type": "code",
      "source": [
        "#scale the values to a range of between 0-1\n",
        "train_images = train_images / 255.0\n",
        "test_images = test_images / 255.0"
      ],
      "metadata": {
        "id": "tLWELNCm9Ahm"
      },
      "execution_count": 37,
      "outputs": []
    },
    {
      "cell_type": "code",
      "source": [
        "#plot the first 25 images\n",
        "plt.figure(figsize=(10,10))\n",
        "for i in range(25):\n",
        "  plt.subplot(5,5,i+1)\n",
        "  plt.xticks([])\n",
        "  plt.yticks([])\n",
        "  plt.grid(False)\n",
        "  plt.imshow(train_images[i], cmap=plt.cm.binary)\n",
        "  plt.xlabel(class_names[train_labels[i]])\n",
        "plt.show()"
      ],
      "metadata": {
        "colab": {
          "base_uri": "https://localhost:8080/",
          "height": 589
        },
        "id": "-4OP_R2b9QA1",
        "outputId": "c40bacd6-ad92-402f-b759-d51ab3a7f35d"
      },
      "execution_count": 38,
      "outputs": [
        {
          "output_type": "display_data",
          "data": {
            "image/png": "[encoded data removed]",
            "text/plain": [
              "<Figure size 720x720 with 25 Axes>"
            ]
          },
          "metadata": {}
        }
      ]
    },
    {
      "cell_type": "code",
      "source": [
        ""
      ],
      "metadata": {
        "id": "UtXY5SS8-dQM"
      },
      "execution_count": 38,
      "outputs": []
    },
    {
      "cell_type": "code",
      "source": [
        "# randomly plot 5 images\n",
        "rand_5=np.random.choice(range(60000), 5, replace=False)\n",
        "plt.figure(figsize=(20,20))\n",
        "\n",
        "for i in range(5):\n",
        "  plt.subplot(1,5,i+1)\n",
        "  plt.xticks([])\n",
        "  plt.yticks([])\n",
        "  plt.imshow(train_images[rand_5[i]])\n",
        "  plt.xlabel(class_names[train_labels[rand_5[i]]])\n",
        "  plt.title(\"Index \"+str(rand_5[i]))\n",
        "\n",
        "plt.show()"
      ],
      "metadata": {
        "colab": {
          "base_uri": "https://localhost:8080/",
          "height": 196
        },
        "id": "AZSwc82O_aV4",
        "outputId": "6e870fbc-6fdd-4c4a-9183-fe3a69662a9b"
      },
      "execution_count": 39,
      "outputs": [
        {
          "output_type": "display_data",
          "data": {
            "image/png": "[encoded data removed]",
            "text/plain": [
              "<Figure size 1440x1440 with 5 Axes>"
            ]
          },
          "metadata": {}
        }
      ]
    },
    {
      "cell_type": "markdown",
      "source": [
        "5. Recreate [TensorFlow's](https://www.tensorflow.org/api_docs/python/tf/keras/activations/softmax) [softmax activation function](https://en.wikipedia.org/wiki/Softmax_function) in your own code. Make sure it can accept a tensor and return that tensor after having the softmax function applied to it."
      ],
      "metadata": {
        "id": "aUw9OKI0ETA0"
      }
    },
    {
      "cell_type": "code",
      "source": [
        "#\"In simple words, it applies the standard exponential function to each element z i {\\displaystyle z_{i}} z_{i} of the input vector z {\\displaystyle \\mathbf {z} } {\\displaystyle \\mathbf {z} } \n",
        "#and normalizes these values by dividing by the sum of all these exponentials; \n",
        "#this normalization ensures that the sum of the components of the output vector\n",
        "# σ ( z ) {\\displaystyle \\sigma (\\mathbf {z} )} {\\displaystyle \\sigma (\\mathbf {z} )} is 1.\""
      ],
      "metadata": {
        "id": "6RmtnivEEWu9"
      },
      "execution_count": 40,
      "outputs": []
    },
    {
      "cell_type": "code",
      "source": [
        "def softmax(t):\n",
        "  return tf.exp(t)/tf.math.reduce_sum(tf.exp(t), axis=-1)"
      ],
      "metadata": {
        "id": "vibrDDajFz3I"
      },
      "execution_count": 41,
      "outputs": []
    },
    {
      "cell_type": "code",
      "source": [
        "rand_t=np.arange(10, dtype=np.float32)\n",
        "rand_t=tf.Variable(rand_t)\n",
        "rand_t"
      ],
      "metadata": {
        "colab": {
          "base_uri": "https://localhost:8080/"
        },
        "id": "Ng2aX9M6GWsO",
        "outputId": "97ead385-8304-41fe-f593-fa35d65320d4"
      },
      "execution_count": 42,
      "outputs": [
        {
          "output_type": "execute_result",
          "data": {
            "text/plain": [
              "<tf.Variable 'Variable:0' shape=(10,) dtype=float32, numpy=array([0., 1., 2., 3., 4., 5., 6., 7., 8., 9.], dtype=float32)>"
            ]
          },
          "metadata": {},
          "execution_count": 42
        }
      ]
    },
    {
      "cell_type": "code",
      "source": [
        "softmax(rand_t)"
      ],
      "metadata": {
        "colab": {
          "base_uri": "https://localhost:8080/"
        },
        "id": "Ay1zO4SgIQR7",
        "outputId": "042f4ac6-ab7d-48ce-d190-7dac6197f2b8"
      },
      "execution_count": 43,
      "outputs": [
        {
          "output_type": "execute_result",
          "data": {
            "text/plain": [
              "<tf.Tensor: shape=(10,), dtype=float32, numpy=\n",
              "array([7.8013414e-05, 2.1206244e-04, 5.7644548e-04, 1.5669413e-03,\n",
              "       4.2593880e-03, 1.1578217e-02, 3.1472854e-02, 8.5552096e-02,\n",
              "       2.3255470e-01, 6.3214922e-01], dtype=float32)>"
            ]
          },
          "metadata": {},
          "execution_count": 43
        }
      ]
    },
    {
      "cell_type": "code",
      "source": [
        "plt.plot(softmax(rand_t))"
      ],
      "metadata": {
        "colab": {
          "base_uri": "https://localhost:8080/",
          "height": 283
        },
        "id": "PMxL7ZYkIlL6",
        "outputId": "1e4f5916-c3d4-483d-8202-7ef93bcd4b78"
      },
      "execution_count": 44,
      "outputs": [
        {
          "output_type": "execute_result",
          "data": {
            "text/plain": [
              "[<matplotlib.lines.Line2D at 0x7f1259730190>]"
            ]
          },
          "metadata": {},
          "execution_count": 44
        },
        {
          "output_type": "display_data",
          "data": {
            "image/png": "[encoded data removed]",
            "text/plain": [
              "<Figure size 432x288 with 1 Axes>"
            ]
          },
          "metadata": {
            "needs_background": "light"
          }
        }
      ]
    },
    {
      "cell_type": "markdown",
      "source": [
        "6. Train a model to get 88%+ accuracy on the fashion MNIST test set. Plot a confusion matrix to see the results after.\n",
        "7. Make a function to show an image of a certain class of the fashion MNIST dataset and make a prediction on it. For example, plot 3 images of the `T-shirt` class with their predictions."
      ],
      "metadata": {
        "id": "Qkl78fDHLaLr"
      }
    },
    {
      "cell_type": "code",
      "source": [
        "#import the fashion_mnist dataset\n",
        "from tensorflow.keras.datasets import fashion_mnist"
      ],
      "metadata": {
        "id": "fS4OEnCLLdSq"
      },
      "execution_count": 88,
      "outputs": []
    },
    {
      "cell_type": "code",
      "source": [
        "(train_images, train_labels),(test_images, test_labels)= fashion_mnist.load_data()"
      ],
      "metadata": {
        "id": "U00IXiQVmQKg"
      },
      "execution_count": 89,
      "outputs": []
    },
    {
      "cell_type": "code",
      "source": [
        "train_images.shape, train_labels.shape"
      ],
      "metadata": {
        "colab": {
          "base_uri": "https://localhost:8080/"
        },
        "id": "Gc69ZQJDmyq_",
        "outputId": "d89327f0-781e-4ba2-84a7-54d9501a9f94"
      },
      "execution_count": 66,
      "outputs": [
        {
          "output_type": "execute_result",
          "data": {
            "text/plain": [
              "((60000, 28, 28), (60000,))"
            ]
          },
          "metadata": {},
          "execution_count": 66
        }
      ]
    },
    {
      "cell_type": "code",
      "source": [
        "test_images.shape, test_labels.shape"
      ],
      "metadata": {
        "colab": {
          "base_uri": "https://localhost:8080/"
        },
        "id": "goW6ksG9m1wG",
        "outputId": "d92bb87d-3321-42b3-c60e-f07f967b3cf7"
      },
      "execution_count": 67,
      "outputs": [
        {
          "output_type": "execute_result",
          "data": {
            "text/plain": [
              "((10000, 28, 28), (10000,))"
            ]
          },
          "metadata": {},
          "execution_count": 67
        }
      ]
    },
    {
      "cell_type": "code",
      "source": [
        "len(class_names)"
      ],
      "metadata": {
        "colab": {
          "base_uri": "https://localhost:8080/"
        },
        "id": "C_twHKmqqeRI",
        "outputId": "f89efbd9-3727-417a-ba5d-beab43192907"
      },
      "execution_count": 68,
      "outputs": [
        {
          "output_type": "execute_result",
          "data": {
            "text/plain": [
              "10"
            ]
          },
          "metadata": {},
          "execution_count": 68
        }
      ]
    },
    {
      "cell_type": "code",
      "source": [
        "#normalize the training and test set\n",
        "train_images= train_images/255\n",
        "test_images=test_images/255\n",
        "\n",
        "train_images.min(), train_images.max()"
      ],
      "metadata": {
        "colab": {
          "base_uri": "https://localhost:8080/"
        },
        "id": "Xi-34JMHrKTr",
        "outputId": "dca8a082-fd36-4f49-f0ee-496232a5c23f"
      },
      "execution_count": 90,
      "outputs": [
        {
          "output_type": "execute_result",
          "data": {
            "text/plain": [
              "(0.0, 1.0)"
            ]
          },
          "metadata": {},
          "execution_count": 90
        }
      ]
    },
    {
      "cell_type": "code",
      "source": [
        "#construct model\n",
        "fashion_non_normal=tf.keras.Sequential([\n",
        "                tf.keras.layers.Flatten(input_shape=(28,28)),\n",
        "                tf.keras.layers.Dense(8, activation=\"relu\"),\n",
        "                tf.keras.layers.Dense(10, activation=\"softmax\")\n",
        "])\n",
        "\n",
        "#compile the model\n",
        "fashion_non_normal.compile(\n",
        "    loss=tf.keras.losses.sparse_categorical_crossentropy,\n",
        "    optimizer=tf.keras.optimizers.Adam(learning_rate=0.02),\n",
        "    metrics=[\"accuracy\"]\n",
        ")\n",
        "\n",
        "#creating a learning rate scheduler callback\n",
        "#lr_scheduler = tf.keras.callbacks.LearningRateScheduler(lambda epoch: 1e-4 * 10**(epoch/20))# traverse a set of learning rates strating from 1e-4, increasing by 10**(epoch/20) every epoch\n",
        "\n",
        "#fit the model for 100 epochs\n",
        "fashion_non_normal.fit(train_images, train_labels, epochs=20, validation_data=(test_images, test_labels))"
      ],
      "metadata": {
        "colab": {
          "base_uri": "https://localhost:8080/"
        },
        "id": "ID_wLJESnD79",
        "outputId": "3371bae2-6cce-40d7-87ab-ac15fc5cc4ab"
      },
      "execution_count": 91,
      "outputs": [
        {
          "output_type": "stream",
          "name": "stdout",
          "text": [
            "Epoch 1/20\n",
            "1875/1875 [==============================] - 5s 2ms/step - loss: 1.1631 - accuracy: 0.5008 - val_loss: 1.0136 - val_accuracy: 0.5966\n",
            "Epoch 2/20\n",
            "1875/1875 [==============================] - 3s 2ms/step - loss: 0.9425 - accuracy: 0.6277 - val_loss: 0.8937 - val_accuracy: 0.6539\n",
            "Epoch 3/20\n",
            "1875/1875 [==============================] - 3s 2ms/step - loss: 0.8509 - accuracy: 0.6735 - val_loss: 0.8533 - val_accuracy: 0.6742\n",
            "Epoch 4/20\n",
            "1875/1875 [==============================] - 4s 2ms/step - loss: 0.8313 - accuracy: 0.6857 - val_loss: 0.8531 - val_accuracy: 0.6788\n",
            "Epoch 5/20\n",
            "1875/1875 [==============================] - 3s 2ms/step - loss: 0.8219 - accuracy: 0.6886 - val_loss: 0.8449 - val_accuracy: 0.6996\n",
            "Epoch 6/20\n",
            "1875/1875 [==============================] - 3s 2ms/step - loss: 0.8087 - accuracy: 0.6940 - val_loss: 0.8552 - val_accuracy: 0.6790\n",
            "Epoch 7/20\n",
            "1875/1875 [==============================] - 4s 2ms/step - loss: 0.8120 - accuracy: 0.6928 - val_loss: 0.8459 - val_accuracy: 0.6731\n",
            "Epoch 8/20\n",
            "1875/1875 [==============================] - 3s 2ms/step - loss: 0.8111 - accuracy: 0.6933 - val_loss: 0.8201 - val_accuracy: 0.6998\n",
            "Epoch 9/20\n",
            "1875/1875 [==============================] - 3s 2ms/step - loss: 0.8004 - accuracy: 0.6999 - val_loss: 0.8200 - val_accuracy: 0.7000\n",
            "Epoch 10/20\n",
            "1875/1875 [==============================] - 3s 2ms/step - loss: 0.8029 - accuracy: 0.6970 - val_loss: 0.8843 - val_accuracy: 0.6961\n",
            "Epoch 11/20\n",
            "1875/1875 [==============================] - 3s 2ms/step - loss: 0.8025 - accuracy: 0.6988 - val_loss: 0.8585 - val_accuracy: 0.6720\n",
            "Epoch 12/20\n",
            "1875/1875 [==============================] - 3s 2ms/step - loss: 0.7965 - accuracy: 0.6990 - val_loss: 0.8273 - val_accuracy: 0.6862\n",
            "Epoch 13/20\n",
            "1875/1875 [==============================] - 3s 2ms/step - loss: 0.7927 - accuracy: 0.7013 - val_loss: 0.8876 - val_accuracy: 0.6658\n",
            "Epoch 14/20\n",
            "1875/1875 [==============================] - 3s 2ms/step - loss: 0.7964 - accuracy: 0.7012 - val_loss: 0.8796 - val_accuracy: 0.6843\n",
            "Epoch 15/20\n",
            "1875/1875 [==============================] - 3s 2ms/step - loss: 0.8031 - accuracy: 0.6992 - val_loss: 0.8489 - val_accuracy: 0.6834\n",
            "Epoch 16/20\n",
            "1875/1875 [==============================] - 4s 2ms/step - loss: 0.7976 - accuracy: 0.6991 - val_loss: 0.8721 - val_accuracy: 0.6852\n",
            "Epoch 17/20\n",
            "1875/1875 [==============================] - 3s 2ms/step - loss: 0.7951 - accuracy: 0.7006 - val_loss: 0.8202 - val_accuracy: 0.7150\n",
            "Epoch 18/20\n",
            "1875/1875 [==============================] - 3s 2ms/step - loss: 0.7943 - accuracy: 0.7034 - val_loss: 0.8019 - val_accuracy: 0.7022\n",
            "Epoch 19/20\n",
            "1875/1875 [==============================] - 3s 2ms/step - loss: 0.7904 - accuracy: 0.7038 - val_loss: 0.7851 - val_accuracy: 0.7278\n",
            "Epoch 20/20\n",
            "1875/1875 [==============================] - 4s 2ms/step - loss: 0.7991 - accuracy: 0.6991 - val_loss: 0.9069 - val_accuracy: 0.6580\n"
          ]
        },
        {
          "output_type": "execute_result",
          "data": {
            "text/plain": [
              "<keras.callbacks.History at 0x7f12506c0910>"
            ]
          },
          "metadata": {},
          "execution_count": 91
        }
      ]
    }
  ]
}