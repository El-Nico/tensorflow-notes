{
  "nbformat": 4,
  "nbformat_minor": 0,
  "metadata": {
    "colab": {
      "name": "tensor_flow_fundamentals_excercises.ipynb",
      "provenance": [],
      "authorship_tag": "ABX9TyNd7KBqHLuiwFh1Xjl+a7Oa",
      "include_colab_link": true
    },
    "kernelspec": {
      "name": "python3",
      "display_name": "Python 3"
    },
    "language_info": {
      "name": "python"
    }
  },
  "cells": [
    {
      "cell_type": "markdown",
      "metadata": {
        "id": "view-in-github",
        "colab_type": "text"
      },
      "source": [
        "<a href=\"https://colab.research.google.com/github/El-Nico/tensorflow-notes/blob/main/tensor_flow_fundamentals_excercises.ipynb\" target=\"_parent\"><img src=\"https://colab.research.google.com/assets/colab-badge.svg\" alt=\"Open In Colab\"/></a>"
      ]
    },
    {
      "cell_type": "markdown",
      "source": [
        "Exercises\n",
        "\n",
        "    Create a vector, scalar, matrix and tensor with values of your choosing using tf.constant().\n",
        "    Find the shape, rank and size of the tensors you created in 1.\n",
        "    Create two tensors containing random values between 0 and 1 with shape [5, 300].\n",
        "    Multiply the two tensors you created in 3 using matrix multiplication.\n",
        "    Multiply the two tensors you created in 3 using dot product.\n",
        "    Create a tensor with random values between 0 and 1 with shape [224, 224, 3].\n",
        "    Find the min and max values of the tensor you created in 6.\n",
        "    Created a tensor with random values of shape [1, 224, 224, 3] then squeeze it to change the shape to [224, 224, 3].\n",
        "    Create a tensor with shape [10] using your own choice of values, then find the index which has the maximum value.\n",
        "    One-hot encode the tensor you created in 9.\n"
      ],
      "metadata": {
        "id": "1g2v0PcXmxgp"
      }
    },
    {
      "cell_type": "markdown",
      "source": [
        "Create a vector, scalar, matrix and tensor with values of your choosing using tf.constant()"
      ],
      "metadata": {
        "id": "WoZDXSNrqu2R"
      }
    },
    {
      "cell_type": "code",
      "source": [
        "import tensorflow as tf"
      ],
      "metadata": {
        "id": "CGyEkvS6nuDe"
      },
      "execution_count": 23,
      "outputs": []
    },
    {
      "cell_type": "code",
      "source": [
        "# scalar: a single number\n",
        "scalar=tf.constant(1)\n",
        "scalar"
      ],
      "metadata": {
        "colab": {
          "base_uri": "https://localhost:8080/"
        },
        "id": "J79V6qhWm9y-",
        "outputId": "7b2557c1-d7fd-4324-e651-9d0f962a7e48"
      },
      "execution_count": 24,
      "outputs": [
        {
          "output_type": "execute_result",
          "data": {
            "text/plain": [
              "<tf.Tensor: shape=(), dtype=int32, numpy=1>"
            ]
          },
          "metadata": {},
          "execution_count": 24
        }
      ]
    },
    {
      "cell_type": "code",
      "source": [
        "# vector: a number with direction (e.g wind speed with direction)\n",
        "vector = tf.constant([1, -1])\n",
        "vector"
      ],
      "metadata": {
        "colab": {
          "base_uri": "https://localhost:8080/"
        },
        "id": "CUSdmH5-n5Ut",
        "outputId": "13b20a49-762a-406d-9073-7e347fc056e5"
      },
      "execution_count": 25,
      "outputs": [
        {
          "output_type": "execute_result",
          "data": {
            "text/plain": [
              "<tf.Tensor: shape=(2,), dtype=int32, numpy=array([ 1, -1], dtype=int32)>"
            ]
          },
          "metadata": {},
          "execution_count": 25
        }
      ]
    },
    {
      "cell_type": "code",
      "source": [
        "# matrix: a 2-dimenstional array of numbers\n",
        "matrix = tf.constant([[1,-1],[2,-2]])\n",
        "matrix"
      ],
      "metadata": {
        "colab": {
          "base_uri": "https://localhost:8080/"
        },
        "id": "CritobVkpJRr",
        "outputId": "c776b9ff-45bd-42b4-9db4-5cae9d966a66"
      },
      "execution_count": 26,
      "outputs": [
        {
          "output_type": "execute_result",
          "data": {
            "text/plain": [
              "<tf.Tensor: shape=(2, 2), dtype=int32, numpy=\n",
              "array([[ 1, -1],\n",
              "       [ 2, -2]], dtype=int32)>"
            ]
          },
          "metadata": {},
          "execution_count": 26
        }
      ]
    },
    {
      "cell_type": "code",
      "source": [
        "# tensor: an n-dimesnional array of numbers\n",
        "tensor = tf.constant([[[1,-1],[2,-2]]])\n",
        "type(tensor)"
      ],
      "metadata": {
        "colab": {
          "base_uri": "https://localhost:8080/"
        },
        "id": "K04kthgApgFK",
        "outputId": "170a09e1-44b5-43dd-a7dc-b85f58481a8d"
      },
      "execution_count": 27,
      "outputs": [
        {
          "output_type": "execute_result",
          "data": {
            "text/plain": [
              "tensorflow.python.framework.ops.EagerTensor"
            ]
          },
          "metadata": {},
          "execution_count": 27
        }
      ]
    },
    {
      "cell_type": "markdown",
      "source": [
        "    Find the shape, rank and size of the tensors you created in 1."
      ],
      "metadata": {
        "id": "GVzh762Zq1vg"
      }
    },
    {
      "cell_type": "code",
      "source": [
        "def shapeRankSize(tensor):\n",
        "  dict={\n",
        "      \"shape\":tensor.shape,\n",
        "      \"rank\":tensor.ndim,\n",
        "      \"size\":tf.size(tensor)\n",
        "  }\n",
        "  return dict"
      ],
      "metadata": {
        "id": "qhwlqRn4rMXO"
      },
      "execution_count": 28,
      "outputs": []
    },
    {
      "cell_type": "code",
      "source": [
        "shapeRankSize(scalar)"
      ],
      "metadata": {
        "colab": {
          "base_uri": "https://localhost:8080/"
        },
        "id": "wqi_rO-6sA-t",
        "outputId": "ebee7d8c-3466-4c9a-dfa7-a7dd9a6f8080"
      },
      "execution_count": 29,
      "outputs": [
        {
          "output_type": "execute_result",
          "data": {
            "text/plain": [
              "{'rank': 0,\n",
              " 'shape': TensorShape([]),\n",
              " 'size': <tf.Tensor: shape=(), dtype=int32, numpy=1>}"
            ]
          },
          "metadata": {},
          "execution_count": 29
        }
      ]
    },
    {
      "cell_type": "code",
      "source": [
        "shapeRankSize(vector)"
      ],
      "metadata": {
        "colab": {
          "base_uri": "https://localhost:8080/"
        },
        "id": "F-RUvcXAt4YS",
        "outputId": "0e0c2407-f503-4f9e-ede7-4496318c03de"
      },
      "execution_count": 30,
      "outputs": [
        {
          "output_type": "execute_result",
          "data": {
            "text/plain": [
              "{'rank': 1,\n",
              " 'shape': TensorShape([2]),\n",
              " 'size': <tf.Tensor: shape=(), dtype=int32, numpy=2>}"
            ]
          },
          "metadata": {},
          "execution_count": 30
        }
      ]
    },
    {
      "cell_type": "code",
      "source": [
        "shapeRankSize(matrix)"
      ],
      "metadata": {
        "colab": {
          "base_uri": "https://localhost:8080/"
        },
        "id": "tPHwWie4t-0h",
        "outputId": "2397d7f4-fe13-4cdd-cf25-221edd6cc8f5"
      },
      "execution_count": 31,
      "outputs": [
        {
          "output_type": "execute_result",
          "data": {
            "text/plain": [
              "{'rank': 2,\n",
              " 'shape': TensorShape([2, 2]),\n",
              " 'size': <tf.Tensor: shape=(), dtype=int32, numpy=4>}"
            ]
          },
          "metadata": {},
          "execution_count": 31
        }
      ]
    },
    {
      "cell_type": "code",
      "source": [
        "shapeRankSize(tensor)"
      ],
      "metadata": {
        "colab": {
          "base_uri": "https://localhost:8080/"
        },
        "id": "861r354YvImo",
        "outputId": "dc426d67-087d-4077-e444-d2f8157afcc5"
      },
      "execution_count": 32,
      "outputs": [
        {
          "output_type": "execute_result",
          "data": {
            "text/plain": [
              "{'rank': 3,\n",
              " 'shape': TensorShape([1, 2, 2]),\n",
              " 'size': <tf.Tensor: shape=(), dtype=int32, numpy=4>}"
            ]
          },
          "metadata": {},
          "execution_count": 32
        }
      ]
    },
    {
      "cell_type": "markdown",
      "source": [
        "Create two tensors containing random values between 0 and 1 with shape [5, 300]"
      ],
      "metadata": {
        "id": "iOT0E_0ZvRCe"
      }
    },
    {
      "cell_type": "code",
      "source": [
        "tensor_a=tf.random.Generator.from_non_deterministic_state()\n",
        "tensor_a=tensor_a.normal(shape=(5,300))\n",
        "tensor_a"
      ],
      "metadata": {
        "colab": {
          "base_uri": "https://localhost:8080/"
        },
        "id": "IOi0DPSiwDvN",
        "outputId": "3f2c1642-d113-4186-8b5d-60260c3b7b76"
      },
      "execution_count": 37,
      "outputs": [
        {
          "output_type": "execute_result",
          "data": {
            "text/plain": [
              "<tf.Tensor: shape=(5, 300), dtype=float32, numpy=\n",
              "array([[ 0.268175  , -1.3858562 , -1.4589622 , ...,  0.31372383,\n",
              "         0.24789768,  1.0707144 ],\n",
              "       [-0.37637767,  2.2559125 ,  1.0110713 , ..., -1.4557099 ,\n",
              "         1.4666694 , -0.5513001 ],\n",
              "       [-0.550927  ,  1.191241  ,  0.15870339, ...,  0.00495694,\n",
              "         0.79631686, -0.23236117],\n",
              "       [-0.4862674 , -1.3735552 ,  0.07065798, ...,  0.8274821 ,\n",
              "        -0.39212382,  0.92246735],\n",
              "       [ 1.652738  , -0.05592356, -1.6939905 , ..., -0.9000042 ,\n",
              "         1.0239352 , -1.3474562 ]], dtype=float32)>"
            ]
          },
          "metadata": {},
          "execution_count": 37
        }
      ]
    },
    {
      "cell_type": "code",
      "source": [
        "tensor_b=tf.random.Generator.from_non_deterministic_state()\n",
        "tensor_b=tensor_b.normal(shape=(5,300))\n",
        "tensor_b"
      ],
      "metadata": {
        "colab": {
          "base_uri": "https://localhost:8080/"
        },
        "id": "_KfG4uDAxCGU",
        "outputId": "2fc867b4-0bac-46c3-a0b2-bde3ab8b68a1"
      },
      "execution_count": 38,
      "outputs": [
        {
          "output_type": "execute_result",
          "data": {
            "text/plain": [
              "<tf.Tensor: shape=(5, 300), dtype=float32, numpy=\n",
              "array([[ 0.5282492 ,  0.5624945 ,  0.7625461 , ...,  1.0876051 ,\n",
              "        -0.09800553, -1.8361394 ],\n",
              "       [-1.6982691 , -1.3597176 ,  1.1529174 , ...,  0.6036257 ,\n",
              "        -1.0372176 , -0.08630739],\n",
              "       [ 0.45138454,  1.5454129 ,  0.92797554, ..., -0.3166346 ,\n",
              "         1.3658845 , -0.5803283 ],\n",
              "       [ 0.4160652 , -2.081101  , -0.72141296, ...,  0.82562363,\n",
              "        -1.5295949 , -0.26127797],\n",
              "       [-0.8730775 ,  1.8739595 ,  0.11632651, ...,  0.2593781 ,\n",
              "        -0.8669354 , -1.0283298 ]], dtype=float32)>"
            ]
          },
          "metadata": {},
          "execution_count": 38
        }
      ]
    },
    {
      "cell_type": "markdown",
      "source": [
        "    Multiply the two tensors you created in 3 using matrix multiplication.\n",
        "    Multiply the two tensors you created in 3 using dot product.\n"
      ],
      "metadata": {
        "id": "J-37t89Q1AIs"
      }
    },
    {
      "cell_type": "code",
      "source": [
        "tf.matmul(tf.reshape(tensor_a, shape=(300, 5)), tensor_b)"
      ],
      "metadata": {
        "colab": {
          "base_uri": "https://localhost:8080/"
        },
        "id": "7WDbVlQw47-E",
        "outputId": "37ff55e8-435f-43bf-98f1-14c42bed6401"
      },
      "execution_count": 40,
      "outputs": [
        {
          "output_type": "execute_result",
          "data": {
            "text/plain": [
              "<tf.Tensor: shape=(300, 300), dtype=float32, numpy=\n",
              "array([[ 1.3448797 ,  1.8673705 , -2.1035452 , ..., -0.76077694,\n",
              "         0.61641556,  0.5468237 ],\n",
              "       [-1.0730104 , -1.0424997 , -0.55313367, ...,  1.8835164 ,\n",
              "        -3.0970852 , -1.5124043 ],\n",
              "       [ 0.40168148,  7.033834  ,  1.9412943 , ..., -1.1149955 ,\n",
              "         3.5443892 , -1.8953485 ],\n",
              "       ...,\n",
              "       [-2.4670494 ,  1.9887166 ,  0.7800135 , ...,  1.2224942 ,\n",
              "        -2.4285088 , -2.050316  ],\n",
              "       [-0.5948869 , -2.0394688 ,  1.2061028 , ...,  0.3893663 ,\n",
              "        -0.01813916,  0.22261982],\n",
              "       [-1.0205396 , -7.93234   , -1.1145314 , ...,  0.55769634,\n",
              "        -2.647763  ,  3.0046613 ]], dtype=float32)>"
            ]
          },
          "metadata": {},
          "execution_count": 40
        }
      ]
    },
    {
      "cell_type": "code",
      "source": [
        "#dot product\n",
        "tf.tensordot(tf.transpose(tensor_a), tensor_b, axes=1)"
      ],
      "metadata": {
        "colab": {
          "base_uri": "https://localhost:8080/"
        },
        "id": "FphZkgli5KSN",
        "outputId": "3c143a55-feca-46e2-f5c1-fdac6cb3b085"
      },
      "execution_count": 44,
      "outputs": [
        {
          "output_type": "execute_result",
          "data": {
            "text/plain": [
              "<tf.Tensor: shape=(300, 300), dtype=float32, numpy=\n",
              "array([[-1.1131134 ,  3.9203403 , -0.19762649, ...,  0.26613   ,\n",
              "        -1.0774246 , -1.7127129 ],\n",
              "       [-4.5481787 ,  0.7477273 ,  3.633939  , ..., -1.6712706 ,\n",
              "         1.572512  ,  2.0749998 ],\n",
              "       [-0.9077471 , -5.2716837 , -0.04760094, ..., -1.4077642 ,\n",
              "         0.6715581 ,  4.2230144 ],\n",
              "       ...,\n",
              "       [ 3.770209  , -1.2451624 , -2.136135  , ..., -0.08931844,\n",
              "         1.000445  ,  0.2560195 ],\n",
              "       [-3.0575266 ,  2.1106856 ,  3.0209386 , ...,  0.8446324 ,\n",
              "        -0.7457689 , -1.9943743 ],\n",
              "       [ 2.957216  , -3.4520366 , -0.8569847 , ...,  1.3174193 ,\n",
              "        -0.09334016, -0.6389448 ]], dtype=float32)>"
            ]
          },
          "metadata": {},
          "execution_count": 44
        }
      ]
    },
    {
      "cell_type": "markdown",
      "source": [
        "Create a tensor with random values between 0 and 1 with shape [224, 224, 3].\n"
      ],
      "metadata": {
        "id": "E7h2PX0c7xXp"
      }
    },
    {
      "cell_type": "code",
      "source": [
        "rand_tensor=tf.random.uniform(shape=(224,224,3), minval=0, maxval=1)\n",
        "rand_tensor"
      ],
      "metadata": {
        "colab": {
          "base_uri": "https://localhost:8080/"
        },
        "id": "QfL5kku48kXn",
        "outputId": "24f03058-b18e-47fb-f0b5-04c0be21cffc"
      },
      "execution_count": 49,
      "outputs": [
        {
          "output_type": "execute_result",
          "data": {
            "text/plain": [
              "<tf.Tensor: shape=(224, 224, 3), dtype=float32, numpy=\n",
              "array([[[0.31765485, 0.592263  , 0.8793553 ],\n",
              "        [0.76483226, 0.5455266 , 0.874552  ],\n",
              "        [0.9883357 , 0.00122428, 0.10346496],\n",
              "        ...,\n",
              "        [0.54881084, 0.6926576 , 0.985698  ],\n",
              "        [0.92919827, 0.16094506, 0.91804504],\n",
              "        [0.44222915, 0.3657663 , 0.91509616]],\n",
              "\n",
              "       [[0.526034  , 0.16607761, 0.02441108],\n",
              "        [0.17276776, 0.82773244, 0.5285127 ],\n",
              "        [0.3955227 , 0.6719173 , 0.89599156],\n",
              "        ...,\n",
              "        [0.38076782, 0.4107288 , 0.8994967 ],\n",
              "        [0.57339215, 0.10584283, 0.66929233],\n",
              "        [0.15140653, 0.46167958, 0.61496496]],\n",
              "\n",
              "       [[0.8281493 , 0.6082463 , 0.41602647],\n",
              "        [0.5742111 , 0.12155592, 0.18246377],\n",
              "        [0.76691234, 0.91494405, 0.8686224 ],\n",
              "        ...,\n",
              "        [0.46839213, 0.6744658 , 0.03136826],\n",
              "        [0.644137  , 0.88594127, 0.34500968],\n",
              "        [0.80271757, 0.0691371 , 0.03424907]],\n",
              "\n",
              "       ...,\n",
              "\n",
              "       [[0.10885823, 0.43914568, 0.76810384],\n",
              "        [0.78762364, 0.02977061, 0.66638815],\n",
              "        [0.0658952 , 0.90437174, 0.13454187],\n",
              "        ...,\n",
              "        [0.8244649 , 0.32299995, 0.39110184],\n",
              "        [0.7624366 , 0.7992672 , 0.25616133],\n",
              "        [0.68884873, 0.38370848, 0.82535064]],\n",
              "\n",
              "       [[0.8577814 , 0.54897857, 0.00519729],\n",
              "        [0.98864985, 0.9164772 , 0.6776377 ],\n",
              "        [0.07189369, 0.35264862, 0.97030914],\n",
              "        ...,\n",
              "        [0.3026234 , 0.92125106, 0.57876134],\n",
              "        [0.48652983, 0.07598376, 0.585809  ],\n",
              "        [0.27554226, 0.35409844, 0.543854  ]],\n",
              "\n",
              "       [[0.4862275 , 0.27902865, 0.15765512],\n",
              "        [0.05662191, 0.68518364, 0.58862376],\n",
              "        [0.7069762 , 0.4887911 , 0.69171035],\n",
              "        ...,\n",
              "        [0.70255625, 0.9136312 , 0.35682273],\n",
              "        [0.7763766 , 0.07373881, 0.19429171],\n",
              "        [0.5936433 , 0.65455437, 0.56416905]]], dtype=float32)>"
            ]
          },
          "metadata": {},
          "execution_count": 49
        }
      ]
    },
    {
      "cell_type": "markdown",
      "source": [
        "Find the min and max values of the tensor you created in 6."
      ],
      "metadata": {
        "id": "5GbwQk4e8YXQ"
      }
    },
    {
      "cell_type": "code",
      "source": [
        "#min\n",
        "tf.reduce_min(rand_tensor)"
      ],
      "metadata": {
        "colab": {
          "base_uri": "https://localhost:8080/"
        },
        "id": "e2Vwj7WL9E4X",
        "outputId": "111dc8d3-7b9a-441f-f18e-9a9599a18dbf"
      },
      "execution_count": 50,
      "outputs": [
        {
          "output_type": "execute_result",
          "data": {
            "text/plain": [
              "<tf.Tensor: shape=(), dtype=float32, numpy=3.33786e-06>"
            ]
          },
          "metadata": {},
          "execution_count": 50
        }
      ]
    },
    {
      "cell_type": "code",
      "source": [
        "#max\n",
        "tf.reduce_max(rand_tensor)"
      ],
      "metadata": {
        "colab": {
          "base_uri": "https://localhost:8080/"
        },
        "id": "_mwdlMmm9VTc",
        "outputId": "f561bfb8-e0b5-4294-8b48-7c28046b0861"
      },
      "execution_count": 51,
      "outputs": [
        {
          "output_type": "execute_result",
          "data": {
            "text/plain": [
              "<tf.Tensor: shape=(), dtype=float32, numpy=0.99999654>"
            ]
          },
          "metadata": {},
          "execution_count": 51
        }
      ]
    },
    {
      "cell_type": "markdown",
      "source": [
        "Created a tensor with random values of shape [1, 224, 224, 3] then squeeze it to change the shape to [224, 224, 3]."
      ],
      "metadata": {
        "id": "2BKsQqJ99dHs"
      }
    },
    {
      "cell_type": "code",
      "source": [
        "rand_tensor_2=tf.random.uniform(shape=(1,224,224,3), minval=0, maxval=1)\n",
        "rand_tensor_2"
      ],
      "metadata": {
        "colab": {
          "base_uri": "https://localhost:8080/"
        },
        "id": "ZVSJFQ88-UkO",
        "outputId": "7b2c2b85-74e0-4bde-fb44-ea5166215971"
      },
      "execution_count": 52,
      "outputs": [
        {
          "output_type": "execute_result",
          "data": {
            "text/plain": [
              "<tf.Tensor: shape=(1, 224, 224, 3), dtype=float32, numpy=\n",
              "array([[[[0.22728801, 0.8198496 , 0.75506485],\n",
              "         [0.4126581 , 0.64660704, 0.69958997],\n",
              "         [0.2093383 , 0.36787426, 0.93073213],\n",
              "         ...,\n",
              "         [0.31558335, 0.4384569 , 0.03134859],\n",
              "         [0.14143014, 0.67960894, 0.9844302 ],\n",
              "         [0.5778805 , 0.8336359 , 0.14731169]],\n",
              "\n",
              "        [[0.98005056, 0.86298597, 0.89136016],\n",
              "         [0.8317741 , 0.14459682, 0.3121971 ],\n",
              "         [0.08505428, 0.5867263 , 0.02004611],\n",
              "         ...,\n",
              "         [0.38585806, 0.76760983, 0.03452075],\n",
              "         [0.39992392, 0.46211863, 0.8342304 ],\n",
              "         [0.92320883, 0.67471814, 0.8246417 ]],\n",
              "\n",
              "        [[0.34677827, 0.192361  , 0.10799825],\n",
              "         [0.595284  , 0.42747915, 0.15313554],\n",
              "         [0.53637934, 0.08000302, 0.924742  ],\n",
              "         ...,\n",
              "         [0.32395446, 0.2330774 , 0.5454962 ],\n",
              "         [0.42705   , 0.01555204, 0.42722905],\n",
              "         [0.31724286, 0.8253027 , 0.2594391 ]],\n",
              "\n",
              "        ...,\n",
              "\n",
              "        [[0.1593039 , 0.2628752 , 0.08793902],\n",
              "         [0.6663636 , 0.14228237, 0.61327755],\n",
              "         [0.18577933, 0.33377433, 0.31894767],\n",
              "         ...,\n",
              "         [0.63766015, 0.15862131, 0.01874387],\n",
              "         [0.6952115 , 0.14190924, 0.11882091],\n",
              "         [0.4662776 , 0.5758618 , 0.88982236]],\n",
              "\n",
              "        [[0.87539387, 0.22954655, 0.06182563],\n",
              "         [0.39965665, 0.30660856, 0.52289426],\n",
              "         [0.11142647, 0.8542628 , 0.8577721 ],\n",
              "         ...,\n",
              "         [0.30066502, 0.10872078, 0.5997672 ],\n",
              "         [0.654292  , 0.03132558, 0.35780823],\n",
              "         [0.4924389 , 0.82969356, 0.3387481 ]],\n",
              "\n",
              "        [[0.45522106, 0.6487222 , 0.72398686],\n",
              "         [0.8866066 , 0.68585384, 0.01106656],\n",
              "         [0.5097853 , 0.06061471, 0.5567249 ],\n",
              "         ...,\n",
              "         [0.7928518 , 0.75833166, 0.04160285],\n",
              "         [0.5578474 , 0.47589207, 0.2687639 ],\n",
              "         [0.98660445, 0.7440766 , 0.28457332]]]], dtype=float32)>"
            ]
          },
          "metadata": {},
          "execution_count": 52
        }
      ]
    },
    {
      "cell_type": "code",
      "source": [
        "#remove extra dim\n",
        "tf.squeeze(rand_tensor_2)"
      ],
      "metadata": {
        "colab": {
          "base_uri": "https://localhost:8080/"
        },
        "id": "NOJGAvxC-gS0",
        "outputId": "7379795e-8dea-4dc0-e598-692329116158"
      },
      "execution_count": 53,
      "outputs": [
        {
          "output_type": "execute_result",
          "data": {
            "text/plain": [
              "<tf.Tensor: shape=(224, 224, 3), dtype=float32, numpy=\n",
              "array([[[0.22728801, 0.8198496 , 0.75506485],\n",
              "        [0.4126581 , 0.64660704, 0.69958997],\n",
              "        [0.2093383 , 0.36787426, 0.93073213],\n",
              "        ...,\n",
              "        [0.31558335, 0.4384569 , 0.03134859],\n",
              "        [0.14143014, 0.67960894, 0.9844302 ],\n",
              "        [0.5778805 , 0.8336359 , 0.14731169]],\n",
              "\n",
              "       [[0.98005056, 0.86298597, 0.89136016],\n",
              "        [0.8317741 , 0.14459682, 0.3121971 ],\n",
              "        [0.08505428, 0.5867263 , 0.02004611],\n",
              "        ...,\n",
              "        [0.38585806, 0.76760983, 0.03452075],\n",
              "        [0.39992392, 0.46211863, 0.8342304 ],\n",
              "        [0.92320883, 0.67471814, 0.8246417 ]],\n",
              "\n",
              "       [[0.34677827, 0.192361  , 0.10799825],\n",
              "        [0.595284  , 0.42747915, 0.15313554],\n",
              "        [0.53637934, 0.08000302, 0.924742  ],\n",
              "        ...,\n",
              "        [0.32395446, 0.2330774 , 0.5454962 ],\n",
              "        [0.42705   , 0.01555204, 0.42722905],\n",
              "        [0.31724286, 0.8253027 , 0.2594391 ]],\n",
              "\n",
              "       ...,\n",
              "\n",
              "       [[0.1593039 , 0.2628752 , 0.08793902],\n",
              "        [0.6663636 , 0.14228237, 0.61327755],\n",
              "        [0.18577933, 0.33377433, 0.31894767],\n",
              "        ...,\n",
              "        [0.63766015, 0.15862131, 0.01874387],\n",
              "        [0.6952115 , 0.14190924, 0.11882091],\n",
              "        [0.4662776 , 0.5758618 , 0.88982236]],\n",
              "\n",
              "       [[0.87539387, 0.22954655, 0.06182563],\n",
              "        [0.39965665, 0.30660856, 0.52289426],\n",
              "        [0.11142647, 0.8542628 , 0.8577721 ],\n",
              "        ...,\n",
              "        [0.30066502, 0.10872078, 0.5997672 ],\n",
              "        [0.654292  , 0.03132558, 0.35780823],\n",
              "        [0.4924389 , 0.82969356, 0.3387481 ]],\n",
              "\n",
              "       [[0.45522106, 0.6487222 , 0.72398686],\n",
              "        [0.8866066 , 0.68585384, 0.01106656],\n",
              "        [0.5097853 , 0.06061471, 0.5567249 ],\n",
              "        ...,\n",
              "        [0.7928518 , 0.75833166, 0.04160285],\n",
              "        [0.5578474 , 0.47589207, 0.2687639 ],\n",
              "        [0.98660445, 0.7440766 , 0.28457332]]], dtype=float32)>"
            ]
          },
          "metadata": {},
          "execution_count": 53
        }
      ]
    },
    {
      "cell_type": "markdown",
      "source": [
        "Create a tensor with shape [10] using your own choice of values, then find the index which has the maximum value."
      ],
      "metadata": {
        "id": "XC59GF12-EBj"
      }
    },
    {
      "cell_type": "code",
      "source": [
        "tensor_10=tf.random.uniform(shape=[10], minval=0, maxval=10, dtype=tf.dtypes.int32)\n",
        "tensor_10"
      ],
      "metadata": {
        "colab": {
          "base_uri": "https://localhost:8080/"
        },
        "id": "UhBxReCi-0Nk",
        "outputId": "1e69b6a1-f242-4388-e653-83f4dd9c246c"
      },
      "execution_count": 57,
      "outputs": [
        {
          "output_type": "execute_result",
          "data": {
            "text/plain": [
              "<tf.Tensor: shape=(10,), dtype=int32, numpy=array([1, 4, 2, 9, 6, 4, 0, 6, 2, 8], dtype=int32)>"
            ]
          },
          "metadata": {},
          "execution_count": 57
        }
      ]
    },
    {
      "cell_type": "code",
      "source": [
        "#positional maximum and minimum is used to lineup label with pred prob\n",
        "tf.argmax(tensor_10).numpy()"
      ],
      "metadata": {
        "colab": {
          "base_uri": "https://localhost:8080/"
        },
        "id": "Vi8AJ7zR_UNb",
        "outputId": "aaa16124-329c-4611-e5e3-cd78b00d1707"
      },
      "execution_count": 58,
      "outputs": [
        {
          "output_type": "execute_result",
          "data": {
            "text/plain": [
              "3"
            ]
          },
          "metadata": {},
          "execution_count": 58
        }
      ]
    },
    {
      "cell_type": "markdown",
      "source": [
        "One-hot encode the tensor you created in 9."
      ],
      "metadata": {
        "id": "QpYzGqNT-L5K"
      }
    },
    {
      "cell_type": "code",
      "source": [
        "tf.one_hot(tensor_10,depth=7)"
      ],
      "metadata": {
        "colab": {
          "base_uri": "https://localhost:8080/"
        },
        "id": "jPnCkS8JAH7K",
        "outputId": "aeb49eb0-e677-44f1-f17d-d12df82f8f6a"
      },
      "execution_count": 61,
      "outputs": [
        {
          "output_type": "execute_result",
          "data": {
            "text/plain": [
              "<tf.Tensor: shape=(10, 7), dtype=float32, numpy=\n",
              "array([[0., 1., 0., 0., 0., 0., 0.],\n",
              "       [0., 0., 0., 0., 1., 0., 0.],\n",
              "       [0., 0., 1., 0., 0., 0., 0.],\n",
              "       [0., 0., 0., 0., 0., 0., 0.],\n",
              "       [0., 0., 0., 0., 0., 0., 1.],\n",
              "       [0., 0., 0., 0., 1., 0., 0.],\n",
              "       [1., 0., 0., 0., 0., 0., 0.],\n",
              "       [0., 0., 0., 0., 0., 0., 1.],\n",
              "       [0., 0., 1., 0., 0., 0., 0.],\n",
              "       [0., 0., 0., 0., 0., 0., 0.]], dtype=float32)>"
            ]
          },
          "metadata": {},
          "execution_count": 61
        }
      ]
    },
    {
      "cell_type": "code",
      "source": [
        ""
      ],
      "metadata": {
        "id": "cqwFo_WXAXuf"
      },
      "execution_count": null,
      "outputs": []
    }
  ]
}