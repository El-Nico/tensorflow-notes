{
  "nbformat": 4,
  "nbformat_minor": 0,
  "metadata": {
    "colab": {
      "name": "regression_excersises.ipynb",
      "provenance": [],
      "collapsed_sections": [],
      "authorship_tag": "ABX9TyO6Bbb1g1Ee+S1eXkdG2scg",
      "include_colab_link": true
    },
    "kernelspec": {
      "name": "python3",
      "display_name": "Python 3"
    },
    "language_info": {
      "name": "python"
    }
  },
  "cells": [
    {
      "cell_type": "markdown",
      "metadata": {
        "id": "view-in-github",
        "colab_type": "text"
      },
      "source": [
        "<a href=\"https://colab.research.google.com/github/El-Nico/tensorflow-notes/blob/main/regression_excersises.ipynb\" target=\"_parent\"><img src=\"https://colab.research.google.com/assets/colab-badge.svg\" alt=\"Open In Colab\"/></a>"
      ]
    },
    {
      "cell_type": "markdown",
      "metadata": {
        "id": "NhIPO_KqocHP"
      },
      "source": [
        "## 🛠 Exercises\n",
        "1. Create your own regression dataset (or make the one we created in \"Create data to view and fit\" bigger) and build fit a model to it.\n",
        "2. Try building a neural network with 4 Dense layers and fitting it to your own regression dataset, how does it perform?\n",
        "3. Try and improve the results we got on the insurance dataset, some things you might want to try include:\n",
        "  * Building a larger model (how does one with 4 dense layers go?).\n",
        "  * Increasing the number of units in each layer.\n",
        "  * Lookup the documentation of [Adam](https://www.tensorflow.org/api_docs/python/tf/keras/optimizers/Adam) and find out what the first parameter is, what happens if you increase it by 10x?\n",
        "  * What happens if you train for longer (say 300 epochs instead of 200)? \n",
        "4. Import the [Boston pricing dataset](https://www.tensorflow.org/api_docs/python/tf/keras/datasets/boston_housing/load_data) from TensorFlow [`tf.keras.datasets`](https://www.tensorflow.org/api_docs/python/tf/keras/datasets) and model it.\n"
      ]
    },
    {
      "cell_type": "markdown",
      "source": [
        "1. Create your own regression dataset (or make the one we created in \"Create data to view and fit\" bigger) and build fit a model to it."
      ],
      "metadata": {
        "id": "wBSs4tDfCp5x"
      }
    },
    {
      "cell_type": "code",
      "source": [
        "#creating linear regression data with numpy\n",
        "import numpy as np\n",
        "import matplotlib.pyplot as plt"
      ],
      "metadata": {
        "id": "d8B9k7UhMuk4"
      },
      "execution_count": 55,
      "outputs": []
    },
    {
      "cell_type": "code",
      "source": [
        "#create features\n",
        "X=np.arange(1,6,0.5)\n",
        "X"
      ],
      "metadata": {
        "colab": {
          "base_uri": "https://localhost:8080/"
        },
        "id": "mSSgW3-avQgr",
        "outputId": "5acf588b-5522-4660-815d-bc3d8fba0bb8"
      },
      "execution_count": 56,
      "outputs": [
        {
          "output_type": "execute_result",
          "data": {
            "text/plain": [
              "array([1. , 1.5, 2. , 2.5, 3. , 3.5, 4. , 4.5, 5. , 5.5])"
            ]
          },
          "metadata": {},
          "execution_count": 56
        }
      ]
    },
    {
      "cell_type": "code",
      "source": [
        "#create labels\n",
        "Y=np.arange(10,60,5)\n",
        "Y"
      ],
      "metadata": {
        "colab": {
          "base_uri": "https://localhost:8080/"
        },
        "id": "M4QhQ7fzve9b",
        "outputId": "f51a5e68-43f8-40c5-8949-c5c957651a3b"
      },
      "execution_count": 57,
      "outputs": [
        {
          "output_type": "execute_result",
          "data": {
            "text/plain": [
              "array([10, 15, 20, 25, 30, 35, 40, 45, 50, 55])"
            ]
          },
          "metadata": {},
          "execution_count": 57
        }
      ]
    },
    {
      "cell_type": "code",
      "source": [
        "#visualize\n",
        "plt.scatter(X, Y)"
      ],
      "metadata": {
        "colab": {
          "base_uri": "https://localhost:8080/",
          "height": 283
        },
        "id": "m7r96VVuvxEj",
        "outputId": "a3f79c61-b299-4114-f0ad-c1780935aa9d"
      },
      "execution_count": 58,
      "outputs": [
        {
          "output_type": "execute_result",
          "data": {
            "text/plain": [
              "<matplotlib.collections.PathCollection at 0x7fe979d61310>"
            ]
          },
          "metadata": {},
          "execution_count": 58
        },
        {
          "output_type": "display_data",
          "data": {
            "image/png": "[encoded data removed]",
            "text/plain": [
              "<Figure size 432x288 with 1 Axes>"
            ]
          },
          "metadata": {
            "needs_background": "light"
          }
        }
      ]
    },
    {
      "cell_type": "markdown",
      "source": [
        "2. Try building a neural network with 4 Dense layers and fitting it to your own regression dataset, how does it perform?"
      ],
      "metadata": {
        "id": "dMXnhlCmwHoy"
      }
    },
    {
      "cell_type": "code",
      "source": [
        "#imports\n",
        "import tensorflow as tf\n"
      ],
      "metadata": {
        "id": "zl5PooQzwpdz"
      },
      "execution_count": 59,
      "outputs": []
    },
    {
      "cell_type": "code",
      "source": [
        "#tensorize numpy array\n",
        "X=tf.constant(X)\n",
        "Y=tf.constant(Y)\n",
        "X,Y"
      ],
      "metadata": {
        "colab": {
          "base_uri": "https://localhost:8080/"
        },
        "id": "RDA_nqqxwTZS",
        "outputId": "a0db9502-3785-48fe-cad4-a0d602b04877"
      },
      "execution_count": 60,
      "outputs": [
        {
          "output_type": "execute_result",
          "data": {
            "text/plain": [
              "(<tf.Tensor: shape=(10,), dtype=float64, numpy=array([1. , 1.5, 2. , 2.5, 3. , 3.5, 4. , 4.5, 5. , 5.5])>,\n",
              " <tf.Tensor: shape=(10,), dtype=int64, numpy=array([10, 15, 20, 25, 30, 35, 40, 45, 50, 55])>)"
            ]
          },
          "metadata": {},
          "execution_count": 60
        }
      ]
    },
    {
      "cell_type": "code",
      "source": [
        "#using the keras sequential api to make predictions\n",
        "\n",
        "#create model usin the sequential api\n",
        "model = tf.keras.Sequential([\n",
        "                             tf.keras.layers.Dense(1, input_shape=[1]),\n",
        "                             tf.keras.layers.Dense(1),\n",
        "                              tf.keras.layers.Dense(1),\n",
        "                              tf.keras.layers.Dense(1)\n",
        "])\n",
        "\n",
        "#compile the model\n",
        "model.compile(loss=tf.keras.losses.mae,\n",
        "              optimizer=tf.keras.optimizers.SGD(),\n",
        "              metrics=[\"mae\"])\n",
        "\n",
        "#fit the model\n",
        "model.fit(tf.expand_dims(X, axis=-1), Y, epochs=30)"
      ],
      "metadata": {
        "colab": {
          "base_uri": "https://localhost:8080/"
        },
        "id": "RLhLgaJWw0dJ",
        "outputId": "02530e5e-95d6-46c0-eab4-9a4a5ce4dd8b"
      },
      "execution_count": 61,
      "outputs": [
        {
          "output_type": "stream",
          "name": "stdout",
          "text": [
            "Epoch 1/30\n",
            "1/1 [==============================] - 1s 656ms/step - loss: 32.2755 - mae: 32.2755\n",
            "Epoch 2/30\n",
            "1/1 [==============================] - 0s 9ms/step - loss: 32.2364 - mae: 32.2364\n",
            "Epoch 3/30\n",
            "1/1 [==============================] - 0s 15ms/step - loss: 32.1958 - mae: 32.1958\n",
            "Epoch 4/30\n",
            "1/1 [==============================] - 0s 12ms/step - loss: 32.1536 - mae: 32.1536\n",
            "Epoch 5/30\n",
            "1/1 [==============================] - 0s 10ms/step - loss: 32.1094 - mae: 32.1094\n",
            "Epoch 6/30\n",
            "1/1 [==============================] - 0s 13ms/step - loss: 32.0630 - mae: 32.0630\n",
            "Epoch 7/30\n",
            "1/1 [==============================] - 0s 11ms/step - loss: 32.0140 - mae: 32.0140\n",
            "Epoch 8/30\n",
            "1/1 [==============================] - 0s 8ms/step - loss: 31.9622 - mae: 31.9622\n",
            "Epoch 9/30\n",
            "1/1 [==============================] - 0s 10ms/step - loss: 31.9072 - mae: 31.9072\n",
            "Epoch 10/30\n",
            "1/1 [==============================] - 0s 9ms/step - loss: 31.8484 - mae: 31.8484\n",
            "Epoch 11/30\n",
            "1/1 [==============================] - 0s 15ms/step - loss: 31.7855 - mae: 31.7855\n",
            "Epoch 12/30\n",
            "1/1 [==============================] - 0s 7ms/step - loss: 31.7177 - mae: 31.7177\n",
            "Epoch 13/30\n",
            "1/1 [==============================] - 0s 10ms/step - loss: 31.6443 - mae: 31.6443\n",
            "Epoch 14/30\n",
            "1/1 [==============================] - 0s 11ms/step - loss: 31.5647 - mae: 31.5647\n",
            "Epoch 15/30\n",
            "1/1 [==============================] - 0s 8ms/step - loss: 31.4777 - mae: 31.4777\n",
            "Epoch 16/30\n",
            "1/1 [==============================] - 0s 9ms/step - loss: 31.3823 - mae: 31.3823\n",
            "Epoch 17/30\n",
            "1/1 [==============================] - 0s 10ms/step - loss: 31.2770 - mae: 31.2770\n",
            "Epoch 18/30\n",
            "1/1 [==============================] - 0s 8ms/step - loss: 31.1603 - mae: 31.1603\n",
            "Epoch 19/30\n",
            "1/1 [==============================] - 0s 16ms/step - loss: 31.0302 - mae: 31.0302\n",
            "Epoch 20/30\n",
            "1/1 [==============================] - 0s 19ms/step - loss: 30.8842 - mae: 30.8842\n",
            "Epoch 21/30\n",
            "1/1 [==============================] - 0s 9ms/step - loss: 30.7194 - mae: 30.7194\n",
            "Epoch 22/30\n",
            "1/1 [==============================] - 0s 11ms/step - loss: 30.5320 - mae: 30.5320\n",
            "Epoch 23/30\n",
            "1/1 [==============================] - 0s 14ms/step - loss: 30.3175 - mae: 30.3175\n",
            "Epoch 24/30\n",
            "1/1 [==============================] - 0s 6ms/step - loss: 30.0699 - mae: 30.0699\n",
            "Epoch 25/30\n",
            "1/1 [==============================] - 0s 10ms/step - loss: 29.7818 - mae: 29.7818\n",
            "Epoch 26/30\n",
            "1/1 [==============================] - 0s 24ms/step - loss: 29.4434 - mae: 29.4434\n",
            "Epoch 27/30\n",
            "1/1 [==============================] - 0s 14ms/step - loss: 29.0418 - mae: 29.0418\n",
            "Epoch 28/30\n",
            "1/1 [==============================] - 0s 33ms/step - loss: 28.5599 - mae: 28.5599\n",
            "Epoch 29/30\n",
            "1/1 [==============================] - 0s 9ms/step - loss: 27.9743 - mae: 27.9743\n",
            "Epoch 30/30\n",
            "1/1 [==============================] - 0s 13ms/step - loss: 27.2526 - mae: 27.2526\n"
          ]
        },
        {
          "output_type": "execute_result",
          "data": {
            "text/plain": [
              "<keras.callbacks.History at 0x7fe979cf7890>"
            ]
          },
          "metadata": {},
          "execution_count": 61
        }
      ]
    },
    {
      "cell_type": "code",
      "source": [
        "X"
      ],
      "metadata": {
        "colab": {
          "base_uri": "https://localhost:8080/"
        },
        "id": "izdnaaB6-9ha",
        "outputId": "a1224f91-deb2-4a93-9196-0a29700e779d"
      },
      "execution_count": 62,
      "outputs": [
        {
          "output_type": "execute_result",
          "data": {
            "text/plain": [
              "<tf.Tensor: shape=(10,), dtype=float64, numpy=array([1. , 1.5, 2. , 2.5, 3. , 3.5, 4. , 4.5, 5. , 5.5])>"
            ]
          },
          "metadata": {},
          "execution_count": 62
        }
      ]
    },
    {
      "cell_type": "code",
      "source": [
        "lastval=X[-1].numpy()+0.5"
      ],
      "metadata": {
        "id": "6tZhmf191OHp"
      },
      "execution_count": 63,
      "outputs": []
    },
    {
      "cell_type": "code",
      "source": [
        "stopval=lastval+(0.5*10)"
      ],
      "metadata": {
        "id": "fZ7Mcc_L-owj"
      },
      "execution_count": 64,
      "outputs": []
    },
    {
      "cell_type": "code",
      "source": [
        "#create test features and labels\n",
        "X_test=tf.constant(np.arange(lastval, stopval, 0.5 ))\n",
        "X_test"
      ],
      "metadata": {
        "colab": {
          "base_uri": "https://localhost:8080/"
        },
        "id": "dQC9_hb88Rue",
        "outputId": "4d34aff5-8234-4062-eddc-760e0c26d40e"
      },
      "execution_count": 65,
      "outputs": [
        {
          "output_type": "execute_result",
          "data": {
            "text/plain": [
              "<tf.Tensor: shape=(10,), dtype=float64, numpy=array([ 6. ,  6.5,  7. ,  7.5,  8. ,  8.5,  9. ,  9.5, 10. , 10.5])>"
            ]
          },
          "metadata": {},
          "execution_count": 65
        }
      ]
    },
    {
      "cell_type": "code",
      "source": [
        "Y"
      ],
      "metadata": {
        "colab": {
          "base_uri": "https://localhost:8080/"
        },
        "id": "eg3NTWKA_KVg",
        "outputId": "7c255b85-3ea9-42cd-8810-e685ea5bd3de"
      },
      "execution_count": 66,
      "outputs": [
        {
          "output_type": "execute_result",
          "data": {
            "text/plain": [
              "<tf.Tensor: shape=(10,), dtype=int64, numpy=array([10, 15, 20, 25, 30, 35, 40, 45, 50, 55])>"
            ]
          },
          "metadata": {},
          "execution_count": 66
        }
      ]
    },
    {
      "cell_type": "code",
      "source": [
        "Y_test=tf.cast(X_test*10, tf.int32)\n",
        "Y_test"
      ],
      "metadata": {
        "colab": {
          "base_uri": "https://localhost:8080/"
        },
        "id": "585DA-J__Nl4",
        "outputId": "b9493aaa-a060-46c9-bd4a-3b066f909047"
      },
      "execution_count": 67,
      "outputs": [
        {
          "output_type": "execute_result",
          "data": {
            "text/plain": [
              "<tf.Tensor: shape=(10,), dtype=int32, numpy=array([ 60,  65,  70,  75,  80,  85,  90,  95, 100, 105], dtype=int32)>"
            ]
          },
          "metadata": {},
          "execution_count": 67
        }
      ]
    },
    {
      "cell_type": "code",
      "source": [
        "#visualize train and test data\n",
        "plt.figure(figsize=(10,10))\n",
        "#plot traing data in blue\n",
        "plt.scatter(X, Y, c='b', label='Trainining data')\n",
        "#plot test data in green\n",
        "plt.scatter(X_test, Y_test, c='g', label=\"test data\")"
      ],
      "metadata": {
        "colab": {
          "base_uri": "https://localhost:8080/",
          "height": 610
        },
        "id": "K7Q7TH6jBXll",
        "outputId": "868d2610-1b98-4e99-d718-96c9b93f150f"
      },
      "execution_count": 68,
      "outputs": [
        {
          "output_type": "execute_result",
          "data": {
            "text/plain": [
              "<matplotlib.collections.PathCollection at 0x7fe979bfd990>"
            ]
          },
          "metadata": {},
          "execution_count": 68
        },
        {
          "output_type": "display_data",
          "data": {
            "image/png": "[encoded data removed]",
            "text/plain": [
              "<Figure size 720x720 with 1 Axes>"
            ]
          },
          "metadata": {
            "needs_background": "light"
          }
        }
      ]
    },
    {
      "cell_type": "code",
      "source": [
        "#visualizing model and predictions\n",
        "from tensorflow.keras.utils import plot_model\n",
        "\n",
        "plot_model(model, show_shapes=True)"
      ],
      "metadata": {
        "colab": {
          "base_uri": "https://localhost:8080/",
          "height": 533
        },
        "id": "rad57VeUCoiC",
        "outputId": "f009d1f2-e527-443b-d649-12682ebc200c"
      },
      "execution_count": 69,
      "outputs": [
        {
          "output_type": "execute_result",
          "data": {
            "image/png": "[encoded data removed]",
            "text/plain": [
              "<IPython.core.display.Image object>"
            ]
          },
          "metadata": {},
          "execution_count": 69
        }
      ]
    },
    {
      "cell_type": "code",
      "source": [
        "#making predictions with the model\n",
        "Y_preds= model.predict(X_test)"
      ],
      "metadata": {
        "id": "k3kyuy_cC2Fx"
      },
      "execution_count": 70,
      "outputs": []
    },
    {
      "cell_type": "code",
      "source": [
        "Y_preds"
      ],
      "metadata": {
        "colab": {
          "base_uri": "https://localhost:8080/"
        },
        "id": "5osJpV3RDYZ4",
        "outputId": "0abdfb17-734e-49aa-f63d-e5188dd1f83a"
      },
      "execution_count": 71,
      "outputs": [
        {
          "output_type": "execute_result",
          "data": {
            "text/plain": [
              "array([[10.731938 ],\n",
              "       [11.5648155],\n",
              "       [12.397691 ],\n",
              "       [13.230568 ],\n",
              "       [14.063444 ],\n",
              "       [14.896318 ],\n",
              "       [15.729197 ],\n",
              "       [16.562069 ],\n",
              "       [17.394949 ],\n",
              "       [18.227821 ]], dtype=float32)"
            ]
          },
          "metadata": {},
          "execution_count": 71
        }
      ]
    },
    {
      "cell_type": "code",
      "source": [
        "#building a plotting function\n",
        "def plot_predictions(train_data=X,\n",
        "                     train_labels=Y,\n",
        "                     test_data=X_test,\n",
        "                     test_labels=Y_test,\n",
        "                     predictions=Y_preds):\n",
        "  \"\"\"\n",
        "  Plots training data, test data and compares predictions.\n",
        "  \"\"\"\n",
        "  plt.figure(figsize=(10, 7))\n",
        "  # Plot training data in blue\n",
        "  plt.scatter(train_data, train_labels, c=\"b\", label=\"Training data\")\n",
        "  # Plot test data in green\n",
        "  plt.scatter(test_data, test_labels, c=\"g\", label=\"Testing data\")\n",
        "  # Plot the predictions in red (predictions were made on the test data)\n",
        "  plt.scatter(test_data, predictions, c=\"r\", label=\"Predictions\")\n",
        "  # Show the legend\n",
        "  plt.legend();"
      ],
      "metadata": {
        "id": "gb1yZT5bDZo4"
      },
      "execution_count": 72,
      "outputs": []
    },
    {
      "cell_type": "code",
      "source": [
        "plot_predictions(train_data=X,\n",
        "                     train_labels=Y,\n",
        "                     test_data=X_test,\n",
        "                     test_labels=Y_test,\n",
        "                     predictions=Y_preds)"
      ],
      "metadata": {
        "colab": {
          "base_uri": "https://localhost:8080/",
          "height": 428
        },
        "id": "Uf30py6mGPXD",
        "outputId": "3aa95caf-98be-4218-bfb8-c228c7b5f99d"
      },
      "execution_count": 73,
      "outputs": [
        {
          "output_type": "display_data",
          "data": {
            "image/png": "[encoded data removed]",
            "text/plain": [
              "<Figure size 720x504 with 1 Axes>"
            ]
          },
          "metadata": {
            "needs_background": "light"
          }
        }
      ]
    },
    {
      "cell_type": "markdown",
      "source": [
        "3. Try and improve the results we got on the insurance dataset, some things you might want to try include:\n",
        "  * Building a larger model (how does one with 4 dense layers go?).\n",
        "  * Increasing the number of units in each layer.\n",
        "  * Lookup the documentation of [Adam](https://www.tensorflow.org/api_docs/python/tf/keras/optimizers/Adam) and find out what the first parameter is, what happens if you increase it by 10x?\n",
        "  * What happens if you train for longer (say 300 epochs instead of 200)? "
      ],
      "metadata": {
        "id": "dbu4wWCsLUpD"
      }
    },
    {
      "cell_type": "code",
      "source": [
        "#importing the insurance dataset\n",
        "import pandas as pd"
      ],
      "metadata": {
        "id": "F6B4wJ-gLXSw"
      },
      "execution_count": 74,
      "outputs": []
    },
    {
      "cell_type": "code",
      "source": [
        "#read in the insurance dataset\n",
        "insurance = pd.read_csv(\"https://raw.githubusercontent.com/stedy/Machine-Learning-with-R-datasets/master/insurance.csv\")"
      ],
      "metadata": {
        "id": "zSDFIx1nMfIX"
      },
      "execution_count": 75,
      "outputs": []
    },
    {
      "cell_type": "code",
      "source": [
        "insurance.head()"
      ],
      "metadata": {
        "colab": {
          "base_uri": "https://localhost:8080/",
          "height": 206
        },
        "id": "q-aWkG-2MrbW",
        "outputId": "a22c2d2d-fb6f-4fd6-e408-c1a3bb7c4078"
      },
      "execution_count": 76,
      "outputs": [
        {
          "output_type": "execute_result",
          "data": {
            "text/html": [
              "\n",
              "  <div id=\"df-6dde3484-7886-4509-9fc1-7f37fd92677d\">\n",
              "    <div class=\"colab-df-container\">\n",
              "      <div>\n",
              "<style scoped>\n",
              "    .dataframe tbody tr th:only-of-type {\n",
              "        vertical-align: middle;\n",
              "    }\n",
              "\n",
              "    .dataframe tbody tr th {\n",
              "        vertical-align: top;\n",
              "    }\n",
              "\n",
              "    .dataframe thead th {\n",
              "        text-align: right;\n",
              "    }\n",
              "</style>\n",
              "<table border=\"1\" class=\"dataframe\">\n",
              "  <thead>\n",
              "    <tr style=\"text-align: right;\">\n",
              "      <th></th>\n",
              "      <th>age</th>\n",
              "      <th>sex</th>\n",
              "      <th>bmi</th>\n",
              "      <th>children</th>\n",
              "      <th>smoker</th>\n",
              "      <th>region</th>\n",
              "      <th>charges</th>\n",
              "    </tr>\n",
              "  </thead>\n",
              "  <tbody>\n",
              "    <tr>\n",
              "      <th>0</th>\n",
              "      <td>19</td>\n",
              "      <td>female</td>\n",
              "      <td>27.900</td>\n",
              "      <td>0</td>\n",
              "      <td>yes</td>\n",
              "      <td>southwest</td>\n",
              "      <td>16884.92400</td>\n",
              "    </tr>\n",
              "    <tr>\n",
              "      <th>1</th>\n",
              "      <td>18</td>\n",
              "      <td>male</td>\n",
              "      <td>33.770</td>\n",
              "      <td>1</td>\n",
              "      <td>no</td>\n",
              "      <td>southeast</td>\n",
              "      <td>1725.55230</td>\n",
              "    </tr>\n",
              "    <tr>\n",
              "      <th>2</th>\n",
              "      <td>28</td>\n",
              "      <td>male</td>\n",
              "      <td>33.000</td>\n",
              "      <td>3</td>\n",
              "      <td>no</td>\n",
              "      <td>southeast</td>\n",
              "      <td>4449.46200</td>\n",
              "    </tr>\n",
              "    <tr>\n",
              "      <th>3</th>\n",
              "      <td>33</td>\n",
              "      <td>male</td>\n",
              "      <td>22.705</td>\n",
              "      <td>0</td>\n",
              "      <td>no</td>\n",
              "      <td>northwest</td>\n",
              "      <td>21984.47061</td>\n",
              "    </tr>\n",
              "    <tr>\n",
              "      <th>4</th>\n",
              "      <td>32</td>\n",
              "      <td>male</td>\n",
              "      <td>28.880</td>\n",
              "      <td>0</td>\n",
              "      <td>no</td>\n",
              "      <td>northwest</td>\n",
              "      <td>3866.85520</td>\n",
              "    </tr>\n",
              "  </tbody>\n",
              "</table>\n",
              "</div>\n",
              "      <button class=\"colab-df-convert\" onclick=\"convertToInteractive('df-6dde3484-7886-4509-9fc1-7f37fd92677d')\"\n",
              "              title=\"Convert this dataframe to an interactive table.\"\n",
              "              style=\"display:none;\">\n",
              "        \n",
              "  <svg xmlns=\"http://www.w3.org/2000/svg\" height=\"24px\"viewBox=\"0 0 24 24\"\n",
              "       width=\"24px\">\n",
              "    <path d=\"M0 0h24v24H0V0z\" fill=\"none\"/>\n",
              "    <path d=\"M18.56 5.44l.94 2.06.94-2.06 2.06-.94-2.06-.94-.94-2.06-.94 2.06-2.06.94zm-11 1L8.5 8.5l.94-2.06 2.06-.94-2.06-.94L8.5 2.5l-.94 2.06-2.06.94zm10 10l.94 2.06.94-2.06 2.06-.94-2.06-.94-.94-2.06-.94 2.06-2.06.94z\"/><path d=\"M17.41 7.96l-1.37-1.37c-.4-.4-.92-.59-1.43-.59-.52 0-1.04.2-1.43.59L10.3 9.45l-7.72 7.72c-.78.78-.78 2.05 0 2.83L4 21.41c.39.39.9.59 1.41.59.51 0 1.02-.2 1.41-.59l7.78-7.78 2.81-2.81c.8-.78.8-2.07 0-2.86zM5.41 20L4 18.59l7.72-7.72 1.47 1.35L5.41 20z\"/>\n",
              "  </svg>\n",
              "      </button>\n",
              "      \n",
              "  <style>\n",
              "    .colab-df-container {\n",
              "      display:flex;\n",
              "      flex-wrap:wrap;\n",
              "      gap: 12px;\n",
              "    }\n",
              "\n",
              "    .colab-df-convert {\n",
              "      background-color: #E8F0FE;\n",
              "      border: none;\n",
              "      border-radius: 50%;\n",
              "      cursor: pointer;\n",
              "      display: none;\n",
              "      fill: #1967D2;\n",
              "      height: 32px;\n",
              "      padding: 0 0 0 0;\n",
              "      width: 32px;\n",
              "    }\n",
              "\n",
              "    .colab-df-convert:hover {\n",
              "      background-color: #E2EBFA;\n",
              "      box-shadow: 0px 1px 2px rgba(60, 64, 67, 0.3), 0px 1px 3px 1px rgba(60, 64, 67, 0.15);\n",
              "      fill: #174EA6;\n",
              "    }\n",
              "\n",
              "    [theme=dark] .colab-df-convert {\n",
              "      background-color: #3B4455;\n",
              "      fill: #D2E3FC;\n",
              "    }\n",
              "\n",
              "    [theme=dark] .colab-df-convert:hover {\n",
              "      background-color: #434B5C;\n",
              "      box-shadow: 0px 1px 3px 1px rgba(0, 0, 0, 0.15);\n",
              "      filter: drop-shadow(0px 1px 2px rgba(0, 0, 0, 0.3));\n",
              "      fill: #FFFFFF;\n",
              "    }\n",
              "  </style>\n",
              "\n",
              "      <script>\n",
              "        const buttonEl =\n",
              "          document.querySelector('#df-6dde3484-7886-4509-9fc1-7f37fd92677d button.colab-df-convert');\n",
              "        buttonEl.style.display =\n",
              "          google.colab.kernel.accessAllowed ? 'block' : 'none';\n",
              "\n",
              "        async function convertToInteractive(key) {\n",
              "          const element = document.querySelector('#df-6dde3484-7886-4509-9fc1-7f37fd92677d');\n",
              "          const dataTable =\n",
              "            await google.colab.kernel.invokeFunction('convertToInteractive',\n",
              "                                                     [key], {});\n",
              "          if (!dataTable) return;\n",
              "\n",
              "          const docLinkHtml = 'Like what you see? Visit the ' +\n",
              "            '<a target=\"_blank\" href=https://colab.research.google.com/notebooks/data_table.ipynb>data table notebook</a>'\n",
              "            + ' to learn more about interactive tables.';\n",
              "          element.innerHTML = '';\n",
              "          dataTable['output_type'] = 'display_data';\n",
              "          await google.colab.output.renderOutput(dataTable, element);\n",
              "          const docLink = document.createElement('div');\n",
              "          docLink.innerHTML = docLinkHtml;\n",
              "          element.appendChild(docLink);\n",
              "        }\n",
              "      </script>\n",
              "    </div>\n",
              "  </div>\n",
              "  "
            ],
            "text/plain": [
              "   age     sex     bmi  children smoker     region      charges\n",
              "0   19  female  27.900         0    yes  southwest  16884.92400\n",
              "1   18    male  33.770         1     no  southeast   1725.55230\n",
              "2   28    male  33.000         3     no  southeast   4449.46200\n",
              "3   33    male  22.705         0     no  northwest  21984.47061\n",
              "4   32    male  28.880         0     no  northwest   3866.85520"
            ]
          },
          "metadata": {},
          "execution_count": 76
        }
      ]
    },
    {
      "cell_type": "code",
      "source": [
        "insurance.info()"
      ],
      "metadata": {
        "colab": {
          "base_uri": "https://localhost:8080/"
        },
        "id": "8s2j_IgBMtz2",
        "outputId": "f68200ee-caf0-4d06-aeb1-6daa91f0c650"
      },
      "execution_count": 77,
      "outputs": [
        {
          "output_type": "stream",
          "name": "stdout",
          "text": [
            "<class 'pandas.core.frame.DataFrame'>\n",
            "RangeIndex: 1338 entries, 0 to 1337\n",
            "Data columns (total 7 columns):\n",
            " #   Column    Non-Null Count  Dtype  \n",
            "---  ------    --------------  -----  \n",
            " 0   age       1338 non-null   int64  \n",
            " 1   sex       1338 non-null   object \n",
            " 2   bmi       1338 non-null   float64\n",
            " 3   children  1338 non-null   int64  \n",
            " 4   smoker    1338 non-null   object \n",
            " 5   region    1338 non-null   object \n",
            " 6   charges   1338 non-null   float64\n",
            "dtypes: float64(2), int64(2), object(3)\n",
            "memory usage: 73.3+ KB\n"
          ]
        }
      ]
    },
    {
      "cell_type": "code",
      "source": [
        "#data normalization and standardization using make_column_transformer\n",
        "from sklearn.compose import make_column_transformer\n",
        "from sklearn.preprocessing import MinMaxScaler, OneHotEncoder"
      ],
      "metadata": {
        "id": "y1k2zdHOOkwl"
      },
      "execution_count": 78,
      "outputs": []
    },
    {
      "cell_type": "code",
      "source": [
        "ct = make_column_transformer(\n",
        "    (MinMaxScaler(), [\"age\", \"bmi\", \"children\"]), # get all values between 0 and 1\n",
        "    (OneHotEncoder(handle_unknown=\"ignore\"), [\"sex\", \"smoker\", \"region\"])\n",
        ")"
      ],
      "metadata": {
        "id": "OyFKb5iqvX3J"
      },
      "execution_count": 79,
      "outputs": []
    },
    {
      "cell_type": "code",
      "source": [
        "#creating features and labels\n",
        "X=insurance.drop(\"charges\", axis=1)\n",
        "Y=insurance[\"charges\"]"
      ],
      "metadata": {
        "id": "Om3vUJJ-NFx2"
      },
      "execution_count": 80,
      "outputs": []
    },
    {
      "cell_type": "code",
      "source": [
        "#train_test_split\n",
        "from sklearn.model_selection import train_test_split\n",
        "X_train, X_test, Y_train, Y_test = train_test_split(X, Y, test_size=0.2, random_state=42)"
      ],
      "metadata": {
        "id": "SwdmaP2PNgSd"
      },
      "execution_count": 81,
      "outputs": []
    },
    {
      "cell_type": "code",
      "source": [
        "#fit column transformer on the training data\n",
        "ct.fit(X_train)"
      ],
      "metadata": {
        "colab": {
          "base_uri": "https://localhost:8080/"
        },
        "id": "x0fKpAV5xPtO",
        "outputId": "01e79829-820b-4b09-8c47-854a55c25991"
      },
      "execution_count": 82,
      "outputs": [
        {
          "output_type": "execute_result",
          "data": {
            "text/plain": [
              "ColumnTransformer(transformers=[('minmaxscaler', MinMaxScaler(),\n",
              "                                 ['age', 'bmi', 'children']),\n",
              "                                ('onehotencoder',\n",
              "                                 OneHotEncoder(handle_unknown='ignore'),\n",
              "                                 ['sex', 'smoker', 'region'])])"
            ]
          },
          "metadata": {},
          "execution_count": 82
        }
      ]
    },
    {
      "cell_type": "code",
      "source": [
        "# Transform training and test data with normalization (MinMaxScalar)\n",
        "X_train_normal= ct.transform(X_train)\n",
        "X_test_normal= ct.transform(X_test)"
      ],
      "metadata": {
        "id": "qQ2qsDEYxvKN"
      },
      "execution_count": 83,
      "outputs": []
    },
    {
      "cell_type": "code",
      "source": [
        "#Non_normalized example\n",
        "X_train.loc[0]"
      ],
      "metadata": {
        "colab": {
          "base_uri": "https://localhost:8080/"
        },
        "id": "KdRqI0jLyHxP",
        "outputId": "e3248809-9f9d-4b1f-9b29-536806a39db5"
      },
      "execution_count": 84,
      "outputs": [
        {
          "output_type": "execute_result",
          "data": {
            "text/plain": [
              "age                19\n",
              "sex            female\n",
              "bmi              27.9\n",
              "children            0\n",
              "smoker            yes\n",
              "region      southwest\n",
              "Name: 0, dtype: object"
            ]
          },
          "metadata": {},
          "execution_count": 84
        }
      ]
    },
    {
      "cell_type": "code",
      "source": [
        "#normalized example\n",
        "X_train_normal[0]"
      ],
      "metadata": {
        "colab": {
          "base_uri": "https://localhost:8080/"
        },
        "id": "FyT6IUG-yHHO",
        "outputId": "867d7a39-728e-4fc8-ff97-42b333917be7"
      },
      "execution_count": 85,
      "outputs": [
        {
          "output_type": "execute_result",
          "data": {
            "text/plain": [
              "array([0.60869565, 0.10734463, 0.4       , 1.        , 0.        ,\n",
              "       1.        , 0.        , 0.        , 1.        , 0.        ,\n",
              "       0.        ])"
            ]
          },
          "metadata": {},
          "execution_count": 85
        }
      ]
    },
    {
      "cell_type": "code",
      "source": [
        "#viewing data shapes\n",
        "X_train_normal.shape, X_train.shape"
      ],
      "metadata": {
        "colab": {
          "base_uri": "https://localhost:8080/"
        },
        "id": "WK_Quexe15l8",
        "outputId": "87c8032b-1fe2-4099-86e8-c6f2cb09324a"
      },
      "execution_count": 86,
      "outputs": [
        {
          "output_type": "execute_result",
          "data": {
            "text/plain": [
              "((1070, 11), (1070, 6))"
            ]
          },
          "metadata": {},
          "execution_count": 86
        }
      ]
    },
    {
      "cell_type": "code",
      "source": [
        "len(X_train_normal)"
      ],
      "metadata": {
        "colab": {
          "base_uri": "https://localhost:8080/"
        },
        "id": "joV7eMSJ2D7k",
        "outputId": "e628c9f0-aefe-4d14-bf68-f1febe68e850"
      },
      "execution_count": 87,
      "outputs": [
        {
          "output_type": "execute_result",
          "data": {
            "text/plain": [
              "1070"
            ]
          },
          "metadata": {},
          "execution_count": 87
        }
      ]
    },
    {
      "cell_type": "code",
      "source": [
        "insurance"
      ],
      "metadata": {
        "colab": {
          "base_uri": "https://localhost:8080/",
          "height": 424
        },
        "id": "Y6cDeudm2vAn",
        "outputId": "42d8990d-391b-49b4-cf19-ba145d3c01ce"
      },
      "execution_count": 88,
      "outputs": [
        {
          "output_type": "execute_result",
          "data": {
            "text/html": [
              "\n",
              "  <div id=\"df-57438675-6b79-4402-b0ee-88eb985921c5\">\n",
              "    <div class=\"colab-df-container\">\n",
              "      <div>\n",
              "<style scoped>\n",
              "    .dataframe tbody tr th:only-of-type {\n",
              "        vertical-align: middle;\n",
              "    }\n",
              "\n",
              "    .dataframe tbody tr th {\n",
              "        vertical-align: top;\n",
              "    }\n",
              "\n",
              "    .dataframe thead th {\n",
              "        text-align: right;\n",
              "    }\n",
              "</style>\n",
              "<table border=\"1\" class=\"dataframe\">\n",
              "  <thead>\n",
              "    <tr style=\"text-align: right;\">\n",
              "      <th></th>\n",
              "      <th>age</th>\n",
              "      <th>sex</th>\n",
              "      <th>bmi</th>\n",
              "      <th>children</th>\n",
              "      <th>smoker</th>\n",
              "      <th>region</th>\n",
              "      <th>charges</th>\n",
              "    </tr>\n",
              "  </thead>\n",
              "  <tbody>\n",
              "    <tr>\n",
              "      <th>0</th>\n",
              "      <td>19</td>\n",
              "      <td>female</td>\n",
              "      <td>27.900</td>\n",
              "      <td>0</td>\n",
              "      <td>yes</td>\n",
              "      <td>southwest</td>\n",
              "      <td>16884.92400</td>\n",
              "    </tr>\n",
              "    <tr>\n",
              "      <th>1</th>\n",
              "      <td>18</td>\n",
              "      <td>male</td>\n",
              "      <td>33.770</td>\n",
              "      <td>1</td>\n",
              "      <td>no</td>\n",
              "      <td>southeast</td>\n",
              "      <td>1725.55230</td>\n",
              "    </tr>\n",
              "    <tr>\n",
              "      <th>2</th>\n",
              "      <td>28</td>\n",
              "      <td>male</td>\n",
              "      <td>33.000</td>\n",
              "      <td>3</td>\n",
              "      <td>no</td>\n",
              "      <td>southeast</td>\n",
              "      <td>4449.46200</td>\n",
              "    </tr>\n",
              "    <tr>\n",
              "      <th>3</th>\n",
              "      <td>33</td>\n",
              "      <td>male</td>\n",
              "      <td>22.705</td>\n",
              "      <td>0</td>\n",
              "      <td>no</td>\n",
              "      <td>northwest</td>\n",
              "      <td>21984.47061</td>\n",
              "    </tr>\n",
              "    <tr>\n",
              "      <th>4</th>\n",
              "      <td>32</td>\n",
              "      <td>male</td>\n",
              "      <td>28.880</td>\n",
              "      <td>0</td>\n",
              "      <td>no</td>\n",
              "      <td>northwest</td>\n",
              "      <td>3866.85520</td>\n",
              "    </tr>\n",
              "    <tr>\n",
              "      <th>...</th>\n",
              "      <td>...</td>\n",
              "      <td>...</td>\n",
              "      <td>...</td>\n",
              "      <td>...</td>\n",
              "      <td>...</td>\n",
              "      <td>...</td>\n",
              "      <td>...</td>\n",
              "    </tr>\n",
              "    <tr>\n",
              "      <th>1333</th>\n",
              "      <td>50</td>\n",
              "      <td>male</td>\n",
              "      <td>30.970</td>\n",
              "      <td>3</td>\n",
              "      <td>no</td>\n",
              "      <td>northwest</td>\n",
              "      <td>10600.54830</td>\n",
              "    </tr>\n",
              "    <tr>\n",
              "      <th>1334</th>\n",
              "      <td>18</td>\n",
              "      <td>female</td>\n",
              "      <td>31.920</td>\n",
              "      <td>0</td>\n",
              "      <td>no</td>\n",
              "      <td>northeast</td>\n",
              "      <td>2205.98080</td>\n",
              "    </tr>\n",
              "    <tr>\n",
              "      <th>1335</th>\n",
              "      <td>18</td>\n",
              "      <td>female</td>\n",
              "      <td>36.850</td>\n",
              "      <td>0</td>\n",
              "      <td>no</td>\n",
              "      <td>southeast</td>\n",
              "      <td>1629.83350</td>\n",
              "    </tr>\n",
              "    <tr>\n",
              "      <th>1336</th>\n",
              "      <td>21</td>\n",
              "      <td>female</td>\n",
              "      <td>25.800</td>\n",
              "      <td>0</td>\n",
              "      <td>no</td>\n",
              "      <td>southwest</td>\n",
              "      <td>2007.94500</td>\n",
              "    </tr>\n",
              "    <tr>\n",
              "      <th>1337</th>\n",
              "      <td>61</td>\n",
              "      <td>female</td>\n",
              "      <td>29.070</td>\n",
              "      <td>0</td>\n",
              "      <td>yes</td>\n",
              "      <td>northwest</td>\n",
              "      <td>29141.36030</td>\n",
              "    </tr>\n",
              "  </tbody>\n",
              "</table>\n",
              "<p>1338 rows × 7 columns</p>\n",
              "</div>\n",
              "      <button class=\"colab-df-convert\" onclick=\"convertToInteractive('df-57438675-6b79-4402-b0ee-88eb985921c5')\"\n",
              "              title=\"Convert this dataframe to an interactive table.\"\n",
              "              style=\"display:none;\">\n",
              "        \n",
              "  <svg xmlns=\"http://www.w3.org/2000/svg\" height=\"24px\"viewBox=\"0 0 24 24\"\n",
              "       width=\"24px\">\n",
              "    <path d=\"M0 0h24v24H0V0z\" fill=\"none\"/>\n",
              "    <path d=\"M18.56 5.44l.94 2.06.94-2.06 2.06-.94-2.06-.94-.94-2.06-.94 2.06-2.06.94zm-11 1L8.5 8.5l.94-2.06 2.06-.94-2.06-.94L8.5 2.5l-.94 2.06-2.06.94zm10 10l.94 2.06.94-2.06 2.06-.94-2.06-.94-.94-2.06-.94 2.06-2.06.94z\"/><path d=\"M17.41 7.96l-1.37-1.37c-.4-.4-.92-.59-1.43-.59-.52 0-1.04.2-1.43.59L10.3 9.45l-7.72 7.72c-.78.78-.78 2.05 0 2.83L4 21.41c.39.39.9.59 1.41.59.51 0 1.02-.2 1.41-.59l7.78-7.78 2.81-2.81c.8-.78.8-2.07 0-2.86zM5.41 20L4 18.59l7.72-7.72 1.47 1.35L5.41 20z\"/>\n",
              "  </svg>\n",
              "      </button>\n",
              "      \n",
              "  <style>\n",
              "    .colab-df-container {\n",
              "      display:flex;\n",
              "      flex-wrap:wrap;\n",
              "      gap: 12px;\n",
              "    }\n",
              "\n",
              "    .colab-df-convert {\n",
              "      background-color: #E8F0FE;\n",
              "      border: none;\n",
              "      border-radius: 50%;\n",
              "      cursor: pointer;\n",
              "      display: none;\n",
              "      fill: #1967D2;\n",
              "      height: 32px;\n",
              "      padding: 0 0 0 0;\n",
              "      width: 32px;\n",
              "    }\n",
              "\n",
              "    .colab-df-convert:hover {\n",
              "      background-color: #E2EBFA;\n",
              "      box-shadow: 0px 1px 2px rgba(60, 64, 67, 0.3), 0px 1px 3px 1px rgba(60, 64, 67, 0.15);\n",
              "      fill: #174EA6;\n",
              "    }\n",
              "\n",
              "    [theme=dark] .colab-df-convert {\n",
              "      background-color: #3B4455;\n",
              "      fill: #D2E3FC;\n",
              "    }\n",
              "\n",
              "    [theme=dark] .colab-df-convert:hover {\n",
              "      background-color: #434B5C;\n",
              "      box-shadow: 0px 1px 3px 1px rgba(0, 0, 0, 0.15);\n",
              "      filter: drop-shadow(0px 1px 2px rgba(0, 0, 0, 0.3));\n",
              "      fill: #FFFFFF;\n",
              "    }\n",
              "  </style>\n",
              "\n",
              "      <script>\n",
              "        const buttonEl =\n",
              "          document.querySelector('#df-57438675-6b79-4402-b0ee-88eb985921c5 button.colab-df-convert');\n",
              "        buttonEl.style.display =\n",
              "          google.colab.kernel.accessAllowed ? 'block' : 'none';\n",
              "\n",
              "        async function convertToInteractive(key) {\n",
              "          const element = document.querySelector('#df-57438675-6b79-4402-b0ee-88eb985921c5');\n",
              "          const dataTable =\n",
              "            await google.colab.kernel.invokeFunction('convertToInteractive',\n",
              "                                                     [key], {});\n",
              "          if (!dataTable) return;\n",
              "\n",
              "          const docLinkHtml = 'Like what you see? Visit the ' +\n",
              "            '<a target=\"_blank\" href=https://colab.research.google.com/notebooks/data_table.ipynb>data table notebook</a>'\n",
              "            + ' to learn more about interactive tables.';\n",
              "          element.innerHTML = '';\n",
              "          dataTable['output_type'] = 'display_data';\n",
              "          await google.colab.output.renderOutput(dataTable, element);\n",
              "          const docLink = document.createElement('div');\n",
              "          docLink.innerHTML = docLinkHtml;\n",
              "          element.appendChild(docLink);\n",
              "        }\n",
              "      </script>\n",
              "    </div>\n",
              "  </div>\n",
              "  "
            ],
            "text/plain": [
              "      age     sex     bmi  children smoker     region      charges\n",
              "0      19  female  27.900         0    yes  southwest  16884.92400\n",
              "1      18    male  33.770         1     no  southeast   1725.55230\n",
              "2      28    male  33.000         3     no  southeast   4449.46200\n",
              "3      33    male  22.705         0     no  northwest  21984.47061\n",
              "4      32    male  28.880         0     no  northwest   3866.85520\n",
              "...   ...     ...     ...       ...    ...        ...          ...\n",
              "1333   50    male  30.970         3     no  northwest  10600.54830\n",
              "1334   18  female  31.920         0     no  northeast   2205.98080\n",
              "1335   18  female  36.850         0     no  southeast   1629.83350\n",
              "1336   21  female  25.800         0     no  southwest   2007.94500\n",
              "1337   61  female  29.070         0    yes  northwest  29141.36030\n",
              "\n",
              "[1338 rows x 7 columns]"
            ]
          },
          "metadata": {},
          "execution_count": 88
        }
      ]
    },
    {
      "cell_type": "code",
      "source": [
        "#ORIGINAL MODEL\n",
        "\n",
        "\n",
        "# Set random seed\n",
        "tf.random.set_seed(42)\n",
        "\n",
        "# Build the model (3 layers, 100, 10, 1 units)\n",
        "insurance_model_3 = tf.keras.Sequential([\n",
        "  tf.keras.layers.Dense(100),\n",
        "  tf.keras.layers.Dense(10),\n",
        "  tf.keras.layers.Dense(1)\n",
        "])\n",
        "\n",
        "# Compile the model\n",
        "insurance_model_3.compile(loss=tf.keras.losses.mae,\n",
        "                          optimizer=tf.keras.optimizers.Adam(),\n",
        "                          metrics=['mae'])\n",
        "\n",
        "# Fit the model for 200 epochs (same as insurance_model_2)\n",
        "insurance_model_3.fit(X_train_normal, Y_train, epochs=200)\n"
      ],
      "metadata": {
        "id": "bjQVLlA6N6IM",
        "colab": {
          "base_uri": "https://localhost:8080/"
        },
        "outputId": "ba718b3d-e3d6-4212-8c1e-426dcd5a0259"
      },
      "execution_count": 89,
      "outputs": [
        {
          "output_type": "stream",
          "name": "stdout",
          "text": [
            "Epoch 1/200\n",
            "34/34 [==============================] - 1s 4ms/step - loss: 13342.6475 - mae: 13342.6475\n",
            "Epoch 2/200\n",
            "34/34 [==============================] - 0s 4ms/step - loss: 13333.4785 - mae: 13333.4785\n",
            "Epoch 3/200\n",
            "34/34 [==============================] - 0s 3ms/step - loss: 13312.0234 - mae: 13312.0234\n",
            "Epoch 4/200\n",
            "34/34 [==============================] - 0s 3ms/step - loss: 13267.7930 - mae: 13267.7930\n",
            "Epoch 5/200\n",
            "34/34 [==============================] - 0s 3ms/step - loss: 13189.5850 - mae: 13189.5850\n",
            "Epoch 6/200\n",
            "34/34 [==============================] - 0s 3ms/step - loss: 13066.4502 - mae: 13066.4502\n",
            "Epoch 7/200\n",
            "34/34 [==============================] - 0s 3ms/step - loss: 12888.1953 - mae: 12888.1953\n",
            "Epoch 8/200\n",
            "34/34 [==============================] - 0s 3ms/step - loss: 12644.6523 - mae: 12644.6523\n",
            "Epoch 9/200\n",
            "34/34 [==============================] - 0s 6ms/step - loss: 12325.5469 - mae: 12325.5469\n",
            "Epoch 10/200\n",
            "34/34 [==============================] - 0s 3ms/step - loss: 11925.9658 - mae: 11925.9658\n",
            "Epoch 11/200\n",
            "34/34 [==============================] - 0s 4ms/step - loss: 11454.3350 - mae: 11454.3350\n",
            "Epoch 12/200\n",
            "34/34 [==============================] - 0s 3ms/step - loss: 10949.8086 - mae: 10949.8086\n",
            "Epoch 13/200\n",
            "34/34 [==============================] - 0s 3ms/step - loss: 10448.9404 - mae: 10448.9404\n",
            "Epoch 14/200\n",
            "34/34 [==============================] - 0s 3ms/step - loss: 9951.6250 - mae: 9951.6250\n",
            "Epoch 15/200\n",
            "34/34 [==============================] - 0s 3ms/step - loss: 9482.7422 - mae: 9482.7422\n",
            "Epoch 16/200\n",
            "34/34 [==============================] - 0s 4ms/step - loss: 9066.7461 - mae: 9066.7461\n",
            "Epoch 17/200\n",
            "34/34 [==============================] - 0s 4ms/step - loss: 8721.9854 - mae: 8721.9854\n",
            "Epoch 18/200\n",
            "34/34 [==============================] - 0s 3ms/step - loss: 8441.2002 - mae: 8441.2002\n",
            "Epoch 19/200\n",
            "34/34 [==============================] - 0s 4ms/step - loss: 8227.5117 - mae: 8227.5117\n",
            "Epoch 20/200\n",
            "34/34 [==============================] - 0s 3ms/step - loss: 8081.9775 - mae: 8081.9775\n",
            "Epoch 21/200\n",
            "34/34 [==============================] - 0s 3ms/step - loss: 7973.8945 - mae: 7973.8945\n",
            "Epoch 22/200\n",
            "34/34 [==============================] - 0s 3ms/step - loss: 7899.1597 - mae: 7899.1597\n",
            "Epoch 23/200\n",
            "34/34 [==============================] - 0s 4ms/step - loss: 7840.3916 - mae: 7840.3916\n",
            "Epoch 24/200\n",
            "34/34 [==============================] - 0s 3ms/step - loss: 7787.9619 - mae: 7787.9619\n",
            "Epoch 25/200\n",
            "34/34 [==============================] - 0s 4ms/step - loss: 7749.2622 - mae: 7749.2622\n",
            "Epoch 26/200\n",
            "34/34 [==============================] - 0s 4ms/step - loss: 7697.9595 - mae: 7697.9595\n",
            "Epoch 27/200\n",
            "34/34 [==============================] - 0s 4ms/step - loss: 7656.0273 - mae: 7656.0273\n",
            "Epoch 28/200\n",
            "34/34 [==============================] - 0s 3ms/step - loss: 7613.4780 - mae: 7613.4780\n",
            "Epoch 29/200\n",
            "34/34 [==============================] - 0s 4ms/step - loss: 7570.9482 - mae: 7570.9482\n",
            "Epoch 30/200\n",
            "34/34 [==============================] - 0s 4ms/step - loss: 7527.4175 - mae: 7527.4175\n",
            "Epoch 31/200\n",
            "34/34 [==============================] - 0s 4ms/step - loss: 7483.5947 - mae: 7483.5947\n",
            "Epoch 32/200\n",
            "34/34 [==============================] - 0s 4ms/step - loss: 7439.4424 - mae: 7439.4424\n",
            "Epoch 33/200\n",
            "34/34 [==============================] - 0s 4ms/step - loss: 7395.0552 - mae: 7395.0552\n",
            "Epoch 34/200\n",
            "34/34 [==============================] - 0s 3ms/step - loss: 7346.8125 - mae: 7346.8125\n",
            "Epoch 35/200\n",
            "34/34 [==============================] - 0s 2ms/step - loss: 7300.0493 - mae: 7300.0493\n",
            "Epoch 36/200\n",
            "34/34 [==============================] - 0s 4ms/step - loss: 7249.8452 - mae: 7249.8452\n",
            "Epoch 37/200\n",
            "34/34 [==============================] - 0s 4ms/step - loss: 7199.5303 - mae: 7199.5303\n",
            "Epoch 38/200\n",
            "34/34 [==============================] - 0s 4ms/step - loss: 7148.4805 - mae: 7148.4805\n",
            "Epoch 39/200\n",
            "34/34 [==============================] - 0s 3ms/step - loss: 7093.6660 - mae: 7093.6660\n",
            "Epoch 40/200\n",
            "34/34 [==============================] - 0s 3ms/step - loss: 7038.1797 - mae: 7038.1797\n",
            "Epoch 41/200\n",
            "34/34 [==============================] - 0s 4ms/step - loss: 6981.7393 - mae: 6981.7393\n",
            "Epoch 42/200\n",
            "34/34 [==============================] - 0s 4ms/step - loss: 6922.7847 - mae: 6922.7847\n",
            "Epoch 43/200\n",
            "34/34 [==============================] - 0s 3ms/step - loss: 6860.1724 - mae: 6860.1724\n",
            "Epoch 44/200\n",
            "34/34 [==============================] - 0s 3ms/step - loss: 6793.7979 - mae: 6793.7979\n",
            "Epoch 45/200\n",
            "34/34 [==============================] - 0s 3ms/step - loss: 6726.6201 - mae: 6726.6201\n",
            "Epoch 46/200\n",
            "34/34 [==============================] - 0s 4ms/step - loss: 6657.4683 - mae: 6657.4683\n",
            "Epoch 47/200\n",
            "34/34 [==============================] - 0s 4ms/step - loss: 6586.3086 - mae: 6586.3086\n",
            "Epoch 48/200\n",
            "34/34 [==============================] - 0s 3ms/step - loss: 6507.5063 - mae: 6507.5063\n",
            "Epoch 49/200\n",
            "34/34 [==============================] - 0s 4ms/step - loss: 6428.6025 - mae: 6428.6025\n",
            "Epoch 50/200\n",
            "34/34 [==============================] - 0s 3ms/step - loss: 6342.7100 - mae: 6342.7100\n",
            "Epoch 51/200\n",
            "34/34 [==============================] - 0s 3ms/step - loss: 6258.0718 - mae: 6258.0718\n",
            "Epoch 52/200\n",
            "34/34 [==============================] - 0s 4ms/step - loss: 6164.7046 - mae: 6164.7046\n",
            "Epoch 53/200\n",
            "34/34 [==============================] - 0s 3ms/step - loss: 6068.6748 - mae: 6068.6748\n",
            "Epoch 54/200\n",
            "34/34 [==============================] - 0s 3ms/step - loss: 5970.0981 - mae: 5970.0981\n",
            "Epoch 55/200\n",
            "34/34 [==============================] - 0s 3ms/step - loss: 5862.5625 - mae: 5862.5625\n",
            "Epoch 56/200\n",
            "34/34 [==============================] - 0s 4ms/step - loss: 5753.9531 - mae: 5753.9531\n",
            "Epoch 57/200\n",
            "34/34 [==============================] - 0s 4ms/step - loss: 5638.0942 - mae: 5638.0942\n",
            "Epoch 58/200\n",
            "34/34 [==============================] - 0s 5ms/step - loss: 5519.8687 - mae: 5519.8687\n",
            "Epoch 59/200\n",
            "34/34 [==============================] - 0s 3ms/step - loss: 5401.3198 - mae: 5401.3198\n",
            "Epoch 60/200\n",
            "34/34 [==============================] - 0s 3ms/step - loss: 5277.3506 - mae: 5277.3506\n",
            "Epoch 61/200\n",
            "34/34 [==============================] - 0s 3ms/step - loss: 5149.7642 - mae: 5149.7642\n",
            "Epoch 62/200\n",
            "34/34 [==============================] - 0s 3ms/step - loss: 5019.3540 - mae: 5019.3540\n",
            "Epoch 63/200\n",
            "34/34 [==============================] - 0s 3ms/step - loss: 4889.6865 - mae: 4889.6865\n",
            "Epoch 64/200\n",
            "34/34 [==============================] - 0s 3ms/step - loss: 4756.8560 - mae: 4756.8560\n",
            "Epoch 65/200\n",
            "34/34 [==============================] - 0s 4ms/step - loss: 4629.4370 - mae: 4629.4370\n",
            "Epoch 66/200\n",
            "34/34 [==============================] - 0s 4ms/step - loss: 4503.5991 - mae: 4503.5991\n",
            "Epoch 67/200\n",
            "34/34 [==============================] - 0s 3ms/step - loss: 4392.9922 - mae: 4392.9922\n",
            "Epoch 68/200\n",
            "34/34 [==============================] - 0s 3ms/step - loss: 4284.3862 - mae: 4284.3862\n",
            "Epoch 69/200\n",
            "34/34 [==============================] - 0s 3ms/step - loss: 4182.6182 - mae: 4182.6182\n",
            "Epoch 70/200\n",
            "34/34 [==============================] - 0s 3ms/step - loss: 4089.5720 - mae: 4089.5720\n",
            "Epoch 71/200\n",
            "34/34 [==============================] - 0s 3ms/step - loss: 4003.3901 - mae: 4003.3901\n",
            "Epoch 72/200\n",
            "34/34 [==============================] - 0s 3ms/step - loss: 3929.0093 - mae: 3929.0093\n",
            "Epoch 73/200\n",
            "34/34 [==============================] - 0s 3ms/step - loss: 3866.3110 - mae: 3866.3110\n",
            "Epoch 74/200\n",
            "34/34 [==============================] - 0s 3ms/step - loss: 3813.7144 - mae: 3813.7144\n",
            "Epoch 75/200\n",
            "34/34 [==============================] - 0s 4ms/step - loss: 3773.0317 - mae: 3773.0317\n",
            "Epoch 76/200\n",
            "34/34 [==============================] - 0s 3ms/step - loss: 3744.1995 - mae: 3744.1995\n",
            "Epoch 77/200\n",
            "34/34 [==============================] - 0s 3ms/step - loss: 3719.6870 - mae: 3719.6870\n",
            "Epoch 78/200\n",
            "34/34 [==============================] - 0s 3ms/step - loss: 3702.9109 - mae: 3702.9109\n",
            "Epoch 79/200\n",
            "34/34 [==============================] - 0s 4ms/step - loss: 3691.8792 - mae: 3691.8792\n",
            "Epoch 80/200\n",
            "34/34 [==============================] - 0s 4ms/step - loss: 3682.8350 - mae: 3682.8350\n",
            "Epoch 81/200\n",
            "34/34 [==============================] - 0s 4ms/step - loss: 3676.9763 - mae: 3676.9763\n",
            "Epoch 82/200\n",
            "34/34 [==============================] - 0s 4ms/step - loss: 3673.9492 - mae: 3673.9492\n",
            "Epoch 83/200\n",
            "34/34 [==============================] - 0s 5ms/step - loss: 3667.8452 - mae: 3667.8452\n",
            "Epoch 84/200\n",
            "34/34 [==============================] - 0s 4ms/step - loss: 3664.5757 - mae: 3664.5757\n",
            "Epoch 85/200\n",
            "34/34 [==============================] - 0s 4ms/step - loss: 3661.8562 - mae: 3661.8562\n",
            "Epoch 86/200\n",
            "34/34 [==============================] - 0s 4ms/step - loss: 3660.3049 - mae: 3660.3049\n",
            "Epoch 87/200\n",
            "34/34 [==============================] - 0s 4ms/step - loss: 3657.5134 - mae: 3657.5134\n",
            "Epoch 88/200\n",
            "34/34 [==============================] - 0s 3ms/step - loss: 3655.2200 - mae: 3655.2200\n",
            "Epoch 89/200\n",
            "34/34 [==============================] - 0s 4ms/step - loss: 3653.8831 - mae: 3653.8831\n",
            "Epoch 90/200\n",
            "34/34 [==============================] - 0s 4ms/step - loss: 3652.0195 - mae: 3652.0195\n",
            "Epoch 91/200\n",
            "34/34 [==============================] - 0s 3ms/step - loss: 3648.9990 - mae: 3648.9990\n",
            "Epoch 92/200\n",
            "34/34 [==============================] - 0s 4ms/step - loss: 3648.4463 - mae: 3648.4463\n",
            "Epoch 93/200\n",
            "34/34 [==============================] - 0s 4ms/step - loss: 3646.2297 - mae: 3646.2297\n",
            "Epoch 94/200\n",
            "34/34 [==============================] - 0s 5ms/step - loss: 3644.4377 - mae: 3644.4377\n",
            "Epoch 95/200\n",
            "34/34 [==============================] - 0s 4ms/step - loss: 3645.8772 - mae: 3645.8772\n",
            "Epoch 96/200\n",
            "34/34 [==============================] - 0s 4ms/step - loss: 3642.2573 - mae: 3642.2573\n",
            "Epoch 97/200\n",
            "34/34 [==============================] - 0s 5ms/step - loss: 3640.1184 - mae: 3640.1184\n",
            "Epoch 98/200\n",
            "34/34 [==============================] - 0s 4ms/step - loss: 3638.0649 - mae: 3638.0649\n",
            "Epoch 99/200\n",
            "34/34 [==============================] - 0s 3ms/step - loss: 3637.2051 - mae: 3637.2051\n",
            "Epoch 100/200\n",
            "34/34 [==============================] - 0s 3ms/step - loss: 3636.1707 - mae: 3636.1707\n",
            "Epoch 101/200\n",
            "34/34 [==============================] - 0s 4ms/step - loss: 3633.0803 - mae: 3633.0803\n",
            "Epoch 102/200\n",
            "34/34 [==============================] - 0s 4ms/step - loss: 3630.6155 - mae: 3630.6155\n",
            "Epoch 103/200\n",
            "34/34 [==============================] - 0s 4ms/step - loss: 3629.4304 - mae: 3629.4304\n",
            "Epoch 104/200\n",
            "34/34 [==============================] - 0s 4ms/step - loss: 3627.0293 - mae: 3627.0293\n",
            "Epoch 105/200\n",
            "34/34 [==============================] - 0s 3ms/step - loss: 3625.3789 - mae: 3625.3789\n",
            "Epoch 106/200\n",
            "34/34 [==============================] - 0s 4ms/step - loss: 3624.1890 - mae: 3624.1890\n",
            "Epoch 107/200\n",
            "34/34 [==============================] - 0s 3ms/step - loss: 3623.4670 - mae: 3623.4670\n",
            "Epoch 108/200\n",
            "34/34 [==============================] - 0s 4ms/step - loss: 3621.1238 - mae: 3621.1238\n",
            "Epoch 109/200\n",
            "34/34 [==============================] - 0s 4ms/step - loss: 3621.1895 - mae: 3621.1895\n",
            "Epoch 110/200\n",
            "34/34 [==============================] - 0s 4ms/step - loss: 3618.2805 - mae: 3618.2805\n",
            "Epoch 111/200\n",
            "34/34 [==============================] - 0s 4ms/step - loss: 3615.2793 - mae: 3615.2793\n",
            "Epoch 112/200\n",
            "34/34 [==============================] - 0s 4ms/step - loss: 3613.2454 - mae: 3613.2454\n",
            "Epoch 113/200\n",
            "34/34 [==============================] - 0s 4ms/step - loss: 3611.9092 - mae: 3611.9092\n",
            "Epoch 114/200\n",
            "34/34 [==============================] - 0s 3ms/step - loss: 3610.8164 - mae: 3610.8164\n",
            "Epoch 115/200\n",
            "34/34 [==============================] - 0s 4ms/step - loss: 3609.1035 - mae: 3609.1035\n",
            "Epoch 116/200\n",
            "34/34 [==============================] - 0s 4ms/step - loss: 3607.6521 - mae: 3607.6521\n",
            "Epoch 117/200\n",
            "34/34 [==============================] - 0s 5ms/step - loss: 3604.7559 - mae: 3604.7559\n",
            "Epoch 118/200\n",
            "34/34 [==============================] - 0s 4ms/step - loss: 3600.8135 - mae: 3600.8135\n",
            "Epoch 119/200\n",
            "34/34 [==============================] - 0s 4ms/step - loss: 3602.6384 - mae: 3602.6384\n",
            "Epoch 120/200\n",
            "34/34 [==============================] - 0s 4ms/step - loss: 3600.3203 - mae: 3600.3203\n",
            "Epoch 121/200\n",
            "34/34 [==============================] - 0s 4ms/step - loss: 3595.2520 - mae: 3595.2520\n",
            "Epoch 122/200\n",
            "34/34 [==============================] - 0s 4ms/step - loss: 3594.6335 - mae: 3594.6335\n",
            "Epoch 123/200\n",
            "34/34 [==============================] - 0s 5ms/step - loss: 3592.6138 - mae: 3592.6138\n",
            "Epoch 124/200\n",
            "34/34 [==============================] - 0s 4ms/step - loss: 3590.3994 - mae: 3590.3994\n",
            "Epoch 125/200\n",
            "34/34 [==============================] - 0s 3ms/step - loss: 3588.4041 - mae: 3588.4041\n",
            "Epoch 126/200\n",
            "34/34 [==============================] - 0s 4ms/step - loss: 3587.5061 - mae: 3587.5061\n",
            "Epoch 127/200\n",
            "34/34 [==============================] - 0s 4ms/step - loss: 3588.0417 - mae: 3588.0417\n",
            "Epoch 128/200\n",
            "34/34 [==============================] - 0s 4ms/step - loss: 3584.1003 - mae: 3584.1003\n",
            "Epoch 129/200\n",
            "34/34 [==============================] - 0s 4ms/step - loss: 3582.7317 - mae: 3582.7317\n",
            "Epoch 130/200\n",
            "34/34 [==============================] - 0s 4ms/step - loss: 3579.1135 - mae: 3579.1135\n",
            "Epoch 131/200\n",
            "34/34 [==============================] - 0s 3ms/step - loss: 3577.7141 - mae: 3577.7141\n",
            "Epoch 132/200\n",
            "34/34 [==============================] - 0s 3ms/step - loss: 3574.9951 - mae: 3574.9951\n",
            "Epoch 133/200\n",
            "34/34 [==============================] - 0s 2ms/step - loss: 3573.2947 - mae: 3573.2947\n",
            "Epoch 134/200\n",
            "34/34 [==============================] - 0s 2ms/step - loss: 3571.3865 - mae: 3571.3865\n",
            "Epoch 135/200\n",
            "34/34 [==============================] - 0s 4ms/step - loss: 3569.3606 - mae: 3569.3606\n",
            "Epoch 136/200\n",
            "34/34 [==============================] - 0s 4ms/step - loss: 3568.0542 - mae: 3568.0542\n",
            "Epoch 137/200\n",
            "34/34 [==============================] - 0s 5ms/step - loss: 3566.1060 - mae: 3566.1060\n",
            "Epoch 138/200\n",
            "34/34 [==============================] - 0s 3ms/step - loss: 3563.9617 - mae: 3563.9617\n",
            "Epoch 139/200\n",
            "34/34 [==============================] - 0s 3ms/step - loss: 3563.3350 - mae: 3563.3350\n",
            "Epoch 140/200\n",
            "34/34 [==============================] - 0s 3ms/step - loss: 3561.2305 - mae: 3561.2305\n",
            "Epoch 141/200\n",
            "34/34 [==============================] - 0s 4ms/step - loss: 3561.1250 - mae: 3561.1250\n",
            "Epoch 142/200\n",
            "34/34 [==============================] - 0s 4ms/step - loss: 3558.0393 - mae: 3558.0393\n",
            "Epoch 143/200\n",
            "34/34 [==============================] - 0s 4ms/step - loss: 3558.0339 - mae: 3558.0339\n",
            "Epoch 144/200\n",
            "34/34 [==============================] - 0s 3ms/step - loss: 3555.1953 - mae: 3555.1953\n",
            "Epoch 145/200\n",
            "34/34 [==============================] - 0s 4ms/step - loss: 3553.2444 - mae: 3553.2444\n",
            "Epoch 146/200\n",
            "34/34 [==============================] - 0s 4ms/step - loss: 3553.4751 - mae: 3553.4751\n",
            "Epoch 147/200\n",
            "34/34 [==============================] - 0s 3ms/step - loss: 3551.0723 - mae: 3551.0723\n",
            "Epoch 148/200\n",
            "34/34 [==============================] - 0s 4ms/step - loss: 3549.7551 - mae: 3549.7551\n",
            "Epoch 149/200\n",
            "34/34 [==============================] - 0s 4ms/step - loss: 3547.0066 - mae: 3547.0066\n",
            "Epoch 150/200\n",
            "34/34 [==============================] - 0s 4ms/step - loss: 3546.9910 - mae: 3546.9910\n",
            "Epoch 151/200\n",
            "34/34 [==============================] - 0s 3ms/step - loss: 3545.1938 - mae: 3545.1938\n",
            "Epoch 152/200\n",
            "34/34 [==============================] - 0s 3ms/step - loss: 3543.3826 - mae: 3543.3826\n",
            "Epoch 153/200\n",
            "34/34 [==============================] - 0s 4ms/step - loss: 3541.9121 - mae: 3541.9121\n",
            "Epoch 154/200\n",
            "34/34 [==============================] - 0s 3ms/step - loss: 3543.1577 - mae: 3543.1577\n",
            "Epoch 155/200\n",
            "34/34 [==============================] - 0s 3ms/step - loss: 3540.6169 - mae: 3540.6169\n",
            "Epoch 156/200\n",
            "34/34 [==============================] - 0s 4ms/step - loss: 3538.9236 - mae: 3538.9236\n",
            "Epoch 157/200\n",
            "34/34 [==============================] - 0s 4ms/step - loss: 3537.4109 - mae: 3537.4109\n",
            "Epoch 158/200\n",
            "34/34 [==============================] - 0s 4ms/step - loss: 3534.4917 - mae: 3534.4917\n",
            "Epoch 159/200\n",
            "34/34 [==============================] - 0s 4ms/step - loss: 3532.9485 - mae: 3532.9485\n",
            "Epoch 160/200\n",
            "34/34 [==============================] - 0s 4ms/step - loss: 3532.6985 - mae: 3532.6985\n",
            "Epoch 161/200\n",
            "34/34 [==============================] - 0s 3ms/step - loss: 3529.6243 - mae: 3529.6243\n",
            "Epoch 162/200\n",
            "34/34 [==============================] - 0s 3ms/step - loss: 3529.0967 - mae: 3529.0967\n",
            "Epoch 163/200\n",
            "34/34 [==============================] - 0s 4ms/step - loss: 3527.5430 - mae: 3527.5430\n",
            "Epoch 164/200\n",
            "34/34 [==============================] - 0s 4ms/step - loss: 3526.2842 - mae: 3526.2842\n",
            "Epoch 165/200\n",
            "34/34 [==============================] - 0s 3ms/step - loss: 3524.1592 - mae: 3524.1592\n",
            "Epoch 166/200\n",
            "34/34 [==============================] - 0s 4ms/step - loss: 3522.7070 - mae: 3522.7070\n",
            "Epoch 167/200\n",
            "34/34 [==============================] - 0s 4ms/step - loss: 3521.8069 - mae: 3521.8069\n",
            "Epoch 168/200\n",
            "34/34 [==============================] - 0s 3ms/step - loss: 3520.5659 - mae: 3520.5659\n",
            "Epoch 169/200\n",
            "34/34 [==============================] - 0s 4ms/step - loss: 3519.4631 - mae: 3519.4631\n",
            "Epoch 170/200\n",
            "34/34 [==============================] - 0s 4ms/step - loss: 3518.0564 - mae: 3518.0564\n",
            "Epoch 171/200\n",
            "34/34 [==============================] - 0s 4ms/step - loss: 3517.6172 - mae: 3517.6172\n",
            "Epoch 172/200\n",
            "34/34 [==============================] - 0s 3ms/step - loss: 3516.0525 - mae: 3516.0525\n",
            "Epoch 173/200\n",
            "34/34 [==============================] - 0s 3ms/step - loss: 3514.9307 - mae: 3514.9307\n",
            "Epoch 174/200\n",
            "34/34 [==============================] - 0s 3ms/step - loss: 3513.6680 - mae: 3513.6680\n",
            "Epoch 175/200\n",
            "34/34 [==============================] - 0s 4ms/step - loss: 3512.3582 - mae: 3512.3582\n",
            "Epoch 176/200\n",
            "34/34 [==============================] - 0s 5ms/step - loss: 3512.1816 - mae: 3512.1816\n",
            "Epoch 177/200\n",
            "34/34 [==============================] - 0s 4ms/step - loss: 3512.5046 - mae: 3512.5046\n",
            "Epoch 178/200\n",
            "34/34 [==============================] - 0s 4ms/step - loss: 3510.2725 - mae: 3510.2725\n",
            "Epoch 179/200\n",
            "34/34 [==============================] - 0s 3ms/step - loss: 3512.1846 - mae: 3512.1846\n",
            "Epoch 180/200\n",
            "34/34 [==============================] - 0s 3ms/step - loss: 3507.1208 - mae: 3507.1208\n",
            "Epoch 181/200\n",
            "34/34 [==============================] - 0s 4ms/step - loss: 3505.0271 - mae: 3505.0271\n",
            "Epoch 182/200\n",
            "34/34 [==============================] - 0s 4ms/step - loss: 3504.4312 - mae: 3504.4312\n",
            "Epoch 183/200\n",
            "34/34 [==============================] - 0s 4ms/step - loss: 3502.5486 - mae: 3502.5486\n",
            "Epoch 184/200\n",
            "34/34 [==============================] - 0s 4ms/step - loss: 3501.8335 - mae: 3501.8335\n",
            "Epoch 185/200\n",
            "34/34 [==============================] - 0s 4ms/step - loss: 3501.4790 - mae: 3501.4790\n",
            "Epoch 186/200\n",
            "34/34 [==============================] - 0s 4ms/step - loss: 3498.9014 - mae: 3498.9014\n",
            "Epoch 187/200\n",
            "34/34 [==============================] - 0s 3ms/step - loss: 3499.2842 - mae: 3499.2842\n",
            "Epoch 188/200\n",
            "34/34 [==============================] - 0s 4ms/step - loss: 3496.6897 - mae: 3496.6897\n",
            "Epoch 189/200\n",
            "34/34 [==============================] - 0s 4ms/step - loss: 3495.1074 - mae: 3495.1074\n",
            "Epoch 190/200\n",
            "34/34 [==============================] - 0s 5ms/step - loss: 3496.6016 - mae: 3496.6016\n",
            "Epoch 191/200\n",
            "34/34 [==============================] - 0s 4ms/step - loss: 3502.1326 - mae: 3502.1326\n",
            "Epoch 192/200\n",
            "34/34 [==============================] - 0s 3ms/step - loss: 3491.8506 - mae: 3491.8506\n",
            "Epoch 193/200\n",
            "34/34 [==============================] - 0s 3ms/step - loss: 3491.6602 - mae: 3491.6602\n",
            "Epoch 194/200\n",
            "34/34 [==============================] - 0s 4ms/step - loss: 3488.8262 - mae: 3488.8262\n",
            "Epoch 195/200\n",
            "34/34 [==============================] - 0s 5ms/step - loss: 3488.7258 - mae: 3488.7258\n",
            "Epoch 196/200\n",
            "34/34 [==============================] - 0s 6ms/step - loss: 3489.5095 - mae: 3489.5095\n",
            "Epoch 197/200\n",
            "34/34 [==============================] - 0s 3ms/step - loss: 3485.7686 - mae: 3485.7686\n",
            "Epoch 198/200\n",
            "34/34 [==============================] - 0s 4ms/step - loss: 3484.7119 - mae: 3484.7119\n",
            "Epoch 199/200\n",
            "34/34 [==============================] - 0s 4ms/step - loss: 3483.4468 - mae: 3483.4468\n",
            "Epoch 200/200\n",
            "34/34 [==============================] - 0s 3ms/step - loss: 3484.3950 - mae: 3484.3950\n"
          ]
        },
        {
          "output_type": "execute_result",
          "data": {
            "text/plain": [
              "<keras.callbacks.History at 0x7fe9798e4b90>"
            ]
          },
          "metadata": {},
          "execution_count": 89
        }
      ]
    },
    {
      "cell_type": "code",
      "source": [
        "#evaluating the model\n",
        "insurance_model_3_loss, insurance_model_3_mae = insurance_model_3.evaluate(X_test_normal, Y_test)"
      ],
      "metadata": {
        "colab": {
          "base_uri": "https://localhost:8080/"
        },
        "id": "ct48U9mG28rp",
        "outputId": "173a71a3-425b-460e-dc77-a8673141e464"
      },
      "execution_count": 90,
      "outputs": [
        {
          "output_type": "stream",
          "name": "stdout",
          "text": [
            "9/9 [==============================] - 0s 3ms/step - loss: 3171.5774 - mae: 3171.5774\n"
          ]
        }
      ]
    },
    {
      "cell_type": "code",
      "source": [
        "#one of the main benefits of normalization is faster convergence time"
      ],
      "metadata": {
        "id": "u6Dh3I5f3byB"
      },
      "execution_count": 91,
      "outputs": []
    },
    {
      "cell_type": "markdown",
      "source": [
        " * Building a larger model with 4 dense layers."
      ],
      "metadata": {
        "id": "5DxF9pHf3nRy"
      }
    },
    {
      "cell_type": "code",
      "source": [
        "insurance_model_4dense=tf.keras.Sequential([\n",
        "        tf.keras.layers.Dense(1000),\n",
        "        tf.keras.layers.Dense(100),\n",
        "        tf.keras.layers.Dense(10),\n",
        "        tf.keras.layers.Dense(1), #output layer                                    \n",
        "])\n",
        "\n",
        "#compile the model\n",
        "insurance_model_4dense.compile(\n",
        "    loss=tf.keras.losses.mae,\n",
        "    optimizer=tf.keras.optimizers.Adam(),\n",
        "    metrics=['mae']\n",
        ")\n",
        "\n",
        "#fit the model for 200 epochs\n",
        "insurance_model_4dense.fit(X_train_normal, Y_train, epochs=200)"
      ],
      "metadata": {
        "colab": {
          "base_uri": "https://localhost:8080/"
        },
        "id": "J1pofUghOakP",
        "outputId": "f1d6abfd-9145-4dc5-c7e4-77410e9cedf0"
      },
      "execution_count": 92,
      "outputs": [
        {
          "output_type": "stream",
          "name": "stdout",
          "text": [
            "Epoch 1/200\n",
            "34/34 [==============================] - 1s 9ms/step - loss: 13297.4092 - mae: 13297.4092\n",
            "Epoch 2/200\n",
            "34/34 [==============================] - 0s 7ms/step - loss: 12533.7021 - mae: 12533.7021\n",
            "Epoch 3/200\n",
            "34/34 [==============================] - 0s 7ms/step - loss: 9508.4912 - mae: 9508.4912\n",
            "Epoch 4/200\n",
            "34/34 [==============================] - 0s 6ms/step - loss: 7857.6260 - mae: 7857.6260\n",
            "Epoch 5/200\n",
            "34/34 [==============================] - 0s 8ms/step - loss: 7529.5029 - mae: 7529.5029\n",
            "Epoch 6/200\n",
            "34/34 [==============================] - 0s 7ms/step - loss: 7176.0156 - mae: 7176.0156\n",
            "Epoch 7/200\n",
            "34/34 [==============================] - 0s 5ms/step - loss: 6683.5479 - mae: 6683.5479\n",
            "Epoch 8/200\n",
            "34/34 [==============================] - 0s 7ms/step - loss: 5991.7471 - mae: 5991.7471\n",
            "Epoch 9/200\n",
            "34/34 [==============================] - 0s 6ms/step - loss: 5003.1641 - mae: 5003.1641\n",
            "Epoch 10/200\n",
            "34/34 [==============================] - 0s 7ms/step - loss: 4041.6340 - mae: 4041.6340\n",
            "Epoch 11/200\n",
            "34/34 [==============================] - 0s 5ms/step - loss: 3692.4299 - mae: 3692.4299\n",
            "Epoch 12/200\n",
            "34/34 [==============================] - 0s 6ms/step - loss: 3649.5044 - mae: 3649.5044\n",
            "Epoch 13/200\n",
            "34/34 [==============================] - 0s 6ms/step - loss: 3639.3862 - mae: 3639.3862\n",
            "Epoch 14/200\n",
            "34/34 [==============================] - 0s 8ms/step - loss: 3639.1260 - mae: 3639.1260\n",
            "Epoch 15/200\n",
            "34/34 [==============================] - 0s 7ms/step - loss: 3613.2131 - mae: 3613.2131\n",
            "Epoch 16/200\n",
            "34/34 [==============================] - 0s 5ms/step - loss: 3602.5720 - mae: 3602.5720\n",
            "Epoch 17/200\n",
            "34/34 [==============================] - 0s 6ms/step - loss: 3588.4492 - mae: 3588.4492\n",
            "Epoch 18/200\n",
            "34/34 [==============================] - 0s 6ms/step - loss: 3563.9001 - mae: 3563.9001\n",
            "Epoch 19/200\n",
            "34/34 [==============================] - 0s 6ms/step - loss: 3570.2583 - mae: 3570.2583\n",
            "Epoch 20/200\n",
            "34/34 [==============================] - 0s 8ms/step - loss: 3542.5996 - mae: 3542.5996\n",
            "Epoch 21/200\n",
            "34/34 [==============================] - 0s 8ms/step - loss: 3536.2573 - mae: 3536.2573\n",
            "Epoch 22/200\n",
            "34/34 [==============================] - 0s 6ms/step - loss: 3515.9155 - mae: 3515.9155\n",
            "Epoch 23/200\n",
            "34/34 [==============================] - 0s 7ms/step - loss: 3514.5857 - mae: 3514.5857\n",
            "Epoch 24/200\n",
            "34/34 [==============================] - 0s 7ms/step - loss: 3507.2209 - mae: 3507.2209\n",
            "Epoch 25/200\n",
            "34/34 [==============================] - 0s 7ms/step - loss: 3527.9177 - mae: 3527.9177\n",
            "Epoch 26/200\n",
            "34/34 [==============================] - 0s 6ms/step - loss: 3488.0249 - mae: 3488.0249\n",
            "Epoch 27/200\n",
            "34/34 [==============================] - 0s 7ms/step - loss: 3488.8054 - mae: 3488.8054\n",
            "Epoch 28/200\n",
            "34/34 [==============================] - 0s 6ms/step - loss: 3503.3101 - mae: 3503.3101\n",
            "Epoch 29/200\n",
            "34/34 [==============================] - 0s 6ms/step - loss: 3503.1804 - mae: 3503.1804\n",
            "Epoch 30/200\n",
            "34/34 [==============================] - 0s 5ms/step - loss: 3509.5737 - mae: 3509.5737\n",
            "Epoch 31/200\n",
            "34/34 [==============================] - 0s 7ms/step - loss: 3497.4573 - mae: 3497.4573\n",
            "Epoch 32/200\n",
            "34/34 [==============================] - 0s 7ms/step - loss: 3507.3438 - mae: 3507.3438\n",
            "Epoch 33/200\n",
            "34/34 [==============================] - 0s 6ms/step - loss: 3503.3472 - mae: 3503.3472\n",
            "Epoch 34/200\n",
            "34/34 [==============================] - 0s 5ms/step - loss: 3484.7109 - mae: 3484.7109\n",
            "Epoch 35/200\n",
            "34/34 [==============================] - 0s 6ms/step - loss: 3491.6577 - mae: 3491.6577\n",
            "Epoch 36/200\n",
            "34/34 [==============================] - 0s 7ms/step - loss: 3495.6035 - mae: 3495.6035\n",
            "Epoch 37/200\n",
            "34/34 [==============================] - 0s 8ms/step - loss: 3492.3555 - mae: 3492.3555\n",
            "Epoch 38/200\n",
            "34/34 [==============================] - 0s 5ms/step - loss: 3501.0845 - mae: 3501.0845\n",
            "Epoch 39/200\n",
            "34/34 [==============================] - 0s 6ms/step - loss: 3487.3496 - mae: 3487.3496\n",
            "Epoch 40/200\n",
            "34/34 [==============================] - 0s 7ms/step - loss: 3519.6826 - mae: 3519.6826\n",
            "Epoch 41/200\n",
            "34/34 [==============================] - 0s 9ms/step - loss: 3504.1052 - mae: 3504.1052\n",
            "Epoch 42/200\n",
            "34/34 [==============================] - 0s 8ms/step - loss: 3494.7117 - mae: 3494.7117\n",
            "Epoch 43/200\n",
            "34/34 [==============================] - 0s 8ms/step - loss: 3491.8350 - mae: 3491.8350\n",
            "Epoch 44/200\n",
            "34/34 [==============================] - 0s 8ms/step - loss: 3486.8672 - mae: 3486.8672\n",
            "Epoch 45/200\n",
            "34/34 [==============================] - 0s 9ms/step - loss: 3481.9702 - mae: 3481.9702\n",
            "Epoch 46/200\n",
            "34/34 [==============================] - 0s 9ms/step - loss: 3490.1980 - mae: 3490.1980\n",
            "Epoch 47/200\n",
            "34/34 [==============================] - 0s 8ms/step - loss: 3498.3088 - mae: 3498.3088\n",
            "Epoch 48/200\n",
            "34/34 [==============================] - 0s 10ms/step - loss: 3493.5061 - mae: 3493.5061\n",
            "Epoch 49/200\n",
            "34/34 [==============================] - 0s 9ms/step - loss: 3500.8701 - mae: 3500.8701\n",
            "Epoch 50/200\n",
            "34/34 [==============================] - 0s 10ms/step - loss: 3491.4614 - mae: 3491.4614\n",
            "Epoch 51/200\n",
            "34/34 [==============================] - 0s 9ms/step - loss: 3481.3718 - mae: 3481.3718\n",
            "Epoch 52/200\n",
            "34/34 [==============================] - 0s 9ms/step - loss: 3487.9695 - mae: 3487.9695\n",
            "Epoch 53/200\n",
            "34/34 [==============================] - 0s 11ms/step - loss: 3484.0491 - mae: 3484.0491\n",
            "Epoch 54/200\n",
            "34/34 [==============================] - 0s 9ms/step - loss: 3508.1196 - mae: 3508.1196\n",
            "Epoch 55/200\n",
            "34/34 [==============================] - 0s 11ms/step - loss: 3517.4363 - mae: 3517.4363\n",
            "Epoch 56/200\n",
            "34/34 [==============================] - 0s 8ms/step - loss: 3486.5178 - mae: 3486.5178\n",
            "Epoch 57/200\n",
            "34/34 [==============================] - 0s 10ms/step - loss: 3488.1479 - mae: 3488.1479\n",
            "Epoch 58/200\n",
            "34/34 [==============================] - 0s 9ms/step - loss: 3484.7720 - mae: 3484.7720\n",
            "Epoch 59/200\n",
            "34/34 [==============================] - 0s 8ms/step - loss: 3487.3743 - mae: 3487.3743\n",
            "Epoch 60/200\n",
            "34/34 [==============================] - 0s 9ms/step - loss: 3493.4224 - mae: 3493.4224\n",
            "Epoch 61/200\n",
            "34/34 [==============================] - 0s 8ms/step - loss: 3496.9961 - mae: 3496.9961\n",
            "Epoch 62/200\n",
            "34/34 [==============================] - 0s 8ms/step - loss: 3493.9402 - mae: 3493.9402\n",
            "Epoch 63/200\n",
            "34/34 [==============================] - 0s 9ms/step - loss: 3484.0608 - mae: 3484.0608\n",
            "Epoch 64/200\n",
            "34/34 [==============================] - 0s 7ms/step - loss: 3489.6465 - mae: 3489.6465\n",
            "Epoch 65/200\n",
            "34/34 [==============================] - 0s 8ms/step - loss: 3485.1611 - mae: 3485.1611\n",
            "Epoch 66/200\n",
            "34/34 [==============================] - 0s 11ms/step - loss: 3500.7168 - mae: 3500.7168\n",
            "Epoch 67/200\n",
            "34/34 [==============================] - 0s 14ms/step - loss: 3486.3740 - mae: 3486.3740\n",
            "Epoch 68/200\n",
            "34/34 [==============================] - 1s 15ms/step - loss: 3490.2732 - mae: 3490.2732\n",
            "Epoch 69/200\n",
            "34/34 [==============================] - 0s 12ms/step - loss: 3482.9036 - mae: 3482.9036\n",
            "Epoch 70/200\n",
            "34/34 [==============================] - 0s 8ms/step - loss: 3492.0869 - mae: 3492.0869\n",
            "Epoch 71/200\n",
            "34/34 [==============================] - 0s 7ms/step - loss: 3495.0359 - mae: 3495.0359\n",
            "Epoch 72/200\n",
            "34/34 [==============================] - 0s 6ms/step - loss: 3490.8823 - mae: 3490.8823\n",
            "Epoch 73/200\n",
            "34/34 [==============================] - 0s 7ms/step - loss: 3500.8579 - mae: 3500.8579\n",
            "Epoch 74/200\n",
            "34/34 [==============================] - 0s 11ms/step - loss: 3488.5276 - mae: 3488.5276\n",
            "Epoch 75/200\n",
            "34/34 [==============================] - 0s 10ms/step - loss: 3479.7351 - mae: 3479.7351\n",
            "Epoch 76/200\n",
            "34/34 [==============================] - 0s 10ms/step - loss: 3492.0928 - mae: 3492.0928\n",
            "Epoch 77/200\n",
            "34/34 [==============================] - 0s 9ms/step - loss: 3484.5403 - mae: 3484.5403\n",
            "Epoch 78/200\n",
            "34/34 [==============================] - 0s 9ms/step - loss: 3492.2246 - mae: 3492.2246\n",
            "Epoch 79/200\n",
            "34/34 [==============================] - 0s 6ms/step - loss: 3489.3098 - mae: 3489.3098\n",
            "Epoch 80/200\n",
            "34/34 [==============================] - 0s 9ms/step - loss: 3495.7908 - mae: 3495.7908\n",
            "Epoch 81/200\n",
            "34/34 [==============================] - 0s 9ms/step - loss: 3495.0918 - mae: 3495.0918\n",
            "Epoch 82/200\n",
            "34/34 [==============================] - 0s 9ms/step - loss: 3492.8152 - mae: 3492.8152\n",
            "Epoch 83/200\n",
            "34/34 [==============================] - 0s 9ms/step - loss: 3493.5625 - mae: 3493.5625\n",
            "Epoch 84/200\n",
            "34/34 [==============================] - 0s 8ms/step - loss: 3492.8608 - mae: 3492.8608\n",
            "Epoch 85/200\n",
            "34/34 [==============================] - 0s 7ms/step - loss: 3481.7190 - mae: 3481.7190\n",
            "Epoch 86/200\n",
            "34/34 [==============================] - 0s 8ms/step - loss: 3481.5947 - mae: 3481.5947\n",
            "Epoch 87/200\n",
            "34/34 [==============================] - 0s 8ms/step - loss: 3489.7009 - mae: 3489.7009\n",
            "Epoch 88/200\n",
            "34/34 [==============================] - 0s 9ms/step - loss: 3488.8696 - mae: 3488.8696\n",
            "Epoch 89/200\n",
            "34/34 [==============================] - 0s 11ms/step - loss: 3487.4539 - mae: 3487.4539\n",
            "Epoch 90/200\n",
            "34/34 [==============================] - 0s 13ms/step - loss: 3489.3823 - mae: 3489.3823\n",
            "Epoch 91/200\n",
            "34/34 [==============================] - 0s 13ms/step - loss: 3486.1851 - mae: 3486.1851\n",
            "Epoch 92/200\n",
            "34/34 [==============================] - 0s 13ms/step - loss: 3500.4309 - mae: 3500.4309\n",
            "Epoch 93/200\n",
            "34/34 [==============================] - 0s 6ms/step - loss: 3489.1145 - mae: 3489.1145\n",
            "Epoch 94/200\n",
            "34/34 [==============================] - 0s 8ms/step - loss: 3487.5217 - mae: 3487.5217\n",
            "Epoch 95/200\n",
            "34/34 [==============================] - 0s 7ms/step - loss: 3487.4189 - mae: 3487.4189\n",
            "Epoch 96/200\n",
            "34/34 [==============================] - 0s 6ms/step - loss: 3491.5037 - mae: 3491.5037\n",
            "Epoch 97/200\n",
            "34/34 [==============================] - 0s 9ms/step - loss: 3500.7463 - mae: 3500.7463\n",
            "Epoch 98/200\n",
            "34/34 [==============================] - 0s 7ms/step - loss: 3481.2688 - mae: 3481.2688\n",
            "Epoch 99/200\n",
            "34/34 [==============================] - 0s 8ms/step - loss: 3507.4622 - mae: 3507.4622\n",
            "Epoch 100/200\n",
            "34/34 [==============================] - 0s 11ms/step - loss: 3492.4968 - mae: 3492.4968\n",
            "Epoch 101/200\n",
            "34/34 [==============================] - 0s 8ms/step - loss: 3491.3030 - mae: 3491.3030\n",
            "Epoch 102/200\n",
            "34/34 [==============================] - 0s 8ms/step - loss: 3491.2273 - mae: 3491.2273\n",
            "Epoch 103/200\n",
            "34/34 [==============================] - 0s 8ms/step - loss: 3497.1365 - mae: 3497.1365\n",
            "Epoch 104/200\n",
            "34/34 [==============================] - 0s 7ms/step - loss: 3480.4370 - mae: 3480.4370\n",
            "Epoch 105/200\n",
            "34/34 [==============================] - 0s 7ms/step - loss: 3498.8350 - mae: 3498.8350\n",
            "Epoch 106/200\n",
            "34/34 [==============================] - 0s 5ms/step - loss: 3488.0186 - mae: 3488.0186\n",
            "Epoch 107/200\n",
            "34/34 [==============================] - 0s 5ms/step - loss: 3479.5530 - mae: 3479.5530\n",
            "Epoch 108/200\n",
            "34/34 [==============================] - 0s 9ms/step - loss: 3489.7432 - mae: 3489.7432\n",
            "Epoch 109/200\n",
            "34/34 [==============================] - 0s 6ms/step - loss: 3488.5259 - mae: 3488.5259\n",
            "Epoch 110/200\n",
            "34/34 [==============================] - 0s 8ms/step - loss: 3483.8364 - mae: 3483.8364\n",
            "Epoch 111/200\n",
            "34/34 [==============================] - 0s 10ms/step - loss: 3499.8877 - mae: 3499.8877\n",
            "Epoch 112/200\n",
            "34/34 [==============================] - 0s 7ms/step - loss: 3492.5786 - mae: 3492.5786\n",
            "Epoch 113/200\n",
            "34/34 [==============================] - 0s 4ms/step - loss: 3496.5457 - mae: 3496.5457\n",
            "Epoch 114/200\n",
            "34/34 [==============================] - 0s 4ms/step - loss: 3499.1895 - mae: 3499.1895\n",
            "Epoch 115/200\n",
            "34/34 [==============================] - 0s 4ms/step - loss: 3522.5190 - mae: 3522.5190\n",
            "Epoch 116/200\n",
            "34/34 [==============================] - 0s 4ms/step - loss: 3500.4766 - mae: 3500.4766\n",
            "Epoch 117/200\n",
            "34/34 [==============================] - 0s 5ms/step - loss: 3495.9800 - mae: 3495.9800\n",
            "Epoch 118/200\n",
            "34/34 [==============================] - 0s 4ms/step - loss: 3485.3386 - mae: 3485.3386\n",
            "Epoch 119/200\n",
            "34/34 [==============================] - 0s 4ms/step - loss: 3485.6096 - mae: 3485.6096\n",
            "Epoch 120/200\n",
            "34/34 [==============================] - 0s 4ms/step - loss: 3482.3635 - mae: 3482.3635\n",
            "Epoch 121/200\n",
            "34/34 [==============================] - 0s 4ms/step - loss: 3501.7112 - mae: 3501.7112\n",
            "Epoch 122/200\n",
            "34/34 [==============================] - 0s 5ms/step - loss: 3508.2192 - mae: 3508.2192\n",
            "Epoch 123/200\n",
            "34/34 [==============================] - 0s 5ms/step - loss: 3496.8984 - mae: 3496.8984\n",
            "Epoch 124/200\n",
            "34/34 [==============================] - 0s 5ms/step - loss: 3487.6182 - mae: 3487.6182\n",
            "Epoch 125/200\n",
            "34/34 [==============================] - 0s 4ms/step - loss: 3497.9592 - mae: 3497.9592\n",
            "Epoch 126/200\n",
            "34/34 [==============================] - 0s 4ms/step - loss: 3498.8557 - mae: 3498.8557\n",
            "Epoch 127/200\n",
            "34/34 [==============================] - 0s 4ms/step - loss: 3494.2019 - mae: 3494.2019\n",
            "Epoch 128/200\n",
            "34/34 [==============================] - 0s 4ms/step - loss: 3495.3083 - mae: 3495.3083\n",
            "Epoch 129/200\n",
            "34/34 [==============================] - 0s 4ms/step - loss: 3520.4832 - mae: 3520.4832\n",
            "Epoch 130/200\n",
            "34/34 [==============================] - 0s 5ms/step - loss: 3492.9912 - mae: 3492.9912\n",
            "Epoch 131/200\n",
            "34/34 [==============================] - 0s 4ms/step - loss: 3486.6548 - mae: 3486.6548\n",
            "Epoch 132/200\n",
            "34/34 [==============================] - 0s 4ms/step - loss: 3493.2134 - mae: 3493.2134\n",
            "Epoch 133/200\n",
            "34/34 [==============================] - 0s 4ms/step - loss: 3487.4082 - mae: 3487.4082\n",
            "Epoch 134/200\n",
            "34/34 [==============================] - 0s 4ms/step - loss: 3486.7578 - mae: 3486.7578\n",
            "Epoch 135/200\n",
            "34/34 [==============================] - 0s 4ms/step - loss: 3488.4619 - mae: 3488.4619\n",
            "Epoch 136/200\n",
            "34/34 [==============================] - 0s 4ms/step - loss: 3479.9937 - mae: 3479.9937\n",
            "Epoch 137/200\n",
            "34/34 [==============================] - 0s 5ms/step - loss: 3488.1003 - mae: 3488.1003\n",
            "Epoch 138/200\n",
            "34/34 [==============================] - 0s 4ms/step - loss: 3491.7908 - mae: 3491.7908\n",
            "Epoch 139/200\n",
            "34/34 [==============================] - 0s 4ms/step - loss: 3488.4883 - mae: 3488.4883\n",
            "Epoch 140/200\n",
            "34/34 [==============================] - 0s 4ms/step - loss: 3491.7349 - mae: 3491.7349\n",
            "Epoch 141/200\n",
            "34/34 [==============================] - 0s 5ms/step - loss: 3502.4741 - mae: 3502.4741\n",
            "Epoch 142/200\n",
            "34/34 [==============================] - 0s 5ms/step - loss: 3501.9353 - mae: 3501.9353\n",
            "Epoch 143/200\n",
            "34/34 [==============================] - 0s 5ms/step - loss: 3481.8611 - mae: 3481.8611\n",
            "Epoch 144/200\n",
            "34/34 [==============================] - 0s 4ms/step - loss: 3491.0923 - mae: 3491.0923\n",
            "Epoch 145/200\n",
            "34/34 [==============================] - 0s 4ms/step - loss: 3488.7339 - mae: 3488.7339\n",
            "Epoch 146/200\n",
            "34/34 [==============================] - 0s 4ms/step - loss: 3503.5444 - mae: 3503.5444\n",
            "Epoch 147/200\n",
            "34/34 [==============================] - 0s 4ms/step - loss: 3507.9644 - mae: 3507.9644\n",
            "Epoch 148/200\n",
            "34/34 [==============================] - 0s 4ms/step - loss: 3497.9968 - mae: 3497.9968\n",
            "Epoch 149/200\n",
            "34/34 [==============================] - 0s 4ms/step - loss: 3489.5193 - mae: 3489.5193\n",
            "Epoch 150/200\n",
            "34/34 [==============================] - 0s 4ms/step - loss: 3482.7817 - mae: 3482.7817\n",
            "Epoch 151/200\n",
            "34/34 [==============================] - 0s 4ms/step - loss: 3495.0081 - mae: 3495.0081\n",
            "Epoch 152/200\n",
            "34/34 [==============================] - 0s 4ms/step - loss: 3494.3745 - mae: 3494.3745\n",
            "Epoch 153/200\n",
            "34/34 [==============================] - 0s 4ms/step - loss: 3501.7690 - mae: 3501.7690\n",
            "Epoch 154/200\n",
            "34/34 [==============================] - 0s 4ms/step - loss: 3488.3345 - mae: 3488.3345\n",
            "Epoch 155/200\n",
            "34/34 [==============================] - 0s 5ms/step - loss: 3492.9917 - mae: 3492.9917\n",
            "Epoch 156/200\n",
            "34/34 [==============================] - 0s 4ms/step - loss: 3486.0793 - mae: 3486.0793\n",
            "Epoch 157/200\n",
            "34/34 [==============================] - 0s 5ms/step - loss: 3505.2231 - mae: 3505.2231\n",
            "Epoch 158/200\n",
            "34/34 [==============================] - 0s 4ms/step - loss: 3489.8994 - mae: 3489.8994\n",
            "Epoch 159/200\n",
            "34/34 [==============================] - 0s 4ms/step - loss: 3478.9568 - mae: 3478.9568\n",
            "Epoch 160/200\n",
            "34/34 [==============================] - 0s 4ms/step - loss: 3495.3386 - mae: 3495.3386\n",
            "Epoch 161/200\n",
            "34/34 [==============================] - 0s 4ms/step - loss: 3490.2922 - mae: 3490.2922\n",
            "Epoch 162/200\n",
            "34/34 [==============================] - 0s 4ms/step - loss: 3483.5845 - mae: 3483.5845\n",
            "Epoch 163/200\n",
            "34/34 [==============================] - 0s 5ms/step - loss: 3484.8884 - mae: 3484.8884\n",
            "Epoch 164/200\n",
            "34/34 [==============================] - 0s 4ms/step - loss: 3490.4702 - mae: 3490.4702\n",
            "Epoch 165/200\n",
            "34/34 [==============================] - 0s 4ms/step - loss: 3480.0098 - mae: 3480.0098\n",
            "Epoch 166/200\n",
            "34/34 [==============================] - 0s 4ms/step - loss: 3484.1189 - mae: 3484.1189\n",
            "Epoch 167/200\n",
            "34/34 [==============================] - 0s 4ms/step - loss: 3489.5681 - mae: 3489.5681\n",
            "Epoch 168/200\n",
            "34/34 [==============================] - 0s 4ms/step - loss: 3486.1162 - mae: 3486.1162\n",
            "Epoch 169/200\n",
            "34/34 [==============================] - 0s 4ms/step - loss: 3486.1394 - mae: 3486.1394\n",
            "Epoch 170/200\n",
            "34/34 [==============================] - 0s 5ms/step - loss: 3483.9148 - mae: 3483.9148\n",
            "Epoch 171/200\n",
            "34/34 [==============================] - 0s 4ms/step - loss: 3498.7581 - mae: 3498.7581\n",
            "Epoch 172/200\n",
            "34/34 [==============================] - 0s 4ms/step - loss: 3492.2170 - mae: 3492.2170\n",
            "Epoch 173/200\n",
            "34/34 [==============================] - 0s 4ms/step - loss: 3484.5303 - mae: 3484.5303\n",
            "Epoch 174/200\n",
            "34/34 [==============================] - 0s 5ms/step - loss: 3495.7556 - mae: 3495.7556\n",
            "Epoch 175/200\n",
            "34/34 [==============================] - 0s 4ms/step - loss: 3484.6152 - mae: 3484.6152\n",
            "Epoch 176/200\n",
            "34/34 [==============================] - 0s 5ms/step - loss: 3506.5850 - mae: 3506.5850\n",
            "Epoch 177/200\n",
            "34/34 [==============================] - 0s 4ms/step - loss: 3493.6777 - mae: 3493.6777\n",
            "Epoch 178/200\n",
            "34/34 [==============================] - 0s 5ms/step - loss: 3483.8818 - mae: 3483.8818\n",
            "Epoch 179/200\n",
            "34/34 [==============================] - 0s 4ms/step - loss: 3510.2051 - mae: 3510.2051\n",
            "Epoch 180/200\n",
            "34/34 [==============================] - 0s 4ms/step - loss: 3496.5396 - mae: 3496.5396\n",
            "Epoch 181/200\n",
            "34/34 [==============================] - 0s 5ms/step - loss: 3491.4688 - mae: 3491.4688\n",
            "Epoch 182/200\n",
            "34/34 [==============================] - 0s 4ms/step - loss: 3491.2017 - mae: 3491.2017\n",
            "Epoch 183/200\n",
            "34/34 [==============================] - 0s 4ms/step - loss: 3487.4504 - mae: 3487.4504\n",
            "Epoch 184/200\n",
            "34/34 [==============================] - 0s 4ms/step - loss: 3501.5566 - mae: 3501.5566\n",
            "Epoch 185/200\n",
            "34/34 [==============================] - 0s 4ms/step - loss: 3493.1057 - mae: 3493.1057\n",
            "Epoch 186/200\n",
            "34/34 [==============================] - 0s 4ms/step - loss: 3519.5696 - mae: 3519.5696\n",
            "Epoch 187/200\n",
            "34/34 [==============================] - 0s 4ms/step - loss: 3510.6016 - mae: 3510.6016\n",
            "Epoch 188/200\n",
            "34/34 [==============================] - 0s 4ms/step - loss: 3491.0315 - mae: 3491.0315\n",
            "Epoch 189/200\n",
            "34/34 [==============================] - 0s 4ms/step - loss: 3486.7788 - mae: 3486.7788\n",
            "Epoch 190/200\n",
            "34/34 [==============================] - 0s 5ms/step - loss: 3498.4614 - mae: 3498.4614\n",
            "Epoch 191/200\n",
            "34/34 [==============================] - 0s 4ms/step - loss: 3508.6367 - mae: 3508.6367\n",
            "Epoch 192/200\n",
            "34/34 [==============================] - 0s 5ms/step - loss: 3491.9639 - mae: 3491.9639\n",
            "Epoch 193/200\n",
            "34/34 [==============================] - 0s 5ms/step - loss: 3492.8440 - mae: 3492.8440\n",
            "Epoch 194/200\n",
            "34/34 [==============================] - 0s 4ms/step - loss: 3497.1189 - mae: 3497.1189\n",
            "Epoch 195/200\n",
            "34/34 [==============================] - 0s 5ms/step - loss: 3480.6614 - mae: 3480.6614\n",
            "Epoch 196/200\n",
            "34/34 [==============================] - 0s 5ms/step - loss: 3498.4285 - mae: 3498.4285\n",
            "Epoch 197/200\n",
            "34/34 [==============================] - 0s 4ms/step - loss: 3488.7336 - mae: 3488.7336\n",
            "Epoch 198/200\n",
            "34/34 [==============================] - 0s 4ms/step - loss: 3502.7346 - mae: 3502.7346\n",
            "Epoch 199/200\n",
            "34/34 [==============================] - 0s 4ms/step - loss: 3491.1433 - mae: 3491.1433\n",
            "Epoch 200/200\n",
            "34/34 [==============================] - 0s 5ms/step - loss: 3487.1960 - mae: 3487.1960\n"
          ]
        },
        {
          "output_type": "execute_result",
          "data": {
            "text/plain": [
              "<keras.callbacks.History at 0x7fe979776ad0>"
            ]
          },
          "metadata": {},
          "execution_count": 92
        }
      ]
    },
    {
      "cell_type": "code",
      "source": [
        "insurance_model_3_loss, insurance_model_3_mae"
      ],
      "metadata": {
        "colab": {
          "base_uri": "https://localhost:8080/"
        },
        "id": "pRFwbEWPP3Gt",
        "outputId": "cc7c8453-9702-4225-c72c-18273e2cc088"
      },
      "execution_count": 93,
      "outputs": [
        {
          "output_type": "execute_result",
          "data": {
            "text/plain": [
              "(3171.577392578125, 3171.577392578125)"
            ]
          },
          "metadata": {},
          "execution_count": 93
        }
      ]
    },
    {
      "cell_type": "code",
      "source": [
        "#evaluate the 4 dense model\n",
        "insurance_model_4dense_loss, insurance_model_4dense_mae= insurance_model_4dense.evaluate(X_test_normal, Y_test)"
      ],
      "metadata": {
        "colab": {
          "base_uri": "https://localhost:8080/"
        },
        "id": "2PJ_qgh3QGte",
        "outputId": "2dfa999a-458e-47e1-84c3-36b0710ec14f"
      },
      "execution_count": 94,
      "outputs": [
        {
          "output_type": "stream",
          "name": "stdout",
          "text": [
            "9/9 [==============================] - 0s 2ms/step - loss: 3169.9792 - mae: 3169.9792\n"
          ]
        }
      ]
    },
    {
      "cell_type": "code",
      "source": [
        "#result==> model performs slightly better"
      ],
      "metadata": {
        "id": "fj_PJPZQQkJb"
      },
      "execution_count": 95,
      "outputs": []
    },
    {
      "cell_type": "markdown",
      "source": [
        " * Increasing the number of units in each layer by 1 order of magnitude\n"
      ],
      "metadata": {
        "id": "ygS8DwlP4OMY"
      }
    },
    {
      "cell_type": "code",
      "source": [
        "#build the model (3 layers, 10000, 100, 1)\n",
        "insurance_model_increased_units=tf.keras.Sequential([\n",
        "      tf.keras.layers.Dense(10000),\n",
        "      tf.keras.layers.Dense(100),\n",
        "      tf.keras.layers.Dense(1)                                               \n",
        "])\n",
        "\n",
        "#compile the model\n",
        "insurance_model_increased_units.compile(\n",
        "    loss=tf.keras.losses.mae,\n",
        "    optimizer=tf.keras.optimizers.Adam(),\n",
        "    metrics=['mae']\n",
        ")\n",
        "\n",
        "\n",
        "#fit the model on the training data\n",
        "insurance_model_increased_units.fit(X_train_normal, Y_train, epochs=200)"
      ],
      "metadata": {
        "colab": {
          "base_uri": "https://localhost:8080/"
        },
        "id": "n36K_3PIQyE7",
        "outputId": "f4eae505-265c-4491-cdc7-90c919442c5a"
      },
      "execution_count": 96,
      "outputs": [
        {
          "output_type": "stream",
          "name": "stdout",
          "text": [
            "Epoch 1/200\n",
            "34/34 [==============================] - 1s 19ms/step - loss: 13032.2617 - mae: 13032.2617\n",
            "Epoch 2/200\n",
            "34/34 [==============================] - 1s 17ms/step - loss: 10138.6143 - mae: 10138.6143\n",
            "Epoch 3/200\n",
            "34/34 [==============================] - 1s 17ms/step - loss: 7799.5273 - mae: 7799.5273\n",
            "Epoch 4/200\n",
            "34/34 [==============================] - 1s 17ms/step - loss: 7326.6265 - mae: 7326.6265\n",
            "Epoch 5/200\n",
            "34/34 [==============================] - 1s 17ms/step - loss: 6676.0244 - mae: 6676.0244\n",
            "Epoch 6/200\n",
            "34/34 [==============================] - 1s 17ms/step - loss: 5733.3745 - mae: 5733.3745\n",
            "Epoch 7/200\n",
            "34/34 [==============================] - 1s 18ms/step - loss: 4493.2080 - mae: 4493.2080\n",
            "Epoch 8/200\n",
            "34/34 [==============================] - 1s 18ms/step - loss: 3756.2629 - mae: 3756.2629\n",
            "Epoch 9/200\n",
            "34/34 [==============================] - 1s 17ms/step - loss: 3656.5447 - mae: 3656.5447\n",
            "Epoch 10/200\n",
            "34/34 [==============================] - 1s 17ms/step - loss: 3650.0278 - mae: 3650.0278\n",
            "Epoch 11/200\n",
            "34/34 [==============================] - 1s 17ms/step - loss: 3651.1624 - mae: 3651.1624\n",
            "Epoch 12/200\n",
            "34/34 [==============================] - 1s 17ms/step - loss: 3612.8721 - mae: 3612.8721\n",
            "Epoch 13/200\n",
            "34/34 [==============================] - 1s 17ms/step - loss: 3585.6758 - mae: 3585.6758\n",
            "Epoch 14/200\n",
            "34/34 [==============================] - 1s 17ms/step - loss: 3590.8833 - mae: 3590.8833\n",
            "Epoch 15/200\n",
            "34/34 [==============================] - 1s 17ms/step - loss: 3560.9922 - mae: 3560.9922\n",
            "Epoch 16/200\n",
            "34/34 [==============================] - 1s 17ms/step - loss: 3544.7803 - mae: 3544.7803\n",
            "Epoch 17/200\n",
            "34/34 [==============================] - 1s 17ms/step - loss: 3549.1033 - mae: 3549.1033\n",
            "Epoch 18/200\n",
            "34/34 [==============================] - 1s 17ms/step - loss: 3513.7588 - mae: 3513.7588\n",
            "Epoch 19/200\n",
            "34/34 [==============================] - 1s 17ms/step - loss: 3533.6663 - mae: 3533.6663\n",
            "Epoch 20/200\n",
            "34/34 [==============================] - 1s 17ms/step - loss: 3500.2048 - mae: 3500.2048\n",
            "Epoch 21/200\n",
            "34/34 [==============================] - 1s 17ms/step - loss: 3486.6150 - mae: 3486.6150\n",
            "Epoch 22/200\n",
            "34/34 [==============================] - 1s 17ms/step - loss: 3495.8860 - mae: 3495.8860\n",
            "Epoch 23/200\n",
            "34/34 [==============================] - 1s 17ms/step - loss: 3497.9048 - mae: 3497.9048\n",
            "Epoch 24/200\n",
            "34/34 [==============================] - 1s 17ms/step - loss: 3502.0896 - mae: 3502.0896\n",
            "Epoch 25/200\n",
            "34/34 [==============================] - 1s 17ms/step - loss: 3528.0527 - mae: 3528.0527\n",
            "Epoch 26/200\n",
            "34/34 [==============================] - 1s 17ms/step - loss: 3487.3191 - mae: 3487.3191\n",
            "Epoch 27/200\n",
            "34/34 [==============================] - 1s 16ms/step - loss: 3494.0151 - mae: 3494.0151\n",
            "Epoch 28/200\n",
            "34/34 [==============================] - 1s 17ms/step - loss: 3502.5410 - mae: 3502.5410\n",
            "Epoch 29/200\n",
            "34/34 [==============================] - 1s 17ms/step - loss: 3502.5432 - mae: 3502.5432\n",
            "Epoch 30/200\n",
            "34/34 [==============================] - 1s 17ms/step - loss: 3501.2346 - mae: 3501.2346\n",
            "Epoch 31/200\n",
            "34/34 [==============================] - 1s 17ms/step - loss: 3504.3484 - mae: 3504.3484\n",
            "Epoch 32/200\n",
            "34/34 [==============================] - 1s 17ms/step - loss: 3504.8384 - mae: 3504.8384\n",
            "Epoch 33/200\n",
            "34/34 [==============================] - 1s 17ms/step - loss: 3499.3633 - mae: 3499.3633\n",
            "Epoch 34/200\n",
            "34/34 [==============================] - 1s 18ms/step - loss: 3490.3870 - mae: 3490.3870\n",
            "Epoch 35/200\n",
            "34/34 [==============================] - 1s 17ms/step - loss: 3500.2988 - mae: 3500.2988\n",
            "Epoch 36/200\n",
            "34/34 [==============================] - 1s 17ms/step - loss: 3519.3030 - mae: 3519.3030\n",
            "Epoch 37/200\n",
            "34/34 [==============================] - 1s 17ms/step - loss: 3496.0420 - mae: 3496.0420\n",
            "Epoch 38/200\n",
            "34/34 [==============================] - 1s 17ms/step - loss: 3497.8430 - mae: 3497.8430\n",
            "Epoch 39/200\n",
            "34/34 [==============================] - 1s 17ms/step - loss: 3487.8386 - mae: 3487.8386\n",
            "Epoch 40/200\n",
            "34/34 [==============================] - 1s 17ms/step - loss: 3520.0298 - mae: 3520.0298\n",
            "Epoch 41/200\n",
            "34/34 [==============================] - 1s 17ms/step - loss: 3498.8328 - mae: 3498.8328\n",
            "Epoch 42/200\n",
            "34/34 [==============================] - 1s 17ms/step - loss: 3498.2527 - mae: 3498.2527\n",
            "Epoch 43/200\n",
            "34/34 [==============================] - 1s 17ms/step - loss: 3497.0354 - mae: 3497.0354\n",
            "Epoch 44/200\n",
            "34/34 [==============================] - 1s 17ms/step - loss: 3491.1274 - mae: 3491.1274\n",
            "Epoch 45/200\n",
            "34/34 [==============================] - 1s 17ms/step - loss: 3483.5359 - mae: 3483.5359\n",
            "Epoch 46/200\n",
            "34/34 [==============================] - 1s 17ms/step - loss: 3495.7991 - mae: 3495.7991\n",
            "Epoch 47/200\n",
            "34/34 [==============================] - 1s 17ms/step - loss: 3502.7161 - mae: 3502.7161\n",
            "Epoch 48/200\n",
            "34/34 [==============================] - 1s 17ms/step - loss: 3486.4158 - mae: 3486.4158\n",
            "Epoch 49/200\n",
            "34/34 [==============================] - 1s 17ms/step - loss: 3505.8267 - mae: 3505.8267\n",
            "Epoch 50/200\n",
            "34/34 [==============================] - 1s 18ms/step - loss: 3510.1741 - mae: 3510.1741\n",
            "Epoch 51/200\n",
            "34/34 [==============================] - 1s 17ms/step - loss: 3491.2356 - mae: 3491.2356\n",
            "Epoch 52/200\n",
            "34/34 [==============================] - 1s 17ms/step - loss: 3493.1516 - mae: 3493.1516\n",
            "Epoch 53/200\n",
            "34/34 [==============================] - 1s 17ms/step - loss: 3487.5491 - mae: 3487.5491\n",
            "Epoch 54/200\n",
            "34/34 [==============================] - 1s 17ms/step - loss: 3507.3645 - mae: 3507.3645\n",
            "Epoch 55/200\n",
            "34/34 [==============================] - 1s 18ms/step - loss: 3513.4258 - mae: 3513.4258\n",
            "Epoch 56/200\n",
            "34/34 [==============================] - 1s 17ms/step - loss: 3491.0593 - mae: 3491.0593\n",
            "Epoch 57/200\n",
            "34/34 [==============================] - 1s 17ms/step - loss: 3496.3723 - mae: 3496.3723\n",
            "Epoch 58/200\n",
            "34/34 [==============================] - 1s 16ms/step - loss: 3489.2339 - mae: 3489.2339\n",
            "Epoch 59/200\n",
            "34/34 [==============================] - 1s 18ms/step - loss: 3491.1057 - mae: 3491.1057\n",
            "Epoch 60/200\n",
            "34/34 [==============================] - 1s 17ms/step - loss: 3497.4814 - mae: 3497.4814\n",
            "Epoch 61/200\n",
            "34/34 [==============================] - 1s 17ms/step - loss: 3503.1421 - mae: 3503.1421\n",
            "Epoch 62/200\n",
            "34/34 [==============================] - 1s 17ms/step - loss: 3493.1062 - mae: 3493.1062\n",
            "Epoch 63/200\n",
            "34/34 [==============================] - 1s 17ms/step - loss: 3486.1113 - mae: 3486.1113\n",
            "Epoch 64/200\n",
            "34/34 [==============================] - 1s 17ms/step - loss: 3489.1155 - mae: 3489.1155\n",
            "Epoch 65/200\n",
            "34/34 [==============================] - 1s 17ms/step - loss: 3487.9102 - mae: 3487.9102\n",
            "Epoch 66/200\n",
            "34/34 [==============================] - 1s 17ms/step - loss: 3503.0828 - mae: 3503.0828\n",
            "Epoch 67/200\n",
            "34/34 [==============================] - 1s 17ms/step - loss: 3500.4644 - mae: 3500.4644\n",
            "Epoch 68/200\n",
            "34/34 [==============================] - 1s 17ms/step - loss: 3488.2793 - mae: 3488.2793\n",
            "Epoch 69/200\n",
            "34/34 [==============================] - 1s 17ms/step - loss: 3486.9668 - mae: 3486.9668\n",
            "Epoch 70/200\n",
            "34/34 [==============================] - 1s 17ms/step - loss: 3491.1619 - mae: 3491.1619\n",
            "Epoch 71/200\n",
            "34/34 [==============================] - 1s 18ms/step - loss: 3491.7317 - mae: 3491.7317\n",
            "Epoch 72/200\n",
            "34/34 [==============================] - 1s 17ms/step - loss: 3490.6304 - mae: 3490.6304\n",
            "Epoch 73/200\n",
            "34/34 [==============================] - 1s 17ms/step - loss: 3512.4458 - mae: 3512.4458\n",
            "Epoch 74/200\n",
            "34/34 [==============================] - 1s 17ms/step - loss: 3505.5291 - mae: 3505.5291\n",
            "Epoch 75/200\n",
            "34/34 [==============================] - 1s 17ms/step - loss: 3482.0071 - mae: 3482.0071\n",
            "Epoch 76/200\n",
            "34/34 [==============================] - 1s 18ms/step - loss: 3496.2632 - mae: 3496.2632\n",
            "Epoch 77/200\n",
            "34/34 [==============================] - 1s 17ms/step - loss: 3485.9595 - mae: 3485.9595\n",
            "Epoch 78/200\n",
            "34/34 [==============================] - 1s 17ms/step - loss: 3495.1074 - mae: 3495.1074\n",
            "Epoch 79/200\n",
            "34/34 [==============================] - 1s 17ms/step - loss: 3502.3459 - mae: 3502.3459\n",
            "Epoch 80/200\n",
            "34/34 [==============================] - 1s 17ms/step - loss: 3508.4402 - mae: 3508.4402\n",
            "Epoch 81/200\n",
            "34/34 [==============================] - 1s 17ms/step - loss: 3500.7654 - mae: 3500.7654\n",
            "Epoch 82/200\n",
            "34/34 [==============================] - 1s 17ms/step - loss: 3494.5361 - mae: 3494.5361\n",
            "Epoch 83/200\n",
            "34/34 [==============================] - 1s 17ms/step - loss: 3497.3560 - mae: 3497.3560\n",
            "Epoch 84/200\n",
            "34/34 [==============================] - 1s 17ms/step - loss: 3506.1558 - mae: 3506.1558\n",
            "Epoch 85/200\n",
            "34/34 [==============================] - 1s 17ms/step - loss: 3482.5232 - mae: 3482.5232\n",
            "Epoch 86/200\n",
            "34/34 [==============================] - 1s 17ms/step - loss: 3488.3850 - mae: 3488.3850\n",
            "Epoch 87/200\n",
            "34/34 [==============================] - 1s 17ms/step - loss: 3489.7031 - mae: 3489.7031\n",
            "Epoch 88/200\n",
            "34/34 [==============================] - 1s 17ms/step - loss: 3486.4705 - mae: 3486.4705\n",
            "Epoch 89/200\n",
            "34/34 [==============================] - 1s 18ms/step - loss: 3491.0601 - mae: 3491.0601\n",
            "Epoch 90/200\n",
            "34/34 [==============================] - 1s 18ms/step - loss: 3489.4939 - mae: 3489.4939\n",
            "Epoch 91/200\n",
            "34/34 [==============================] - 1s 17ms/step - loss: 3487.3696 - mae: 3487.3696\n",
            "Epoch 92/200\n",
            "34/34 [==============================] - 1s 20ms/step - loss: 3498.7058 - mae: 3498.7058\n",
            "Epoch 93/200\n",
            "34/34 [==============================] - 1s 30ms/step - loss: 3495.6892 - mae: 3495.6892\n",
            "Epoch 94/200\n",
            "34/34 [==============================] - 1s 30ms/step - loss: 3491.0205 - mae: 3491.0205\n",
            "Epoch 95/200\n",
            "34/34 [==============================] - 1s 36ms/step - loss: 3492.2231 - mae: 3492.2231\n",
            "Epoch 96/200\n",
            "34/34 [==============================] - 1s 31ms/step - loss: 3497.7844 - mae: 3497.7844\n",
            "Epoch 97/200\n",
            "34/34 [==============================] - 1s 34ms/step - loss: 3508.1809 - mae: 3508.1809\n",
            "Epoch 98/200\n",
            "34/34 [==============================] - 1s 32ms/step - loss: 3484.1223 - mae: 3484.1223\n",
            "Epoch 99/200\n",
            "34/34 [==============================] - 1s 38ms/step - loss: 3512.1416 - mae: 3512.1416\n",
            "Epoch 100/200\n",
            "34/34 [==============================] - 1s 29ms/step - loss: 3493.5190 - mae: 3493.5190\n",
            "Epoch 101/200\n",
            "34/34 [==============================] - 1s 29ms/step - loss: 3495.1665 - mae: 3495.1665\n",
            "Epoch 102/200\n",
            "34/34 [==============================] - 1s 32ms/step - loss: 3499.3740 - mae: 3499.3740\n",
            "Epoch 103/200\n",
            "34/34 [==============================] - 1s 32ms/step - loss: 3517.0549 - mae: 3517.0549\n",
            "Epoch 104/200\n",
            "34/34 [==============================] - 1s 29ms/step - loss: 3484.5349 - mae: 3484.5349\n",
            "Epoch 105/200\n",
            "34/34 [==============================] - 1s 31ms/step - loss: 3510.2556 - mae: 3510.2556\n",
            "Epoch 106/200\n",
            "34/34 [==============================] - 1s 29ms/step - loss: 3497.2437 - mae: 3497.2437\n",
            "Epoch 107/200\n",
            "34/34 [==============================] - 1s 31ms/step - loss: 3481.2629 - mae: 3481.2629\n",
            "Epoch 108/200\n",
            "34/34 [==============================] - 1s 33ms/step - loss: 3492.3640 - mae: 3492.3640\n",
            "Epoch 109/200\n",
            "34/34 [==============================] - 1s 27ms/step - loss: 3492.7961 - mae: 3492.7961\n",
            "Epoch 110/200\n",
            "34/34 [==============================] - 1s 26ms/step - loss: 3484.0476 - mae: 3484.0476\n",
            "Epoch 111/200\n",
            "34/34 [==============================] - 1s 17ms/step - loss: 3507.1553 - mae: 3507.1553\n",
            "Epoch 112/200\n",
            "34/34 [==============================] - 1s 17ms/step - loss: 3498.1765 - mae: 3498.1765\n",
            "Epoch 113/200\n",
            "34/34 [==============================] - 1s 17ms/step - loss: 3514.9478 - mae: 3514.9478\n",
            "Epoch 114/200\n",
            "34/34 [==============================] - 1s 17ms/step - loss: 3496.8005 - mae: 3496.8005\n",
            "Epoch 115/200\n",
            "34/34 [==============================] - 1s 17ms/step - loss: 3493.9036 - mae: 3493.9036\n",
            "Epoch 116/200\n",
            "34/34 [==============================] - 1s 17ms/step - loss: 3505.3252 - mae: 3505.3252\n",
            "Epoch 117/200\n",
            "34/34 [==============================] - 1s 17ms/step - loss: 3490.5984 - mae: 3490.5984\n",
            "Epoch 118/200\n",
            "34/34 [==============================] - 1s 18ms/step - loss: 3491.6379 - mae: 3491.6379\n",
            "Epoch 119/200\n",
            "34/34 [==============================] - 1s 17ms/step - loss: 3488.7673 - mae: 3488.7673\n",
            "Epoch 120/200\n",
            "34/34 [==============================] - 1s 17ms/step - loss: 3490.1694 - mae: 3490.1694\n",
            "Epoch 121/200\n",
            "34/34 [==============================] - 1s 17ms/step - loss: 3505.5471 - mae: 3505.5471\n",
            "Epoch 122/200\n",
            "34/34 [==============================] - 1s 18ms/step - loss: 3499.1890 - mae: 3499.1890\n",
            "Epoch 123/200\n",
            "34/34 [==============================] - 1s 17ms/step - loss: 3505.1982 - mae: 3505.1982\n",
            "Epoch 124/200\n",
            "34/34 [==============================] - 1s 17ms/step - loss: 3491.0439 - mae: 3491.0439\n",
            "Epoch 125/200\n",
            "34/34 [==============================] - 1s 18ms/step - loss: 3507.9929 - mae: 3507.9929\n",
            "Epoch 126/200\n",
            "34/34 [==============================] - 1s 17ms/step - loss: 3511.6301 - mae: 3511.6301\n",
            "Epoch 127/200\n",
            "34/34 [==============================] - 1s 18ms/step - loss: 3501.1997 - mae: 3501.1997\n",
            "Epoch 128/200\n",
            "34/34 [==============================] - 1s 18ms/step - loss: 3497.7993 - mae: 3497.7993\n",
            "Epoch 129/200\n",
            "34/34 [==============================] - 1s 17ms/step - loss: 3512.3896 - mae: 3512.3896\n",
            "Epoch 130/200\n",
            "34/34 [==============================] - 1s 18ms/step - loss: 3506.6553 - mae: 3506.6553\n",
            "Epoch 131/200\n",
            "34/34 [==============================] - 1s 17ms/step - loss: 3491.7715 - mae: 3491.7715\n",
            "Epoch 132/200\n",
            "34/34 [==============================] - 1s 18ms/step - loss: 3494.2422 - mae: 3494.2422\n",
            "Epoch 133/200\n",
            "34/34 [==============================] - 1s 17ms/step - loss: 3487.2119 - mae: 3487.2119\n",
            "Epoch 134/200\n",
            "34/34 [==============================] - 1s 18ms/step - loss: 3491.1360 - mae: 3491.1360\n",
            "Epoch 135/200\n",
            "34/34 [==============================] - 1s 17ms/step - loss: 3493.9109 - mae: 3493.9109\n",
            "Epoch 136/200\n",
            "34/34 [==============================] - 1s 17ms/step - loss: 3481.7593 - mae: 3481.7593\n",
            "Epoch 137/200\n",
            "34/34 [==============================] - 1s 18ms/step - loss: 3489.7346 - mae: 3489.7346\n",
            "Epoch 138/200\n",
            "34/34 [==============================] - 1s 17ms/step - loss: 3494.5210 - mae: 3494.5210\n",
            "Epoch 139/200\n",
            "34/34 [==============================] - 1s 17ms/step - loss: 3494.3674 - mae: 3494.3674\n",
            "Epoch 140/200\n",
            "34/34 [==============================] - 1s 17ms/step - loss: 3493.9385 - mae: 3493.9385\n",
            "Epoch 141/200\n",
            "34/34 [==============================] - 1s 17ms/step - loss: 3509.1177 - mae: 3509.1177\n",
            "Epoch 142/200\n",
            "34/34 [==============================] - 1s 18ms/step - loss: 3504.4548 - mae: 3504.4548\n",
            "Epoch 143/200\n",
            "34/34 [==============================] - 1s 17ms/step - loss: 3485.3347 - mae: 3485.3347\n",
            "Epoch 144/200\n",
            "34/34 [==============================] - 1s 18ms/step - loss: 3502.7761 - mae: 3502.7761\n",
            "Epoch 145/200\n",
            "34/34 [==============================] - 1s 17ms/step - loss: 3499.1631 - mae: 3499.1631\n",
            "Epoch 146/200\n",
            "34/34 [==============================] - 1s 17ms/step - loss: 3499.1743 - mae: 3499.1743\n",
            "Epoch 147/200\n",
            "34/34 [==============================] - 1s 18ms/step - loss: 3521.8342 - mae: 3521.8342\n",
            "Epoch 148/200\n",
            "34/34 [==============================] - 1s 17ms/step - loss: 3501.8037 - mae: 3501.8037\n",
            "Epoch 149/200\n",
            "34/34 [==============================] - 1s 17ms/step - loss: 3499.5815 - mae: 3499.5815\n",
            "Epoch 150/200\n",
            "34/34 [==============================] - 1s 17ms/step - loss: 3490.9526 - mae: 3490.9526\n",
            "Epoch 151/200\n",
            "34/34 [==============================] - 1s 17ms/step - loss: 3495.9946 - mae: 3495.9946\n",
            "Epoch 152/200\n",
            "34/34 [==============================] - 1s 17ms/step - loss: 3502.0952 - mae: 3502.0952\n",
            "Epoch 153/200\n",
            "34/34 [==============================] - 1s 17ms/step - loss: 3505.5066 - mae: 3505.5066\n",
            "Epoch 154/200\n",
            "34/34 [==============================] - 1s 18ms/step - loss: 3493.5208 - mae: 3493.5208\n",
            "Epoch 155/200\n",
            "34/34 [==============================] - 1s 17ms/step - loss: 3499.9211 - mae: 3499.9211\n",
            "Epoch 156/200\n",
            "34/34 [==============================] - 1s 18ms/step - loss: 3489.4277 - mae: 3489.4277\n",
            "Epoch 157/200\n",
            "34/34 [==============================] - 1s 18ms/step - loss: 3504.7144 - mae: 3504.7144\n",
            "Epoch 158/200\n",
            "34/34 [==============================] - 1s 18ms/step - loss: 3508.3684 - mae: 3508.3684\n",
            "Epoch 159/200\n",
            "34/34 [==============================] - 1s 18ms/step - loss: 3481.2988 - mae: 3481.2988\n",
            "Epoch 160/200\n",
            "34/34 [==============================] - 1s 18ms/step - loss: 3502.2712 - mae: 3502.2712\n",
            "Epoch 161/200\n",
            "34/34 [==============================] - 1s 18ms/step - loss: 3495.7656 - mae: 3495.7656\n",
            "Epoch 162/200\n",
            "34/34 [==============================] - 1s 18ms/step - loss: 3490.6970 - mae: 3490.6970\n",
            "Epoch 163/200\n",
            "34/34 [==============================] - 1s 18ms/step - loss: 3489.4084 - mae: 3489.4084\n",
            "Epoch 164/200\n",
            "34/34 [==============================] - 1s 18ms/step - loss: 3495.3215 - mae: 3495.3215\n",
            "Epoch 165/200\n",
            "34/34 [==============================] - 1s 18ms/step - loss: 3486.4460 - mae: 3486.4460\n",
            "Epoch 166/200\n",
            "34/34 [==============================] - 1s 18ms/step - loss: 3486.2249 - mae: 3486.2249\n",
            "Epoch 167/200\n",
            "34/34 [==============================] - 1s 17ms/step - loss: 3501.3228 - mae: 3501.3228\n",
            "Epoch 168/200\n",
            "34/34 [==============================] - 1s 17ms/step - loss: 3491.7532 - mae: 3491.7532\n",
            "Epoch 169/200\n",
            "34/34 [==============================] - 1s 17ms/step - loss: 3490.0410 - mae: 3490.0410\n",
            "Epoch 170/200\n",
            "34/34 [==============================] - 1s 17ms/step - loss: 3486.2178 - mae: 3486.2178\n",
            "Epoch 171/200\n",
            "34/34 [==============================] - 1s 18ms/step - loss: 3496.4739 - mae: 3496.4739\n",
            "Epoch 172/200\n",
            "34/34 [==============================] - 1s 17ms/step - loss: 3501.2285 - mae: 3501.2285\n",
            "Epoch 173/200\n",
            "34/34 [==============================] - 1s 17ms/step - loss: 3494.3792 - mae: 3494.3792\n",
            "Epoch 174/200\n",
            "34/34 [==============================] - 1s 16ms/step - loss: 3494.7908 - mae: 3494.7908\n",
            "Epoch 175/200\n",
            "34/34 [==============================] - 1s 18ms/step - loss: 3483.6174 - mae: 3483.6174\n",
            "Epoch 176/200\n",
            "34/34 [==============================] - 1s 18ms/step - loss: 3512.9751 - mae: 3512.9751\n",
            "Epoch 177/200\n",
            "34/34 [==============================] - 1s 18ms/step - loss: 3506.2847 - mae: 3506.2847\n",
            "Epoch 178/200\n",
            "34/34 [==============================] - 1s 17ms/step - loss: 3487.4126 - mae: 3487.4126\n",
            "Epoch 179/200\n",
            "34/34 [==============================] - 1s 17ms/step - loss: 3512.3088 - mae: 3512.3088\n",
            "Epoch 180/200\n",
            "34/34 [==============================] - 1s 18ms/step - loss: 3515.8845 - mae: 3515.8845\n",
            "Epoch 181/200\n",
            "34/34 [==============================] - 1s 17ms/step - loss: 3497.8372 - mae: 3497.8372\n",
            "Epoch 182/200\n",
            "34/34 [==============================] - 1s 17ms/step - loss: 3498.4717 - mae: 3498.4717\n",
            "Epoch 183/200\n",
            "34/34 [==============================] - 1s 18ms/step - loss: 3490.3298 - mae: 3490.3298\n",
            "Epoch 184/200\n",
            "34/34 [==============================] - 1s 17ms/step - loss: 3507.4573 - mae: 3507.4573\n",
            "Epoch 185/200\n",
            "34/34 [==============================] - 1s 17ms/step - loss: 3492.2039 - mae: 3492.2039\n",
            "Epoch 186/200\n",
            "34/34 [==============================] - 1s 17ms/step - loss: 3511.8250 - mae: 3511.8247\n",
            "Epoch 187/200\n",
            "34/34 [==============================] - 1s 18ms/step - loss: 3502.0808 - mae: 3502.0808\n",
            "Epoch 188/200\n",
            "34/34 [==============================] - 1s 18ms/step - loss: 3496.3281 - mae: 3496.3281\n",
            "Epoch 189/200\n",
            "34/34 [==============================] - 1s 17ms/step - loss: 3493.1189 - mae: 3493.1189\n",
            "Epoch 190/200\n",
            "34/34 [==============================] - 1s 17ms/step - loss: 3498.6184 - mae: 3498.6184\n",
            "Epoch 191/200\n",
            "34/34 [==============================] - 1s 17ms/step - loss: 3510.4568 - mae: 3510.4568\n",
            "Epoch 192/200\n",
            "34/34 [==============================] - 1s 18ms/step - loss: 3497.4248 - mae: 3497.4248\n",
            "Epoch 193/200\n",
            "34/34 [==============================] - 1s 18ms/step - loss: 3497.4429 - mae: 3497.4429\n",
            "Epoch 194/200\n",
            "34/34 [==============================] - 1s 17ms/step - loss: 3503.6440 - mae: 3503.6440\n",
            "Epoch 195/200\n",
            "34/34 [==============================] - 1s 17ms/step - loss: 3489.0046 - mae: 3489.0046\n",
            "Epoch 196/200\n",
            "34/34 [==============================] - 1s 17ms/step - loss: 3509.2583 - mae: 3509.2583\n",
            "Epoch 197/200\n",
            "34/34 [==============================] - 1s 18ms/step - loss: 3491.0896 - mae: 3491.0896\n",
            "Epoch 198/200\n",
            "34/34 [==============================] - 1s 17ms/step - loss: 3499.1292 - mae: 3499.1292\n",
            "Epoch 199/200\n",
            "34/34 [==============================] - 1s 18ms/step - loss: 3495.4619 - mae: 3495.4619\n",
            "Epoch 200/200\n",
            "34/34 [==============================] - 1s 17ms/step - loss: 3480.7771 - mae: 3480.7771\n"
          ]
        },
        {
          "output_type": "execute_result",
          "data": {
            "text/plain": [
              "<keras.callbacks.History at 0x7fe977462b10>"
            ]
          },
          "metadata": {},
          "execution_count": 96
        }
      ]
    },
    {
      "cell_type": "code",
      "source": [
        "insurance_model_3_loss, insurance_model_3_mae"
      ],
      "metadata": {
        "colab": {
          "base_uri": "https://localhost:8080/"
        },
        "id": "hUwDIGDpQFh9",
        "outputId": "f36c8b0a-544a-4b1e-87ef-607c5dc051f3"
      },
      "execution_count": 97,
      "outputs": [
        {
          "output_type": "execute_result",
          "data": {
            "text/plain": [
              "(3171.577392578125, 3171.577392578125)"
            ]
          },
          "metadata": {},
          "execution_count": 97
        }
      ]
    },
    {
      "cell_type": "code",
      "source": [
        "#evaluate the more neurons model\n",
        "insurance_model_increased_units_loss, insurance_model_increased_units_mae= insurance_model_increased_units.evaluate(X_test_normal, Y_test)"
      ],
      "metadata": {
        "colab": {
          "base_uri": "https://localhost:8080/"
        },
        "id": "qbkhVXMRTz-m",
        "outputId": "9a7912c6-5580-47c1-ce5c-5c6932c7a660"
      },
      "execution_count": 98,
      "outputs": [
        {
          "output_type": "stream",
          "name": "stdout",
          "text": [
            "9/9 [==============================] - 0s 5ms/step - loss: 3162.0945 - mae: 3162.0945\n"
          ]
        }
      ]
    },
    {
      "cell_type": "code",
      "source": [
        "#Result==>the increased units model experienced modestly more accuracy"
      ],
      "metadata": {
        "id": "ch9fxN-dUQ59"
      },
      "execution_count": 99,
      "outputs": []
    },
    {
      "cell_type": "markdown",
      "source": [
        " * increasing the adam learning rate by 10x"
      ],
      "metadata": {
        "id": "f_iXwC9d4Olh"
      }
    },
    {
      "cell_type": "code",
      "source": [
        "#replicate insurance model 3\n",
        "insurance_model_adam10x= tf.keras.Sequential([\n",
        "        tf.keras.layers.Dense(100),\n",
        "        tf.keras.layers.Dense(10),\n",
        "        tf.keras.layers.Dense(1),\n",
        "])\n",
        "\n",
        "#compile model with adam 10 x optimizer\n",
        "insurance_model_adam10x.compile(\n",
        "    loss= tf.keras.losses.mae,\n",
        "    optimizer= tf.keras.optimizers.Adam(learning_rate=0.01),\n",
        "    metrics=['mae']\n",
        ")\n",
        "\n",
        "#fit the model to the training data\n",
        "insurance_model_adam10x.fit(X_train_normal, Y_train, epochs=200)"
      ],
      "metadata": {
        "colab": {
          "base_uri": "https://localhost:8080/"
        },
        "id": "bJnlDa6dVaK7",
        "outputId": "16052368-cf87-43ad-d8f9-7bf7c6ff57d7"
      },
      "execution_count": 100,
      "outputs": [
        {
          "output_type": "stream",
          "name": "stdout",
          "text": [
            "Epoch 1/200\n",
            "34/34 [==============================] - 1s 3ms/step - loss: 13227.7793 - mae: 13227.7793\n",
            "Epoch 2/200\n",
            "34/34 [==============================] - 0s 2ms/step - loss: 11417.3584 - mae: 11417.3584\n",
            "Epoch 3/200\n",
            "34/34 [==============================] - 0s 2ms/step - loss: 8133.8516 - mae: 8133.8516\n",
            "Epoch 4/200\n",
            "34/34 [==============================] - 0s 2ms/step - loss: 7599.9395 - mae: 7599.9395\n",
            "Epoch 5/200\n",
            "34/34 [==============================] - 0s 2ms/step - loss: 7113.3540 - mae: 7113.3540\n",
            "Epoch 6/200\n",
            "34/34 [==============================] - 0s 2ms/step - loss: 6517.0640 - mae: 6517.0640\n",
            "Epoch 7/200\n",
            "34/34 [==============================] - 0s 2ms/step - loss: 5597.6270 - mae: 5597.6270\n",
            "Epoch 8/200\n",
            "34/34 [==============================] - 0s 2ms/step - loss: 4449.3560 - mae: 4449.3560\n",
            "Epoch 9/200\n",
            "34/34 [==============================] - 0s 2ms/step - loss: 3754.3723 - mae: 3754.3723\n",
            "Epoch 10/200\n",
            "34/34 [==============================] - 0s 2ms/step - loss: 3679.6929 - mae: 3679.6929\n",
            "Epoch 11/200\n",
            "34/34 [==============================] - 0s 2ms/step - loss: 3666.9946 - mae: 3666.9946\n",
            "Epoch 12/200\n",
            "34/34 [==============================] - 0s 2ms/step - loss: 3625.1736 - mae: 3625.1736\n",
            "Epoch 13/200\n",
            "34/34 [==============================] - 0s 2ms/step - loss: 3609.1104 - mae: 3609.1104\n",
            "Epoch 14/200\n",
            "34/34 [==============================] - 0s 2ms/step - loss: 3608.7429 - mae: 3608.7429\n",
            "Epoch 15/200\n",
            "34/34 [==============================] - 0s 2ms/step - loss: 3581.3889 - mae: 3581.3889\n",
            "Epoch 16/200\n",
            "34/34 [==============================] - 0s 2ms/step - loss: 3570.5784 - mae: 3570.5784\n",
            "Epoch 17/200\n",
            "34/34 [==============================] - 0s 2ms/step - loss: 3580.3298 - mae: 3580.3298\n",
            "Epoch 18/200\n",
            "34/34 [==============================] - 0s 2ms/step - loss: 3538.4043 - mae: 3538.4043\n",
            "Epoch 19/200\n",
            "34/34 [==============================] - 0s 2ms/step - loss: 3549.2292 - mae: 3549.2292\n",
            "Epoch 20/200\n",
            "34/34 [==============================] - 0s 2ms/step - loss: 3518.3635 - mae: 3518.3635\n",
            "Epoch 21/200\n",
            "34/34 [==============================] - 0s 2ms/step - loss: 3501.3542 - mae: 3501.3542\n",
            "Epoch 22/200\n",
            "34/34 [==============================] - 0s 2ms/step - loss: 3490.9963 - mae: 3490.9963\n",
            "Epoch 23/200\n",
            "34/34 [==============================] - 0s 2ms/step - loss: 3498.5408 - mae: 3498.5408\n",
            "Epoch 24/200\n",
            "34/34 [==============================] - 0s 2ms/step - loss: 3499.5686 - mae: 3499.5686\n",
            "Epoch 25/200\n",
            "34/34 [==============================] - 0s 2ms/step - loss: 3533.5510 - mae: 3533.5510\n",
            "Epoch 26/200\n",
            "34/34 [==============================] - 0s 2ms/step - loss: 3488.2380 - mae: 3488.2380\n",
            "Epoch 27/200\n",
            "34/34 [==============================] - 0s 2ms/step - loss: 3492.1838 - mae: 3492.1838\n",
            "Epoch 28/200\n",
            "34/34 [==============================] - 0s 2ms/step - loss: 3503.4539 - mae: 3503.4539\n",
            "Epoch 29/200\n",
            "34/34 [==============================] - 0s 2ms/step - loss: 3509.7124 - mae: 3509.7124\n",
            "Epoch 30/200\n",
            "34/34 [==============================] - 0s 2ms/step - loss: 3509.6462 - mae: 3509.6462\n",
            "Epoch 31/200\n",
            "34/34 [==============================] - 0s 2ms/step - loss: 3501.0100 - mae: 3501.0100\n",
            "Epoch 32/200\n",
            "34/34 [==============================] - 0s 2ms/step - loss: 3508.9934 - mae: 3508.9934\n",
            "Epoch 33/200\n",
            "34/34 [==============================] - 0s 2ms/step - loss: 3500.7744 - mae: 3500.7744\n",
            "Epoch 34/200\n",
            "34/34 [==============================] - 0s 2ms/step - loss: 3490.9121 - mae: 3490.9121\n",
            "Epoch 35/200\n",
            "34/34 [==============================] - 0s 2ms/step - loss: 3494.5100 - mae: 3494.5100\n",
            "Epoch 36/200\n",
            "34/34 [==============================] - 0s 2ms/step - loss: 3505.1223 - mae: 3505.1223\n",
            "Epoch 37/200\n",
            "34/34 [==============================] - 0s 2ms/step - loss: 3493.3232 - mae: 3493.3232\n",
            "Epoch 38/200\n",
            "34/34 [==============================] - 0s 2ms/step - loss: 3502.5813 - mae: 3502.5813\n",
            "Epoch 39/200\n",
            "34/34 [==============================] - 0s 2ms/step - loss: 3489.4368 - mae: 3489.4368\n",
            "Epoch 40/200\n",
            "34/34 [==============================] - 0s 2ms/step - loss: 3527.1355 - mae: 3527.1355\n",
            "Epoch 41/200\n",
            "34/34 [==============================] - 0s 2ms/step - loss: 3505.0549 - mae: 3505.0549\n",
            "Epoch 42/200\n",
            "34/34 [==============================] - 0s 2ms/step - loss: 3504.0774 - mae: 3504.0774\n",
            "Epoch 43/200\n",
            "34/34 [==============================] - 0s 2ms/step - loss: 3494.2019 - mae: 3494.2019\n",
            "Epoch 44/200\n",
            "34/34 [==============================] - 0s 2ms/step - loss: 3489.4346 - mae: 3489.4346\n",
            "Epoch 45/200\n",
            "34/34 [==============================] - 0s 2ms/step - loss: 3481.6079 - mae: 3481.6079\n",
            "Epoch 46/200\n",
            "34/34 [==============================] - 0s 2ms/step - loss: 3493.5383 - mae: 3493.5383\n",
            "Epoch 47/200\n",
            "34/34 [==============================] - 0s 3ms/step - loss: 3496.9373 - mae: 3496.9373\n",
            "Epoch 48/200\n",
            "34/34 [==============================] - 0s 2ms/step - loss: 3490.4146 - mae: 3490.4146\n",
            "Epoch 49/200\n",
            "34/34 [==============================] - 0s 2ms/step - loss: 3506.4128 - mae: 3506.4128\n",
            "Epoch 50/200\n",
            "34/34 [==============================] - 0s 2ms/step - loss: 3499.5691 - mae: 3499.5691\n",
            "Epoch 51/200\n",
            "34/34 [==============================] - 0s 2ms/step - loss: 3484.3977 - mae: 3484.3977\n",
            "Epoch 52/200\n",
            "34/34 [==============================] - 0s 2ms/step - loss: 3494.5789 - mae: 3494.5789\n",
            "Epoch 53/200\n",
            "34/34 [==============================] - 0s 2ms/step - loss: 3492.5303 - mae: 3492.5303\n",
            "Epoch 54/200\n",
            "34/34 [==============================] - 0s 2ms/step - loss: 3505.7017 - mae: 3505.7017\n",
            "Epoch 55/200\n",
            "34/34 [==============================] - 0s 2ms/step - loss: 3517.3611 - mae: 3517.3611\n",
            "Epoch 56/200\n",
            "34/34 [==============================] - 0s 2ms/step - loss: 3490.3979 - mae: 3490.3979\n",
            "Epoch 57/200\n",
            "34/34 [==============================] - 0s 2ms/step - loss: 3491.6782 - mae: 3491.6782\n",
            "Epoch 58/200\n",
            "34/34 [==============================] - 0s 3ms/step - loss: 3487.8059 - mae: 3487.8059\n",
            "Epoch 59/200\n",
            "34/34 [==============================] - 0s 2ms/step - loss: 3488.9153 - mae: 3488.9153\n",
            "Epoch 60/200\n",
            "34/34 [==============================] - 0s 2ms/step - loss: 3493.9048 - mae: 3493.9048\n",
            "Epoch 61/200\n",
            "34/34 [==============================] - 0s 2ms/step - loss: 3501.1091 - mae: 3501.1091\n",
            "Epoch 62/200\n",
            "34/34 [==============================] - 0s 2ms/step - loss: 3497.4080 - mae: 3497.4080\n",
            "Epoch 63/200\n",
            "34/34 [==============================] - 0s 2ms/step - loss: 3488.4812 - mae: 3488.4812\n",
            "Epoch 64/200\n",
            "34/34 [==============================] - 0s 2ms/step - loss: 3492.5715 - mae: 3492.5715\n",
            "Epoch 65/200\n",
            "34/34 [==============================] - 0s 2ms/step - loss: 3482.6855 - mae: 3482.6855\n",
            "Epoch 66/200\n",
            "34/34 [==============================] - 0s 3ms/step - loss: 3501.4150 - mae: 3501.4150\n",
            "Epoch 67/200\n",
            "34/34 [==============================] - 0s 2ms/step - loss: 3489.0962 - mae: 3489.0962\n",
            "Epoch 68/200\n",
            "34/34 [==============================] - 0s 2ms/step - loss: 3492.6609 - mae: 3492.6609\n",
            "Epoch 69/200\n",
            "34/34 [==============================] - 0s 2ms/step - loss: 3484.1824 - mae: 3484.1824\n",
            "Epoch 70/200\n",
            "34/34 [==============================] - 0s 2ms/step - loss: 3489.4392 - mae: 3489.4392\n",
            "Epoch 71/200\n",
            "34/34 [==============================] - 0s 2ms/step - loss: 3486.7893 - mae: 3486.7893\n",
            "Epoch 72/200\n",
            "34/34 [==============================] - 0s 2ms/step - loss: 3489.8818 - mae: 3489.8818\n",
            "Epoch 73/200\n",
            "34/34 [==============================] - 0s 2ms/step - loss: 3505.9602 - mae: 3505.9602\n",
            "Epoch 74/200\n",
            "34/34 [==============================] - 0s 2ms/step - loss: 3499.1201 - mae: 3499.1201\n",
            "Epoch 75/200\n",
            "34/34 [==============================] - 0s 2ms/step - loss: 3484.8723 - mae: 3484.8723\n",
            "Epoch 76/200\n",
            "34/34 [==============================] - 0s 2ms/step - loss: 3492.7786 - mae: 3492.7786\n",
            "Epoch 77/200\n",
            "34/34 [==============================] - 0s 2ms/step - loss: 3486.7354 - mae: 3486.7354\n",
            "Epoch 78/200\n",
            "34/34 [==============================] - 0s 2ms/step - loss: 3491.4497 - mae: 3491.4497\n",
            "Epoch 79/200\n",
            "34/34 [==============================] - 0s 2ms/step - loss: 3497.3879 - mae: 3497.3879\n",
            "Epoch 80/200\n",
            "34/34 [==============================] - 0s 2ms/step - loss: 3501.5764 - mae: 3501.5764\n",
            "Epoch 81/200\n",
            "34/34 [==============================] - 0s 2ms/step - loss: 3498.9958 - mae: 3498.9958\n",
            "Epoch 82/200\n",
            "34/34 [==============================] - 0s 2ms/step - loss: 3490.2747 - mae: 3490.2747\n",
            "Epoch 83/200\n",
            "34/34 [==============================] - 0s 2ms/step - loss: 3492.4844 - mae: 3492.4844\n",
            "Epoch 84/200\n",
            "34/34 [==============================] - 0s 2ms/step - loss: 3498.6357 - mae: 3498.6357\n",
            "Epoch 85/200\n",
            "34/34 [==============================] - 0s 2ms/step - loss: 3481.7104 - mae: 3481.7104\n",
            "Epoch 86/200\n",
            "34/34 [==============================] - 0s 2ms/step - loss: 3486.1194 - mae: 3486.1194\n",
            "Epoch 87/200\n",
            "34/34 [==============================] - 0s 2ms/step - loss: 3490.2668 - mae: 3490.2668\n",
            "Epoch 88/200\n",
            "34/34 [==============================] - 0s 2ms/step - loss: 3485.8567 - mae: 3485.8567\n",
            "Epoch 89/200\n",
            "34/34 [==============================] - 0s 2ms/step - loss: 3497.8083 - mae: 3497.8083\n",
            "Epoch 90/200\n",
            "34/34 [==============================] - 0s 2ms/step - loss: 3495.8418 - mae: 3495.8418\n",
            "Epoch 91/200\n",
            "34/34 [==============================] - 0s 2ms/step - loss: 3488.6445 - mae: 3488.6445\n",
            "Epoch 92/200\n",
            "34/34 [==============================] - 0s 2ms/step - loss: 3498.9067 - mae: 3498.9067\n",
            "Epoch 93/200\n",
            "34/34 [==============================] - 0s 2ms/step - loss: 3490.5698 - mae: 3490.5698\n",
            "Epoch 94/200\n",
            "34/34 [==============================] - 0s 2ms/step - loss: 3489.5774 - mae: 3489.5774\n",
            "Epoch 95/200\n",
            "34/34 [==============================] - 0s 2ms/step - loss: 3490.2695 - mae: 3490.2695\n",
            "Epoch 96/200\n",
            "34/34 [==============================] - 0s 2ms/step - loss: 3491.2366 - mae: 3491.2366\n",
            "Epoch 97/200\n",
            "34/34 [==============================] - 0s 2ms/step - loss: 3506.5483 - mae: 3506.5483\n",
            "Epoch 98/200\n",
            "34/34 [==============================] - 0s 2ms/step - loss: 3483.5823 - mae: 3483.5823\n",
            "Epoch 99/200\n",
            "34/34 [==============================] - 0s 3ms/step - loss: 3518.4485 - mae: 3518.4485\n",
            "Epoch 100/200\n",
            "34/34 [==============================] - 0s 2ms/step - loss: 3501.4866 - mae: 3501.4866\n",
            "Epoch 101/200\n",
            "34/34 [==============================] - 0s 2ms/step - loss: 3489.4131 - mae: 3489.4131\n",
            "Epoch 102/200\n",
            "34/34 [==============================] - 0s 2ms/step - loss: 3494.3491 - mae: 3494.3491\n",
            "Epoch 103/200\n",
            "34/34 [==============================] - 0s 2ms/step - loss: 3513.6787 - mae: 3513.6787\n",
            "Epoch 104/200\n",
            "34/34 [==============================] - 0s 2ms/step - loss: 3482.6157 - mae: 3482.6157\n",
            "Epoch 105/200\n",
            "34/34 [==============================] - 0s 2ms/step - loss: 3507.1975 - mae: 3507.1975\n",
            "Epoch 106/200\n",
            "34/34 [==============================] - 0s 2ms/step - loss: 3490.1401 - mae: 3490.1401\n",
            "Epoch 107/200\n",
            "34/34 [==============================] - 0s 2ms/step - loss: 3481.4263 - mae: 3481.4263\n",
            "Epoch 108/200\n",
            "34/34 [==============================] - 0s 2ms/step - loss: 3488.7812 - mae: 3488.7812\n",
            "Epoch 109/200\n",
            "34/34 [==============================] - 0s 3ms/step - loss: 3491.0854 - mae: 3491.0854\n",
            "Epoch 110/200\n",
            "34/34 [==============================] - 0s 2ms/step - loss: 3483.5100 - mae: 3483.5100\n",
            "Epoch 111/200\n",
            "34/34 [==============================] - 0s 2ms/step - loss: 3503.1548 - mae: 3503.1548\n",
            "Epoch 112/200\n",
            "34/34 [==============================] - 0s 2ms/step - loss: 3495.1453 - mae: 3495.1453\n",
            "Epoch 113/200\n",
            "34/34 [==============================] - 0s 2ms/step - loss: 3509.8152 - mae: 3509.8152\n",
            "Epoch 114/200\n",
            "34/34 [==============================] - 0s 2ms/step - loss: 3502.4688 - mae: 3502.4688\n",
            "Epoch 115/200\n",
            "34/34 [==============================] - 0s 2ms/step - loss: 3518.9795 - mae: 3518.9795\n",
            "Epoch 116/200\n",
            "34/34 [==============================] - 0s 2ms/step - loss: 3503.8281 - mae: 3503.8281\n",
            "Epoch 117/200\n",
            "34/34 [==============================] - 0s 2ms/step - loss: 3495.2271 - mae: 3495.2271\n",
            "Epoch 118/200\n",
            "34/34 [==============================] - 0s 2ms/step - loss: 3488.8547 - mae: 3488.8547\n",
            "Epoch 119/200\n",
            "34/34 [==============================] - 0s 2ms/step - loss: 3488.6538 - mae: 3488.6538\n",
            "Epoch 120/200\n",
            "34/34 [==============================] - 0s 2ms/step - loss: 3483.8713 - mae: 3483.8713\n",
            "Epoch 121/200\n",
            "34/34 [==============================] - 0s 2ms/step - loss: 3502.0366 - mae: 3502.0366\n",
            "Epoch 122/200\n",
            "34/34 [==============================] - 0s 2ms/step - loss: 3505.8767 - mae: 3505.8767\n",
            "Epoch 123/200\n",
            "34/34 [==============================] - 0s 2ms/step - loss: 3500.6619 - mae: 3500.6619\n",
            "Epoch 124/200\n",
            "34/34 [==============================] - 0s 2ms/step - loss: 3486.7251 - mae: 3486.7251\n",
            "Epoch 125/200\n",
            "34/34 [==============================] - 0s 2ms/step - loss: 3501.5796 - mae: 3501.5796\n",
            "Epoch 126/200\n",
            "34/34 [==============================] - 0s 2ms/step - loss: 3505.6392 - mae: 3505.6392\n",
            "Epoch 127/200\n",
            "34/34 [==============================] - 0s 2ms/step - loss: 3498.4802 - mae: 3498.4802\n",
            "Epoch 128/200\n",
            "34/34 [==============================] - 0s 2ms/step - loss: 3497.1970 - mae: 3497.1970\n",
            "Epoch 129/200\n",
            "34/34 [==============================] - 0s 2ms/step - loss: 3517.0505 - mae: 3517.0505\n",
            "Epoch 130/200\n",
            "34/34 [==============================] - 0s 2ms/step - loss: 3502.0010 - mae: 3502.0010\n",
            "Epoch 131/200\n",
            "34/34 [==============================] - 0s 2ms/step - loss: 3485.3472 - mae: 3485.3472\n",
            "Epoch 132/200\n",
            "34/34 [==============================] - 0s 2ms/step - loss: 3491.6436 - mae: 3491.6436\n",
            "Epoch 133/200\n",
            "34/34 [==============================] - 0s 2ms/step - loss: 3486.6489 - mae: 3486.6489\n",
            "Epoch 134/200\n",
            "34/34 [==============================] - 0s 2ms/step - loss: 3490.3516 - mae: 3490.3516\n",
            "Epoch 135/200\n",
            "34/34 [==============================] - 0s 2ms/step - loss: 3492.1624 - mae: 3492.1624\n",
            "Epoch 136/200\n",
            "34/34 [==============================] - 0s 2ms/step - loss: 3481.1970 - mae: 3481.1970\n",
            "Epoch 137/200\n",
            "34/34 [==============================] - 0s 2ms/step - loss: 3489.0618 - mae: 3489.0618\n",
            "Epoch 138/200\n",
            "34/34 [==============================] - 0s 2ms/step - loss: 3494.2739 - mae: 3494.2739\n",
            "Epoch 139/200\n",
            "34/34 [==============================] - 0s 2ms/step - loss: 3490.6594 - mae: 3490.6594\n",
            "Epoch 140/200\n",
            "34/34 [==============================] - 0s 2ms/step - loss: 3492.1008 - mae: 3492.1008\n",
            "Epoch 141/200\n",
            "34/34 [==============================] - 0s 2ms/step - loss: 3506.8318 - mae: 3506.8318\n",
            "Epoch 142/200\n",
            "34/34 [==============================] - 0s 2ms/step - loss: 3504.8521 - mae: 3504.8521\n",
            "Epoch 143/200\n",
            "34/34 [==============================] - 0s 2ms/step - loss: 3480.7041 - mae: 3480.7041\n",
            "Epoch 144/200\n",
            "34/34 [==============================] - 0s 2ms/step - loss: 3498.3147 - mae: 3498.3147\n",
            "Epoch 145/200\n",
            "34/34 [==============================] - 0s 2ms/step - loss: 3491.4099 - mae: 3491.4099\n",
            "Epoch 146/200\n",
            "34/34 [==============================] - 0s 2ms/step - loss: 3504.3027 - mae: 3504.3030\n",
            "Epoch 147/200\n",
            "34/34 [==============================] - 0s 2ms/step - loss: 3526.1572 - mae: 3526.1572\n",
            "Epoch 148/200\n",
            "34/34 [==============================] - 0s 2ms/step - loss: 3496.3318 - mae: 3496.3318\n",
            "Epoch 149/200\n",
            "34/34 [==============================] - 0s 2ms/step - loss: 3499.6704 - mae: 3499.6704\n",
            "Epoch 150/200\n",
            "34/34 [==============================] - 0s 2ms/step - loss: 3487.3333 - mae: 3487.3333\n",
            "Epoch 151/200\n",
            "34/34 [==============================] - 0s 2ms/step - loss: 3497.5515 - mae: 3497.5515\n",
            "Epoch 152/200\n",
            "34/34 [==============================] - 0s 2ms/step - loss: 3500.2441 - mae: 3500.2441\n",
            "Epoch 153/200\n",
            "34/34 [==============================] - 0s 2ms/step - loss: 3502.8770 - mae: 3502.8770\n",
            "Epoch 154/200\n",
            "34/34 [==============================] - 0s 2ms/step - loss: 3489.8369 - mae: 3489.8369\n",
            "Epoch 155/200\n",
            "34/34 [==============================] - 0s 2ms/step - loss: 3502.2681 - mae: 3502.2681\n",
            "Epoch 156/200\n",
            "34/34 [==============================] - 0s 2ms/step - loss: 3488.4033 - mae: 3488.4033\n",
            "Epoch 157/200\n",
            "34/34 [==============================] - 0s 2ms/step - loss: 3510.5857 - mae: 3510.5857\n",
            "Epoch 158/200\n",
            "34/34 [==============================] - 0s 2ms/step - loss: 3501.7976 - mae: 3501.7976\n",
            "Epoch 159/200\n",
            "34/34 [==============================] - 0s 2ms/step - loss: 3480.6116 - mae: 3480.6116\n",
            "Epoch 160/200\n",
            "34/34 [==============================] - 0s 2ms/step - loss: 3500.5227 - mae: 3500.5227\n",
            "Epoch 161/200\n",
            "34/34 [==============================] - 0s 2ms/step - loss: 3492.2671 - mae: 3492.2671\n",
            "Epoch 162/200\n",
            "34/34 [==============================] - 0s 2ms/step - loss: 3484.7690 - mae: 3484.7690\n",
            "Epoch 163/200\n",
            "34/34 [==============================] - 0s 2ms/step - loss: 3486.3777 - mae: 3486.3777\n",
            "Epoch 164/200\n",
            "34/34 [==============================] - 0s 2ms/step - loss: 3493.2786 - mae: 3493.2786\n",
            "Epoch 165/200\n",
            "34/34 [==============================] - 0s 2ms/step - loss: 3484.7119 - mae: 3484.7119\n",
            "Epoch 166/200\n",
            "34/34 [==============================] - 0s 2ms/step - loss: 3486.6392 - mae: 3486.6392\n",
            "Epoch 167/200\n",
            "34/34 [==============================] - 0s 2ms/step - loss: 3492.1699 - mae: 3492.1699\n",
            "Epoch 168/200\n",
            "34/34 [==============================] - 0s 2ms/step - loss: 3489.6494 - mae: 3489.6494\n",
            "Epoch 169/200\n",
            "34/34 [==============================] - 0s 2ms/step - loss: 3487.1565 - mae: 3487.1565\n",
            "Epoch 170/200\n",
            "34/34 [==============================] - 0s 2ms/step - loss: 3486.0190 - mae: 3486.0190\n",
            "Epoch 171/200\n",
            "34/34 [==============================] - 0s 2ms/step - loss: 3500.5388 - mae: 3500.5388\n",
            "Epoch 172/200\n",
            "34/34 [==============================] - 0s 2ms/step - loss: 3496.3896 - mae: 3496.3896\n",
            "Epoch 173/200\n",
            "34/34 [==============================] - 0s 3ms/step - loss: 3492.2920 - mae: 3492.2920\n",
            "Epoch 174/200\n",
            "34/34 [==============================] - 0s 2ms/step - loss: 3492.7854 - mae: 3492.7854\n",
            "Epoch 175/200\n",
            "34/34 [==============================] - 0s 2ms/step - loss: 3482.8777 - mae: 3482.8777\n",
            "Epoch 176/200\n",
            "34/34 [==============================] - 0s 2ms/step - loss: 3510.8291 - mae: 3510.8291\n",
            "Epoch 177/200\n",
            "34/34 [==============================] - 0s 2ms/step - loss: 3504.3359 - mae: 3504.3359\n",
            "Epoch 178/200\n",
            "34/34 [==============================] - 0s 2ms/step - loss: 3482.7312 - mae: 3482.7312\n",
            "Epoch 179/200\n",
            "34/34 [==============================] - 0s 2ms/step - loss: 3511.5933 - mae: 3511.5933\n",
            "Epoch 180/200\n",
            "34/34 [==============================] - 0s 2ms/step - loss: 3506.7419 - mae: 3506.7419\n",
            "Epoch 181/200\n",
            "34/34 [==============================] - 0s 2ms/step - loss: 3494.1218 - mae: 3494.1218\n",
            "Epoch 182/200\n",
            "34/34 [==============================] - 0s 2ms/step - loss: 3492.7695 - mae: 3492.7695\n",
            "Epoch 183/200\n",
            "34/34 [==============================] - 0s 2ms/step - loss: 3488.8032 - mae: 3488.8032\n",
            "Epoch 184/200\n",
            "34/34 [==============================] - 0s 2ms/step - loss: 3503.0176 - mae: 3503.0176\n",
            "Epoch 185/200\n",
            "34/34 [==============================] - 0s 2ms/step - loss: 3495.9407 - mae: 3495.9407\n",
            "Epoch 186/200\n",
            "34/34 [==============================] - 0s 2ms/step - loss: 3516.6619 - mae: 3516.6619\n",
            "Epoch 187/200\n",
            "34/34 [==============================] - 0s 2ms/step - loss: 3506.4243 - mae: 3506.4243\n",
            "Epoch 188/200\n",
            "34/34 [==============================] - 0s 2ms/step - loss: 3493.3179 - mae: 3493.3179\n",
            "Epoch 189/200\n",
            "34/34 [==============================] - 0s 2ms/step - loss: 3492.1072 - mae: 3492.1072\n",
            "Epoch 190/200\n",
            "34/34 [==============================] - 0s 2ms/step - loss: 3499.9756 - mae: 3499.9756\n",
            "Epoch 191/200\n",
            "34/34 [==============================] - 0s 2ms/step - loss: 3512.9944 - mae: 3512.9944\n",
            "Epoch 192/200\n",
            "34/34 [==============================] - 0s 2ms/step - loss: 3492.6479 - mae: 3492.6479\n",
            "Epoch 193/200\n",
            "34/34 [==============================] - 0s 2ms/step - loss: 3495.2656 - mae: 3495.2656\n",
            "Epoch 194/200\n",
            "34/34 [==============================] - 0s 2ms/step - loss: 3497.2000 - mae: 3497.2000\n",
            "Epoch 195/200\n",
            "34/34 [==============================] - 0s 2ms/step - loss: 3483.6604 - mae: 3483.6604\n",
            "Epoch 196/200\n",
            "34/34 [==============================] - 0s 2ms/step - loss: 3506.5085 - mae: 3506.5085\n",
            "Epoch 197/200\n",
            "34/34 [==============================] - 0s 2ms/step - loss: 3490.0266 - mae: 3490.0266\n",
            "Epoch 198/200\n",
            "34/34 [==============================] - 0s 2ms/step - loss: 3501.2454 - mae: 3501.2454\n",
            "Epoch 199/200\n",
            "34/34 [==============================] - 0s 2ms/step - loss: 3491.3831 - mae: 3491.3831\n",
            "Epoch 200/200\n",
            "34/34 [==============================] - 0s 2ms/step - loss: 3483.9043 - mae: 3483.9043\n"
          ]
        },
        {
          "output_type": "execute_result",
          "data": {
            "text/plain": [
              "<keras.callbacks.History at 0x7fe97732ab10>"
            ]
          },
          "metadata": {},
          "execution_count": 100
        }
      ]
    },
    {
      "cell_type": "code",
      "source": [
        "insurance_model_3_loss, insurance_model_3_mae"
      ],
      "metadata": {
        "colab": {
          "base_uri": "https://localhost:8080/"
        },
        "id": "-pFhXipfXEZp",
        "outputId": "0a397749-3167-4a58-8b62-d0cc6e262f9b"
      },
      "execution_count": 101,
      "outputs": [
        {
          "output_type": "execute_result",
          "data": {
            "text/plain": [
              "(3171.577392578125, 3171.577392578125)"
            ]
          },
          "metadata": {},
          "execution_count": 101
        }
      ]
    },
    {
      "cell_type": "code",
      "source": [
        "#evaluate the faster learning rate model against the test data\n",
        "insurance_model_adam10x_loss, insurance_model_adam10x_mae= insurance_model_adam10x.evaluate(X_test_normal, Y_test)"
      ],
      "metadata": {
        "colab": {
          "base_uri": "https://localhost:8080/"
        },
        "id": "wCXUtSm5XOdi",
        "outputId": "3601b7d8-598f-4540-ad14-1480a8f965a2"
      },
      "execution_count": 102,
      "outputs": [
        {
          "output_type": "stream",
          "name": "stdout",
          "text": [
            "9/9 [==============================] - 0s 2ms/step - loss: 3160.8762 - mae: 3160.8762\n"
          ]
        }
      ]
    },
    {
      "cell_type": "code",
      "source": [
        "#Result==> faster learning rate model performs slightly better"
      ],
      "metadata": {
        "id": "FAO8IBdbXwLV"
      },
      "execution_count": 103,
      "outputs": []
    },
    {
      "cell_type": "markdown",
      "source": [
        " * training the model for 300 epochs"
      ],
      "metadata": {
        "id": "-L6rlnnC4OrR"
      }
    },
    {
      "cell_type": "code",
      "source": [
        "#create the 300 epochs mode\n",
        "insurance_model_300e=tf.keras.Sequential([\n",
        "      tf.keras.layers.Dense(100),\n",
        "      tf.keras.layers.Dense(10),\n",
        "      tf.keras.layers.Dense(1),\n",
        "])\n",
        "\n",
        "#compile the model\n",
        "insurance_model_300e.compile(\n",
        "    loss=tf.keras.losses.mae,\n",
        "    optimizer=tf.keras.optimizers.Adam(),\n",
        "    metrics=['mae']\n",
        ")\n",
        "\n",
        "#fit the model on the training data for 300 epochs\n",
        "insurance_model_300e.fit(X_train_normal, Y_train, epochs=300)"
      ],
      "metadata": {
        "colab": {
          "base_uri": "https://localhost:8080/"
        },
        "id": "H3fSRxnf337-",
        "outputId": "7c954b5d-c0b2-404a-cac3-35fcff480050"
      },
      "execution_count": 104,
      "outputs": [
        {
          "output_type": "stream",
          "name": "stdout",
          "text": [
            "Epoch 1/300\n",
            "34/34 [==============================] - 0s 2ms/step - loss: 13344.3066 - mae: 13344.3066\n",
            "Epoch 2/300\n",
            "34/34 [==============================] - 0s 2ms/step - loss: 13334.6504 - mae: 13334.6504\n",
            "Epoch 3/300\n",
            "34/34 [==============================] - 0s 3ms/step - loss: 13311.5762 - mae: 13311.5762\n",
            "Epoch 4/300\n",
            "34/34 [==============================] - 0s 2ms/step - loss: 13263.4893 - mae: 13263.4893\n",
            "Epoch 5/300\n",
            "34/34 [==============================] - 0s 2ms/step - loss: 13178.4941 - mae: 13178.4941\n",
            "Epoch 6/300\n",
            "34/34 [==============================] - 0s 2ms/step - loss: 13045.5146 - mae: 13045.5146\n",
            "Epoch 7/300\n",
            "34/34 [==============================] - 0s 2ms/step - loss: 12854.2246 - mae: 12854.2246\n",
            "Epoch 8/300\n",
            "34/34 [==============================] - 0s 3ms/step - loss: 12594.6211 - mae: 12594.6211\n",
            "Epoch 9/300\n",
            "34/34 [==============================] - 0s 2ms/step - loss: 12256.8105 - mae: 12256.8105\n",
            "Epoch 10/300\n",
            "34/34 [==============================] - 0s 2ms/step - loss: 11839.8174 - mae: 11839.8174\n",
            "Epoch 11/300\n",
            "34/34 [==============================] - 0s 2ms/step - loss: 11356.7373 - mae: 11356.7373\n",
            "Epoch 12/300\n",
            "34/34 [==============================] - 0s 2ms/step - loss: 10851.1904 - mae: 10851.1904\n",
            "Epoch 13/300\n",
            "34/34 [==============================] - 0s 2ms/step - loss: 10351.5205 - mae: 10351.5205\n",
            "Epoch 14/300\n",
            "34/34 [==============================] - 0s 2ms/step - loss: 9862.6621 - mae: 9862.6621\n",
            "Epoch 15/300\n",
            "34/34 [==============================] - 0s 2ms/step - loss: 9404.5996 - mae: 9404.5996\n",
            "Epoch 16/300\n",
            "34/34 [==============================] - 0s 2ms/step - loss: 8999.5352 - mae: 8999.5352\n",
            "Epoch 17/300\n",
            "34/34 [==============================] - 0s 2ms/step - loss: 8666.8164 - mae: 8666.8164\n",
            "Epoch 18/300\n",
            "34/34 [==============================] - 0s 2ms/step - loss: 8399.6709 - mae: 8399.6709\n",
            "Epoch 19/300\n",
            "34/34 [==============================] - 0s 3ms/step - loss: 8202.5264 - mae: 8202.5264\n",
            "Epoch 20/300\n",
            "34/34 [==============================] - 0s 2ms/step - loss: 8064.9907 - mae: 8064.9907\n",
            "Epoch 21/300\n",
            "34/34 [==============================] - 0s 2ms/step - loss: 7962.5625 - mae: 7962.5625\n",
            "Epoch 22/300\n",
            "34/34 [==============================] - 0s 2ms/step - loss: 7892.1689 - mae: 7892.1689\n",
            "Epoch 23/300\n",
            "34/34 [==============================] - 0s 2ms/step - loss: 7836.2876 - mae: 7836.2876\n",
            "Epoch 24/300\n",
            "34/34 [==============================] - 0s 2ms/step - loss: 7785.9409 - mae: 7785.9409\n",
            "Epoch 25/300\n",
            "34/34 [==============================] - 0s 2ms/step - loss: 7747.2739 - mae: 7747.2739\n",
            "Epoch 26/300\n",
            "34/34 [==============================] - 0s 2ms/step - loss: 7694.6187 - mae: 7694.6187\n",
            "Epoch 27/300\n",
            "34/34 [==============================] - 0s 2ms/step - loss: 7651.1426 - mae: 7651.1426\n",
            "Epoch 28/300\n",
            "34/34 [==============================] - 0s 2ms/step - loss: 7607.3218 - mae: 7607.3218\n",
            "Epoch 29/300\n",
            "34/34 [==============================] - 0s 2ms/step - loss: 7563.8257 - mae: 7563.8257\n",
            "Epoch 30/300\n",
            "34/34 [==============================] - 0s 2ms/step - loss: 7519.5479 - mae: 7519.5479\n",
            "Epoch 31/300\n",
            "34/34 [==============================] - 0s 2ms/step - loss: 7474.5288 - mae: 7474.5288\n",
            "Epoch 32/300\n",
            "34/34 [==============================] - 0s 4ms/step - loss: 7429.1772 - mae: 7429.1772\n",
            "Epoch 33/300\n",
            "34/34 [==============================] - 0s 5ms/step - loss: 7383.6738 - mae: 7383.6738\n",
            "Epoch 34/300\n",
            "34/34 [==============================] - 0s 5ms/step - loss: 7334.0635 - mae: 7334.0635\n",
            "Epoch 35/300\n",
            "34/34 [==============================] - 0s 8ms/step - loss: 7285.9326 - mae: 7285.9326\n",
            "Epoch 36/300\n",
            "34/34 [==============================] - 0s 10ms/step - loss: 7234.4258 - mae: 7234.4258\n",
            "Epoch 37/300\n",
            "34/34 [==============================] - 0s 5ms/step - loss: 7182.6494 - mae: 7182.6494\n",
            "Epoch 38/300\n",
            "34/34 [==============================] - 0s 6ms/step - loss: 7129.9526 - mae: 7129.9526\n",
            "Epoch 39/300\n",
            "34/34 [==============================] - 0s 2ms/step - loss: 7073.2290 - mae: 7073.2290\n",
            "Epoch 40/300\n",
            "34/34 [==============================] - 0s 2ms/step - loss: 7015.6582 - mae: 7015.6582\n",
            "Epoch 41/300\n",
            "34/34 [==============================] - 0s 3ms/step - loss: 6957.2383 - mae: 6957.2383\n",
            "Epoch 42/300\n",
            "34/34 [==============================] - 0s 2ms/step - loss: 6895.6470 - mae: 6895.6470\n",
            "Epoch 43/300\n",
            "34/34 [==============================] - 0s 2ms/step - loss: 6830.5508 - mae: 6830.5508\n",
            "Epoch 44/300\n",
            "34/34 [==============================] - 0s 2ms/step - loss: 6761.5947 - mae: 6761.5947\n",
            "Epoch 45/300\n",
            "34/34 [==============================] - 0s 2ms/step - loss: 6691.5908 - mae: 6691.5908\n",
            "Epoch 46/300\n",
            "34/34 [==============================] - 0s 2ms/step - loss: 6619.5732 - mae: 6619.5732\n",
            "Epoch 47/300\n",
            "34/34 [==============================] - 0s 2ms/step - loss: 6545.0083 - mae: 6545.0083\n",
            "Epoch 48/300\n",
            "34/34 [==============================] - 0s 2ms/step - loss: 6462.8115 - mae: 6462.8115\n",
            "Epoch 49/300\n",
            "34/34 [==============================] - 0s 2ms/step - loss: 6380.3560 - mae: 6380.3560\n",
            "Epoch 50/300\n",
            "34/34 [==============================] - 0s 2ms/step - loss: 6290.3877 - mae: 6290.3877\n",
            "Epoch 51/300\n",
            "34/34 [==============================] - 0s 3ms/step - loss: 6202.4399 - mae: 6202.4399\n",
            "Epoch 52/300\n",
            "34/34 [==============================] - 0s 2ms/step - loss: 6104.4512 - mae: 6104.4512\n",
            "Epoch 53/300\n",
            "34/34 [==============================] - 0s 2ms/step - loss: 6003.8682 - mae: 6003.8682\n",
            "Epoch 54/300\n",
            "34/34 [==============================] - 0s 3ms/step - loss: 5900.1826 - mae: 5900.1826\n",
            "Epoch 55/300\n",
            "34/34 [==============================] - 0s 2ms/step - loss: 5787.7847 - mae: 5787.7847\n",
            "Epoch 56/300\n",
            "34/34 [==============================] - 0s 2ms/step - loss: 5674.4653 - mae: 5674.4653\n",
            "Epoch 57/300\n",
            "34/34 [==============================] - 0s 2ms/step - loss: 5555.9463 - mae: 5555.9463\n",
            "Epoch 58/300\n",
            "34/34 [==============================] - 0s 2ms/step - loss: 5436.9541 - mae: 5436.9541\n",
            "Epoch 59/300\n",
            "34/34 [==============================] - 0s 2ms/step - loss: 5312.8311 - mae: 5312.8311\n",
            "Epoch 60/300\n",
            "34/34 [==============================] - 0s 2ms/step - loss: 5187.1357 - mae: 5187.1357\n",
            "Epoch 61/300\n",
            "34/34 [==============================] - 0s 2ms/step - loss: 5058.7988 - mae: 5058.7988\n",
            "Epoch 62/300\n",
            "34/34 [==============================] - 0s 2ms/step - loss: 4925.4077 - mae: 4925.4077\n",
            "Epoch 63/300\n",
            "34/34 [==============================] - 0s 3ms/step - loss: 4796.4971 - mae: 4796.4971\n",
            "Epoch 64/300\n",
            "34/34 [==============================] - 0s 2ms/step - loss: 4665.6763 - mae: 4665.6763\n",
            "Epoch 65/300\n",
            "34/34 [==============================] - 0s 2ms/step - loss: 4542.7563 - mae: 4542.7563\n",
            "Epoch 66/300\n",
            "34/34 [==============================] - 0s 2ms/step - loss: 4428.4136 - mae: 4428.4136\n",
            "Epoch 67/300\n",
            "34/34 [==============================] - 0s 2ms/step - loss: 4324.4922 - mae: 4324.4922\n",
            "Epoch 68/300\n",
            "34/34 [==============================] - 0s 2ms/step - loss: 4220.4292 - mae: 4220.4292\n",
            "Epoch 69/300\n",
            "34/34 [==============================] - 0s 2ms/step - loss: 4124.2471 - mae: 4124.2471\n",
            "Epoch 70/300\n",
            "34/34 [==============================] - 0s 2ms/step - loss: 4036.4463 - mae: 4036.4463\n",
            "Epoch 71/300\n",
            "34/34 [==============================] - 0s 2ms/step - loss: 3957.7039 - mae: 3957.7039\n",
            "Epoch 72/300\n",
            "34/34 [==============================] - 0s 2ms/step - loss: 3889.3889 - mae: 3889.3889\n",
            "Epoch 73/300\n",
            "34/34 [==============================] - 0s 2ms/step - loss: 3834.3159 - mae: 3834.3159\n",
            "Epoch 74/300\n",
            "34/34 [==============================] - 0s 2ms/step - loss: 3786.8315 - mae: 3786.8315\n",
            "Epoch 75/300\n",
            "34/34 [==============================] - 0s 2ms/step - loss: 3753.4646 - mae: 3753.4646\n",
            "Epoch 76/300\n",
            "34/34 [==============================] - 0s 2ms/step - loss: 3728.5339 - mae: 3728.5339\n",
            "Epoch 77/300\n",
            "34/34 [==============================] - 0s 2ms/step - loss: 3707.5007 - mae: 3707.5007\n",
            "Epoch 78/300\n",
            "34/34 [==============================] - 0s 3ms/step - loss: 3694.6572 - mae: 3694.6572\n",
            "Epoch 79/300\n",
            "34/34 [==============================] - 0s 2ms/step - loss: 3685.0249 - mae: 3685.0249\n",
            "Epoch 80/300\n",
            "34/34 [==============================] - 0s 2ms/step - loss: 3676.8069 - mae: 3676.8069\n",
            "Epoch 81/300\n",
            "34/34 [==============================] - 0s 2ms/step - loss: 3672.1082 - mae: 3672.1082\n",
            "Epoch 82/300\n",
            "34/34 [==============================] - 0s 2ms/step - loss: 3669.3286 - mae: 3669.3286\n",
            "Epoch 83/300\n",
            "34/34 [==============================] - 0s 2ms/step - loss: 3663.7900 - mae: 3663.7900\n",
            "Epoch 84/300\n",
            "34/34 [==============================] - 0s 2ms/step - loss: 3661.4629 - mae: 3661.4629\n",
            "Epoch 85/300\n",
            "34/34 [==============================] - 0s 2ms/step - loss: 3659.0125 - mae: 3659.0125\n",
            "Epoch 86/300\n",
            "34/34 [==============================] - 0s 2ms/step - loss: 3657.6956 - mae: 3657.6956\n",
            "Epoch 87/300\n",
            "34/34 [==============================] - 0s 2ms/step - loss: 3654.9358 - mae: 3654.9358\n",
            "Epoch 88/300\n",
            "34/34 [==============================] - 0s 2ms/step - loss: 3652.4761 - mae: 3652.4761\n",
            "Epoch 89/300\n",
            "34/34 [==============================] - 0s 2ms/step - loss: 3651.1812 - mae: 3651.1812\n",
            "Epoch 90/300\n",
            "34/34 [==============================] - 0s 2ms/step - loss: 3649.3926 - mae: 3649.3926\n",
            "Epoch 91/300\n",
            "34/34 [==============================] - 0s 2ms/step - loss: 3646.3582 - mae: 3646.3582\n",
            "Epoch 92/300\n",
            "34/34 [==============================] - 0s 2ms/step - loss: 3645.7080 - mae: 3645.7080\n",
            "Epoch 93/300\n",
            "34/34 [==============================] - 0s 2ms/step - loss: 3643.3989 - mae: 3643.3989\n",
            "Epoch 94/300\n",
            "34/34 [==============================] - 0s 2ms/step - loss: 3641.6785 - mae: 3641.6785\n",
            "Epoch 95/300\n",
            "34/34 [==============================] - 0s 2ms/step - loss: 3642.7087 - mae: 3642.7087\n",
            "Epoch 96/300\n",
            "34/34 [==============================] - 0s 2ms/step - loss: 3639.5886 - mae: 3639.5886\n",
            "Epoch 97/300\n",
            "34/34 [==============================] - 0s 2ms/step - loss: 3637.1704 - mae: 3637.1704\n",
            "Epoch 98/300\n",
            "34/34 [==============================] - 0s 2ms/step - loss: 3635.3225 - mae: 3635.3225\n",
            "Epoch 99/300\n",
            "34/34 [==============================] - 0s 2ms/step - loss: 3634.1023 - mae: 3634.1023\n",
            "Epoch 100/300\n",
            "34/34 [==============================] - 0s 2ms/step - loss: 3633.1160 - mae: 3633.1160\n",
            "Epoch 101/300\n",
            "34/34 [==============================] - 0s 2ms/step - loss: 3629.9392 - mae: 3629.9392\n",
            "Epoch 102/300\n",
            "34/34 [==============================] - 0s 2ms/step - loss: 3627.3699 - mae: 3627.3699\n",
            "Epoch 103/300\n",
            "34/34 [==============================] - 0s 2ms/step - loss: 3626.3337 - mae: 3626.3337\n",
            "Epoch 104/300\n",
            "34/34 [==============================] - 0s 2ms/step - loss: 3623.8569 - mae: 3623.8569\n",
            "Epoch 105/300\n",
            "34/34 [==============================] - 0s 2ms/step - loss: 3622.2000 - mae: 3622.2000\n",
            "Epoch 106/300\n",
            "34/34 [==============================] - 0s 2ms/step - loss: 3620.8442 - mae: 3620.8442\n",
            "Epoch 107/300\n",
            "34/34 [==============================] - 0s 2ms/step - loss: 3620.2759 - mae: 3620.2759\n",
            "Epoch 108/300\n",
            "34/34 [==============================] - 0s 2ms/step - loss: 3617.6287 - mae: 3617.6287\n",
            "Epoch 109/300\n",
            "34/34 [==============================] - 0s 2ms/step - loss: 3617.8865 - mae: 3617.8865\n",
            "Epoch 110/300\n",
            "34/34 [==============================] - 0s 2ms/step - loss: 3614.5713 - mae: 3614.5713\n",
            "Epoch 111/300\n",
            "34/34 [==============================] - 0s 2ms/step - loss: 3611.9934 - mae: 3611.9934\n",
            "Epoch 112/300\n",
            "34/34 [==============================] - 0s 2ms/step - loss: 3609.7869 - mae: 3609.7869\n",
            "Epoch 113/300\n",
            "34/34 [==============================] - 0s 2ms/step - loss: 3608.2051 - mae: 3608.2051\n",
            "Epoch 114/300\n",
            "34/34 [==============================] - 0s 2ms/step - loss: 3607.2744 - mae: 3607.2744\n",
            "Epoch 115/300\n",
            "34/34 [==============================] - 0s 2ms/step - loss: 3605.5583 - mae: 3605.5583\n",
            "Epoch 116/300\n",
            "34/34 [==============================] - 0s 3ms/step - loss: 3603.9897 - mae: 3603.9897\n",
            "Epoch 117/300\n",
            "34/34 [==============================] - 0s 2ms/step - loss: 3600.9807 - mae: 3600.9807\n",
            "Epoch 118/300\n",
            "34/34 [==============================] - 0s 2ms/step - loss: 3597.2588 - mae: 3597.2588\n",
            "Epoch 119/300\n",
            "34/34 [==============================] - 0s 2ms/step - loss: 3599.6243 - mae: 3599.6243\n",
            "Epoch 120/300\n",
            "34/34 [==============================] - 0s 2ms/step - loss: 3596.3872 - mae: 3596.3872\n",
            "Epoch 121/300\n",
            "34/34 [==============================] - 0s 2ms/step - loss: 3591.2190 - mae: 3591.2190\n",
            "Epoch 122/300\n",
            "34/34 [==============================] - 0s 2ms/step - loss: 3590.6743 - mae: 3590.6743\n",
            "Epoch 123/300\n",
            "34/34 [==============================] - 0s 2ms/step - loss: 3588.6116 - mae: 3588.6116\n",
            "Epoch 124/300\n",
            "34/34 [==============================] - 0s 2ms/step - loss: 3586.2517 - mae: 3586.2517\n",
            "Epoch 125/300\n",
            "34/34 [==============================] - 0s 2ms/step - loss: 3584.2175 - mae: 3584.2175\n",
            "Epoch 126/300\n",
            "34/34 [==============================] - 0s 2ms/step - loss: 3583.2441 - mae: 3583.2441\n",
            "Epoch 127/300\n",
            "34/34 [==============================] - 0s 2ms/step - loss: 3583.8137 - mae: 3583.8137\n",
            "Epoch 128/300\n",
            "34/34 [==============================] - 0s 2ms/step - loss: 3579.8608 - mae: 3579.8608\n",
            "Epoch 129/300\n",
            "34/34 [==============================] - 0s 2ms/step - loss: 3578.4297 - mae: 3578.4297\n",
            "Epoch 130/300\n",
            "34/34 [==============================] - 0s 2ms/step - loss: 3574.7429 - mae: 3574.7429\n",
            "Epoch 131/300\n",
            "34/34 [==============================] - 0s 2ms/step - loss: 3573.4250 - mae: 3573.4250\n",
            "Epoch 132/300\n",
            "34/34 [==============================] - 0s 2ms/step - loss: 3570.4675 - mae: 3570.4675\n",
            "Epoch 133/300\n",
            "34/34 [==============================] - 0s 2ms/step - loss: 3568.8240 - mae: 3568.8240\n",
            "Epoch 134/300\n",
            "34/34 [==============================] - 0s 2ms/step - loss: 3566.7026 - mae: 3566.7026\n",
            "Epoch 135/300\n",
            "34/34 [==============================] - 0s 2ms/step - loss: 3564.9004 - mae: 3564.9004\n",
            "Epoch 136/300\n",
            "34/34 [==============================] - 0s 2ms/step - loss: 3563.4973 - mae: 3563.4973\n",
            "Epoch 137/300\n",
            "34/34 [==============================] - 0s 2ms/step - loss: 3562.1155 - mae: 3562.1155\n",
            "Epoch 138/300\n",
            "34/34 [==============================] - 0s 2ms/step - loss: 3559.8000 - mae: 3559.8000\n",
            "Epoch 139/300\n",
            "34/34 [==============================] - 0s 2ms/step - loss: 3559.1152 - mae: 3559.1152\n",
            "Epoch 140/300\n",
            "34/34 [==============================] - 0s 2ms/step - loss: 3557.1548 - mae: 3557.1548\n",
            "Epoch 141/300\n",
            "34/34 [==============================] - 0s 2ms/step - loss: 3557.2268 - mae: 3557.2268\n",
            "Epoch 142/300\n",
            "34/34 [==============================] - 0s 2ms/step - loss: 3554.3860 - mae: 3554.3860\n",
            "Epoch 143/300\n",
            "34/34 [==============================] - 0s 2ms/step - loss: 3554.7283 - mae: 3554.7283\n",
            "Epoch 144/300\n",
            "34/34 [==============================] - 0s 2ms/step - loss: 3551.6343 - mae: 3551.6343\n",
            "Epoch 145/300\n",
            "34/34 [==============================] - 0s 2ms/step - loss: 3549.9856 - mae: 3549.9856\n",
            "Epoch 146/300\n",
            "34/34 [==============================] - 0s 2ms/step - loss: 3549.8137 - mae: 3549.8137\n",
            "Epoch 147/300\n",
            "34/34 [==============================] - 0s 2ms/step - loss: 3547.5159 - mae: 3547.5159\n",
            "Epoch 148/300\n",
            "34/34 [==============================] - 0s 2ms/step - loss: 3546.1462 - mae: 3546.1462\n",
            "Epoch 149/300\n",
            "34/34 [==============================] - 0s 3ms/step - loss: 3543.4099 - mae: 3543.4099\n",
            "Epoch 150/300\n",
            "34/34 [==============================] - 0s 2ms/step - loss: 3543.4714 - mae: 3543.4714\n",
            "Epoch 151/300\n",
            "34/34 [==============================] - 0s 2ms/step - loss: 3541.3064 - mae: 3541.3064\n",
            "Epoch 152/300\n",
            "34/34 [==============================] - 0s 2ms/step - loss: 3539.8872 - mae: 3539.8872\n",
            "Epoch 153/300\n",
            "34/34 [==============================] - 0s 2ms/step - loss: 3538.1726 - mae: 3538.1726\n",
            "Epoch 154/300\n",
            "34/34 [==============================] - 0s 2ms/step - loss: 3539.5544 - mae: 3539.5544\n",
            "Epoch 155/300\n",
            "34/34 [==============================] - 0s 2ms/step - loss: 3537.2415 - mae: 3537.2415\n",
            "Epoch 156/300\n",
            "34/34 [==============================] - 0s 2ms/step - loss: 3535.1416 - mae: 3535.1416\n",
            "Epoch 157/300\n",
            "34/34 [==============================] - 0s 2ms/step - loss: 3533.7993 - mae: 3533.7993\n",
            "Epoch 158/300\n",
            "34/34 [==============================] - 0s 2ms/step - loss: 3530.6111 - mae: 3530.6111\n",
            "Epoch 159/300\n",
            "34/34 [==============================] - 0s 2ms/step - loss: 3529.1208 - mae: 3529.1208\n",
            "Epoch 160/300\n",
            "34/34 [==============================] - 0s 2ms/step - loss: 3528.8875 - mae: 3528.8875\n",
            "Epoch 161/300\n",
            "34/34 [==============================] - 0s 2ms/step - loss: 3525.8723 - mae: 3525.8723\n",
            "Epoch 162/300\n",
            "34/34 [==============================] - 0s 2ms/step - loss: 3525.2009 - mae: 3525.2009\n",
            "Epoch 163/300\n",
            "34/34 [==============================] - 0s 2ms/step - loss: 3523.9346 - mae: 3523.9346\n",
            "Epoch 164/300\n",
            "34/34 [==============================] - 0s 2ms/step - loss: 3522.9919 - mae: 3522.9919\n",
            "Epoch 165/300\n",
            "34/34 [==============================] - 0s 2ms/step - loss: 3520.7671 - mae: 3520.7671\n",
            "Epoch 166/300\n",
            "34/34 [==============================] - 0s 2ms/step - loss: 3519.2322 - mae: 3519.2322\n",
            "Epoch 167/300\n",
            "34/34 [==============================] - 0s 2ms/step - loss: 3518.4180 - mae: 3518.4180\n",
            "Epoch 168/300\n",
            "34/34 [==============================] - 0s 2ms/step - loss: 3516.9268 - mae: 3516.9268\n",
            "Epoch 169/300\n",
            "34/34 [==============================] - 0s 2ms/step - loss: 3515.8381 - mae: 3515.8381\n",
            "Epoch 170/300\n",
            "34/34 [==============================] - 0s 2ms/step - loss: 3514.6580 - mae: 3514.6580\n",
            "Epoch 171/300\n",
            "34/34 [==============================] - 0s 2ms/step - loss: 3514.0859 - mae: 3514.0859\n",
            "Epoch 172/300\n",
            "34/34 [==============================] - 0s 2ms/step - loss: 3512.4763 - mae: 3512.4763\n",
            "Epoch 173/300\n",
            "34/34 [==============================] - 0s 2ms/step - loss: 3511.3113 - mae: 3511.3113\n",
            "Epoch 174/300\n",
            "34/34 [==============================] - 0s 2ms/step - loss: 3509.8730 - mae: 3509.8730\n",
            "Epoch 175/300\n",
            "34/34 [==============================] - 0s 2ms/step - loss: 3508.7896 - mae: 3508.7896\n",
            "Epoch 176/300\n",
            "34/34 [==============================] - 0s 2ms/step - loss: 3508.6733 - mae: 3508.6733\n",
            "Epoch 177/300\n",
            "34/34 [==============================] - 0s 2ms/step - loss: 3509.0950 - mae: 3509.0950\n",
            "Epoch 178/300\n",
            "34/34 [==============================] - 0s 2ms/step - loss: 3506.4849 - mae: 3506.4849\n",
            "Epoch 179/300\n",
            "34/34 [==============================] - 0s 2ms/step - loss: 3508.2122 - mae: 3508.2122\n",
            "Epoch 180/300\n",
            "34/34 [==============================] - 0s 2ms/step - loss: 3503.3003 - mae: 3503.3003\n",
            "Epoch 181/300\n",
            "34/34 [==============================] - 0s 2ms/step - loss: 3501.2231 - mae: 3501.2231\n",
            "Epoch 182/300\n",
            "34/34 [==============================] - 0s 2ms/step - loss: 3500.6182 - mae: 3500.6182\n",
            "Epoch 183/300\n",
            "34/34 [==============================] - 0s 2ms/step - loss: 3498.5986 - mae: 3498.5986\n",
            "Epoch 184/300\n",
            "34/34 [==============================] - 0s 2ms/step - loss: 3497.9451 - mae: 3497.9451\n",
            "Epoch 185/300\n",
            "34/34 [==============================] - 0s 2ms/step - loss: 3497.5195 - mae: 3497.5195\n",
            "Epoch 186/300\n",
            "34/34 [==============================] - 0s 2ms/step - loss: 3495.1226 - mae: 3495.1226\n",
            "Epoch 187/300\n",
            "34/34 [==============================] - 0s 2ms/step - loss: 3495.4614 - mae: 3495.4614\n",
            "Epoch 188/300\n",
            "34/34 [==============================] - 0s 2ms/step - loss: 3492.4634 - mae: 3492.4634\n",
            "Epoch 189/300\n",
            "34/34 [==============================] - 0s 2ms/step - loss: 3490.9521 - mae: 3490.9521\n",
            "Epoch 190/300\n",
            "34/34 [==============================] - 0s 3ms/step - loss: 3492.7224 - mae: 3492.7224\n",
            "Epoch 191/300\n",
            "34/34 [==============================] - 0s 2ms/step - loss: 3497.4294 - mae: 3497.4294\n",
            "Epoch 192/300\n",
            "34/34 [==============================] - 0s 2ms/step - loss: 3487.6543 - mae: 3487.6543\n",
            "Epoch 193/300\n",
            "34/34 [==============================] - 0s 2ms/step - loss: 3487.6724 - mae: 3487.6724\n",
            "Epoch 194/300\n",
            "34/34 [==============================] - 0s 2ms/step - loss: 3484.7095 - mae: 3484.7095\n",
            "Epoch 195/300\n",
            "34/34 [==============================] - 0s 2ms/step - loss: 3484.1489 - mae: 3484.1489\n",
            "Epoch 196/300\n",
            "34/34 [==============================] - 0s 2ms/step - loss: 3484.9080 - mae: 3484.9080\n",
            "Epoch 197/300\n",
            "34/34 [==============================] - 0s 2ms/step - loss: 3481.9395 - mae: 3481.9395\n",
            "Epoch 198/300\n",
            "34/34 [==============================] - 0s 2ms/step - loss: 3480.4094 - mae: 3480.4094\n",
            "Epoch 199/300\n",
            "34/34 [==============================] - 0s 2ms/step - loss: 3479.3103 - mae: 3479.3103\n",
            "Epoch 200/300\n",
            "34/34 [==============================] - 0s 2ms/step - loss: 3479.6919 - mae: 3479.6919\n",
            "Epoch 201/300\n",
            "34/34 [==============================] - 0s 2ms/step - loss: 3476.2222 - mae: 3476.2222\n",
            "Epoch 202/300\n",
            "34/34 [==============================] - 0s 3ms/step - loss: 3476.3384 - mae: 3476.3384\n",
            "Epoch 203/300\n",
            "34/34 [==============================] - 0s 2ms/step - loss: 3474.8955 - mae: 3474.8955\n",
            "Epoch 204/300\n",
            "34/34 [==============================] - 0s 3ms/step - loss: 3476.4031 - mae: 3476.4031\n",
            "Epoch 205/300\n",
            "34/34 [==============================] - 0s 2ms/step - loss: 3473.9565 - mae: 3473.9565\n",
            "Epoch 206/300\n",
            "34/34 [==============================] - 0s 2ms/step - loss: 3473.2207 - mae: 3473.2207\n",
            "Epoch 207/300\n",
            "34/34 [==============================] - 0s 2ms/step - loss: 3474.1223 - mae: 3474.1223\n",
            "Epoch 208/300\n",
            "34/34 [==============================] - 0s 2ms/step - loss: 3473.4954 - mae: 3473.4954\n",
            "Epoch 209/300\n",
            "34/34 [==============================] - 0s 2ms/step - loss: 3473.5571 - mae: 3473.5571\n",
            "Epoch 210/300\n",
            "34/34 [==============================] - 0s 2ms/step - loss: 3472.9451 - mae: 3472.9451\n",
            "Epoch 211/300\n",
            "34/34 [==============================] - 0s 2ms/step - loss: 3472.5090 - mae: 3472.5090\n",
            "Epoch 212/300\n",
            "34/34 [==============================] - 0s 2ms/step - loss: 3472.9812 - mae: 3472.9812\n",
            "Epoch 213/300\n",
            "34/34 [==============================] - 0s 3ms/step - loss: 3472.4146 - mae: 3472.4146\n",
            "Epoch 214/300\n",
            "34/34 [==============================] - 0s 3ms/step - loss: 3474.3425 - mae: 3474.3425\n",
            "Epoch 215/300\n",
            "34/34 [==============================] - 0s 2ms/step - loss: 3473.5029 - mae: 3473.5029\n",
            "Epoch 216/300\n",
            "34/34 [==============================] - 0s 2ms/step - loss: 3472.3750 - mae: 3472.3750\n",
            "Epoch 217/300\n",
            "34/34 [==============================] - 0s 2ms/step - loss: 3474.6167 - mae: 3474.6167\n",
            "Epoch 218/300\n",
            "34/34 [==============================] - 0s 2ms/step - loss: 3472.2378 - mae: 3472.2378\n",
            "Epoch 219/300\n",
            "34/34 [==============================] - 0s 2ms/step - loss: 3472.5623 - mae: 3472.5623\n",
            "Epoch 220/300\n",
            "34/34 [==============================] - 0s 2ms/step - loss: 3471.7834 - mae: 3471.7834\n",
            "Epoch 221/300\n",
            "34/34 [==============================] - 0s 2ms/step - loss: 3474.2847 - mae: 3474.2847\n",
            "Epoch 222/300\n",
            "34/34 [==============================] - 0s 2ms/step - loss: 3473.6272 - mae: 3473.6272\n",
            "Epoch 223/300\n",
            "34/34 [==============================] - 0s 2ms/step - loss: 3472.7014 - mae: 3472.7014\n",
            "Epoch 224/300\n",
            "34/34 [==============================] - 0s 2ms/step - loss: 3473.0417 - mae: 3473.0417\n",
            "Epoch 225/300\n",
            "34/34 [==============================] - 0s 2ms/step - loss: 3472.9187 - mae: 3472.9187\n",
            "Epoch 226/300\n",
            "34/34 [==============================] - 0s 3ms/step - loss: 3471.7578 - mae: 3471.7578\n",
            "Epoch 227/300\n",
            "34/34 [==============================] - 0s 2ms/step - loss: 3471.4883 - mae: 3471.4883\n",
            "Epoch 228/300\n",
            "34/34 [==============================] - 0s 2ms/step - loss: 3473.4614 - mae: 3473.4614\n",
            "Epoch 229/300\n",
            "34/34 [==============================] - 0s 2ms/step - loss: 3472.0374 - mae: 3472.0374\n",
            "Epoch 230/300\n",
            "34/34 [==============================] - 0s 2ms/step - loss: 3474.1519 - mae: 3474.1519\n",
            "Epoch 231/300\n",
            "34/34 [==============================] - 0s 2ms/step - loss: 3471.7935 - mae: 3471.7935\n",
            "Epoch 232/300\n",
            "34/34 [==============================] - 0s 3ms/step - loss: 3472.8140 - mae: 3472.8140\n",
            "Epoch 233/300\n",
            "34/34 [==============================] - 0s 2ms/step - loss: 3471.9880 - mae: 3471.9880\n",
            "Epoch 234/300\n",
            "34/34 [==============================] - 0s 2ms/step - loss: 3472.7141 - mae: 3472.7141\n",
            "Epoch 235/300\n",
            "34/34 [==============================] - 0s 2ms/step - loss: 3474.2485 - mae: 3474.2485\n",
            "Epoch 236/300\n",
            "34/34 [==============================] - 0s 2ms/step - loss: 3473.5901 - mae: 3473.5901\n",
            "Epoch 237/300\n",
            "34/34 [==============================] - 0s 2ms/step - loss: 3472.8665 - mae: 3472.8665\n",
            "Epoch 238/300\n",
            "34/34 [==============================] - 0s 2ms/step - loss: 3473.4504 - mae: 3473.4504\n",
            "Epoch 239/300\n",
            "34/34 [==============================] - 0s 2ms/step - loss: 3475.0076 - mae: 3475.0076\n",
            "Epoch 240/300\n",
            "34/34 [==============================] - 0s 2ms/step - loss: 3472.6304 - mae: 3472.6304\n",
            "Epoch 241/300\n",
            "34/34 [==============================] - 0s 2ms/step - loss: 3471.6777 - mae: 3471.6777\n",
            "Epoch 242/300\n",
            "34/34 [==============================] - 0s 2ms/step - loss: 3474.0059 - mae: 3474.0059\n",
            "Epoch 243/300\n",
            "34/34 [==============================] - 0s 2ms/step - loss: 3472.1072 - mae: 3472.1072\n",
            "Epoch 244/300\n",
            "34/34 [==============================] - 0s 2ms/step - loss: 3473.7581 - mae: 3473.7581\n",
            "Epoch 245/300\n",
            "34/34 [==============================] - 0s 2ms/step - loss: 3472.0750 - mae: 3472.0750\n",
            "Epoch 246/300\n",
            "34/34 [==============================] - 0s 2ms/step - loss: 3473.6262 - mae: 3473.6262\n",
            "Epoch 247/300\n",
            "34/34 [==============================] - 0s 2ms/step - loss: 3472.4983 - mae: 3472.4983\n",
            "Epoch 248/300\n",
            "34/34 [==============================] - 0s 2ms/step - loss: 3474.1675 - mae: 3474.1675\n",
            "Epoch 249/300\n",
            "34/34 [==============================] - 0s 2ms/step - loss: 3475.2544 - mae: 3475.2544\n",
            "Epoch 250/300\n",
            "34/34 [==============================] - 0s 2ms/step - loss: 3472.2908 - mae: 3472.2908\n",
            "Epoch 251/300\n",
            "34/34 [==============================] - 0s 2ms/step - loss: 3471.4822 - mae: 3471.4822\n",
            "Epoch 252/300\n",
            "34/34 [==============================] - 0s 2ms/step - loss: 3473.4204 - mae: 3473.4204\n",
            "Epoch 253/300\n",
            "34/34 [==============================] - 0s 2ms/step - loss: 3472.9907 - mae: 3472.9907\n",
            "Epoch 254/300\n",
            "34/34 [==============================] - 0s 2ms/step - loss: 3471.8381 - mae: 3471.8381\n",
            "Epoch 255/300\n",
            "34/34 [==============================] - 0s 2ms/step - loss: 3472.4871 - mae: 3472.4871\n",
            "Epoch 256/300\n",
            "34/34 [==============================] - 0s 2ms/step - loss: 3474.9941 - mae: 3474.9941\n",
            "Epoch 257/300\n",
            "34/34 [==============================] - 0s 2ms/step - loss: 3475.7690 - mae: 3475.7690\n",
            "Epoch 258/300\n",
            "34/34 [==============================] - 0s 2ms/step - loss: 3472.3293 - mae: 3472.3293\n",
            "Epoch 259/300\n",
            "34/34 [==============================] - 0s 2ms/step - loss: 3474.2476 - mae: 3474.2476\n",
            "Epoch 260/300\n",
            "34/34 [==============================] - 0s 2ms/step - loss: 3471.9827 - mae: 3471.9827\n",
            "Epoch 261/300\n",
            "34/34 [==============================] - 0s 2ms/step - loss: 3472.9004 - mae: 3472.9004\n",
            "Epoch 262/300\n",
            "34/34 [==============================] - 0s 3ms/step - loss: 3472.7717 - mae: 3472.7717\n",
            "Epoch 263/300\n",
            "34/34 [==============================] - 0s 2ms/step - loss: 3472.4204 - mae: 3472.4204\n",
            "Epoch 264/300\n",
            "34/34 [==============================] - 0s 2ms/step - loss: 3472.5383 - mae: 3472.5383\n",
            "Epoch 265/300\n",
            "34/34 [==============================] - 0s 2ms/step - loss: 3472.9197 - mae: 3472.9197\n",
            "Epoch 266/300\n",
            "34/34 [==============================] - 0s 2ms/step - loss: 3472.3435 - mae: 3472.3435\n",
            "Epoch 267/300\n",
            "34/34 [==============================] - 0s 2ms/step - loss: 3474.1125 - mae: 3474.1125\n",
            "Epoch 268/300\n",
            "34/34 [==============================] - 0s 2ms/step - loss: 3471.8926 - mae: 3471.8926\n",
            "Epoch 269/300\n",
            "34/34 [==============================] - 0s 2ms/step - loss: 3471.7288 - mae: 3471.7288\n",
            "Epoch 270/300\n",
            "34/34 [==============================] - 0s 2ms/step - loss: 3471.8821 - mae: 3471.8821\n",
            "Epoch 271/300\n",
            "34/34 [==============================] - 0s 2ms/step - loss: 3472.2764 - mae: 3472.2764\n",
            "Epoch 272/300\n",
            "34/34 [==============================] - 0s 2ms/step - loss: 3472.0222 - mae: 3472.0222\n",
            "Epoch 273/300\n",
            "34/34 [==============================] - 0s 2ms/step - loss: 3472.3491 - mae: 3472.3491\n",
            "Epoch 274/300\n",
            "34/34 [==============================] - 0s 2ms/step - loss: 3472.3184 - mae: 3472.3184\n",
            "Epoch 275/300\n",
            "34/34 [==============================] - 0s 3ms/step - loss: 3473.5803 - mae: 3473.5803\n",
            "Epoch 276/300\n",
            "34/34 [==============================] - 0s 2ms/step - loss: 3473.6631 - mae: 3473.6631\n",
            "Epoch 277/300\n",
            "34/34 [==============================] - 0s 2ms/step - loss: 3471.8787 - mae: 3471.8787\n",
            "Epoch 278/300\n",
            "34/34 [==============================] - 0s 2ms/step - loss: 3472.1868 - mae: 3472.1868\n",
            "Epoch 279/300\n",
            "34/34 [==============================] - 0s 2ms/step - loss: 3476.1445 - mae: 3476.1445\n",
            "Epoch 280/300\n",
            "34/34 [==============================] - 0s 2ms/step - loss: 3472.1665 - mae: 3472.1665\n",
            "Epoch 281/300\n",
            "34/34 [==============================] - 0s 2ms/step - loss: 3472.3970 - mae: 3472.3970\n",
            "Epoch 282/300\n",
            "34/34 [==============================] - 0s 2ms/step - loss: 3471.9248 - mae: 3471.9248\n",
            "Epoch 283/300\n",
            "34/34 [==============================] - 0s 2ms/step - loss: 3472.7654 - mae: 3472.7654\n",
            "Epoch 284/300\n",
            "34/34 [==============================] - 0s 2ms/step - loss: 3472.4438 - mae: 3472.4438\n",
            "Epoch 285/300\n",
            "34/34 [==============================] - 0s 2ms/step - loss: 3471.9089 - mae: 3471.9089\n",
            "Epoch 286/300\n",
            "34/34 [==============================] - 0s 2ms/step - loss: 3472.2468 - mae: 3472.2468\n",
            "Epoch 287/300\n",
            "34/34 [==============================] - 0s 2ms/step - loss: 3472.7393 - mae: 3472.7393\n",
            "Epoch 288/300\n",
            "34/34 [==============================] - 0s 2ms/step - loss: 3472.2417 - mae: 3472.2417\n",
            "Epoch 289/300\n",
            "34/34 [==============================] - 0s 2ms/step - loss: 3473.8435 - mae: 3473.8435\n",
            "Epoch 290/300\n",
            "34/34 [==============================] - 0s 2ms/step - loss: 3473.0974 - mae: 3473.0974\n",
            "Epoch 291/300\n",
            "34/34 [==============================] - 0s 2ms/step - loss: 3471.3411 - mae: 3471.3411\n",
            "Epoch 292/300\n",
            "34/34 [==============================] - 0s 2ms/step - loss: 3473.7449 - mae: 3473.7449\n",
            "Epoch 293/300\n",
            "34/34 [==============================] - 0s 2ms/step - loss: 3471.8679 - mae: 3471.8679\n",
            "Epoch 294/300\n",
            "34/34 [==============================] - 0s 2ms/step - loss: 3473.2876 - mae: 3473.2876\n",
            "Epoch 295/300\n",
            "34/34 [==============================] - 0s 2ms/step - loss: 3473.3098 - mae: 3473.3098\n",
            "Epoch 296/300\n",
            "34/34 [==============================] - 0s 2ms/step - loss: 3474.1465 - mae: 3474.1465\n",
            "Epoch 297/300\n",
            "34/34 [==============================] - 0s 3ms/step - loss: 3476.2861 - mae: 3476.2861\n",
            "Epoch 298/300\n",
            "34/34 [==============================] - 0s 2ms/step - loss: 3474.8643 - mae: 3474.8643\n",
            "Epoch 299/300\n",
            "34/34 [==============================] - 0s 2ms/step - loss: 3471.8054 - mae: 3471.8054\n",
            "Epoch 300/300\n",
            "34/34 [==============================] - 0s 2ms/step - loss: 3472.7649 - mae: 3472.7649\n"
          ]
        },
        {
          "output_type": "execute_result",
          "data": {
            "text/plain": [
              "<keras.callbacks.History at 0x7fe9771f0a10>"
            ]
          },
          "metadata": {},
          "execution_count": 104
        }
      ]
    },
    {
      "cell_type": "code",
      "source": [
        "insurance_model_3_loss, insurance_model_3_mae"
      ],
      "metadata": {
        "colab": {
          "base_uri": "https://localhost:8080/"
        },
        "id": "WAelWRW7ZHwh",
        "outputId": "0575e012-4339-4d2d-ac14-40ef25253eaa"
      },
      "execution_count": 105,
      "outputs": [
        {
          "output_type": "execute_result",
          "data": {
            "text/plain": [
              "(3171.577392578125, 3171.577392578125)"
            ]
          },
          "metadata": {},
          "execution_count": 105
        }
      ]
    },
    {
      "cell_type": "code",
      "source": [
        "#evaluate the 300 epochs model on the test data\n",
        "insurance_model_300e_loss, insurance_model_300e_mae = insurance_model_300e.evaluate(X_test_normal, Y_test)"
      ],
      "metadata": {
        "colab": {
          "base_uri": "https://localhost:8080/"
        },
        "id": "nsseKme-ZPLi",
        "outputId": "67b5175f-1a9f-42f7-b93d-5fd1bcdf6035"
      },
      "execution_count": 106,
      "outputs": [
        {
          "output_type": "stream",
          "name": "stdout",
          "text": [
            "9/9 [==============================] - 0s 2ms/step - loss: 3160.8147 - mae: 3160.8147\n"
          ]
        }
      ]
    },
    {
      "cell_type": "code",
      "source": [
        "#Result==> performs about as well as other previous experiments"
      ],
      "metadata": {
        "id": "OB1ZWfYcZmtA"
      },
      "execution_count": 107,
      "outputs": []
    },
    {
      "cell_type": "markdown",
      "metadata": {
        "id": "dPxYbe3xZ5Je"
      },
      "source": [
        "4. Import the [Boston pricing dataset](https://www.tensorflow.org/api_docs/python/tf/keras/datasets/boston_housing/load_data) from TensorFlow [`tf.keras.datasets`](https://www.tensorflow.org/api_docs/python/tf/keras/datasets) and model it.\n"
      ]
    },
    {
      "cell_type": "code",
      "source": [
        "#returns the boston_housing dataset as a tuple of numpy arrays in the form\n",
        "#Tuple of Numpy arrays: (x_train, y_train), (x_test, y_test). \n",
        "data=tf.keras.datasets.boston_housing.load_data(\n",
        "    path='boston_housing.npz', test_split=0.2, seed=113\n",
        ")\n"
      ],
      "metadata": {
        "id": "H97J-E_5Z8zf"
      },
      "execution_count": 108,
      "outputs": []
    },
    {
      "cell_type": "code",
      "source": [
        "(x_train, y_train), (x_test, y_test)=data"
      ],
      "metadata": {
        "id": "k-mqtDol3aBW"
      },
      "execution_count": 146,
      "outputs": []
    },
    {
      "cell_type": "code",
      "source": [
        "x_train.shape, y_train.shape, x_test.shape, y_test.shape"
      ],
      "metadata": {
        "colab": {
          "base_uri": "https://localhost:8080/"
        },
        "id": "lwH-fLr13L8d",
        "outputId": "c1789d61-f0e7-4e46-e9d1-733d120ffc0c"
      },
      "execution_count": 110,
      "outputs": [
        {
          "output_type": "execute_result",
          "data": {
            "text/plain": [
              "((404, 13), (404,), (102, 13), (102,))"
            ]
          },
          "metadata": {},
          "execution_count": 110
        }
      ]
    },
    {
      "cell_type": "code",
      "source": [
        "\"mean house price=> \"+'$'+str(tf.reduce_mean(y_train).numpy()*1000), '$'+str(tf.reduce_mean(y_test).numpy()*1000)"
      ],
      "metadata": {
        "colab": {
          "base_uri": "https://localhost:8080/"
        },
        "id": "FiL9Qhe54rv_",
        "outputId": "0b27a95c-35b3-4d34-b938-c8d26eea8891"
      },
      "execution_count": 111,
      "outputs": [
        {
          "output_type": "execute_result",
          "data": {
            "text/plain": [
              "('mean house price=> $22395.049504950493', '$23078.43137254902')"
            ]
          },
          "metadata": {},
          "execution_count": 111
        }
      ]
    },
    {
      "cell_type": "code",
      "source": [
        "plt.hist(y_train)"
      ],
      "metadata": {
        "colab": {
          "base_uri": "https://localhost:8080/",
          "height": 320
        },
        "id": "KEV7iurz6MUx",
        "outputId": "65ee5f21-acd1-440c-ba4d-6e668b3a02e9"
      },
      "execution_count": 112,
      "outputs": [
        {
          "output_type": "execute_result",
          "data": {
            "text/plain": [
              "(array([ 15.,  48.,  72., 120.,  64.,  31.,  21.,   8.,   8.,  17.]),\n",
              " array([ 5. ,  9.5, 14. , 18.5, 23. , 27.5, 32. , 36.5, 41. , 45.5, 50. ]),\n",
              " <a list of 10 Patch objects>)"
            ]
          },
          "metadata": {},
          "execution_count": 112
        },
        {
          "output_type": "display_data",
          "data": {
            "image/png": "[encoded data removed]",
            "text/plain": [
              "<Figure size 432x288 with 1 Axes>"
            ]
          },
          "metadata": {
            "needs_background": "light"
          }
        }
      ]
    },
    {
      "cell_type": "code",
      "source": [
        "#DESCRIPTION OF THE DATASET\n",
        "# The Boston house-price data of Harrison, D. and Rubinfeld, D.L. 'Hedonic\n",
        "#  prices and the demand for clean air', J. Environ. Economics & Management,\n",
        "#  vol.5, 81-102, 1978.   Used in Belsley, Kuh & Welsch, 'Regression diagnostics\n",
        "#  ...', Wiley, 1980.   N.B. Various transformations are used in the table on\n",
        "#  pages 244-261 of the latter.\n",
        "\n",
        "#  Variables in order:\n",
        "#  CRIM     per capita crime rate by town\n",
        "#  ZN       proportion of residential land zoned for lots over 25,000 sq.ft.\n",
        "#  INDUS    proportion of non-retail business acres per town\n",
        "#  CHAS     Charles River dummy variable (= 1 if tract bounds river; 0 otherwise)\n",
        "#  NOX      nitric oxides concentration (parts per 10 million)\n",
        "#  RM       average number of rooms per dwelling\n",
        "#  AGE      proportion of owner-occupied units built prior to 1940\n",
        "#  DIS      weighted distances to five Boston employment centres\n",
        "#  RAD      index of accessibility to radial highways\n",
        "#  TAX      full-value property-tax rate per $10,000\n",
        "#  PTRATIO  pupil-teacher ratio by town\n",
        "#  B        1000(Bk - 0.63)^2 where Bk is the proportion of blacks by town\n",
        "#  LSTAT    % lower status of the population\n",
        "#  MEDV     Median value of owner-occupied homes in $1000's"
      ],
      "metadata": {
        "id": "xB6r8lTq3OlN"
      },
      "execution_count": 113,
      "outputs": []
    },
    {
      "cell_type": "code",
      "source": [
        "np.set_printoptions(suppress=True)\n",
        "x_train[:5]\n",
        "#data needs to be normalized"
      ],
      "metadata": {
        "colab": {
          "base_uri": "https://localhost:8080/"
        },
        "id": "3jHRVByF5-ZK",
        "outputId": "74efc3d8-bf22-46e5-e38d-ff2d24da3875"
      },
      "execution_count": 114,
      "outputs": [
        {
          "output_type": "execute_result",
          "data": {
            "text/plain": [
              "array([[  1.23247,   0.     ,   8.14   ,   0.     ,   0.538  ,   6.142  ,\n",
              "         91.7    ,   3.9769 ,   4.     , 307.     ,  21.     , 396.9    ,\n",
              "         18.72   ],\n",
              "       [  0.02177,  82.5    ,   2.03   ,   0.     ,   0.415  ,   7.61   ,\n",
              "         15.7    ,   6.27   ,   2.     , 348.     ,  14.7    , 395.38   ,\n",
              "          3.11   ],\n",
              "       [  4.89822,   0.     ,  18.1    ,   0.     ,   0.631  ,   4.97   ,\n",
              "        100.     ,   1.3325 ,  24.     , 666.     ,  20.2    , 375.52   ,\n",
              "          3.26   ],\n",
              "       [  0.03961,   0.     ,   5.19   ,   0.     ,   0.515  ,   6.037  ,\n",
              "         34.5    ,   5.9853 ,   5.     , 224.     ,  20.2    , 396.9    ,\n",
              "          8.01   ],\n",
              "       [  3.69311,   0.     ,  18.1    ,   0.     ,   0.713  ,   6.376  ,\n",
              "         88.4    ,   2.5671 ,  24.     , 666.     ,  20.2    , 391.43   ,\n",
              "         14.65   ]])"
            ]
          },
          "metadata": {},
          "execution_count": 114
        }
      ]
    },
    {
      "cell_type": "code",
      "source": [
        "#normalizing the data only normalize x_train and x_test to prevent data leakage\n",
        "x_train_normal=tf.keras.utils.normalize(\n",
        "    x_train, axis=-1, order=2\n",
        ")\n",
        "x_test_normal=tf.keras.utils.normalize(\n",
        "    x_test, axis=-1, order=2\n",
        ")\n",
        "x_train_normal[:5], x_test_normal[:5]"
      ],
      "metadata": {
        "colab": {
          "base_uri": "https://localhost:8080/"
        },
        "id": "PrXPZKOd7bLN",
        "outputId": "2ae46665-b464-4328-9a7f-c46eafbe03fc"
      },
      "execution_count": 115,
      "outputs": [
        {
          "output_type": "execute_result",
          "data": {
            "text/plain": [
              "(array([[0.0024119 , 0.        , 0.01592969, 0.        , 0.00105285,\n",
              "         0.01201967, 0.17945359, 0.00778265, 0.00782786, 0.6007879 ,\n",
              "         0.04109624, 0.77671895, 0.03663436],\n",
              "        [0.00004079, 0.15458728, 0.00380378, 0.        , 0.00077762,\n",
              "         0.01425951, 0.02941843, 0.01174863, 0.00374757, 0.65207727,\n",
              "         0.02754464, 0.74085721, 0.00582747],\n",
              "        [0.00634506, 0.        , 0.02344637, 0.        , 0.00081738,\n",
              "         0.00643804, 0.12953798, 0.00172609, 0.03108912, 0.86272295,\n",
              "         0.02616667, 0.48644103, 0.00422294],\n",
              "        [0.00008654, 0.        , 0.01133922, 0.        , 0.00112518,\n",
              "         0.01318976, 0.0753763 , 0.01307681, 0.0109241 , 0.48939975,\n",
              "         0.04413337, 0.86715519, 0.01750041],\n",
              "        [0.00474344, 0.        , 0.02324766, 0.        , 0.00091578,\n",
              "         0.00818934, 0.11354108, 0.00329719, 0.03082563, 0.85541129,\n",
              "         0.02594491, 0.50275322, 0.01881648]]),\n",
              " array([[0.02675675, 0.        , 0.02677953, 0.        , 0.0010046 ,\n",
              "         0.00951931, 0.14795322, 0.0027145 , 0.03550877, 0.98536841,\n",
              "         0.02988655, 0.04031725, 0.04298041],\n",
              "        [0.00020781, 0.        , 0.01687193, 0.        , 0.00092197,\n",
              "         0.00996641, 0.15658369, 0.00396667, 0.01011305, 0.72813944,\n",
              "         0.03000204, 0.66569137, 0.02732208],\n",
              "        [0.00011985, 0.        , 0.01131525, 0.        , 0.0011228 ,\n",
              "         0.01304851, 0.09898121, 0.01049157, 0.01090101, 0.48836542,\n",
              "         0.0440401 , 0.86532248, 0.02123518],\n",
              "        [0.00237895, 0.        , 0.03657734, 0.0018681 , 0.0011302 ,\n",
              "         0.01167561, 0.17298577, 0.00335959, 0.00934048, 0.75284304,\n",
              "         0.02746102, 0.63313539, 0.01027453],\n",
              "        [0.00015216, 0.        , 0.00955377, 0.        , 0.00095538,\n",
              "         0.0130242 , 0.12085842, 0.0079741 , 0.00638337, 0.52556389,\n",
              "         0.0393641 , 0.84079583, 0.01795854]]))"
            ]
          },
          "metadata": {},
          "execution_count": 115
        }
      ]
    },
    {
      "cell_type": "code",
      "source": [
        "#finally build a model to predict the data\n",
        "\n",
        "housing_model_1=tf.keras.Sequential([\n",
        "          tf.keras.layers.Dense(100),\n",
        "          tf.keras.layers.Dense(10),\n",
        "          tf.keras.layers.Dense(1)\n",
        "])\n",
        "\n",
        "#compile the model\n",
        "housing_model_1.compile(\n",
        "    loss=tf.keras.losses.mae,\n",
        "    optimizer=tf.keras.optimizers.Adam(),\n",
        "    metrics=['mae']\n",
        ")\n",
        "\n",
        "#fit the model for 100 epochs\n",
        "housing_model_1.fit(x_train_normal, y_train, epochs=100)"
      ],
      "metadata": {
        "colab": {
          "base_uri": "https://localhost:8080/"
        },
        "id": "noGDtYTTAF2E",
        "outputId": "61e07a6c-3fc3-4b99-ce16-595452583504"
      },
      "execution_count": 121,
      "outputs": [
        {
          "output_type": "stream",
          "name": "stdout",
          "text": [
            "Epoch 1/100\n",
            "13/13 [==============================] - 1s 3ms/step - loss: 22.2162 - mae: 22.2162\n",
            "Epoch 2/100\n",
            "13/13 [==============================] - 0s 4ms/step - loss: 21.1630 - mae: 21.1630\n",
            "Epoch 3/100\n",
            "13/13 [==============================] - 0s 3ms/step - loss: 19.8815 - mae: 19.8815\n",
            "Epoch 4/100\n",
            "13/13 [==============================] - 0s 3ms/step - loss: 18.1485 - mae: 18.1485\n",
            "Epoch 5/100\n",
            "13/13 [==============================] - 0s 3ms/step - loss: 15.7219 - mae: 15.7219\n",
            "Epoch 6/100\n",
            "13/13 [==============================] - 0s 6ms/step - loss: 12.4513 - mae: 12.4513\n",
            "Epoch 7/100\n",
            "13/13 [==============================] - 0s 6ms/step - loss: 8.8432 - mae: 8.8432\n",
            "Epoch 8/100\n",
            "13/13 [==============================] - 0s 3ms/step - loss: 6.4886 - mae: 6.4886\n",
            "Epoch 9/100\n",
            "13/13 [==============================] - 0s 6ms/step - loss: 6.2999 - mae: 6.2999\n",
            "Epoch 10/100\n",
            "13/13 [==============================] - 0s 4ms/step - loss: 6.1689 - mae: 6.1689\n",
            "Epoch 11/100\n",
            "13/13 [==============================] - 0s 4ms/step - loss: 6.0790 - mae: 6.0790\n",
            "Epoch 12/100\n",
            "13/13 [==============================] - 0s 5ms/step - loss: 5.9998 - mae: 5.9998\n",
            "Epoch 13/100\n",
            "13/13 [==============================] - 0s 6ms/step - loss: 5.9237 - mae: 5.9237\n",
            "Epoch 14/100\n",
            "13/13 [==============================] - 0s 6ms/step - loss: 5.8488 - mae: 5.8488\n",
            "Epoch 15/100\n",
            "13/13 [==============================] - 0s 3ms/step - loss: 5.7850 - mae: 5.7850\n",
            "Epoch 16/100\n",
            "13/13 [==============================] - 0s 5ms/step - loss: 5.7128 - mae: 5.7128\n",
            "Epoch 17/100\n",
            "13/13 [==============================] - 0s 5ms/step - loss: 5.6539 - mae: 5.6539\n",
            "Epoch 18/100\n",
            "13/13 [==============================] - 0s 4ms/step - loss: 5.5888 - mae: 5.5888\n",
            "Epoch 19/100\n",
            "13/13 [==============================] - 0s 4ms/step - loss: 5.5333 - mae: 5.5333\n",
            "Epoch 20/100\n",
            "13/13 [==============================] - 0s 3ms/step - loss: 5.4856 - mae: 5.4856\n",
            "Epoch 21/100\n",
            "13/13 [==============================] - 0s 6ms/step - loss: 5.4327 - mae: 5.4327\n",
            "Epoch 22/100\n",
            "13/13 [==============================] - 0s 5ms/step - loss: 5.3904 - mae: 5.3904\n",
            "Epoch 23/100\n",
            "13/13 [==============================] - 0s 5ms/step - loss: 5.3614 - mae: 5.3614\n",
            "Epoch 24/100\n",
            "13/13 [==============================] - 0s 5ms/step - loss: 5.3227 - mae: 5.3227\n",
            "Epoch 25/100\n",
            "13/13 [==============================] - 0s 5ms/step - loss: 5.2928 - mae: 5.2928\n",
            "Epoch 26/100\n",
            "13/13 [==============================] - 0s 5ms/step - loss: 5.2605 - mae: 5.2605\n",
            "Epoch 27/100\n",
            "13/13 [==============================] - 0s 4ms/step - loss: 5.2315 - mae: 5.2315\n",
            "Epoch 28/100\n",
            "13/13 [==============================] - 0s 4ms/step - loss: 5.2097 - mae: 5.2097\n",
            "Epoch 29/100\n",
            "13/13 [==============================] - 0s 4ms/step - loss: 5.1973 - mae: 5.1973\n",
            "Epoch 30/100\n",
            "13/13 [==============================] - 0s 4ms/step - loss: 5.1708 - mae: 5.1708\n",
            "Epoch 31/100\n",
            "13/13 [==============================] - 0s 3ms/step - loss: 5.1473 - mae: 5.1473\n",
            "Epoch 32/100\n",
            "13/13 [==============================] - 0s 6ms/step - loss: 5.1275 - mae: 5.1275\n",
            "Epoch 33/100\n",
            "13/13 [==============================] - 0s 4ms/step - loss: 5.1190 - mae: 5.1190\n",
            "Epoch 34/100\n",
            "13/13 [==============================] - 0s 4ms/step - loss: 5.0887 - mae: 5.0887\n",
            "Epoch 35/100\n",
            "13/13 [==============================] - 0s 4ms/step - loss: 5.0866 - mae: 5.0866\n",
            "Epoch 36/100\n",
            "13/13 [==============================] - 0s 6ms/step - loss: 5.0752 - mae: 5.0752\n",
            "Epoch 37/100\n",
            "13/13 [==============================] - 0s 4ms/step - loss: 5.0537 - mae: 5.0537\n",
            "Epoch 38/100\n",
            "13/13 [==============================] - 0s 6ms/step - loss: 5.0520 - mae: 5.0520\n",
            "Epoch 39/100\n",
            "13/13 [==============================] - 0s 5ms/step - loss: 5.0480 - mae: 5.0480\n",
            "Epoch 40/100\n",
            "13/13 [==============================] - 0s 5ms/step - loss: 5.0132 - mae: 5.0132\n",
            "Epoch 41/100\n",
            "13/13 [==============================] - 0s 4ms/step - loss: 5.0267 - mae: 5.0267\n",
            "Epoch 42/100\n",
            "13/13 [==============================] - 0s 6ms/step - loss: 4.9932 - mae: 4.9932\n",
            "Epoch 43/100\n",
            "13/13 [==============================] - 0s 3ms/step - loss: 5.0045 - mae: 5.0045\n",
            "Epoch 44/100\n",
            "13/13 [==============================] - 0s 6ms/step - loss: 4.9790 - mae: 4.9790\n",
            "Epoch 45/100\n",
            "13/13 [==============================] - 0s 6ms/step - loss: 4.9766 - mae: 4.9766\n",
            "Epoch 46/100\n",
            "13/13 [==============================] - 0s 3ms/step - loss: 4.9655 - mae: 4.9655\n",
            "Epoch 47/100\n",
            "13/13 [==============================] - 0s 4ms/step - loss: 4.9545 - mae: 4.9545\n",
            "Epoch 48/100\n",
            "13/13 [==============================] - 0s 3ms/step - loss: 4.9707 - mae: 4.9707\n",
            "Epoch 49/100\n",
            "13/13 [==============================] - 0s 4ms/step - loss: 4.9570 - mae: 4.9570\n",
            "Epoch 50/100\n",
            "13/13 [==============================] - 0s 5ms/step - loss: 4.9654 - mae: 4.9654\n",
            "Epoch 51/100\n",
            "13/13 [==============================] - 0s 4ms/step - loss: 4.9487 - mae: 4.9487\n",
            "Epoch 52/100\n",
            "13/13 [==============================] - 0s 4ms/step - loss: 4.9164 - mae: 4.9164\n",
            "Epoch 53/100\n",
            "13/13 [==============================] - 0s 4ms/step - loss: 4.9109 - mae: 4.9109\n",
            "Epoch 54/100\n",
            "13/13 [==============================] - 0s 4ms/step - loss: 4.9098 - mae: 4.9098\n",
            "Epoch 55/100\n",
            "13/13 [==============================] - 0s 5ms/step - loss: 4.9043 - mae: 4.9043\n",
            "Epoch 56/100\n",
            "13/13 [==============================] - 0s 6ms/step - loss: 4.8937 - mae: 4.8937\n",
            "Epoch 57/100\n",
            "13/13 [==============================] - 0s 5ms/step - loss: 4.8873 - mae: 4.8873\n",
            "Epoch 58/100\n",
            "13/13 [==============================] - 0s 5ms/step - loss: 4.8859 - mae: 4.8859\n",
            "Epoch 59/100\n",
            "13/13 [==============================] - 0s 4ms/step - loss: 4.8651 - mae: 4.8651\n",
            "Epoch 60/100\n",
            "13/13 [==============================] - 0s 4ms/step - loss: 4.8754 - mae: 4.8754\n",
            "Epoch 61/100\n",
            "13/13 [==============================] - 0s 5ms/step - loss: 4.8614 - mae: 4.8614\n",
            "Epoch 62/100\n",
            "13/13 [==============================] - 0s 5ms/step - loss: 4.8525 - mae: 4.8525\n",
            "Epoch 63/100\n",
            "13/13 [==============================] - 0s 5ms/step - loss: 4.8458 - mae: 4.8458\n",
            "Epoch 64/100\n",
            "13/13 [==============================] - 0s 4ms/step - loss: 4.8418 - mae: 4.8418\n",
            "Epoch 65/100\n",
            "13/13 [==============================] - 0s 3ms/step - loss: 4.8342 - mae: 4.8342\n",
            "Epoch 66/100\n",
            "13/13 [==============================] - 0s 3ms/step - loss: 4.8296 - mae: 4.8296\n",
            "Epoch 67/100\n",
            "13/13 [==============================] - 0s 3ms/step - loss: 4.8380 - mae: 4.8380\n",
            "Epoch 68/100\n",
            "13/13 [==============================] - 0s 4ms/step - loss: 4.8224 - mae: 4.8224\n",
            "Epoch 69/100\n",
            "13/13 [==============================] - 0s 5ms/step - loss: 4.8373 - mae: 4.8373\n",
            "Epoch 70/100\n",
            "13/13 [==============================] - 0s 5ms/step - loss: 4.8215 - mae: 4.8215\n",
            "Epoch 71/100\n",
            "13/13 [==============================] - 0s 4ms/step - loss: 4.8542 - mae: 4.8542\n",
            "Epoch 72/100\n",
            "13/13 [==============================] - 0s 5ms/step - loss: 4.8029 - mae: 4.8029\n",
            "Epoch 73/100\n",
            "13/13 [==============================] - 0s 7ms/step - loss: 4.7811 - mae: 4.7811\n",
            "Epoch 74/100\n",
            "13/13 [==============================] - 0s 3ms/step - loss: 4.7899 - mae: 4.7899\n",
            "Epoch 75/100\n",
            "13/13 [==============================] - 0s 4ms/step - loss: 4.7761 - mae: 4.7761\n",
            "Epoch 76/100\n",
            "13/13 [==============================] - 0s 4ms/step - loss: 4.8323 - mae: 4.8323\n",
            "Epoch 77/100\n",
            "13/13 [==============================] - 0s 4ms/step - loss: 4.7695 - mae: 4.7695\n",
            "Epoch 78/100\n",
            "13/13 [==============================] - 0s 4ms/step - loss: 4.7681 - mae: 4.7681\n",
            "Epoch 79/100\n",
            "13/13 [==============================] - 0s 3ms/step - loss: 4.7574 - mae: 4.7574\n",
            "Epoch 80/100\n",
            "13/13 [==============================] - 0s 5ms/step - loss: 4.7471 - mae: 4.7471\n",
            "Epoch 81/100\n",
            "13/13 [==============================] - 0s 4ms/step - loss: 4.7452 - mae: 4.7452\n",
            "Epoch 82/100\n",
            "13/13 [==============================] - 0s 4ms/step - loss: 4.7473 - mae: 4.7473\n",
            "Epoch 83/100\n",
            "13/13 [==============================] - 0s 4ms/step - loss: 4.7375 - mae: 4.7375\n",
            "Epoch 84/100\n",
            "13/13 [==============================] - 0s 5ms/step - loss: 4.7496 - mae: 4.7496\n",
            "Epoch 85/100\n",
            "13/13 [==============================] - 0s 3ms/step - loss: 4.7314 - mae: 4.7314\n",
            "Epoch 86/100\n",
            "13/13 [==============================] - 0s 5ms/step - loss: 4.7235 - mae: 4.7235\n",
            "Epoch 87/100\n",
            "13/13 [==============================] - 0s 5ms/step - loss: 4.7305 - mae: 4.7305\n",
            "Epoch 88/100\n",
            "13/13 [==============================] - 0s 4ms/step - loss: 4.7259 - mae: 4.7259\n",
            "Epoch 89/100\n",
            "13/13 [==============================] - 0s 5ms/step - loss: 4.6953 - mae: 4.6953\n",
            "Epoch 90/100\n",
            "13/13 [==============================] - 0s 4ms/step - loss: 4.7131 - mae: 4.7131\n",
            "Epoch 91/100\n",
            "13/13 [==============================] - 0s 4ms/step - loss: 4.6911 - mae: 4.6911\n",
            "Epoch 92/100\n",
            "13/13 [==============================] - 0s 7ms/step - loss: 4.7058 - mae: 4.7058\n",
            "Epoch 93/100\n",
            "13/13 [==============================] - 0s 4ms/step - loss: 4.6961 - mae: 4.6961\n",
            "Epoch 94/100\n",
            "13/13 [==============================] - 0s 4ms/step - loss: 4.6832 - mae: 4.6832\n",
            "Epoch 95/100\n",
            "13/13 [==============================] - 0s 4ms/step - loss: 4.6885 - mae: 4.6885\n",
            "Epoch 96/100\n",
            "13/13 [==============================] - 0s 4ms/step - loss: 4.6653 - mae: 4.6653\n",
            "Epoch 97/100\n",
            "13/13 [==============================] - 0s 4ms/step - loss: 4.6597 - mae: 4.6597\n",
            "Epoch 98/100\n",
            "13/13 [==============================] - 0s 4ms/step - loss: 4.6664 - mae: 4.6664\n",
            "Epoch 99/100\n",
            "13/13 [==============================] - 0s 4ms/step - loss: 4.6570 - mae: 4.6570\n",
            "Epoch 100/100\n",
            "13/13 [==============================] - 0s 4ms/step - loss: 4.6499 - mae: 4.6499\n"
          ]
        },
        {
          "output_type": "execute_result",
          "data": {
            "text/plain": [
              "<keras.callbacks.History at 0x7fe976da2490>"
            ]
          },
          "metadata": {},
          "execution_count": 121
        }
      ]
    },
    {
      "cell_type": "code",
      "source": [
        "#evaluating the models predictions by mae metrics\n",
        "housing_model_1.evaluate(x_test_normal, y_test)"
      ],
      "metadata": {
        "colab": {
          "base_uri": "https://localhost:8080/"
        },
        "id": "NfWGgUmOD96f",
        "outputId": "4450b9af-5d93-43e3-e260-0d463400f08d"
      },
      "execution_count": 122,
      "outputs": [
        {
          "output_type": "stream",
          "name": "stdout",
          "text": [
            "4/4 [==============================] - 0s 5ms/step - loss: 5.4045 - mae: 5.4045\n"
          ]
        },
        {
          "output_type": "execute_result",
          "data": {
            "text/plain": [
              "[5.404538154602051, 5.404538154602051]"
            ]
          },
          "metadata": {},
          "execution_count": 122
        }
      ]
    },
    {
      "cell_type": "code",
      "source": [
        "#predictions are accurate to within 5,400 dollars\n",
        "5.4045*1000"
      ],
      "metadata": {
        "colab": {
          "base_uri": "https://localhost:8080/"
        },
        "id": "hT-Oau8QDZxI",
        "outputId": "7ea1707e-d7b8-4e8e-edb1-067b6f13b7d7"
      },
      "execution_count": 159,
      "outputs": [
        {
          "output_type": "execute_result",
          "data": {
            "text/plain": [
              "5404.5"
            ]
          },
          "metadata": {},
          "execution_count": 159
        }
      ]
    },
    {
      "cell_type": "code",
      "source": [
        "tf.math.reduce_std(y_test).numpy()*1000, tf.reduce_min(y_test).numpy()*1000, tf.reduce_max(y_test).numpy()*1000"
      ],
      "metadata": {
        "colab": {
          "base_uri": "https://localhost:8080/"
        },
        "id": "KT5k1FJ0PIOn",
        "outputId": "12a0266a-603d-4abd-bf71-6beb9eb511bf"
      },
      "execution_count": 164,
      "outputs": [
        {
          "output_type": "execute_result",
          "data": {
            "text/plain": [
              "(9123.806690181465, 5600.0, 50000.0)"
            ]
          },
          "metadata": {},
          "execution_count": 164
        }
      ]
    }
  ]
}