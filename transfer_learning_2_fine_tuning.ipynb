{
  "nbformat": 4,
  "nbformat_minor": 0,
  "metadata": {
    "colab": {
      "name": "transfer_learning_2_fine_tuning.ipynb",
      "provenance": [],
      "authorship_tag": "ABX9TyOrRETVMg0OfOdxatLRWzAH",
      "include_colab_link": true
    },
    "kernelspec": {
      "name": "python3",
      "display_name": "Python 3"
    },
    "language_info": {
      "name": "python"
    },
    "accelerator": "GPU"
  },
  "cells": [
    {
      "cell_type": "markdown",
      "metadata": {
        "id": "view-in-github",
        "colab_type": "text"
      },
      "source": [
        "<a href=\"https://colab.research.google.com/github/El-Nico/tensorflow-notes/blob/main/transfer_learning_2_fine_tuning.ipynb\" target=\"_parent\"><img src=\"https://colab.research.google.com/assets/colab-badge.svg\" alt=\"Open In Colab\"/></a>"
      ]
    },
    {
      "cell_type": "code",
      "execution_count": 2,
      "metadata": {
        "colab": {
          "base_uri": "https://localhost:8080/"
        },
        "id": "-dqIMVatIRoz",
        "outputId": "b70788dc-ce99-4ab1-93b4-f3f5d59cdd15"
      },
      "outputs": [
        {
          "output_type": "stream",
          "name": "stdout",
          "text": [
            "Thu Mar 10 18:33:20 2022       \n",
            "+-----------------------------------------------------------------------------+\n",
            "| NVIDIA-SMI 460.32.03    Driver Version: 460.32.03    CUDA Version: 11.2     |\n",
            "|-------------------------------+----------------------+----------------------+\n",
            "| GPU  Name        Persistence-M| Bus-Id        Disp.A | Volatile Uncorr. ECC |\n",
            "| Fan  Temp  Perf  Pwr:Usage/Cap|         Memory-Usage | GPU-Util  Compute M. |\n",
            "|                               |                      |               MIG M. |\n",
            "|===============================+======================+======================|\n",
            "|   0  Tesla K80           Off  | 00000000:00:04.0 Off |                    0 |\n",
            "| N/A   37C    P8    28W / 149W |      0MiB / 11441MiB |      0%      Default |\n",
            "|                               |                      |                  N/A |\n",
            "+-------------------------------+----------------------+----------------------+\n",
            "                                                                               \n",
            "+-----------------------------------------------------------------------------+\n",
            "| Processes:                                                                  |\n",
            "|  GPU   GI   CI        PID   Type   Process name                  GPU Memory |\n",
            "|        ID   ID                                                   Usage      |\n",
            "|=============================================================================|\n",
            "|  No running processes found                                                 |\n",
            "+-----------------------------------------------------------------------------+\n"
          ]
        }
      ],
      "source": [
        "#using a gpu?\n",
        "!nvidia-smi"
      ]
    },
    {
      "cell_type": "code",
      "source": [
        "# get helper_functions.py script from github\n",
        "!wget https://raw.githubusercontent.com/mrdbourke/tensorflow-deep-learning/main/extras/helper_functions.py\n",
        "\n",
        "# import helper functions we're going to use\n",
        "from helper_functions import create_tensorboard_callback, plot_loss_curves, unzip_data, walk_through_dir"
      ],
      "metadata": {
        "colab": {
          "base_uri": "https://localhost:8080/"
        },
        "id": "efG8kv8-JR_1",
        "outputId": "c5d23d11-24e1-4be1-b200-93f766dbf9b6"
      },
      "execution_count": 3,
      "outputs": [
        {
          "output_type": "stream",
          "name": "stdout",
          "text": [
            "--2022-03-10 18:33:21--  https://raw.githubusercontent.com/mrdbourke/tensorflow-deep-learning/main/extras/helper_functions.py\n",
            "Resolving raw.githubusercontent.com (raw.githubusercontent.com)... 185.199.109.133, 185.199.108.133, 185.199.111.133, ...\n",
            "Connecting to raw.githubusercontent.com (raw.githubusercontent.com)|185.199.109.133|:443... connected.\n",
            "HTTP request sent, awaiting response... 200 OK\n",
            "Length: 10246 (10K) [text/plain]\n",
            "Saving to: ‘helper_functions.py’\n",
            "\n",
            "\rhelper_functions.py   0%[                    ]       0  --.-KB/s               \rhelper_functions.py 100%[===================>]  10.01K  --.-KB/s    in 0s      \n",
            "\n",
            "2022-03-10 18:33:21 (74.7 MB/s) - ‘helper_functions.py’ saved [10246/10246]\n",
            "\n"
          ]
        }
      ]
    },
    {
      "cell_type": "code",
      "source": [
        "# get 10% of the data of the 10 classes\n",
        "!wget https://storage.googleapis.com/ztm_tf_course/food_vision/10_food_classes_10_percent.zip\n",
        "\n",
        "unzip_data(\"10_food_classes_10_percent.zip\")"
      ],
      "metadata": {
        "colab": {
          "base_uri": "https://localhost:8080/"
        },
        "id": "Hb02oxHFKzi4",
        "outputId": "10a1598c-6fa6-4699-8251-d95c7426610b"
      },
      "execution_count": 4,
      "outputs": [
        {
          "output_type": "stream",
          "name": "stdout",
          "text": [
            "--2022-03-10 18:33:24--  https://storage.googleapis.com/ztm_tf_course/food_vision/10_food_classes_10_percent.zip\n",
            "Resolving storage.googleapis.com (storage.googleapis.com)... 142.250.159.128, 142.251.120.128, 74.125.126.128, ...\n",
            "Connecting to storage.googleapis.com (storage.googleapis.com)|142.250.159.128|:443... connected.\n",
            "HTTP request sent, awaiting response... 200 OK\n",
            "Length: 168546183 (161M) [application/zip]\n",
            "Saving to: ‘10_food_classes_10_percent.zip’\n",
            "\n",
            "10_food_classes_10_ 100%[===================>] 160.74M   207MB/s    in 0.8s    \n",
            "\n",
            "2022-03-10 18:33:25 (207 MB/s) - ‘10_food_classes_10_percent.zip’ saved [168546183/168546183]\n",
            "\n"
          ]
        }
      ]
    },
    {
      "cell_type": "code",
      "source": [
        "# walk through the 10 percent data directory and list number of files\n",
        "walk_through_dir(\"10_food_classes_10_percent\")"
      ],
      "metadata": {
        "colab": {
          "base_uri": "https://localhost:8080/"
        },
        "id": "QysuaQnrLhoc",
        "outputId": "e19382eb-1268-425b-a77f-d4b32c9f760d"
      },
      "execution_count": 5,
      "outputs": [
        {
          "output_type": "stream",
          "name": "stdout",
          "text": [
            "There are 2 directories and 0 images in '10_food_classes_10_percent'.\n",
            "There are 10 directories and 0 images in '10_food_classes_10_percent/test'.\n",
            "There are 0 directories and 250 images in '10_food_classes_10_percent/test/fried_rice'.\n",
            "There are 0 directories and 250 images in '10_food_classes_10_percent/test/pizza'.\n",
            "There are 0 directories and 250 images in '10_food_classes_10_percent/test/hamburger'.\n",
            "There are 0 directories and 250 images in '10_food_classes_10_percent/test/chicken_curry'.\n",
            "There are 0 directories and 250 images in '10_food_classes_10_percent/test/chicken_wings'.\n",
            "There are 0 directories and 250 images in '10_food_classes_10_percent/test/grilled_salmon'.\n",
            "There are 0 directories and 250 images in '10_food_classes_10_percent/test/ice_cream'.\n",
            "There are 0 directories and 250 images in '10_food_classes_10_percent/test/ramen'.\n",
            "There are 0 directories and 250 images in '10_food_classes_10_percent/test/steak'.\n",
            "There are 0 directories and 250 images in '10_food_classes_10_percent/test/sushi'.\n",
            "There are 10 directories and 0 images in '10_food_classes_10_percent/train'.\n",
            "There are 0 directories and 75 images in '10_food_classes_10_percent/train/fried_rice'.\n",
            "There are 0 directories and 75 images in '10_food_classes_10_percent/train/pizza'.\n",
            "There are 0 directories and 75 images in '10_food_classes_10_percent/train/hamburger'.\n",
            "There are 0 directories and 75 images in '10_food_classes_10_percent/train/chicken_curry'.\n",
            "There are 0 directories and 75 images in '10_food_classes_10_percent/train/chicken_wings'.\n",
            "There are 0 directories and 75 images in '10_food_classes_10_percent/train/grilled_salmon'.\n",
            "There are 0 directories and 75 images in '10_food_classes_10_percent/train/ice_cream'.\n",
            "There are 0 directories and 75 images in '10_food_classes_10_percent/train/ramen'.\n",
            "There are 0 directories and 75 images in '10_food_classes_10_percent/train/steak'.\n",
            "There are 0 directories and 75 images in '10_food_classes_10_percent/train/sushi'.\n"
          ]
        }
      ]
    },
    {
      "cell_type": "code",
      "source": [
        "# create training and test directories\n",
        "train_dir = \"10_food_classes_10_percent/train/\"\n",
        "test_dir = \"10_food_classes_10_percent/test/\""
      ],
      "metadata": {
        "id": "d3Z2b9zPMJX8"
      },
      "execution_count": 6,
      "outputs": []
    },
    {
      "cell_type": "code",
      "source": [
        "#using the tf.keras.preprocessing.image_dataset_from_directory() method to create data inputs\n",
        "import tensorflow as tf\n",
        "IMG_SIZE = (224, 224) # define image size\n",
        "train_data_10_percent = tf.keras.preprocessing.image_dataset_from_directory(directory=train_dir,\n",
        "                                                                            image_size=IMG_SIZE,\n",
        "                                                                            label_mode=\"categorical\", #what type are the labels\n",
        "                                                                            batch_size=32)\n",
        "\n",
        "test_data_10_percent = tf.keras.preprocessing.image_dataset_from_directory(directory=test_dir,\n",
        "                                                                           image_size=IMG_SIZE,\n",
        "                                                                           label_mode=\"categorical\")"
      ],
      "metadata": {
        "colab": {
          "base_uri": "https://localhost:8080/"
        },
        "id": "fbAiR8sPMeBi",
        "outputId": "6211c00d-d095-47f2-ebbd-2f3a54b35223"
      },
      "execution_count": 7,
      "outputs": [
        {
          "output_type": "stream",
          "name": "stdout",
          "text": [
            "Found 750 files belonging to 10 classes.\n",
            "Found 2500 files belonging to 10 classes.\n"
          ]
        }
      ]
    },
    {
      "cell_type": "code",
      "source": [
        "#check the training data datatype\n",
        "train_data_10_percent"
      ],
      "metadata": {
        "colab": {
          "base_uri": "https://localhost:8080/"
        },
        "id": "gKuv3YluNsG7",
        "outputId": "7ca333c6-5420-47b7-9245-6a137c17c4a4"
      },
      "execution_count": 8,
      "outputs": [
        {
          "output_type": "execute_result",
          "data": {
            "text/plain": [
              "<BatchDataset element_spec=(TensorSpec(shape=(None, 224, 224, 3), dtype=tf.float32, name=None), TensorSpec(shape=(None, 10), dtype=tf.float32, name=None))>"
            ]
          },
          "metadata": {},
          "execution_count": 8
        }
      ]
    },
    {
      "cell_type": "code",
      "source": [
        "#check out the class names of dataset\n",
        "train_data_10_percent.class_names"
      ],
      "metadata": {
        "colab": {
          "base_uri": "https://localhost:8080/"
        },
        "id": "BKA355sWOLG3",
        "outputId": "1095f6ad-7fa1-4d33-9588-d958d1b3c82b"
      },
      "execution_count": 9,
      "outputs": [
        {
          "output_type": "execute_result",
          "data": {
            "text/plain": [
              "['chicken_curry',\n",
              " 'chicken_wings',\n",
              " 'fried_rice',\n",
              " 'grilled_salmon',\n",
              " 'hamburger',\n",
              " 'ice_cream',\n",
              " 'pizza',\n",
              " 'ramen',\n",
              " 'steak',\n",
              " 'sushi']"
            ]
          },
          "metadata": {},
          "execution_count": 9
        }
      ]
    },
    {
      "cell_type": "code",
      "source": [
        "# see an example batch of data\n",
        "for images, labels in train_data_10_percent.take(1):\n",
        "  print(images, labels)"
      ],
      "metadata": {
        "colab": {
          "base_uri": "https://localhost:8080/"
        },
        "id": "8GcEkdi1PN-b",
        "outputId": "a44aaa69-9091-4f69-b8a8-daef7d1777fd"
      },
      "execution_count": 10,
      "outputs": [
        {
          "output_type": "stream",
          "name": "stdout",
          "text": [
            "tf.Tensor(\n",
            "[[[[1.62857132e+01 1.32857151e+01 4.28571415e+00]\n",
            "   [1.52142859e+01 1.22142859e+01 3.21428585e+00]\n",
            "   [1.42857141e+01 1.12857141e+01 3.85714316e+00]\n",
            "   ...\n",
            "   [3.70663338e+01 2.80663319e+01 2.10663319e+01]\n",
            "   [3.54489403e+01 2.64489403e+01 1.94489403e+01]\n",
            "   [3.38163261e+01 2.48163280e+01 1.78163280e+01]]\n",
            "\n",
            "  [[1.40714283e+01 1.40714283e+01 4.07142830e+00]\n",
            "   [1.50000000e+01 1.50000000e+01 7.00000000e+00]\n",
            "   [1.50000000e+01 1.50000000e+01 7.00000000e+00]\n",
            "   ...\n",
            "   [3.71734695e+01 2.81734695e+01 2.11734695e+01]\n",
            "   [3.62244682e+01 2.72244701e+01 2.02244701e+01]\n",
            "   [3.71479530e+01 2.81479511e+01 2.11479511e+01]]\n",
            "\n",
            "  [[1.33571424e+01 1.47857141e+01 7.00000000e+00]\n",
            "   [1.23265305e+01 1.37551022e+01 5.96938753e+00]\n",
            "   [1.19285707e+01 1.33571424e+01 6.80612230e+00]\n",
            "   ...\n",
            "   [3.39285431e+01 2.49285450e+01 1.83571167e+01]\n",
            "   [2.71274681e+01 1.81274681e+01 1.15560389e+01]\n",
            "   [2.57806072e+01 1.67806072e+01 1.02091789e+01]]\n",
            "\n",
            "  ...\n",
            "\n",
            "  [[6.08673744e+01 4.32959023e+01 2.90816383e+01]\n",
            "   [5.19743767e+01 3.39743767e+01 1.99743767e+01]\n",
            "   [4.77396049e+01 3.03569679e+01 1.51222401e+01]\n",
            "   ...\n",
            "   [2.10255871e+01 1.24541149e+01 3.66837883e+00]\n",
            "   [2.83572388e+01 1.97857666e+01 1.10000305e+01]\n",
            "   [2.67806549e+01 1.82091827e+01 9.42344570e+00]]\n",
            "\n",
            "  [[5.24339638e+01 3.64339638e+01 2.14339619e+01]\n",
            "   [7.19543686e+01 5.59543762e+01 4.09543762e+01]\n",
            "   [7.43163452e+01 5.83163452e+01 4.25306282e+01]\n",
            "   ...\n",
            "   [2.46836452e+01 1.54693508e+01 6.46935034e+00]\n",
            "   [2.29234257e+01 1.29234257e+01 3.92342615e+00]\n",
            "   [2.59439259e+01 1.59439268e+01 5.94392681e+00]]\n",
            "\n",
            "  [[6.85759430e+01 5.25759468e+01 3.75759468e+01]\n",
            "   [8.01623535e+01 6.41623535e+01 4.81623535e+01]\n",
            "   [5.94736481e+01 4.34736481e+01 2.74736481e+01]\n",
            "   ...\n",
            "   [2.60816708e+01 1.60816708e+01 6.86737680e+00]\n",
            "   [2.44081898e+01 1.44081907e+01 4.40819073e+00]\n",
            "   [2.83518143e+01 1.83518143e+01 8.35181427e+00]]]\n",
            "\n",
            "\n",
            " [[[2.63571415e+01 1.83571415e+01 5.35714293e+00]\n",
            "   [2.90459175e+01 2.10459175e+01 8.04591846e+00]\n",
            "   [2.96428566e+01 2.16428566e+01 8.64285755e+00]\n",
            "   ...\n",
            "   [2.22571442e+02 2.26357147e+02 2.08928558e+02]\n",
            "   [2.23622452e+02 2.26622452e+02 2.07622452e+02]\n",
            "   [2.19127563e+02 2.22127563e+02 2.03127563e+02]]\n",
            "\n",
            "  [[2.73571434e+01 1.93571434e+01 6.35714293e+00]\n",
            "   [3.00051022e+01 2.20051022e+01 9.00510216e+00]\n",
            "   [3.00153065e+01 2.20153065e+01 9.01530647e+00]\n",
            "   ...\n",
            "   [2.23142868e+02 2.26928574e+02 2.09499985e+02]\n",
            "   [2.25785751e+02 2.28785751e+02 2.09785751e+02]\n",
            "   [2.23117355e+02 2.26117355e+02 2.07117355e+02]]\n",
            "\n",
            "  [[2.77857151e+01 1.93571434e+01 8.57142830e+00]\n",
            "   [2.94132652e+01 2.09846935e+01 1.01989794e+01]\n",
            "   [2.85969391e+01 2.01683674e+01 9.38265324e+00]\n",
            "   ...\n",
            "   [2.26831635e+02 2.30617340e+02 2.13188751e+02]\n",
            "   [2.26270401e+02 2.29270401e+02 2.10270401e+02]\n",
            "   [2.20352066e+02 2.23352066e+02 2.04352066e+02]]\n",
            "\n",
            "  ...\n",
            "\n",
            "  [[3.58779564e+01 3.02298965e+01 1.48726864e+01]\n",
            "   [2.52757225e+01 2.03470631e+01 6.48989868e+00]\n",
            "   [1.41225452e+01 1.27653151e+01 1.68371931e-01]\n",
            "   ...\n",
            "   [1.09020416e+02 8.08061218e+01 4.07142944e+01]\n",
            "   [1.04612160e+02 7.56121597e+01 3.51836319e+01]\n",
            "   [1.06933640e+02 7.39234161e+01 3.50000000e+01]]\n",
            "\n",
            "  [[7.00715179e+01 5.35255547e+01 3.30969696e+01]\n",
            "   [5.93062706e+01 4.62296982e+01 2.68878136e+01]\n",
            "   [4.75716248e+01 3.64542580e+01 1.77858448e+01]\n",
            "   ...\n",
            "   [1.14647957e+02 8.63877335e+01 4.71887512e+01]\n",
            "   [1.10637779e+02 7.88367081e+01 3.97704010e+01]\n",
            "   [1.07071503e+02 7.30715027e+01 3.50715027e+01]]\n",
            "\n",
            "  [[7.96173782e+01 5.71581497e+01 3.38009720e+01]\n",
            "   [7.57857132e+01 5.52652397e+01 3.16887398e+01]\n",
            "   [7.25511322e+01 5.55612793e+01 3.29031296e+01]\n",
            "   ...\n",
            "   [1.10285583e+02 8.14284058e+01 4.26427002e+01]\n",
            "   [1.13617195e+02 8.16171951e+01 4.36171951e+01]\n",
            "   [1.09055939e+02 7.50559387e+01 3.80559387e+01]]]\n",
            "\n",
            "\n",
            " [[[1.59714294e+02 1.28714294e+02 7.40714264e+01]\n",
            "   [1.52000000e+02 1.20000000e+02 5.92857094e+01]\n",
            "   [1.52994904e+02 1.19780617e+02 4.81377525e+01]\n",
            "   ...\n",
            "   [1.23000000e+02 1.00000000e+02 8.60000000e+01]\n",
            "   [1.29071396e+02 1.03071388e+02 9.00713882e+01]\n",
            "   [1.23086685e+02 9.70866852e+01 8.40866852e+01]]\n",
            "\n",
            "  [[1.69382645e+02 1.38051025e+02 8.50000000e+01]\n",
            "   [1.59214294e+02 1.29142853e+02 6.75000000e+01]\n",
            "   [1.48729584e+02 1.18102036e+02 4.75306129e+01]\n",
            "   ...\n",
            "   [1.24714310e+02 1.01714310e+02 8.57143097e+01]\n",
            "   [1.26862206e+02 1.03862206e+02 8.78622055e+01]\n",
            "   [1.25474525e+02 9.94745255e+01 8.44745255e+01]]\n",
            "\n",
            "  [[1.67642853e+02 1.35994888e+02 8.60000000e+01]\n",
            "   [1.68142853e+02 1.37127548e+02 8.07857132e+01]\n",
            "   [1.57525513e+02 1.26096939e+02 5.90969391e+01]\n",
            "   ...\n",
            "   [1.32168350e+02 1.09428551e+02 9.07856903e+01]\n",
            "   [1.26729546e+02 1.03943825e+02 8.53009720e+01]\n",
            "   [1.23219467e+02 1.00433754e+02 8.17908936e+01]]\n",
            "\n",
            "  ...\n",
            "\n",
            "  [[1.90428528e+02 1.81785736e+02 1.59428528e+02]\n",
            "   [1.91413223e+02 1.82770432e+02 1.61984695e+02]\n",
            "   [1.91428528e+02 1.82785736e+02 1.62000000e+02]\n",
            "   ...\n",
            "   [1.94954086e+02 1.82954086e+02 1.66954086e+02]\n",
            "   [1.91270401e+02 1.83056137e+02 1.64484665e+02]\n",
            "   [1.92000000e+02 1.83785736e+02 1.65214264e+02]]\n",
            "\n",
            "  [[1.88928558e+02 1.82928558e+02 1.58928558e+02]\n",
            "   [1.88928558e+02 1.82928558e+02 1.58928558e+02]\n",
            "   [1.89928558e+02 1.83928558e+02 1.61928558e+02]\n",
            "   ...\n",
            "   [1.95142822e+02 1.83928558e+02 1.66357086e+02]\n",
            "   [1.90071442e+02 1.82071442e+02 1.63071442e+02]\n",
            "   [1.91954071e+02 1.83954071e+02 1.64954071e+02]]\n",
            "\n",
            "  [[1.85642822e+02 1.81642822e+02 1.56642822e+02]\n",
            "   [1.86000000e+02 1.82000000e+02 1.57000000e+02]\n",
            "   [1.86642822e+02 1.82428543e+02 1.58071396e+02]\n",
            "   ...\n",
            "   [1.92642822e+02 1.81428558e+02 1.63857086e+02]\n",
            "   [1.91000000e+02 1.83000000e+02 1.64000000e+02]\n",
            "   [1.90872421e+02 1.82872421e+02 1.63872421e+02]]]\n",
            "\n",
            "\n",
            " ...\n",
            "\n",
            "\n",
            " [[[3.00000000e+00 5.00000000e+00 2.00000000e+00]\n",
            "   [2.00000000e+00 4.00000000e+00 1.00000000e+00]\n",
            "   [1.21428561e+00 3.21428561e+00 2.14285612e-01]\n",
            "   ...\n",
            "   [7.85705566e-01 5.70917177e+00 1.70917189e+00]\n",
            "   [0.00000000e+00 4.04590702e+00 4.59071621e-02]\n",
            "   [4.13262546e-01 5.28570986e+00 1.28570998e+00]]\n",
            "\n",
            "  [[2.04591823e+00 4.04591799e+00 1.04591823e+00]\n",
            "   [2.00000000e+00 4.00000000e+00 1.00000000e+00]\n",
            "   [1.21428561e+00 3.21428561e+00 2.14285612e-01]\n",
            "   ...\n",
            "   [9.84693289e-01 5.98469353e+00 1.98469329e+00]\n",
            "   [9.28571701e-01 5.92857170e+00 1.92857170e+00]\n",
            "   [3.16835928e+00 8.16835976e+00 4.16835928e+00]]\n",
            "\n",
            "  [[1.78571415e+00 3.78571415e+00 1.21428585e+00]\n",
            "   [1.78571415e+00 3.78571415e+00 7.85714149e-01]\n",
            "   [1.95408165e+00 3.95408154e+00 9.54081655e-01]\n",
            "   ...\n",
            "   [2.59693718e+00 6.95407963e+00 3.07652497e+00]\n",
            "   [2.62755513e+00 6.98469782e+00 2.77041173e+00]\n",
            "   [5.07142448e+00 9.42856693e+00 5.21428108e+00]]\n",
            "\n",
            "  ...\n",
            "\n",
            "  [[4.45153465e+01 3.60868187e+01 2.53010845e+01]\n",
            "   [4.70613289e+01 3.86634102e+01 2.58623676e+01]\n",
            "   [5.67551918e+01 4.95409088e+01 3.41837654e+01]\n",
            "   ...\n",
            "   [5.03164291e+01 5.09133987e+01 2.36021347e+01]\n",
            "   [4.36276436e+01 4.64133797e+01 2.00561714e+01]\n",
            "   [3.57447739e+01 3.93162460e+01 1.49590378e+01]]\n",
            "\n",
            "  [[2.15305138e+01 1.56682796e+01 7.59690428e+00]\n",
            "   [4.38160439e+01 3.71630058e+01 2.90916061e+01]\n",
            "   [3.96528893e+01 3.56528893e+01 2.47957745e+01]\n",
            "   ...\n",
            "   [4.35150948e+01 4.55865364e+01 2.22294521e+01]\n",
            "   [3.93467293e+01 4.31426697e+01 2.04947453e+01]\n",
            "   [4.51681557e+01 4.98365211e+01 2.70508480e+01]]\n",
            "\n",
            "  [[2.03879395e+01 1.63879395e+01 1.41022949e+01]\n",
            "   [1.54848108e+01 1.15307264e+01 8.43889523e+00]\n",
            "   [1.86836643e+01 1.40356970e+01 9.97448730e+00]\n",
            "   ...\n",
            "   [2.46123466e+01 2.76888885e+01 9.83183289e+00]\n",
            "   [2.52856445e+01 2.92397404e+01 1.29540949e+01]\n",
            "   [2.85667286e+01 3.25667267e+01 1.62810841e+01]]]\n",
            "\n",
            "\n",
            " [[[1.79964294e+02 2.39642849e+01 2.29591799e+00]\n",
            "   [1.78209183e+02 2.28061237e+01 1.23979616e+00]\n",
            "   [1.79647964e+02 2.65918350e+01 6.51530504e+00]\n",
            "   ...\n",
            "   [2.10204102e+02 2.08357147e+02 1.57846893e+02]\n",
            "   [2.07066345e+02 2.04928558e+02 1.47780579e+02]\n",
            "   [2.10418381e+02 2.06418381e+02 1.44704025e+02]]\n",
            "\n",
            "  [[1.74698990e+02 2.24846954e+01 1.65816355e+00]\n",
            "   [1.82586731e+02 3.03724518e+01 7.44387960e+00]\n",
            "   [1.80244888e+02 2.95714321e+01 8.37245178e+00]\n",
            "   ...\n",
            "   [2.10918472e+02 2.04132751e+02 1.58005203e+02]\n",
            "   [2.18025406e+02 2.08443787e+02 1.55152939e+02]\n",
            "   [2.13571671e+02 2.03260483e+02 1.45979767e+02]]\n",
            "\n",
            "  [[1.68193878e+02 2.83367348e+01 6.55102158e+00]\n",
            "   [1.71331635e+02 3.30459175e+01 1.00459194e+01]\n",
            "   [1.69602036e+02 3.33163300e+01 7.31632710e+00]\n",
            "   ...\n",
            "   [2.05494904e+02 1.92923431e+02 1.47923431e+02]\n",
            "   [2.15290848e+02 2.01775543e+02 1.52362244e+02]\n",
            "   [2.22831741e+02 2.07474594e+02 1.55260300e+02]]\n",
            "\n",
            "  ...\n",
            "\n",
            "  [[2.52806854e+01 1.92041626e+01 0.00000000e+00]\n",
            "   [3.18725357e+01 2.38725357e+01 1.45922458e+00]\n",
            "   [4.25204430e+01 3.07092361e+01 3.30609131e+00]\n",
            "   ...\n",
            "   [1.65913406e+02 1.95341934e+02 1.91673416e+02]\n",
            "   [1.96897949e+02 2.19540802e+02 2.14255035e+02]\n",
            "   [2.15331711e+02 2.31331711e+02 2.28760239e+02]]\n",
            "\n",
            "  [[2.64031487e+01 1.84490757e+01 4.59267795e-02]\n",
            "   [4.08674126e+01 3.08010769e+01 3.93371463e+00]\n",
            "   [5.36275482e+01 4.00714035e+01 7.78567505e+00]\n",
            "   ...\n",
            "   [1.66525726e+02 1.88928741e+02 1.73295975e+02]\n",
            "   [1.98749954e+02 2.16331512e+02 2.04050858e+02]\n",
            "   [2.05693893e+02 2.21076462e+02 2.12071442e+02]]\n",
            "\n",
            "  [[3.81172066e+01 2.81172047e+01 3.16823053e+00]\n",
            "   [4.98061180e+01 3.88061180e+01 8.28564453e+00]\n",
            "   [5.28062592e+01 3.78726120e+01 4.09704638e+00]\n",
            "   ...\n",
            "   [1.50408356e+02 1.64051178e+02 1.38694000e+02]\n",
            "   [1.74403229e+02 1.85285767e+02 1.65117401e+02]\n",
            "   [2.10060989e+02 2.19989456e+02 2.05632278e+02]]]\n",
            "\n",
            "\n",
            " [[[2.19571426e+02 2.26571426e+02 2.32571426e+02]\n",
            "   [2.25831635e+02 2.33831635e+02 2.36831635e+02]\n",
            "   [2.27000000e+02 2.35000000e+02 2.38000000e+02]\n",
            "   ...\n",
            "   [1.00647995e+02 1.10423500e+02 1.07571404e+02]\n",
            "   [1.01974487e+02 1.12974487e+02 1.06974487e+02]\n",
            "   [9.92856827e+01 1.10999962e+02 1.02642822e+02]]\n",
            "\n",
            "  [[2.18928574e+02 2.25928574e+02 2.31928574e+02]\n",
            "   [2.26785721e+02 2.34785721e+02 2.37785721e+02]\n",
            "   [2.28341827e+02 2.36341827e+02 2.39341827e+02]\n",
            "   ...\n",
            "   [9.99438553e+01 1.12158142e+02 1.08484627e+02]\n",
            "   [9.67193756e+01 1.11862236e+02 1.04790802e+02]\n",
            "   [9.53826218e+01 1.11668335e+02 1.01739761e+02]]\n",
            "\n",
            "  [[2.17357147e+02 2.24357147e+02 2.30357147e+02]\n",
            "   [2.25943878e+02 2.33943878e+02 2.36943878e+02]\n",
            "   [2.29382645e+02 2.37382645e+02 2.40382645e+02]\n",
            "   ...\n",
            "   [9.40713882e+01 1.10306114e+02 1.03117317e+02]\n",
            "   [9.08571396e+01 1.09428574e+02 1.03000000e+02]\n",
            "   [9.14949265e+01 1.10709213e+02 1.04066353e+02]]\n",
            "\n",
            "  ...\n",
            "\n",
            "  [[5.36581917e+01 6.56581879e+01 6.56581879e+01]\n",
            "   [5.14030380e+01 6.29744492e+01 6.11887436e+01]\n",
            "   [5.36173172e+01 6.52346573e+01 6.08060837e+01]\n",
            "   ...\n",
            "   [5.38111725e+01 4.91633034e+01 4.54234505e+01]\n",
            "   [5.08572083e+01 4.91429749e+01 4.17143860e+01]\n",
            "   [5.72705002e+01 5.55562668e+01 4.61276779e+01]]\n",
            "\n",
            "  [[5.82602425e+01 6.84030685e+01 7.02602463e+01]\n",
            "   [4.83520241e+01 5.83520241e+01 5.92092018e+01]\n",
            "   [4.85866966e+01 5.88570900e+01 5.70153008e+01]\n",
            "   ...\n",
            "   [5.60867424e+01 5.74745827e+01 5.49745522e+01]\n",
            "   [5.77245903e+01 6.25817680e+01 5.54389458e+01]\n",
            "   [5.76683273e+01 6.53112717e+01 5.43112717e+01]]\n",
            "\n",
            "  [[5.75561295e+01 6.75561295e+01 6.95561295e+01]\n",
            "   [5.10510063e+01 6.10510063e+01 6.20510063e+01]\n",
            "   [5.37244759e+01 6.30050888e+01 6.15765152e+01]\n",
            "   ...\n",
            "   [6.97346802e+01 6.26531372e+01 6.65918579e+01]\n",
            "   [6.16019707e+01 5.81020012e+01 5.63162651e+01]\n",
            "   [5.41734886e+01 5.26735191e+01 4.82449303e+01]]]], shape=(32, 224, 224, 3), dtype=float32) tf.Tensor(\n",
            "[[0. 0. 0. 0. 0. 0. 0. 1. 0. 0.]\n",
            " [0. 0. 0. 0. 0. 0. 0. 0. 1. 0.]\n",
            " [0. 0. 0. 1. 0. 0. 0. 0. 0. 0.]\n",
            " [0. 0. 0. 0. 0. 0. 1. 0. 0. 0.]\n",
            " [0. 0. 0. 0. 0. 0. 0. 0. 1. 0.]\n",
            " [0. 1. 0. 0. 0. 0. 0. 0. 0. 0.]\n",
            " [0. 0. 1. 0. 0. 0. 0. 0. 0. 0.]\n",
            " [0. 0. 0. 0. 0. 0. 1. 0. 0. 0.]\n",
            " [0. 0. 0. 0. 1. 0. 0. 0. 0. 0.]\n",
            " [0. 0. 0. 0. 0. 0. 0. 1. 0. 0.]\n",
            " [0. 0. 0. 0. 0. 0. 0. 0. 1. 0.]\n",
            " [0. 0. 1. 0. 0. 0. 0. 0. 0. 0.]\n",
            " [0. 1. 0. 0. 0. 0. 0. 0. 0. 0.]\n",
            " [0. 0. 0. 1. 0. 0. 0. 0. 0. 0.]\n",
            " [0. 0. 0. 0. 1. 0. 0. 0. 0. 0.]\n",
            " [0. 0. 0. 1. 0. 0. 0. 0. 0. 0.]\n",
            " [0. 0. 0. 0. 0. 0. 0. 0. 0. 1.]\n",
            " [0. 1. 0. 0. 0. 0. 0. 0. 0. 0.]\n",
            " [0. 0. 0. 0. 0. 0. 1. 0. 0. 0.]\n",
            " [0. 0. 0. 0. 0. 1. 0. 0. 0. 0.]\n",
            " [0. 0. 0. 1. 0. 0. 0. 0. 0. 0.]\n",
            " [0. 0. 0. 0. 0. 0. 0. 1. 0. 0.]\n",
            " [0. 0. 1. 0. 0. 0. 0. 0. 0. 0.]\n",
            " [0. 0. 0. 0. 0. 0. 1. 0. 0. 0.]\n",
            " [0. 0. 0. 0. 0. 0. 0. 0. 0. 1.]\n",
            " [0. 0. 0. 0. 0. 0. 0. 0. 1. 0.]\n",
            " [0. 0. 0. 0. 0. 0. 0. 0. 1. 0.]\n",
            " [0. 0. 0. 0. 0. 0. 0. 1. 0. 0.]\n",
            " [0. 0. 0. 1. 0. 0. 0. 0. 0. 0.]\n",
            " [0. 0. 0. 0. 0. 0. 0. 1. 0. 0.]\n",
            " [0. 0. 0. 0. 0. 0. 0. 0. 1. 0.]\n",
            " [0. 1. 0. 0. 0. 0. 0. 0. 0. 0.]], shape=(32, 10), dtype=float32)\n"
          ]
        }
      ]
    },
    {
      "cell_type": "code",
      "source": [
        "# 1. create base model with tf.keras.applications\n",
        "base_model = tf.keras.applications.EfficientNetB0(include_top=False)\n",
        "\n",
        "# 2. Freeze the base model (so the pre-learned patterns remain)\n",
        "base_model.trainable = False\n",
        "\n",
        "# 3. create inputs into the base model\n",
        "inputs = tf.keras.layers.Input(shape=(224, 224, 3), name=\"input_layer\")\n",
        "\n",
        "# 4. If using ResNet50V2, add this to speed up convergence, remove for EfficientNet\n",
        "# x = tf.keras.layers.experimental.preprocessing.Rescaling(1./255)(inputs)\n",
        "\n",
        "# 5. Pass the inputs to the base_model (note: using tf.keras.applications, EfficientNet inputs)\n",
        "x= base_model(inputs)\n",
        "# Check data shape after passing it to base_model\n",
        "print(f\"Shape after base_model: {x.shape}\")\n",
        "\n",
        "# 6. Average pool the outputs of the base model (aggregate all the most important information, reduce number of computations)\n",
        "x = tf.keras.layers.GlobalAveragePooling2D(name=\"global_average_pooling_layer\")(x)\n",
        "print(f\"After GlobalAveragePooling2D(): {x.shape}\")\n",
        "\n",
        "# 7. Create the output activation layer\n",
        "outputs = tf.keras.layers.Dense(10, activation=\"softmax\", name=\"output_layer\")(x)\n",
        "\n",
        "# 8. combine the inputs with the outputs into a model\n",
        "model_0 = tf.keras.Model(inputs, outputs)\n",
        "\n",
        "# 9 Compile the model\n",
        "model_0.compile(loss='categorical_crossentropy',\n",
        "                optimizer=tf.keras.optimizers.Adam(),\n",
        "                metrics=['accuracy'])\n",
        "\n",
        "# 10. fit the model (we use less sterps for validation so its faster)\n",
        "history_10_percent = model_0.fit(train_data_10_percent,\n",
        "                                 epochs=5,\n",
        "                                 steps_per_epoch=len(train_data_10_percent),\n",
        "                                 validation_data=test_data_10_percent,\n",
        "                                 # Go through less of the validation data so epochs are faster\n",
        "                                 validation_steps=int(0.25 * len(test_data_10_percent)),\n",
        "                                 # Track our model's training logs for visualization later\n",
        "                                 callbacks=[create_tensorboard_callback(\"transfer_learning\", \"10_percent_feature_extract\")])"
      ],
      "metadata": {
        "colab": {
          "base_uri": "https://localhost:8080/"
        },
        "id": "Ef3X4yk8Pbr0",
        "outputId": "b277dd89-0700-46cf-9338-1ac93ba606f4"
      },
      "execution_count": 11,
      "outputs": [
        {
          "output_type": "stream",
          "name": "stdout",
          "text": [
            "Downloading data from https://storage.googleapis.com/keras-applications/efficientnetb0_notop.h5\n",
            "16711680/16705208 [==============================] - 0s 0us/step\n",
            "16719872/16705208 [==============================] - 0s 0us/step\n",
            "Shape after base_model: (None, 7, 7, 1280)\n",
            "After GlobalAveragePooling2D(): (None, 1280)\n",
            "Saving TensorBoard log files to: transfer_learning/10_percent_feature_extract/20220310-183335\n",
            "Epoch 1/5\n",
            "24/24 [==============================] - 27s 371ms/step - loss: 1.9244 - accuracy: 0.3973 - val_loss: 1.3891 - val_accuracy: 0.6842\n",
            "Epoch 2/5\n",
            "24/24 [==============================] - 7s 264ms/step - loss: 1.1717 - accuracy: 0.7320 - val_loss: 0.9511 - val_accuracy: 0.7780\n",
            "Epoch 3/5\n",
            "24/24 [==============================] - 9s 361ms/step - loss: 0.8409 - accuracy: 0.8160 - val_loss: 0.7456 - val_accuracy: 0.8322\n",
            "Epoch 4/5\n",
            "24/24 [==============================] - 7s 265ms/step - loss: 0.6982 - accuracy: 0.8293 - val_loss: 0.6741 - val_accuracy: 0.8454\n",
            "Epoch 5/5\n",
            "24/24 [==============================] - 7s 265ms/step - loss: 0.6004 - accuracy: 0.8640 - val_loss: 0.6028 - val_accuracy: 0.8520\n"
          ]
        }
      ]
    },
    {
      "cell_type": "code",
      "source": [
        ""
      ],
      "metadata": {
        "id": "yst6fW9eS7E-"
      },
      "execution_count": 11,
      "outputs": []
    }
  ]
}