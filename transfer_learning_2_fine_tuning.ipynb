{
  "nbformat": 4,
  "nbformat_minor": 0,
  "metadata": {
    "colab": {
      "name": "transfer_learning_2_fine_tuning.ipynb",
      "provenance": [],
      "authorship_tag": "ABX9TyOKHjT5AwSz0IZGxegnGP6o",
      "include_colab_link": true
    },
    "kernelspec": {
      "name": "python3",
      "display_name": "Python 3"
    },
    "language_info": {
      "name": "python"
    },
    "accelerator": "GPU"
  },
  "cells": [
    {
      "cell_type": "markdown",
      "metadata": {
        "id": "view-in-github",
        "colab_type": "text"
      },
      "source": [
        "<a href=\"https://colab.research.google.com/github/El-Nico/tensorflow-notes/blob/main/transfer_learning_2_fine_tuning.ipynb\" target=\"_parent\"><img src=\"https://colab.research.google.com/assets/colab-badge.svg\" alt=\"Open In Colab\"/></a>"
      ]
    },
    {
      "cell_type": "code",
      "execution_count": 1,
      "metadata": {
        "colab": {
          "base_uri": "https://localhost:8080/"
        },
        "id": "-dqIMVatIRoz",
        "outputId": "a129f3e6-3b93-4102-b743-9694f4c1b148"
      },
      "outputs": [
        {
          "output_type": "stream",
          "name": "stdout",
          "text": [
            "NVIDIA-SMI has failed because it couldn't communicate with the NVIDIA driver. Make sure that the latest NVIDIA driver is installed and running.\n",
            "\n"
          ]
        }
      ],
      "source": [
        "#using a gpu?\n",
        "!nvidia-smi"
      ]
    },
    {
      "cell_type": "code",
      "source": [
        "# get helper_functions.py script from github\n",
        "!wget https://raw.githubusercontent.com/mrdbourke/tensorflow-deep-learning/main/extras/helper_functions.py\n",
        "\n",
        "# import helper functions we're going to use\n",
        "from helper_functions import create_tensorboard_callback, plot_loss_curves, unzip_data, walk_through_dir"
      ],
      "metadata": {
        "colab": {
          "base_uri": "https://localhost:8080/"
        },
        "id": "efG8kv8-JR_1",
        "outputId": "907e120b-4742-4830-b14e-54dbd75b32da"
      },
      "execution_count": 1,
      "outputs": [
        {
          "output_type": "stream",
          "name": "stdout",
          "text": [
            "--2022-03-09 14:52:59--  https://raw.githubusercontent.com/mrdbourke/tensorflow-deep-learning/main/extras/helper_functions.py\n",
            "Resolving raw.githubusercontent.com (raw.githubusercontent.com)... 185.199.111.133, 185.199.110.133, 185.199.109.133, ...\n",
            "Connecting to raw.githubusercontent.com (raw.githubusercontent.com)|185.199.111.133|:443... connected.\n",
            "HTTP request sent, awaiting response... 200 OK\n",
            "Length: 10246 (10K) [text/plain]\n",
            "Saving to: ‘helper_functions.py’\n",
            "\n",
            "helper_functions.py 100%[===================>]  10.01K  --.-KB/s    in 0s      \n",
            "\n",
            "2022-03-09 14:52:59 (80.9 MB/s) - ‘helper_functions.py’ saved [10246/10246]\n",
            "\n"
          ]
        }
      ]
    },
    {
      "cell_type": "code",
      "source": [
        "# get 10% of the data of the 10 classes\n",
        "!wget https://storage.googleapis.com/ztm_tf_course/food_vision/10_food_classes_10_percent.zip\n",
        "\n",
        "unzip_data(\"10_food_classes_10_percent.zip\")"
      ],
      "metadata": {
        "colab": {
          "base_uri": "https://localhost:8080/"
        },
        "id": "Hb02oxHFKzi4",
        "outputId": "29bb631a-8119-4394-ecf8-74b98d1bdbe4"
      },
      "execution_count": 2,
      "outputs": [
        {
          "output_type": "stream",
          "name": "stdout",
          "text": [
            "--2022-03-09 14:56:08--  https://storage.googleapis.com/ztm_tf_course/food_vision/10_food_classes_10_percent.zip\n",
            "Resolving storage.googleapis.com (storage.googleapis.com)... 64.233.189.128, 108.177.125.128, 142.250.157.128, ...\n",
            "Connecting to storage.googleapis.com (storage.googleapis.com)|64.233.189.128|:443... connected.\n",
            "HTTP request sent, awaiting response... 200 OK\n",
            "Length: 168546183 (161M) [application/zip]\n",
            "Saving to: ‘10_food_classes_10_percent.zip’\n",
            "\n",
            "10_food_classes_10_ 100%[===================>] 160.74M  68.4MB/s    in 2.3s    \n",
            "\n",
            "2022-03-09 14:56:10 (68.4 MB/s) - ‘10_food_classes_10_percent.zip’ saved [168546183/168546183]\n",
            "\n"
          ]
        }
      ]
    },
    {
      "cell_type": "code",
      "source": [
        "# walk through the 10 percent data directory and list number of files\n",
        "walk_through_dir(\"10_food_classes_10_percent\")"
      ],
      "metadata": {
        "colab": {
          "base_uri": "https://localhost:8080/"
        },
        "id": "QysuaQnrLhoc",
        "outputId": "c7e389bf-262d-434a-ba9f-2745fa447b71"
      },
      "execution_count": 3,
      "outputs": [
        {
          "output_type": "stream",
          "name": "stdout",
          "text": [
            "There are 2 directories and 0 images in '10_food_classes_10_percent'.\n",
            "There are 10 directories and 0 images in '10_food_classes_10_percent/train'.\n",
            "There are 0 directories and 75 images in '10_food_classes_10_percent/train/ramen'.\n",
            "There are 0 directories and 75 images in '10_food_classes_10_percent/train/chicken_curry'.\n",
            "There are 0 directories and 75 images in '10_food_classes_10_percent/train/pizza'.\n",
            "There are 0 directories and 75 images in '10_food_classes_10_percent/train/ice_cream'.\n",
            "There are 0 directories and 75 images in '10_food_classes_10_percent/train/grilled_salmon'.\n",
            "There are 0 directories and 75 images in '10_food_classes_10_percent/train/chicken_wings'.\n",
            "There are 0 directories and 75 images in '10_food_classes_10_percent/train/steak'.\n",
            "There are 0 directories and 75 images in '10_food_classes_10_percent/train/hamburger'.\n",
            "There are 0 directories and 75 images in '10_food_classes_10_percent/train/sushi'.\n",
            "There are 0 directories and 75 images in '10_food_classes_10_percent/train/fried_rice'.\n",
            "There are 10 directories and 0 images in '10_food_classes_10_percent/test'.\n",
            "There are 0 directories and 250 images in '10_food_classes_10_percent/test/ramen'.\n",
            "There are 0 directories and 250 images in '10_food_classes_10_percent/test/chicken_curry'.\n",
            "There are 0 directories and 250 images in '10_food_classes_10_percent/test/pizza'.\n",
            "There are 0 directories and 250 images in '10_food_classes_10_percent/test/ice_cream'.\n",
            "There are 0 directories and 250 images in '10_food_classes_10_percent/test/grilled_salmon'.\n",
            "There are 0 directories and 250 images in '10_food_classes_10_percent/test/chicken_wings'.\n",
            "There are 0 directories and 250 images in '10_food_classes_10_percent/test/steak'.\n",
            "There are 0 directories and 250 images in '10_food_classes_10_percent/test/hamburger'.\n",
            "There are 0 directories and 250 images in '10_food_classes_10_percent/test/sushi'.\n",
            "There are 0 directories and 250 images in '10_food_classes_10_percent/test/fried_rice'.\n"
          ]
        }
      ]
    },
    {
      "cell_type": "code",
      "source": [
        "# create training and test directories\n",
        "train_dir = \"10_food_classes_10_percent/train/\"\n",
        "test_dir = \"10_food_classes_10_percent/test/\""
      ],
      "metadata": {
        "id": "d3Z2b9zPMJX8"
      },
      "execution_count": 4,
      "outputs": []
    },
    {
      "cell_type": "code",
      "source": [
        "#using the tf.keras.preprocessing.image_dataset_from_directory() method to create data inputs\n",
        "import tensorflow as tf\n",
        "IMG_SIZE = (224, 224) # define image size\n",
        "train_data_10_percent = tf.keras.preprocessing.image_dataset_from_directory(directory=train_dir,\n",
        "                                                                            image_size=IMG_SIZE,\n",
        "                                                                            label_mode=\"categorical\", #what type are the labels\n",
        "                                                                            batch_size=32)\n",
        "\n",
        "test_data_10_percent = tf.keras.preprocessing.image_dataset_from_directory(directory=test_dir,\n",
        "                                                                           image_size=IMG_SIZE,\n",
        "                                                                           label_mode=\"categorical\")"
      ],
      "metadata": {
        "colab": {
          "base_uri": "https://localhost:8080/"
        },
        "id": "fbAiR8sPMeBi",
        "outputId": "9fe9ed22-ebb8-40f7-f510-1ec5a52fabfb"
      },
      "execution_count": 5,
      "outputs": [
        {
          "output_type": "stream",
          "name": "stdout",
          "text": [
            "Found 750 files belonging to 10 classes.\n",
            "Found 2500 files belonging to 10 classes.\n"
          ]
        }
      ]
    },
    {
      "cell_type": "code",
      "source": [
        "#check the training data datatype\n",
        "train_data_10_percent"
      ],
      "metadata": {
        "colab": {
          "base_uri": "https://localhost:8080/"
        },
        "id": "gKuv3YluNsG7",
        "outputId": "f19159e8-2398-43fc-d355-72b0e6eb1bd6"
      },
      "execution_count": 6,
      "outputs": [
        {
          "output_type": "execute_result",
          "data": {
            "text/plain": [
              "<BatchDataset element_spec=(TensorSpec(shape=(None, 224, 224, 3), dtype=tf.float32, name=None), TensorSpec(shape=(None, 10), dtype=tf.float32, name=None))>"
            ]
          },
          "metadata": {},
          "execution_count": 6
        }
      ]
    },
    {
      "cell_type": "code",
      "source": [
        "#check out the class names of dataset\n",
        "train_data_10_percent.class_names"
      ],
      "metadata": {
        "colab": {
          "base_uri": "https://localhost:8080/"
        },
        "id": "BKA355sWOLG3",
        "outputId": "bc1ad7a2-060f-417a-b705-c5a1560b9270"
      },
      "execution_count": 7,
      "outputs": [
        {
          "output_type": "execute_result",
          "data": {
            "text/plain": [
              "['chicken_curry',\n",
              " 'chicken_wings',\n",
              " 'fried_rice',\n",
              " 'grilled_salmon',\n",
              " 'hamburger',\n",
              " 'ice_cream',\n",
              " 'pizza',\n",
              " 'ramen',\n",
              " 'steak',\n",
              " 'sushi']"
            ]
          },
          "metadata": {},
          "execution_count": 7
        }
      ]
    },
    {
      "cell_type": "code",
      "source": [
        "# see an example batch of data\n",
        "for images, labels in train_data_10_percent.take(1):\n",
        "  print(images, labels)"
      ],
      "metadata": {
        "colab": {
          "base_uri": "https://localhost:8080/"
        },
        "id": "8GcEkdi1PN-b",
        "outputId": "3a61d5c9-5016-4a71-b208-83b8a56bdbb9"
      },
      "execution_count": 8,
      "outputs": [
        {
          "output_type": "stream",
          "name": "stdout",
          "text": [
            "tf.Tensor(\n",
            "[[[[155.64285    155.64285    131.64285   ]\n",
            "   [159.16837    159.16837    135.16837   ]\n",
            "   [159.7143     159.7143     135.7143    ]\n",
            "   ...\n",
            "   [  1.           0.          31.        ]\n",
            "   [  1.           0.          31.        ]\n",
            "   [  1.           0.          31.        ]]\n",
            "\n",
            "  [[155.52042    152.52551    131.85713   ]\n",
            "   [156.34694    154.14796    133.2143    ]\n",
            "   [157.68367    155.08675    134.2551    ]\n",
            "   ...\n",
            "   [  1.           0.          31.        ]\n",
            "   [  1.           0.          31.        ]\n",
            "   [  1.           0.          31.        ]]\n",
            "\n",
            "  [[142.         134.57143    117.21429   ]\n",
            "   [146.94388    139.5153     122.158165  ]\n",
            "   [153.61734    146.18878    128.83163   ]\n",
            "   ...\n",
            "   [  1.           0.          31.        ]\n",
            "   [  1.           0.          31.        ]\n",
            "   [  1.           0.          31.        ]]\n",
            "\n",
            "  ...\n",
            "\n",
            "  [[ 61.           1.          27.        ]\n",
            "   [ 63.699005     0.7449168   27.729612  ]\n",
            "   [ 67.64286      1.          28.214287  ]\n",
            "   ...\n",
            "   [ 87.61738     81.97459    104.18885   ]\n",
            "   [ 77.8316      74.8316      95.8316    ]\n",
            "   [ 79.00512     76.00512     97.00512   ]]\n",
            "\n",
            "  [[ 64.           1.          28.        ]\n",
            "   [ 65.06634      0.9336613   28.        ]\n",
            "   [ 70.729614     0.78571415  29.015308  ]\n",
            "   ...\n",
            "   [ 86.61727     80.97448    103.18874   ]\n",
            "   [ 81.86222     78.86222     99.86222   ]\n",
            "   [ 75.40301     72.40301     93.40301   ]]\n",
            "\n",
            "  [[ 65.           1.          28.        ]\n",
            "   [ 66.92857      0.9285717   28.928572  ]\n",
            "   [ 72.41843      0.50507456  29.214287  ]\n",
            "   ...\n",
            "   [ 90.35712     84.714325   106.92859   ]\n",
            "   [ 80.54586     77.54586     98.54586   ]\n",
            "   [ 79.02555     76.02555     97.02555   ]]]\n",
            "\n",
            "\n",
            " [[[ 25.158163    14.158164    10.158164  ]\n",
            "   [ 28.260204    17.260204    15.260204  ]\n",
            "   [ 29.785713    15.785714    14.785714  ]\n",
            "   ...\n",
            "   [ 32.62237     26.545849    30.775417  ]\n",
            "   [ 29.0204      20.0204      21.683655  ]\n",
            "   [ 30.418318    22.418318    20.418318  ]]\n",
            "\n",
            "  [[ 31.903063    17.90306     14.903062  ]\n",
            "   [ 28.          14.          11.        ]\n",
            "   [ 30.770407    16.770407    15.770408  ]\n",
            "   ...\n",
            "   [119.17808    115.10664    116.32093   ]\n",
            "   [ 65.2753      59.275295    59.275295  ]\n",
            "   [ 34.2292      29.229198    26.229198  ]]\n",
            "\n",
            "  [[ 33.132656    18.918367    15.918367  ]\n",
            "   [ 29.69898     15.484694    12.484694  ]\n",
            "   [ 31.214287    16.663265    14.168367  ]\n",
            "   ...\n",
            "   [223.8212     220.96912    219.1579    ]\n",
            "   [188.03548    184.67833    183.03548   ]\n",
            "   [136.66751    133.31036    130.09608   ]]\n",
            "\n",
            "  ...\n",
            "\n",
            "  [[ 12.862259    10.862259    13.433731  ]\n",
            "   [ 11.056124     9.056124    11.627596  ]\n",
            "   [ 14.428572     9.474463    12.831672  ]\n",
            "   ...\n",
            "   [ 84.07507     68.646545    63.21802   ]\n",
            "   [ 38.47861     23.667479    20.437908  ]\n",
            "   [ 21.75502      9.897965     6.969346  ]]\n",
            "\n",
            "  [[ 12.928558    10.928558    13.928558  ]\n",
            "   [ 12.          10.          13.        ]\n",
            "   [ 15.428572     8.785714    13.        ]\n",
            "   ...\n",
            "   [ 21.908033    11.821345     9.423432  ]\n",
            "   [ 22.428467    14.780571    12.852013  ]\n",
            "   [ 17.479532    12.030628    10.938687  ]]\n",
            "\n",
            "  [[  9.872437     9.872437    11.872437  ]\n",
            "   [ 12.          10.          13.        ]\n",
            "   [ 16.428572     9.785714    14.        ]\n",
            "   ...\n",
            "   [ 16.892939    11.199089     8.964501  ]\n",
            "   [ 17.566362    14.372566    15.372566  ]\n",
            "   [ 14.729358    13.902917    14.316137  ]]]\n",
            "\n",
            "\n",
            " [[[ 82.57143     40.57143     18.571428  ]\n",
            "   [ 84.52041     42.52041     20.520409  ]\n",
            "   [ 82.591835    40.59184     16.37755   ]\n",
            "   ...\n",
            "   [ 74.6429      36.857166    18.071428  ]\n",
            "   [ 70.122475    32.12247     13.122472  ]\n",
            "   [ 71.61727     33.617275    14.617274  ]]\n",
            "\n",
            "  [[ 82.88265     41.882652    19.882652  ]\n",
            "   [ 82.14286     40.14286     18.142857  ]\n",
            "   [ 83.55612     41.55612     17.341837  ]\n",
            "   ...\n",
            "   [ 69.05612     31.270388    12.270388  ]\n",
            "   [ 69.79588     31.795881    12.795881  ]\n",
            "   [ 70.80629     32.806293    13.806292  ]]\n",
            "\n",
            "  [[ 87.484695    46.484695    24.484694  ]\n",
            "   [ 77.57143     36.571426    14.571427  ]\n",
            "   [ 81.92347     40.09184     16.428572  ]\n",
            "   ...\n",
            "   [ 73.21429     35.382637    16.382635  ]\n",
            "   [ 70.68876     32.68876     13.260186  ]\n",
            "   [ 70.40824     32.408237    12.979667  ]]\n",
            "\n",
            "  ...\n",
            "\n",
            "  [[ 31.280685    18.709213    13.137741  ]\n",
            "   [ 33.857143    19.428528    12.729525  ]\n",
            "   [ 36.714394    19.97455     14.000022  ]\n",
            "   ...\n",
            "   [142.3774     108.62229     59.428528  ]\n",
            "   [142.07132    108.01518     62.98463   ]\n",
            "   [138.49474    103.63246     62.790733  ]]\n",
            "\n",
            "  [[ 32.760212    19.760212    13.760213  ]\n",
            "   [ 31.142883    16.142883    11.142883  ]\n",
            "   [ 36.07144     17.857155    13.857156  ]\n",
            "   ...\n",
            "   [134.95389    100.953896    54.5815    ]\n",
            "   [132.06123     97.06123     55.347     ]\n",
            "   [132.01514     96.612045    59.418247  ]]\n",
            "\n",
            "  [[ 30.030552    19.030552    15.030553  ]\n",
            "   [ 34.928574    20.928572    17.928572  ]\n",
            "   [ 35.642857    20.          17.214287  ]\n",
            "   ...\n",
            "   [124.586555    90.586555    44.943764  ]\n",
            "   [127.86214     92.86214     53.00502   ]\n",
            "   [117.27016     81.27016     46.443714  ]]]\n",
            "\n",
            "\n",
            " ...\n",
            "\n",
            "\n",
            " [[[129.94388    136.94388    103.94388   ]\n",
            "   [130.5        137.16837    107.16326   ]\n",
            "   [134.19899    139.9847     114.841835  ]\n",
            "   ...\n",
            "   [ 73.91886     73.56165     53.34739   ]\n",
            "   [ 88.70378     87.70378     69.70378   ]\n",
            "   [ 63.97977     62.97977     44.97977   ]]\n",
            "\n",
            "  [[134.16838    143.16838    112.168365  ]\n",
            "   [133.06633    142.06633    113.06632   ]\n",
            "   [131.94388    140.72958    114.58674   ]\n",
            "   ...\n",
            "   [ 78.07652     80.34691     59.34691   ]\n",
            "   [105.23445    106.23445     88.23445   ]\n",
            "   [ 77.4082      78.4082      60.408203  ]]\n",
            "\n",
            "  [[132.64285    141.64285    110.64286   ]\n",
            "   [129.82652    138.82652    109.82653   ]\n",
            "   [133.71939    142.50511    116.36224   ]\n",
            "   ...\n",
            "   [ 95.15814     99.72957     79.51528   ]\n",
            "   [ 94.347015    96.91844     78.13273   ]\n",
            "   [ 92.994576    95.56601     76.78029   ]]\n",
            "\n",
            "  ...\n",
            "\n",
            "  [[124.994736   134.99474    110.20903   ]\n",
            "   [137.19884    147.19884    123.198845  ]\n",
            "   [146.45398    155.54582    135.40298   ]\n",
            "   ...\n",
            "   [  0.           3.           0.        ]\n",
            "   [  0.           3.           0.        ]\n",
            "   [  0.           3.           0.        ]]\n",
            "\n",
            "  [[ 91.4027     101.4027      77.4027    ]\n",
            "   [105.93333    115.07106     93.65785   ]\n",
            "   [122.254814   131.68338    113.11196   ]\n",
            "   ...\n",
            "   [  0.           3.           0.        ]\n",
            "   [  0.           3.           0.        ]\n",
            "   [  0.           3.           0.        ]]\n",
            "\n",
            "  [[ 70.88779     80.88779     56.887783  ]\n",
            "   [ 77.06638     86.06638     65.066376  ]\n",
            "   [ 88.86231     98.290886    79.71946   ]\n",
            "   ...\n",
            "   [  0.           3.           0.        ]\n",
            "   [  0.           3.           0.        ]\n",
            "   [  0.           3.           0.        ]]]\n",
            "\n",
            "\n",
            " [[[ 29.086735    12.086735     4.0867352 ]\n",
            "   [ 30.54592     13.545918     5.5459185 ]\n",
            "   [ 32.005104    15.005102     7.005102  ]\n",
            "   ...\n",
            "   [ 64.142876    29.14288     27.14288   ]\n",
            "   [ 66.59183     28.591827    27.591827  ]\n",
            "   [ 70.515465    32.51547     31.515469  ]]\n",
            "\n",
            "  [[ 31.071428    14.071428     6.0714283 ]\n",
            "   [ 31.071428    14.071428     6.0714283 ]\n",
            "   [ 29.12755     12.12755      4.1275506 ]\n",
            "   ...\n",
            "   [ 51.086754    17.086754    15.086754  ]\n",
            "   [ 55.36226     20.362257    18.362257  ]\n",
            "   [ 59.622555    24.622557    22.622557  ]]\n",
            "\n",
            "  [[ 31.785713    14.785714     6.785714  ]\n",
            "   [ 32.571426    15.571428     7.5714283 ]\n",
            "   [ 32.571426    15.571428     7.5714283 ]\n",
            "   ...\n",
            "   [ 55.76029     25.188858    21.974573  ]\n",
            "   [ 68.07141     34.71427     32.499985  ]\n",
            "   [ 64.785675    31.428535    29.21425   ]]\n",
            "\n",
            "  ...\n",
            "\n",
            "  [[ 12.658293    12.086821     7.8725567 ]\n",
            "   [ 15.285889    14.7144165    9.7144165 ]\n",
            "   [ 12.709191    12.137719     7.137719  ]\n",
            "   ...\n",
            "   [ 11.214264    11.214264     9.214264  ]\n",
            "   [  9.984693     9.984693     7.9846926 ]\n",
            "   [  8.137733     9.709206     6.9234695 ]]\n",
            "\n",
            "  [[ 15.790831    14.790831     9.790831  ]\n",
            "   [ 11.255658    10.255658     5.2556586 ]\n",
            "   [ 23.791773    23.00606     17.363201  ]\n",
            "   ...\n",
            "   [ 10.857117    10.857117     8.857117  ]\n",
            "   [  8.857117    10.857117     7.8571167 ]\n",
            "   [  7.9285583    9.928558     6.9285583 ]]\n",
            "\n",
            "  [[106.83831    105.83831    100.83831   ]\n",
            "   [131.30193    130.30193    125.30192   ]\n",
            "   [140.0057     140.0057     132.0057    ]\n",
            "   ...\n",
            "   [  8.928619    10.500092     7.7143555 ]\n",
            "   [  8.688838    10.688838     7.688838  ]\n",
            "   [  8.127576    10.127576     7.127576  ]]]\n",
            "\n",
            "\n",
            " [[[194.81122    147.88264    122.02551   ]\n",
            "   [191.16837    144.88266    115.188774  ]\n",
            "   [197.04591    152.7551     118.765305  ]\n",
            "   ...\n",
            "   [ 34.239716    40.826492    48.964233  ]\n",
            "   [ 25.88801     33.602295    41.24515   ]\n",
            "   [ 72.0464      81.0464      88.0464    ]]\n",
            "\n",
            "  [[192.80612    149.7347     115.30612   ]\n",
            "   [192.78572    149.7143     115.28571   ]\n",
            "   [201.39285    157.89287    125.005104  ]\n",
            "   ...\n",
            "   [129.22958    140.37245    146.37245   ]\n",
            "   [ 96.62243    105.76529    112.69386   ]\n",
            "   [122.25072    131.25072    138.25072   ]]\n",
            "\n",
            "  [[191.52551    145.95409    128.38264   ]\n",
            "   [164.47958    118.12244     99.7653    ]\n",
            "   [139.39795     92.7806      72.56121   ]\n",
            "   ...\n",
            "   [132.21426    146.78569    151.99998   ]\n",
            "   [134.56111    145.44885    151.50499   ]\n",
            "   [117.53555    124.96413    132.74985   ]]\n",
            "\n",
            "  ...\n",
            "\n",
            "  [[  2.8622394    3.8622394    8.076533  ]\n",
            "   [  6.841837     5.841837    10.841837  ]\n",
            "   [  8.857143     6.4285717    8.663269  ]\n",
            "   ...\n",
            "   [121.112434    94.89817     71.09198   ]\n",
            "   [107.74491     81.74491     55.173504  ]\n",
            "   [102.53597     77.32168     47.178856  ]]\n",
            "\n",
            "  [[  2.6887817    3.6887817    8.688782  ]\n",
            "   [  5.923454     4.923454     9.923453  ]\n",
            "   [  8.857143     6.4285717    9.        ]\n",
            "   ...\n",
            "   [106.93349     80.71922     58.147755  ]\n",
            "   [109.275505    83.275505    58.2755    ]\n",
            "   [108.38792     82.38792     55.387913  ]]\n",
            "\n",
            "  [[  2.7142856    3.7142856    8.714286  ]\n",
            "   [  5.785715     4.785715    10.785715  ]\n",
            "   [  8.642858     6.214286    10.357142  ]\n",
            "   ...\n",
            "   [113.62768     87.62768     61.341976  ]\n",
            "   [103.65828     78.65828     48.658283  ]\n",
            "   [113.34701     88.34701     57.347008  ]]]], shape=(32, 224, 224, 3), dtype=float32) tf.Tensor(\n",
            "[[0. 1. 0. 0. 0. 0. 0. 0. 0. 0.]\n",
            " [1. 0. 0. 0. 0. 0. 0. 0. 0. 0.]\n",
            " [0. 0. 0. 0. 0. 0. 0. 1. 0. 0.]\n",
            " [1. 0. 0. 0. 0. 0. 0. 0. 0. 0.]\n",
            " [1. 0. 0. 0. 0. 0. 0. 0. 0. 0.]\n",
            " [0. 0. 0. 0. 0. 0. 0. 1. 0. 0.]\n",
            " [0. 0. 0. 1. 0. 0. 0. 0. 0. 0.]\n",
            " [0. 0. 0. 0. 0. 0. 0. 0. 0. 1.]\n",
            " [0. 0. 0. 0. 0. 1. 0. 0. 0. 0.]\n",
            " [0. 0. 0. 0. 1. 0. 0. 0. 0. 0.]\n",
            " [0. 1. 0. 0. 0. 0. 0. 0. 0. 0.]\n",
            " [0. 0. 0. 0. 0. 0. 0. 0. 0. 1.]\n",
            " [0. 0. 0. 0. 1. 0. 0. 0. 0. 0.]\n",
            " [0. 0. 0. 0. 0. 0. 0. 1. 0. 0.]\n",
            " [0. 1. 0. 0. 0. 0. 0. 0. 0. 0.]\n",
            " [0. 0. 0. 1. 0. 0. 0. 0. 0. 0.]\n",
            " [0. 0. 0. 0. 0. 1. 0. 0. 0. 0.]\n",
            " [0. 0. 1. 0. 0. 0. 0. 0. 0. 0.]\n",
            " [1. 0. 0. 0. 0. 0. 0. 0. 0. 0.]\n",
            " [1. 0. 0. 0. 0. 0. 0. 0. 0. 0.]\n",
            " [0. 0. 0. 0. 0. 0. 0. 0. 1. 0.]\n",
            " [0. 0. 0. 1. 0. 0. 0. 0. 0. 0.]\n",
            " [0. 0. 1. 0. 0. 0. 0. 0. 0. 0.]\n",
            " [0. 0. 0. 0. 1. 0. 0. 0. 0. 0.]\n",
            " [0. 0. 0. 0. 0. 1. 0. 0. 0. 0.]\n",
            " [0. 0. 0. 0. 1. 0. 0. 0. 0. 0.]\n",
            " [1. 0. 0. 0. 0. 0. 0. 0. 0. 0.]\n",
            " [0. 0. 0. 0. 0. 0. 1. 0. 0. 0.]\n",
            " [1. 0. 0. 0. 0. 0. 0. 0. 0. 0.]\n",
            " [0. 0. 0. 0. 0. 0. 0. 1. 0. 0.]\n",
            " [0. 0. 0. 0. 0. 0. 0. 1. 0. 0.]\n",
            " [0. 0. 0. 0. 0. 0. 0. 1. 0. 0.]], shape=(32, 10), dtype=float32)\n"
          ]
        }
      ]
    },
    {
      "cell_type": "code",
      "source": [
        "# 1. create base model with tf.keras.applications\n",
        "base_model = tf.keras.applications.EfficientNetB0(include_top=False)\n",
        "\n",
        "# 2. Freeze the base model (so the pre-learned patterns remain)\n",
        "base_model.trainable = False\n",
        "\n",
        "# 3. create inputs into the base model\n",
        "inputs = tf.keras.layers.Input(shape=(224, 224, 3), name=\"input_layer\")\n",
        "\n",
        "# 4. If using ResNet50V2, add this to speed up convergence, remove for EfficientNet\n",
        "# x = tf.keras.layers.experimental.preprocessing.Rescaling(1./255)(inputs)\n",
        "\n",
        "# 5. Pass the inputs to the base_model (note: using tf.keras.applications, EfficientNet inputs)"
      ],
      "metadata": {
        "colab": {
          "base_uri": "https://localhost:8080/"
        },
        "id": "Ef3X4yk8Pbr0",
        "outputId": "60f6673e-3863-4d66-a3ce-4b50095e0035"
      },
      "execution_count": 9,
      "outputs": [
        {
          "output_type": "stream",
          "name": "stdout",
          "text": [
            "Downloading data from https://storage.googleapis.com/keras-applications/efficientnetb0_notop.h5\n",
            "16711680/16705208 [==============================] - 0s 0us/step\n",
            "16719872/16705208 [==============================] - 0s 0us/step\n"
          ]
        }
      ]
    },
    {
      "cell_type": "code",
      "source": [
        ""
      ],
      "metadata": {
        "id": "yst6fW9eS7E-"
      },
      "execution_count": null,
      "outputs": []
    }
  ]
}